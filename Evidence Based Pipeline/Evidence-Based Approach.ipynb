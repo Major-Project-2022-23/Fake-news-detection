{
 "cells": [
  {
   "cell_type": "code",
   "execution_count": 1,
   "metadata": {},
   "outputs": [],
   "source": [
    "import re\n",
    "import urllib\n",
    "import json\n",
    "import numpy as np\n",
    "import pandas as pd\n",
    "import transformers\n",
    "import tensorflow as tf\n",
    "import torch.nn as nn\n",
    "import texthero as hero\n",
    "from urllib.parse import urlsplit\n",
    "import requests\n",
    "import torch\n",
    "from bs4 import BeautifulSoup\n",
    "from requests import get\n",
    "from transformers import T5Tokenizer, T5ForConditionalGeneration\n",
    "from transformers import XLNetTokenizer, XLNetForSequenceClassification\n",
    "from huggingface_hub import from_pretrained_keras\n",
    "import spacy_sentence_bert"
   ]
  },
  {
   "cell_type": "code",
   "execution_count": 2,
   "metadata": {},
   "outputs": [],
   "source": [
    "from summarizer import Summarizer,TransformerSummarizer"
   ]
  },
  {
   "cell_type": "code",
   "execution_count": 3,
   "metadata": {},
   "outputs": [],
   "source": [
    "import warnings\n",
    "warnings.filterwarnings('ignore')"
   ]
  },
  {
   "cell_type": "code",
   "execution_count": null,
   "metadata": {},
   "outputs": [],
   "source": []
  },
  {
   "cell_type": "code",
   "execution_count": null,
   "metadata": {},
   "outputs": [],
   "source": []
  },
  {
   "cell_type": "markdown",
   "metadata": {},
   "source": [
    "## Search Google News"
   ]
  },
  {
   "cell_type": "code",
   "execution_count": 4,
   "metadata": {},
   "outputs": [],
   "source": [
    "import math\n",
    "from GoogleNews import GoogleNews\n",
    "from datetime import datetime"
   ]
  },
  {
   "cell_type": "code",
   "execution_count": 5,
   "metadata": {},
   "outputs": [],
   "source": [
    "googlenews = GoogleNews(lang='en')\n",
    "googlenews.set_encode('utf-8')"
   ]
  },
  {
   "cell_type": "code",
   "execution_count": 6,
   "metadata": {},
   "outputs": [],
   "source": [
    "def get_links_from_google_news(claim):\n",
    "    googlenews.search(claim)\n",
    "    \n",
    "    results = googlenews.results()\n",
    "    googlenews.clear()\n",
    "    \n",
    "    results = [x for x in results if isinstance(x['datetime'], datetime)]\n",
    "    \n",
    "    def func(ele):\n",
    "        return str(ele['datetime'])\n",
    "    \n",
    "    results.sort(key = func, reverse = True)\n",
    "    links = [x['link'] for x in results]\n",
    "    \n",
    "    return links"
   ]
  },
  {
   "cell_type": "code",
   "execution_count": null,
   "metadata": {},
   "outputs": [],
   "source": []
  },
  {
   "cell_type": "code",
   "execution_count": null,
   "metadata": {},
   "outputs": [],
   "source": []
  },
  {
   "cell_type": "markdown",
   "metadata": {},
   "source": [
    "## Scraping Evidences"
   ]
  },
  {
   "cell_type": "code",
   "execution_count": 7,
   "metadata": {},
   "outputs": [],
   "source": [
    "nlp = spacy_sentence_bert.load_model('en_nli_roberta_base')"
   ]
  },
  {
   "cell_type": "code",
   "execution_count": 25,
   "metadata": {},
   "outputs": [],
   "source": [
    "def get_sentences_from_link(link, text, top=10):\n",
    "    request = requests.get(link, verify=False, timeout=20)\n",
    "    Soup = BeautifulSoup(request.text, 'lxml')\n",
    "    \n",
    "    heading_tags = ['p']\n",
    "\n",
    "\n",
    "    results = []\n",
    "    used = []\n",
    "\n",
    "    for tags in Soup.find_all(heading_tags):\n",
    "        if 'h' in tags.name:\n",
    "            tokens = tags.text.strip().split()\n",
    "            if len(tokens) > 8:\n",
    "                if tags.text.strip() not in used:\n",
    "                    used.append(tags.text.strip())\n",
    "                    results.append([tags.name, tags.text.strip()])\n",
    "        else:\n",
    "            tokens = tags.text.strip().split()\n",
    "            if len(tokens) > 8:\n",
    "                if tags.text.strip() not in used:\n",
    "                    used.append(tags.text.strip())\n",
    "                    results.append([tags.name, tags.text.strip()])\n",
    "    doc1 = nlp(text)\n",
    "    sim = []\n",
    "    for r in results:\n",
    "        sim.append(doc1.similarity(nlp(r[1])))\n",
    "    zipped = zip(sim, results)\n",
    "    zipped = sorted(zipped, reverse=True)\n",
    "    high_conf = [a for s, a in zipped if s >= 0.5]\n",
    "\n",
    "    return high_conf[:top], request.url"
   ]
  },
  {
   "cell_type": "code",
   "execution_count": 9,
   "metadata": {},
   "outputs": [],
   "source": [
    "def scrap_evidences(text, links):\n",
    "    new_links = []\n",
    "    for link in links:\n",
    "        conf, lin = get_sentences_from_link(link, text)\n",
    "        new_links.append([lin, conf])\n",
    "    return new_links"
   ]
  },
  {
   "cell_type": "code",
   "execution_count": null,
   "metadata": {},
   "outputs": [],
   "source": []
  },
  {
   "cell_type": "code",
   "execution_count": null,
   "metadata": {},
   "outputs": [],
   "source": []
  },
  {
   "cell_type": "markdown",
   "metadata": {},
   "source": [
    "## Concatinating Evidences"
   ]
  },
  {
   "cell_type": "code",
   "execution_count": 10,
   "metadata": {},
   "outputs": [],
   "source": [
    "def concatenate_evidences(claim, links):\n",
    "    summ = []\n",
    "    for link in links:\n",
    "        if type(link[1]) == list:\n",
    "            for text in link[1]:\n",
    "                if type(link[1]) == list:\n",
    "                    summ.append(text[1])\n",
    "                else:\n",
    "                    summ.append(text)\n",
    "        elif type(link[1]) == str:\n",
    "            summ.append(link[1])\n",
    "\n",
    "    urls = re.findall(r'https?:\\/+\\/+t+\\.+co+\\/+\\S*', claim)\n",
    "    \n",
    "    for li in urls:\n",
    "        claim = claim.replace(li, '')\n",
    "    claim = claim.strip()\n",
    "\n",
    "    if summ:\n",
    "        summary = (claim, ' '.join(summ).replace('\\n', '').replace('\\t', ''))\n",
    "    else:\n",
    "        summary = ('', '')\n",
    "\n",
    "    return summary"
   ]
  },
  {
   "cell_type": "code",
   "execution_count": null,
   "metadata": {},
   "outputs": [],
   "source": []
  },
  {
   "cell_type": "code",
   "execution_count": null,
   "metadata": {},
   "outputs": [],
   "source": []
  },
  {
   "cell_type": "markdown",
   "metadata": {},
   "source": [
    "## Extractive Summary"
   ]
  },
  {
   "cell_type": "code",
   "execution_count": 11,
   "metadata": {},
   "outputs": [
    {
     "name": "stderr",
     "output_type": "stream",
     "text": [
      "Some weights of the model checkpoint at bert-large-uncased were not used when initializing BertModel: ['cls.predictions.decoder.weight', 'cls.seq_relationship.bias', 'cls.predictions.transform.LayerNorm.weight', 'cls.predictions.transform.LayerNorm.bias', 'cls.predictions.transform.dense.bias', 'cls.seq_relationship.weight', 'cls.predictions.transform.dense.weight', 'cls.predictions.bias']\n",
      "- This IS expected if you are initializing BertModel from the checkpoint of a model trained on another task or with another architecture (e.g. initializing a BertForSequenceClassification model from a BertForPreTraining model).\n",
      "- This IS NOT expected if you are initializing BertModel from the checkpoint of a model that you expect to be exactly identical (initializing a BertForSequenceClassification model from a BertForSequenceClassification model).\n"
     ]
    }
   ],
   "source": [
    "summarizer = Summarizer()"
   ]
  },
  {
   "cell_type": "code",
   "execution_count": 12,
   "metadata": {},
   "outputs": [],
   "source": [
    "def generate_extractive_summary(evidence):\n",
    "    return ''.join(summarizer(evidence, min_length=60))"
   ]
  },
  {
   "cell_type": "code",
   "execution_count": null,
   "metadata": {},
   "outputs": [],
   "source": []
  },
  {
   "cell_type": "code",
   "execution_count": null,
   "metadata": {},
   "outputs": [],
   "source": []
  },
  {
   "cell_type": "markdown",
   "metadata": {},
   "source": [
    "## Semantic Based Similarity"
   ]
  },
  {
   "cell_type": "code",
   "execution_count": 13,
   "metadata": {},
   "outputs": [],
   "source": [
    "class BertSemanticDataGenerator(tf.keras.utils.Sequence):\n",
    "    \"\"\"Generates batches of data.\"\"\"\n",
    "    def __init__(\n",
    "        self,\n",
    "        sentence_pairs,\n",
    "        labels,\n",
    "        batch_size=32,\n",
    "        shuffle=True,\n",
    "        include_targets=True,\n",
    "    ):\n",
    "        self.sentence_pairs = sentence_pairs\n",
    "        self.labels = labels\n",
    "        self.shuffle = shuffle\n",
    "        self.batch_size = batch_size\n",
    "        self.include_targets = include_targets\n",
    "        # Load our BERT Tokenizer to encode the text.\n",
    "        # We will use base-base-uncased pretrained model.\n",
    "        self.tokenizer = transformers.BertTokenizer.from_pretrained(\n",
    "            \"bert-base-uncased\", do_lower_case=True\n",
    "        )\n",
    "        self.indexes = np.arange(len(self.sentence_pairs))\n",
    "        self.on_epoch_end()\n",
    "\n",
    "    def __len__(self):\n",
    "        # Denotes the number of batches per epoch.\n",
    "        return len(self.sentence_pairs) // self.batch_size\n",
    "\n",
    "    def __getitem__(self, idx):\n",
    "        # Retrieves the batch of index.\n",
    "        indexes = self.indexes[idx * self.batch_size : (idx + 1) * self.batch_size]\n",
    "        sentence_pairs = self.sentence_pairs[indexes]\n",
    "\n",
    "        # With BERT tokenizer's batch_encode_plus batch of both the sentences are\n",
    "        # encoded together and separated by [SEP] token.\n",
    "        encoded = self.tokenizer.batch_encode_plus(\n",
    "            sentence_pairs.tolist(),\n",
    "            add_special_tokens=True,\n",
    "            max_length=128,\n",
    "            return_attention_mask=True,\n",
    "            return_token_type_ids=True,\n",
    "            pad_to_max_length=True,\n",
    "            return_tensors=\"tf\",\n",
    "        )\n",
    "\n",
    "        # Convert batch of encoded features to numpy array.\n",
    "        input_ids = np.array(encoded[\"input_ids\"], dtype=\"int32\")\n",
    "        attention_masks = np.array(encoded[\"attention_mask\"], dtype=\"int32\")\n",
    "        token_type_ids = np.array(encoded[\"token_type_ids\"], dtype=\"int32\")\n",
    "\n",
    "        # Set to true if data generator is used for training/validation.\n",
    "        if self.include_targets:\n",
    "            labels = np.array(self.labels[indexes], dtype=\"int32\")\n",
    "            return [input_ids, attention_masks, token_type_ids], labels\n",
    "        else:\n",
    "            return [input_ids, attention_masks, token_type_ids]"
   ]
  },
  {
   "cell_type": "code",
   "execution_count": 14,
   "metadata": {},
   "outputs": [
    {
     "name": "stderr",
     "output_type": "stream",
     "text": [
      "config.json not found in HuggingFace Hub\n"
     ]
    },
    {
     "name": "stdout",
     "output_type": "stream",
     "text": [
      "WARNING:tensorflow:No training configuration found in save file, so the model was *not* compiled. Compile it manually.\n"
     ]
    }
   ],
   "source": [
    "model = from_pretrained_keras(\"keras-io/bert-semantic-similarity\")\n",
    "labels = [\"contradiction\", \"entailment\", \"neutral\"]"
   ]
  },
  {
   "cell_type": "code",
   "execution_count": 15,
   "metadata": {},
   "outputs": [],
   "source": [
    "def predict(sentence1, sentence2):\n",
    "    sentence_pairs = np.array([[str(sentence1), str(sentence2)]])\n",
    "    test_data = BertSemanticDataGenerator(\n",
    "        sentence_pairs, labels=None, batch_size=1, shuffle=False, include_targets=False,\n",
    "    )\n",
    "    probs = model.predict(test_data[0])[0]\n",
    "    \n",
    "    labels_probs = {labels[i]: float(probs[i]) for i, _ in enumerate(labels)}\n",
    "    return labels_probs"
   ]
  },
  {
   "cell_type": "code",
   "execution_count": null,
   "metadata": {},
   "outputs": [],
   "source": []
  },
  {
   "cell_type": "code",
   "execution_count": null,
   "metadata": {},
   "outputs": [],
   "source": []
  },
  {
   "cell_type": "markdown",
   "metadata": {},
   "source": [
    "## Fake News Detection"
   ]
  },
  {
   "cell_type": "code",
   "execution_count": 26,
   "metadata": {},
   "outputs": [],
   "source": [
    "def fake_news_detection(claim):\n",
    "    links = get_links_from_google_news(claim)\n",
    "    print(\"links ----- \")\n",
    "    print(links)\n",
    "    evidence_list = scrap_evidences(claim, links)\n",
    "    print(\"Evidence List ----- \")\n",
    "    print(evidence_list)\n",
    "    evidence = concatenate_evidences(claim, evidence_list)\n",
    "    print(\"Concatenated Evidence ----- \")\n",
    "    print(evidence[1])\n",
    "    extractive_summary = generate_extractive_summary(evidence[1])\n",
    "    print(\"Extractive Summary ----- \")\n",
    "    print(extractive_summary)\n",
    "    print(predict(claim, extractive_summary))"
   ]
  },
  {
   "cell_type": "code",
   "execution_count": 27,
   "metadata": {},
   "outputs": [
    {
     "name": "stdout",
     "output_type": "stream",
     "text": [
      "links ----- \n",
      "['https://www.southwalesargus.co.uk/news/national/23436398.us-president-joe-biden-announces-april-visit-island-ireland/', 'https://qctimes.com/news/national/govt-and-politics/joe-biden-waiting-for-right-time-to-announce-reelection-bid/article_80814cbc-7c8c-52a5-9b71-460481aa346d.html', 'https://www.arkansasonline.com/news/2023/apr/01/gov-sanders-mayor-scott-tour-tornado-damage-in-little-rock/', 'https://www.ednc.org/03-30-2023-usda-announces-plan-to-expand-access-to-school-nutrition/', 'https://www.factcheck.org/2023/02/bidens-april-2022-remark-about-some-ukraine-aid-covering-pensions-is-not-breaking-news/', 'https://www.nytimes.com/2023/02/27/us/biden-child-labor.html', 'https://www.cnn.com/2023/03/09/politics/2024-budget-joe-biden-explainer/index.html']\n",
      "Evidence List ----- \n",
      "[['https://www.southwalesargus.co.uk/news/national/23436398.us-president-joe-bidens-april-trip-will-welcome-son-ireland-home/', [['p', '“President Biden will first travel to Belfast, Northern Ireland, from April 11-12 to mark the tremendous progress since the signing of the Belfast/Good Friday Agreement 25 years ago and to underscore the readiness of the United States to support Northern Ireland’s vast economic potential to the benefit of all communities.'], ['p', 'Last month, Mr Varadkar told the president that his trip to the island of Ireland would be “a visit like no other”.'], ['p', 'The president will deliver a public address outside St Muredach’s Cathedral in Ballina, Co Mayo on Friday evening, which will be open to the public to attend.'], ['p', 'He will also address the Irish parliament in the Dail chamber next Thursday, becoming the fourth US president to do so – following John F Kennedy’s address in June 1963, Ronald Reagan’s in June 1984 and Bill Clinton’s in December 1995.'], ['p', '“When I met him in the White House on St Patrick’s Day, President Biden made it very clear the way he celebrates all that has been achieved, especially in the period since the Good Friday Agreement.'], ['p', 'Former US president Bill Clinton and his wife and former secretary of state Hillary Clinton will be in Belfast the week after Mr\\xa0Biden\\xa0for more events to commemorate the landmark accord that largely ended the Troubles.'], ['p', 'Mr Biden is to visit Belfast first, before travelling on to Dublin, with visits also planned to Co Louth and Co Mayo, where his ancestors hail from.'], ['p', 'The White House confirmed the trip earlier on Wednesday, and said it would “mark the tremendous progress” since the signing of the Good Friday Agreement 25 years ago.'], ['p', 'Press secretary Karine Jean-Pierre confirmed the visit would last from April 11-14 and would take in four locations.'], ['p', 'Distant relatives celebrated his election win in November 2020 back in Ireland and gathered again in January 2021 to mark his inauguration.']]], ['https://qctimes.com/news/national/govt-and-politics/joe-biden-waiting-for-right-time-to-announce-reelection-bid/article_80814cbc-7c8c-52a5-9b71-460481aa346d.html', [['p', 'Universal preschool and affordable child care: The budget would provide funding for a new federal-state partnership program that would provide universal, free preschool. The spending plan would also increase funding for existing federal early care and education programs.'], ['p', 'Increase food security: The budget would provide more than $15 billion to allow more states and schools to provide free school meals to an additional 9 million children.'], ['p', \"Biden's budget would also provide $500 million for a new grant program to help make two years of community college free.\"], ['p', 'Stay up-to-date on the latest in local and national government and political topics with our newsletter.'], ['p', \"Provide paid family and medical leave: Biden's budget would establish a national paid family and medical leave program. It would provide 12 weeks of leave for eligible employees to take time off to care for and bond with a new child, care for a seriously ill loved one, heal from their own serious illness, address circumstances arising from a loved one's military deployment, or find safety from domestic violence, sexual assault or stalking, according to the administration.\"], ['p', 'Restore the enhanced child tax credit: The budget calls for reviving the expanded child tax credit, which was in place for 2021. It would beef up the credit to $3,600 per child for those under age 6 and $3,000 for older children. It would permanently make the credit fully refundable so more low-income families would qualify.'], ['p', \"Biden has spent recent months traveling to promote what he sees as his administration's key policy accomplishments, including a bipartisan public works package, and plans more of the same going forward. That would let him use this year to test political messaging that can best resonate in 2024, aides said.\"], ['p', 'Make enhanced Obamacare subsidies permanent: Biden wants to continue the more generous Affordable Care Act subsidies, which are set to expire after 2025. The temporary enhancement has beefed up the premium subsidy and allowed more middle-class folks to qualify. The proposal would also provide Medicaid-like coverage to those in states that have not expanded the public health insurance program for low-income Americans.'], ['p', 'Reduce maternal mortality: Biden would provide $471 million to reduce maternal mortality rates and expand maternal health initiatives in rural communities. It would also require all states to provide continuous Medicaid postpartum coverage for 12 months, instead of 60 days.'], ['p', 'President Joe Biden released his annual budget Thursday, outlining his policy priorities for the year ahead.']]], ['https://www.arkansasonline.com/news/2023/apr/01/gov-sanders-mayor-scott-tour-tornado-damage-in-little-rock/', [['p', 'Arkansas Foodbank is accepting bottled water and “shelf stable snack items” at Dickey-Stephens Park at 400 W Broadway, said the city website.'], ['p', 'Those looking to volunteer in North Little Rock should go to the volunteer staging area at the Edwards Cash Saver at 3801 Camp Robinson Road, according to the website.'], ['p', 'According to a news release from the governor\\'s office, Sanders thanked Mayorkas in their phone call \"for his outreach and for his commitment to get the State of Arkansas any resources that are needed quickly.\"'], ['p', \"The City of North Little Rock is directing donations to First Assembly of God at 4501 Burrow Drive, according to the municipality's website.\"], ['p', 'While North Little Rock School District buildings saw no structural damage, Amboy Elementary School and Indian Hills Elementary School were without power on Saturday, Superintendent Gregory J. Pilewski said in a news release.'], ['p', 'The American Red Cross has opened an emergency shelter at Calvary Baptist Church located at 5700 Cantrell Road. A temporary shelter at Hall STEAM Magnet High School closed on Saturday. Free meals were being provided at Wolfe Street Center at 1015 Louisiana St., according to the statement.'], ['p', 'Both President Joe Biden and Gov. Sarah Huckabee Sanders have pledged to support the city, officials said in the statement.'], ['p', 'The office, along with local fire departments, completed primary search and rescue operations Friday after the storms, according to Madeline Roberts, director of communications for Pulaski County government'], ['p', '“Less than 24 hours after the storm, as I walked through ravaged neighborhoods, I heard from courageous, resilient survivors who will recover and rebuild. I’ve never had more faith and confidence in the strength of our community than I do today. We are Little Rock strong.”'], ['p', 'The Pulaski County Office of Emergency Management reported that, as of 2 p.m. Saturday, there were no missing persons as a result of the tornado.']]], ['https://www.ednc.org/03-30-2023-usda-announces-plan-to-expand-access-to-school-nutrition/', []], ['https://www.factcheck.org/2023/02/bidens-april-2022-remark-about-some-ukraine-aid-covering-pensions-is-not-breaking-news/', [['p', 'In a press briefing hours after Biden’s announcement, then-White House Press Secretary Jen Psaki defended the plan to allow some funding to be used for pensions and other “social support.”'], ['p', 'He said the supplemental funding “addresses the needs of the Ukrainian military during the crucial weeks and months ahead,” while also providing “food, water, medicines, shelter and other aid to Ukrainians displaced by Russia’s war.” Then he added: “It’s also going to help schools and hospitals open. It’s going to allow pensions and social support to be paid to the Ukrainian people so they have something — something in their pocket. It’s also going to provide critical resources to address food shortages around the globe.”'], ['p', '“This funding has helped the GoU pay the salaries of 618,000 educators, 517,000 health workers, and 56,500 first responders,” the report says. “It has also helped the GoU to sustain critical healthcare services, meet its pension responsibilities for 9.8 million people, assist 1.3 million internally displaced persons, provide housing assistance to 4.1 million people, and provide social assistance to 240,000 low-income families and 480,000 persons with disabilities.”'], ['p', '“Joe Biden just announced the US is going to be supporting the pensions in Ukraine,” conservative commentator Jack Posobiec wrote in a Feb. 17 tweet. The post included a 29-second clip of Biden’s remarks that has been viewed almost 8 million times.'], ['p', 'The bottom line: While the video of Biden talking about providing funding to pay Ukrainian pensioners may have caught some by surprise recently, it does not change the fact that he made those comments before Congress approved the money months ago on a bipartisan basis.'], ['p', '“We provide assistance — economic and humanitarian assistance — to a range of countries around the world because that’s part of American leadership. And so, I would say that’s the reasoning for this assistance being proposed in the package,” Psaki said.'], ['p', 'The bill, known as the Additional Ukraine Supplemental Appropriations Act, passed by wide margins in the House (368 to 57) and Senate (86 to 11), and then Biden signed it on May 21, 2022. It was the second of four aid packages for Ukraine that Congress approved in 2022 — all with support from Democrats and Republicans.'], ['p', 'Update, Feb. 23: After we published this story, a USAID spokesperson responded to our request for more information. We updated this story to include the amount spent on pensions as of Nov. 30, 2022.'], ['p', 'What Biden said in the clip may have come as news to some, but he said it nearly 10 months ago — about funding that became law with bipartisan support only weeks later.'], ['p', 'That report did not say how much was spent on pensions, but a USAID spokesperson sent us another USAID report to Congress that indicated $4 billion of budget support for Ukraine was spent on pensions as of Nov. 30, 2022.']]], ['https://www.nytimes.com/2023/02/27/us/biden-child-labor.html', []], ['https://edition.cnn.com/2023/03/09/politics/2024-budget-joe-biden-explainer/index.html', [['p', '(CNN)President Joe Biden released his annual budget Thursday, outlining his policy priorities for the year ahead.']]]]\n",
      "Concatenated Evidence ----- \n",
      "“President Biden will first travel to Belfast, Northern Ireland, from April 11-12 to mark the tremendous progress since the signing of the Belfast/Good Friday Agreement 25 years ago and to underscore the readiness of the United States to support Northern Ireland’s vast economic potential to the benefit of all communities. Last month, Mr Varadkar told the president that his trip to the island of Ireland would be “a visit like no other”. The president will deliver a public address outside St Muredach’s Cathedral in Ballina, Co Mayo on Friday evening, which will be open to the public to attend. He will also address the Irish parliament in the Dail chamber next Thursday, becoming the fourth US president to do so – following John F Kennedy’s address in June 1963, Ronald Reagan’s in June 1984 and Bill Clinton’s in December 1995. “When I met him in the White House on St Patrick’s Day, President Biden made it very clear the way he celebrates all that has been achieved, especially in the period since the Good Friday Agreement. Former US president Bill Clinton and his wife and former secretary of state Hillary Clinton will be in Belfast the week after Mr Biden for more events to commemorate the landmark accord that largely ended the Troubles. Mr Biden is to visit Belfast first, before travelling on to Dublin, with visits also planned to Co Louth and Co Mayo, where his ancestors hail from. The White House confirmed the trip earlier on Wednesday, and said it would “mark the tremendous progress” since the signing of the Good Friday Agreement 25 years ago. Press secretary Karine Jean-Pierre confirmed the visit would last from April 11-14 and would take in four locations. Distant relatives celebrated his election win in November 2020 back in Ireland and gathered again in January 2021 to mark his inauguration. Universal preschool and affordable child care: The budget would provide funding for a new federal-state partnership program that would provide universal, free preschool. The spending plan would also increase funding for existing federal early care and education programs. Increase food security: The budget would provide more than $15 billion to allow more states and schools to provide free school meals to an additional 9 million children. Biden's budget would also provide $500 million for a new grant program to help make two years of community college free. Stay up-to-date on the latest in local and national government and political topics with our newsletter. Provide paid family and medical leave: Biden's budget would establish a national paid family and medical leave program. It would provide 12 weeks of leave for eligible employees to take time off to care for and bond with a new child, care for a seriously ill loved one, heal from their own serious illness, address circumstances arising from a loved one's military deployment, or find safety from domestic violence, sexual assault or stalking, according to the administration. Restore the enhanced child tax credit: The budget calls for reviving the expanded child tax credit, which was in place for 2021. It would beef up the credit to $3,600 per child for those under age 6 and $3,000 for older children. It would permanently make the credit fully refundable so more low-income families would qualify. Biden has spent recent months traveling to promote what he sees as his administration's key policy accomplishments, including a bipartisan public works package, and plans more of the same going forward. That would let him use this year to test political messaging that can best resonate in 2024, aides said. Make enhanced Obamacare subsidies permanent: Biden wants to continue the more generous Affordable Care Act subsidies, which are set to expire after 2025. The temporary enhancement has beefed up the premium subsidy and allowed more middle-class folks to qualify. The proposal would also provide Medicaid-like coverage to those in states that have not expanded the public health insurance program for low-income Americans. Reduce maternal mortality: Biden would provide $471 million to reduce maternal mortality rates and expand maternal health initiatives in rural communities. It would also require all states to provide continuous Medicaid postpartum coverage for 12 months, instead of 60 days. President Joe Biden released his annual budget Thursday, outlining his policy priorities for the year ahead. Arkansas Foodbank is accepting bottled water and “shelf stable snack items” at Dickey-Stephens Park at 400 W Broadway, said the city website. Those looking to volunteer in North Little Rock should go to the volunteer staging area at the Edwards Cash Saver at 3801 Camp Robinson Road, according to the website. According to a news release from the governor's office, Sanders thanked Mayorkas in their phone call \"for his outreach and for his commitment to get the State of Arkansas any resources that are needed quickly.\" The City of North Little Rock is directing donations to First Assembly of God at 4501 Burrow Drive, according to the municipality's website. While North Little Rock School District buildings saw no structural damage, Amboy Elementary School and Indian Hills Elementary School were without power on Saturday, Superintendent Gregory J. Pilewski said in a news release. The American Red Cross has opened an emergency shelter at Calvary Baptist Church located at 5700 Cantrell Road. A temporary shelter at Hall STEAM Magnet High School closed on Saturday. Free meals were being provided at Wolfe Street Center at 1015 Louisiana St., according to the statement. Both President Joe Biden and Gov. Sarah Huckabee Sanders have pledged to support the city, officials said in the statement. The office, along with local fire departments, completed primary search and rescue operations Friday after the storms, according to Madeline Roberts, director of communications for Pulaski County government “Less than 24 hours after the storm, as I walked through ravaged neighborhoods, I heard from courageous, resilient survivors who will recover and rebuild. I’ve never had more faith and confidence in the strength of our community than I do today. We are Little Rock strong.” The Pulaski County Office of Emergency Management reported that, as of 2 p.m. Saturday, there were no missing persons as a result of the tornado. In a press briefing hours after Biden’s announcement, then-White House Press Secretary Jen Psaki defended the plan to allow some funding to be used for pensions and other “social support.” He said the supplemental funding “addresses the needs of the Ukrainian military during the crucial weeks and months ahead,” while also providing “food, water, medicines, shelter and other aid to Ukrainians displaced by Russia’s war.” Then he added: “It’s also going to help schools and hospitals open. It’s going to allow pensions and social support to be paid to the Ukrainian people so they have something — something in their pocket. It’s also going to provide critical resources to address food shortages around the globe.” “This funding has helped the GoU pay the salaries of 618,000 educators, 517,000 health workers, and 56,500 first responders,” the report says. “It has also helped the GoU to sustain critical healthcare services, meet its pension responsibilities for 9.8 million people, assist 1.3 million internally displaced persons, provide housing assistance to 4.1 million people, and provide social assistance to 240,000 low-income families and 480,000 persons with disabilities.” “Joe Biden just announced the US is going to be supporting the pensions in Ukraine,” conservative commentator Jack Posobiec wrote in a Feb. 17 tweet. The post included a 29-second clip of Biden’s remarks that has been viewed almost 8 million times. The bottom line: While the video of Biden talking about providing funding to pay Ukrainian pensioners may have caught some by surprise recently, it does not change the fact that he made those comments before Congress approved the money months ago on a bipartisan basis. “We provide assistance — economic and humanitarian assistance — to a range of countries around the world because that’s part of American leadership. And so, I would say that’s the reasoning for this assistance being proposed in the package,” Psaki said. The bill, known as the Additional Ukraine Supplemental Appropriations Act, passed by wide margins in the House (368 to 57) and Senate (86 to 11), and then Biden signed it on May 21, 2022. It was the second of four aid packages for Ukraine that Congress approved in 2022 — all with support from Democrats and Republicans. Update, Feb. 23: After we published this story, a USAID spokesperson responded to our request for more information. We updated this story to include the amount spent on pensions as of Nov. 30, 2022. What Biden said in the clip may have come as news to some, but he said it nearly 10 months ago — about funding that became law with bipartisan support only weeks later. That report did not say how much was spent on pensions, but a USAID spokesperson sent us another USAID report to Congress that indicated $4 billion of budget support for Ukraine was spent on pensions as of Nov. 30, 2022. (CNN)President Joe Biden released his annual budget Thursday, outlining his policy priorities for the year ahead.\n"
     ]
    },
    {
     "name": "stdout",
     "output_type": "stream",
     "text": [
      "Extractive Summary ----- \n",
      "“President Biden will first travel to Belfast, Northern Ireland, from April 11-12 to mark the tremendous progress since the signing of the Belfast/Good Friday Agreement 25 years ago and to underscore the readiness of the United States to support Northern Ireland’s vast economic potential to the benefit of all communities. Universal preschool and affordable child care: The budget would provide funding for a new federal-state partnership program that would provide universal, free preschool. Biden's budget would also provide $500 million for a new grant program to help make two years of community college free. It would permanently make the credit fully refundable so more low-income families would qualify. The proposal would also provide Medicaid-like coverage to those in states that have not expanded the public health insurance program for low-income Americans. The City of North Little Rock is directing donations to First Assembly of God at 4501 Burrow Drive, according to the municipality's website. A temporary shelter at Hall STEAM Magnet High School closed on Saturday. In a press briefing hours after Biden’s announcement, then-White House Press Secretary Jen Psaki defended the plan to allow some funding to be used for pensions and other “social support.” The post included a 29-second clip of Biden’s remarks that has been viewed almost 8 million times. The bottom line: While the video of Biden talking about providing funding to pay Ukrainian pensioners may have caught some by surprise recently, it does not change the fact that he made those comments before Congress approved the money months ago on a bipartisan basis. “ The bill, known as the Additional Ukraine Supplemental Appropriations Act, passed by wide margins in the House (368 to 57) and Senate (86 to 11), and then Biden signed it on May 21, 2022. It was the second of four aid packages for Ukraine that Congress approved in 2022 — all with support from Democrats and Republicans.\n"
     ]
    },
    {
     "name": "stderr",
     "output_type": "stream",
     "text": [
      "Truncation was not explicitly activated but `max_length` is provided a specific value, please use `truncation=True` to explicitly truncate examples to max length. Defaulting to 'longest_first' truncation strategy. If you encode pairs of sequences (GLUE-style) with the tokenizer you can select this strategy more precisely by providing a specific strategy to `truncation`.\n",
      "Be aware, overflowing tokens are not returned for the setting you have chosen, i.e. sequence pairs with the 'longest_first' truncation strategy. So the returned list will always be empty even if some tokens have been removed.\n"
     ]
    },
    {
     "name": "stdout",
     "output_type": "stream",
     "text": [
      "1/1 [==============================] - 0s 341ms/step\n",
      "{'contradiction': 0.0003297957591712475, 'entailment': 6.490849386864284e-07, 'neutral': 0.9996695518493652}\n"
     ]
    }
   ],
   "source": [
    "claim = \"Joe biden announces provision of free meals in every school\"\n",
    "fake_news_detection(claim)"
   ]
  },
  {
   "cell_type": "code",
   "execution_count": null,
   "metadata": {},
   "outputs": [],
   "source": []
  }
 ],
 "metadata": {
  "kernelspec": {
   "display_name": "Python 3",
   "language": "python",
   "name": "python3"
  },
  "language_info": {
   "codemirror_mode": {
    "name": "ipython",
    "version": 3
   },
   "file_extension": ".py",
   "mimetype": "text/x-python",
   "name": "python",
   "nbconvert_exporter": "python",
   "pygments_lexer": "ipython3",
   "version": "3.8.3"
  }
 },
 "nbformat": 4,
 "nbformat_minor": 4
}
