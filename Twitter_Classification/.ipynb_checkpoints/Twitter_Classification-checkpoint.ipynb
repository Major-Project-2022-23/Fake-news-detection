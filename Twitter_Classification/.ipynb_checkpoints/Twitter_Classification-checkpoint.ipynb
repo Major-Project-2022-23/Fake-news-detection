{
 "cells": [
  {
   "cell_type": "code",
   "execution_count": 1,
   "metadata": {},
   "outputs": [
    {
     "name": "stderr",
     "output_type": "stream",
     "text": [
      "[nltk_data] Downloading package stopwords to\n",
      "[nltk_data]     /Users/shivamarora/nltk_data...\n",
      "[nltk_data]   Package stopwords is already up-to-date!\n",
      "[nltk_data] Downloading package wordnet to\n",
      "[nltk_data]     /Users/shivamarora/nltk_data...\n",
      "[nltk_data]   Package wordnet is already up-to-date!\n"
     ]
    }
   ],
   "source": [
    "import numpy as np\n",
    "import pandas as pd\n",
    "from fast_ml.model_development import train_valid_test_split\n",
    "from string import punctuation\n",
    "import re\n",
    "import nltk\n",
    "from nltk import word_tokenize\n",
    "nltk.download('stopwords')\n",
    "from nltk.stem.porter import PorterStemmer\n",
    "from nltk.stem import WordNetLemmatizer\n",
    "nltk.download('wordnet')\n",
    "from sklearn.feature_extraction.text import TfidfVectorizer\n",
    "from string import digits\n",
    "import matplotlib.pyplot as plt\n",
    "%matplotlib inline\n",
    "import seaborn as sns\n",
    "import sklearn.naive_bayes as naive_bayes\n",
    "from sklearn.metrics import accuracy_score, confusion_matrix\n",
    "from sklearn.preprocessing import LabelEncoder, OneHotEncoder"
   ]
  },
  {
   "cell_type": "markdown",
   "metadata": {},
   "source": [
    "## Utility Functions"
   ]
  },
  {
   "cell_type": "code",
   "execution_count": 2,
   "metadata": {},
   "outputs": [],
   "source": [
    "def convert_tweet_tree_to_df(tweet_id, year):\n",
    "    tweet_tree = pd.read_csv( 'twitter' + year + '/tree/' + str(tweet_id) + '.txt', \n",
    "                             header=None, sep=',', engine='python')\n",
    "    tweet_tree.columns = [\"P1\", \"Tw1\", \"Udf\", \"Tw2\", \"T2\"]\n",
    "    tweet_tree['P1'] = tweet_tree['P1'].str[1:]\n",
    "    temp = tweet_tree['Udf'].str.split(\"\\]->\\[\", n = 1, expand = True)\n",
    "    tweet_tree['T1'] = temp[0]\n",
    "    tweet_tree['P2'] = temp[1]\n",
    "    tweet_tree = tweet_tree[['P1','Tw1','T1','P2','Tw2','T2']]\n",
    "    tweet_tree['T2'] = tweet_tree['T2'].str[:-1]\n",
    "    return tweet_tree"
   ]
  },
  {
   "cell_type": "code",
   "execution_count": 3,
   "metadata": {},
   "outputs": [],
   "source": [
    "def get_tweet_publisher(tweet, year, _):\n",
    "    tweet_df = convert_tweet_tree_to_df(tweet['id'], year)\n",
    "    return tweet_df['P2'][0][1:-1]"
   ]
  },
  {
   "cell_type": "code",
   "execution_count": 4,
   "metadata": {},
   "outputs": [],
   "source": [
    "def remove_punctuation(text):\n",
    "    punctuationfree=\"\".join([i for i in text if i not in punctuation])\n",
    "    return punctuationfree"
   ]
  },
  {
   "cell_type": "code",
   "execution_count": 5,
   "metadata": {},
   "outputs": [],
   "source": [
    "emoji_pattern = re.compile(\"[\"\n",
    "        u\"\\U0001F600-\\U0001F64F\"  # emoticons\n",
    "        u\"\\U0001F300-\\U0001F5FF\"  # symbols & pictographs\n",
    "        u\"\\U0001F680-\\U0001F6FF\"  # transport & map symbols\n",
    "        u\"\\U0001F1E0-\\U0001F1FF\"  # flags (iOS)\n",
    "                           \"]+\", flags=re.UNICODE)\n",
    "\n",
    "def remove_emoticons(text):\n",
    "    return emoji_pattern.sub(r'', text)\n",
    "    "
   ]
  },
  {
   "cell_type": "code",
   "execution_count": 6,
   "metadata": {},
   "outputs": [],
   "source": [
    "def tokenization(text):\n",
    "    return word_tokenize(str(text))"
   ]
  },
  {
   "cell_type": "code",
   "execution_count": 7,
   "metadata": {},
   "outputs": [],
   "source": [
    "from nltk.corpus import stopwords\n",
    "stopWords = stopwords.words('english')\n",
    "def remove_stopwords(text):\n",
    "    output= [i for i in text if i not in stopWords]\n",
    "    return output"
   ]
  },
  {
   "cell_type": "code",
   "execution_count": 8,
   "metadata": {},
   "outputs": [],
   "source": [
    "porter_stemmer = PorterStemmer()\n",
    "def stemming(text):\n",
    "    stem_text = [porter_stemmer.stem(word) for word in text]\n",
    "    return stem_text"
   ]
  },
  {
   "cell_type": "code",
   "execution_count": 9,
   "metadata": {},
   "outputs": [],
   "source": [
    "wordnet_lemmatizer = WordNetLemmatizer()\n",
    "def lemmatizer(text):\n",
    "    lemm_text = [wordnet_lemmatizer.lemmatize(word) for word in text]\n",
    "    return lemm_text"
   ]
  },
  {
   "cell_type": "markdown",
   "metadata": {},
   "source": [
    "## Reading Datasets"
   ]
  },
  {
   "cell_type": "code",
   "execution_count": 10,
   "metadata": {},
   "outputs": [],
   "source": [
    "data_15 = pd.read_csv('twitter15/source_tweets.txt', sep=\"\\t\", header=None)\n",
    "data_15.columns = [\"id\", \"content\"]"
   ]
  },
  {
   "cell_type": "code",
   "execution_count": 11,
   "metadata": {},
   "outputs": [],
   "source": [
    "labels_15 = pd.read_csv('twitter15/label.txt', sep=\":\", header=None)\n",
    "labels_15.columns = [\"label\", \"id\"]"
   ]
  },
  {
   "cell_type": "code",
   "execution_count": 12,
   "metadata": {},
   "outputs": [],
   "source": [
    "data_15 = data_15.join(labels_15.set_index('id'), on='id')"
   ]
  },
  {
   "cell_type": "code",
   "execution_count": 13,
   "metadata": {},
   "outputs": [],
   "source": [
    "data_15['publisher'] = data_15.apply(get_tweet_publisher, axis=1, args=(\"15\", _))"
   ]
  },
  {
   "cell_type": "code",
   "execution_count": 14,
   "metadata": {},
   "outputs": [
    {
     "data": {
      "text/html": [
       "<div>\n",
       "<style scoped>\n",
       "    .dataframe tbody tr th:only-of-type {\n",
       "        vertical-align: middle;\n",
       "    }\n",
       "\n",
       "    .dataframe tbody tr th {\n",
       "        vertical-align: top;\n",
       "    }\n",
       "\n",
       "    .dataframe thead th {\n",
       "        text-align: right;\n",
       "    }\n",
       "</style>\n",
       "<table border=\"1\" class=\"dataframe\">\n",
       "  <thead>\n",
       "    <tr style=\"text-align: right;\">\n",
       "      <th></th>\n",
       "      <th>id</th>\n",
       "      <th>content</th>\n",
       "      <th>label</th>\n",
       "      <th>publisher</th>\n",
       "    </tr>\n",
       "  </thead>\n",
       "  <tbody>\n",
       "    <tr>\n",
       "      <th>0</th>\n",
       "      <td>731166399389962242</td>\n",
       "      <td>🔥ca kkk grand wizard 🔥 endorses @hillaryclinto...</td>\n",
       "      <td>unverified</td>\n",
       "      <td>431917957</td>\n",
       "    </tr>\n",
       "    <tr>\n",
       "      <th>1</th>\n",
       "      <td>714598641827246081</td>\n",
       "      <td>an open letter to trump voters from his top st...</td>\n",
       "      <td>unverified</td>\n",
       "      <td>94215989</td>\n",
       "    </tr>\n",
       "    <tr>\n",
       "      <th>2</th>\n",
       "      <td>691809004356501505</td>\n",
       "      <td>america is a nation of second chances —@potus ...</td>\n",
       "      <td>non-rumor</td>\n",
       "      <td>30313925</td>\n",
       "    </tr>\n",
       "    <tr>\n",
       "      <th>3</th>\n",
       "      <td>693204708933160960</td>\n",
       "      <td>brandon marshall visits and offers advice, sup...</td>\n",
       "      <td>non-rumor</td>\n",
       "      <td>2557521</td>\n",
       "    </tr>\n",
       "    <tr>\n",
       "      <th>4</th>\n",
       "      <td>551099691702956032</td>\n",
       "      <td>rip elly may clampett: so sad to learn #beverl...</td>\n",
       "      <td>true</td>\n",
       "      <td>2883841</td>\n",
       "    </tr>\n",
       "  </tbody>\n",
       "</table>\n",
       "</div>"
      ],
      "text/plain": [
       "                   id                                            content  \\\n",
       "0  731166399389962242  🔥ca kkk grand wizard 🔥 endorses @hillaryclinto...   \n",
       "1  714598641827246081  an open letter to trump voters from his top st...   \n",
       "2  691809004356501505  america is a nation of second chances —@potus ...   \n",
       "3  693204708933160960  brandon marshall visits and offers advice, sup...   \n",
       "4  551099691702956032  rip elly may clampett: so sad to learn #beverl...   \n",
       "\n",
       "        label  publisher  \n",
       "0  unverified  431917957  \n",
       "1  unverified   94215989  \n",
       "2   non-rumor   30313925  \n",
       "3   non-rumor    2557521  \n",
       "4        true    2883841  "
      ]
     },
     "execution_count": 14,
     "metadata": {},
     "output_type": "execute_result"
    }
   ],
   "source": [
    "data_15.head()"
   ]
  },
  {
   "cell_type": "code",
   "execution_count": 15,
   "metadata": {},
   "outputs": [
    {
     "data": {
      "text/plain": [
       "(1490, 4)"
      ]
     },
     "execution_count": 15,
     "metadata": {},
     "output_type": "execute_result"
    }
   ],
   "source": [
    "data_15.shape"
   ]
  },
  {
   "cell_type": "code",
   "execution_count": 16,
   "metadata": {},
   "outputs": [
    {
     "data": {
      "text/plain": [
       "id           1490\n",
       "content      1490\n",
       "label        1490\n",
       "publisher    1490\n",
       "dtype: int64"
      ]
     },
     "execution_count": 16,
     "metadata": {},
     "output_type": "execute_result"
    }
   ],
   "source": [
    "data_15.count()"
   ]
  },
  {
   "cell_type": "code",
   "execution_count": 17,
   "metadata": {},
   "outputs": [
    {
     "data": {
      "text/plain": [
       "id            int64\n",
       "content      object\n",
       "label        object\n",
       "publisher    object\n",
       "dtype: object"
      ]
     },
     "execution_count": 17,
     "metadata": {},
     "output_type": "execute_result"
    }
   ],
   "source": [
    "data_15.dtypes"
   ]
  },
  {
   "cell_type": "code",
   "execution_count": 18,
   "metadata": {},
   "outputs": [],
   "source": [
    "data_16 = pd.read_csv('twitter16/source_tweets.txt', sep=\"\\t\", header=None)\n",
    "data_16.columns = [\"id\", \"content\"]"
   ]
  },
  {
   "cell_type": "code",
   "execution_count": 19,
   "metadata": {},
   "outputs": [],
   "source": [
    "labels_16 = pd.read_csv('twitter16/label.txt', sep=\":\", header=None)\n",
    "labels_16.columns = [\"label\", \"id\"]"
   ]
  },
  {
   "cell_type": "code",
   "execution_count": 20,
   "metadata": {},
   "outputs": [],
   "source": [
    "data_16 = data_16.join(labels_16.set_index('id'), on='id')"
   ]
  },
  {
   "cell_type": "code",
   "execution_count": 21,
   "metadata": {},
   "outputs": [],
   "source": [
    "data_16['publisher'] = data_16.apply(get_tweet_publisher, axis=1, args=(\"16\", _))"
   ]
  },
  {
   "cell_type": "code",
   "execution_count": 22,
   "metadata": {},
   "outputs": [
    {
     "data": {
      "text/html": [
       "<div>\n",
       "<style scoped>\n",
       "    .dataframe tbody tr th:only-of-type {\n",
       "        vertical-align: middle;\n",
       "    }\n",
       "\n",
       "    .dataframe tbody tr th {\n",
       "        vertical-align: top;\n",
       "    }\n",
       "\n",
       "    .dataframe thead th {\n",
       "        text-align: right;\n",
       "    }\n",
       "</style>\n",
       "<table border=\"1\" class=\"dataframe\">\n",
       "  <thead>\n",
       "    <tr style=\"text-align: right;\">\n",
       "      <th></th>\n",
       "      <th>id</th>\n",
       "      <th>content</th>\n",
       "      <th>label</th>\n",
       "      <th>publisher</th>\n",
       "    </tr>\n",
       "  </thead>\n",
       "  <tbody>\n",
       "    <tr>\n",
       "      <th>0</th>\n",
       "      <td>656955120626880512</td>\n",
       "      <td>correct predictions in back to the future ii URL</td>\n",
       "      <td>false</td>\n",
       "      <td>1942819082</td>\n",
       "    </tr>\n",
       "    <tr>\n",
       "      <th>1</th>\n",
       "      <td>615689290706595840</td>\n",
       "      <td>.@whitehouse in rainbow colors for #scotusmarr...</td>\n",
       "      <td>true</td>\n",
       "      <td>44945327</td>\n",
       "    </tr>\n",
       "    <tr>\n",
       "      <th>2</th>\n",
       "      <td>613404935003217920</td>\n",
       "      <td>cops bought the alleged church shooter burger ...</td>\n",
       "      <td>false</td>\n",
       "      <td>14511951</td>\n",
       "    </tr>\n",
       "    <tr>\n",
       "      <th>3</th>\n",
       "      <td>731166399389962242</td>\n",
       "      <td>🔥ca kkk grand wizard 🔥 endorses @hillaryclinto...</td>\n",
       "      <td>unverified</td>\n",
       "      <td>431917957</td>\n",
       "    </tr>\n",
       "    <tr>\n",
       "      <th>4</th>\n",
       "      <td>714598641827246081</td>\n",
       "      <td>an open letter to trump voters from his top st...</td>\n",
       "      <td>unverified</td>\n",
       "      <td>94215989</td>\n",
       "    </tr>\n",
       "  </tbody>\n",
       "</table>\n",
       "</div>"
      ],
      "text/plain": [
       "                   id                                            content  \\\n",
       "0  656955120626880512   correct predictions in back to the future ii URL   \n",
       "1  615689290706595840  .@whitehouse in rainbow colors for #scotusmarr...   \n",
       "2  613404935003217920  cops bought the alleged church shooter burger ...   \n",
       "3  731166399389962242  🔥ca kkk grand wizard 🔥 endorses @hillaryclinto...   \n",
       "4  714598641827246081  an open letter to trump voters from his top st...   \n",
       "\n",
       "        label   publisher  \n",
       "0       false  1942819082  \n",
       "1        true    44945327  \n",
       "2       false    14511951  \n",
       "3  unverified   431917957  \n",
       "4  unverified    94215989  "
      ]
     },
     "execution_count": 22,
     "metadata": {},
     "output_type": "execute_result"
    }
   ],
   "source": [
    "data_16.head()"
   ]
  },
  {
   "cell_type": "code",
   "execution_count": 23,
   "metadata": {},
   "outputs": [
    {
     "data": {
      "text/plain": [
       "(818, 4)"
      ]
     },
     "execution_count": 23,
     "metadata": {},
     "output_type": "execute_result"
    }
   ],
   "source": [
    "data_16.shape"
   ]
  },
  {
   "cell_type": "code",
   "execution_count": 24,
   "metadata": {},
   "outputs": [
    {
     "data": {
      "text/plain": [
       "id           818\n",
       "content      818\n",
       "label        818\n",
       "publisher    818\n",
       "dtype: int64"
      ]
     },
     "execution_count": 24,
     "metadata": {},
     "output_type": "execute_result"
    }
   ],
   "source": [
    "data_16.count()"
   ]
  },
  {
   "cell_type": "code",
   "execution_count": 25,
   "metadata": {},
   "outputs": [
    {
     "data": {
      "text/plain": [
       "id            int64\n",
       "content      object\n",
       "label        object\n",
       "publisher    object\n",
       "dtype: object"
      ]
     },
     "execution_count": 25,
     "metadata": {},
     "output_type": "execute_result"
    }
   ],
   "source": [
    "data_16.dtypes"
   ]
  },
  {
   "cell_type": "code",
   "execution_count": 26,
   "metadata": {},
   "outputs": [],
   "source": [
    "data = pd.concat([data_15, data_16], ignore_index=True)"
   ]
  },
  {
   "cell_type": "code",
   "execution_count": 27,
   "metadata": {},
   "outputs": [
    {
     "data": {
      "text/html": [
       "<div>\n",
       "<style scoped>\n",
       "    .dataframe tbody tr th:only-of-type {\n",
       "        vertical-align: middle;\n",
       "    }\n",
       "\n",
       "    .dataframe tbody tr th {\n",
       "        vertical-align: top;\n",
       "    }\n",
       "\n",
       "    .dataframe thead th {\n",
       "        text-align: right;\n",
       "    }\n",
       "</style>\n",
       "<table border=\"1\" class=\"dataframe\">\n",
       "  <thead>\n",
       "    <tr style=\"text-align: right;\">\n",
       "      <th></th>\n",
       "      <th>id</th>\n",
       "      <th>content</th>\n",
       "      <th>label</th>\n",
       "      <th>publisher</th>\n",
       "    </tr>\n",
       "  </thead>\n",
       "  <tbody>\n",
       "    <tr>\n",
       "      <th>0</th>\n",
       "      <td>731166399389962242</td>\n",
       "      <td>🔥ca kkk grand wizard 🔥 endorses @hillaryclinto...</td>\n",
       "      <td>unverified</td>\n",
       "      <td>431917957</td>\n",
       "    </tr>\n",
       "    <tr>\n",
       "      <th>1</th>\n",
       "      <td>714598641827246081</td>\n",
       "      <td>an open letter to trump voters from his top st...</td>\n",
       "      <td>unverified</td>\n",
       "      <td>94215989</td>\n",
       "    </tr>\n",
       "    <tr>\n",
       "      <th>2</th>\n",
       "      <td>691809004356501505</td>\n",
       "      <td>america is a nation of second chances —@potus ...</td>\n",
       "      <td>non-rumor</td>\n",
       "      <td>30313925</td>\n",
       "    </tr>\n",
       "    <tr>\n",
       "      <th>3</th>\n",
       "      <td>693204708933160960</td>\n",
       "      <td>brandon marshall visits and offers advice, sup...</td>\n",
       "      <td>non-rumor</td>\n",
       "      <td>2557521</td>\n",
       "    </tr>\n",
       "    <tr>\n",
       "      <th>4</th>\n",
       "      <td>551099691702956032</td>\n",
       "      <td>rip elly may clampett: so sad to learn #beverl...</td>\n",
       "      <td>true</td>\n",
       "      <td>2883841</td>\n",
       "    </tr>\n",
       "    <tr>\n",
       "      <th>...</th>\n",
       "      <td>...</td>\n",
       "      <td>...</td>\n",
       "      <td>...</td>\n",
       "      <td>...</td>\n",
       "    </tr>\n",
       "    <tr>\n",
       "      <th>2303</th>\n",
       "      <td>693546915892428800</td>\n",
       "      <td>jeb bush campaign kicks off 3-state farewell t...</td>\n",
       "      <td>non-rumor</td>\n",
       "      <td>14075928</td>\n",
       "    </tr>\n",
       "    <tr>\n",
       "      <th>2304</th>\n",
       "      <td>544269749405097984</td>\n",
       "      <td>breaking: live coverage of hostage situation u...</td>\n",
       "      <td>true</td>\n",
       "      <td>15250661</td>\n",
       "    </tr>\n",
       "    <tr>\n",
       "      <th>2305</th>\n",
       "      <td>760109079133990912</td>\n",
       "      <td>“after school satan clubs”? URL</td>\n",
       "      <td>unverified</td>\n",
       "      <td>44945327</td>\n",
       "    </tr>\n",
       "    <tr>\n",
       "      <th>2306</th>\n",
       "      <td>779633844680962048</td>\n",
       "      <td>this network of tunnels is from the stone age ...</td>\n",
       "      <td>unverified</td>\n",
       "      <td>918346674</td>\n",
       "    </tr>\n",
       "    <tr>\n",
       "      <th>2307</th>\n",
       "      <td>765859710503378944</td>\n",
       "      <td>top north korean diplomat who disappeared from...</td>\n",
       "      <td>non-rumor</td>\n",
       "      <td>5402612</td>\n",
       "    </tr>\n",
       "  </tbody>\n",
       "</table>\n",
       "<p>2308 rows × 4 columns</p>\n",
       "</div>"
      ],
      "text/plain": [
       "                      id                                            content  \\\n",
       "0     731166399389962242  🔥ca kkk grand wizard 🔥 endorses @hillaryclinto...   \n",
       "1     714598641827246081  an open letter to trump voters from his top st...   \n",
       "2     691809004356501505  america is a nation of second chances —@potus ...   \n",
       "3     693204708933160960  brandon marshall visits and offers advice, sup...   \n",
       "4     551099691702956032  rip elly may clampett: so sad to learn #beverl...   \n",
       "...                  ...                                                ...   \n",
       "2303  693546915892428800  jeb bush campaign kicks off 3-state farewell t...   \n",
       "2304  544269749405097984  breaking: live coverage of hostage situation u...   \n",
       "2305  760109079133990912                    “after school satan clubs”? URL   \n",
       "2306  779633844680962048  this network of tunnels is from the stone age ...   \n",
       "2307  765859710503378944  top north korean diplomat who disappeared from...   \n",
       "\n",
       "           label  publisher  \n",
       "0     unverified  431917957  \n",
       "1     unverified   94215989  \n",
       "2      non-rumor   30313925  \n",
       "3      non-rumor    2557521  \n",
       "4           true    2883841  \n",
       "...          ...        ...  \n",
       "2303   non-rumor   14075928  \n",
       "2304        true   15250661  \n",
       "2305  unverified   44945327  \n",
       "2306  unverified  918346674  \n",
       "2307   non-rumor    5402612  \n",
       "\n",
       "[2308 rows x 4 columns]"
      ]
     },
     "execution_count": 27,
     "metadata": {},
     "output_type": "execute_result"
    }
   ],
   "source": [
    "data"
   ]
  },
  {
   "cell_type": "code",
   "execution_count": 28,
   "metadata": {},
   "outputs": [
    {
     "data": {
      "text/plain": [
       "(2308, 4)"
      ]
     },
     "execution_count": 28,
     "metadata": {},
     "output_type": "execute_result"
    }
   ],
   "source": [
    "data.shape"
   ]
  },
  {
   "cell_type": "code",
   "execution_count": 29,
   "metadata": {},
   "outputs": [
    {
     "data": {
      "text/plain": [
       "2139"
      ]
     },
     "execution_count": 29,
     "metadata": {},
     "output_type": "execute_result"
    }
   ],
   "source": [
    "len(data[\"id\"].unique())"
   ]
  },
  {
   "cell_type": "code",
   "execution_count": 30,
   "metadata": {},
   "outputs": [],
   "source": [
    "data = data.drop_duplicates(subset=None, keep='first', inplace=False)"
   ]
  },
  {
   "cell_type": "code",
   "execution_count": 31,
   "metadata": {},
   "outputs": [],
   "source": [
    "data = data.reset_index()"
   ]
  },
  {
   "cell_type": "code",
   "execution_count": 32,
   "metadata": {},
   "outputs": [
    {
     "data": {
      "text/html": [
       "<div>\n",
       "<style scoped>\n",
       "    .dataframe tbody tr th:only-of-type {\n",
       "        vertical-align: middle;\n",
       "    }\n",
       "\n",
       "    .dataframe tbody tr th {\n",
       "        vertical-align: top;\n",
       "    }\n",
       "\n",
       "    .dataframe thead th {\n",
       "        text-align: right;\n",
       "    }\n",
       "</style>\n",
       "<table border=\"1\" class=\"dataframe\">\n",
       "  <thead>\n",
       "    <tr style=\"text-align: right;\">\n",
       "      <th></th>\n",
       "      <th>index</th>\n",
       "      <th>id</th>\n",
       "      <th>content</th>\n",
       "      <th>label</th>\n",
       "      <th>publisher</th>\n",
       "    </tr>\n",
       "  </thead>\n",
       "  <tbody>\n",
       "    <tr>\n",
       "      <th>0</th>\n",
       "      <td>0</td>\n",
       "      <td>731166399389962242</td>\n",
       "      <td>🔥ca kkk grand wizard 🔥 endorses @hillaryclinto...</td>\n",
       "      <td>unverified</td>\n",
       "      <td>431917957</td>\n",
       "    </tr>\n",
       "    <tr>\n",
       "      <th>1</th>\n",
       "      <td>1</td>\n",
       "      <td>714598641827246081</td>\n",
       "      <td>an open letter to trump voters from his top st...</td>\n",
       "      <td>unverified</td>\n",
       "      <td>94215989</td>\n",
       "    </tr>\n",
       "    <tr>\n",
       "      <th>2</th>\n",
       "      <td>2</td>\n",
       "      <td>691809004356501505</td>\n",
       "      <td>america is a nation of second chances —@potus ...</td>\n",
       "      <td>non-rumor</td>\n",
       "      <td>30313925</td>\n",
       "    </tr>\n",
       "    <tr>\n",
       "      <th>3</th>\n",
       "      <td>3</td>\n",
       "      <td>693204708933160960</td>\n",
       "      <td>brandon marshall visits and offers advice, sup...</td>\n",
       "      <td>non-rumor</td>\n",
       "      <td>2557521</td>\n",
       "    </tr>\n",
       "    <tr>\n",
       "      <th>4</th>\n",
       "      <td>4</td>\n",
       "      <td>551099691702956032</td>\n",
       "      <td>rip elly may clampett: so sad to learn #beverl...</td>\n",
       "      <td>true</td>\n",
       "      <td>2883841</td>\n",
       "    </tr>\n",
       "    <tr>\n",
       "      <th>...</th>\n",
       "      <td>...</td>\n",
       "      <td>...</td>\n",
       "      <td>...</td>\n",
       "      <td>...</td>\n",
       "      <td>...</td>\n",
       "    </tr>\n",
       "    <tr>\n",
       "      <th>2134</th>\n",
       "      <td>2302</td>\n",
       "      <td>693171092555431936</td>\n",
       "      <td>watch: tommy chong made a pro-bernie sanders v...</td>\n",
       "      <td>non-rumor</td>\n",
       "      <td>16664681</td>\n",
       "    </tr>\n",
       "    <tr>\n",
       "      <th>2135</th>\n",
       "      <td>2303</td>\n",
       "      <td>693546915892428800</td>\n",
       "      <td>jeb bush campaign kicks off 3-state farewell t...</td>\n",
       "      <td>non-rumor</td>\n",
       "      <td>14075928</td>\n",
       "    </tr>\n",
       "    <tr>\n",
       "      <th>2136</th>\n",
       "      <td>2304</td>\n",
       "      <td>544269749405097984</td>\n",
       "      <td>breaking: live coverage of hostage situation u...</td>\n",
       "      <td>true</td>\n",
       "      <td>15250661</td>\n",
       "    </tr>\n",
       "    <tr>\n",
       "      <th>2137</th>\n",
       "      <td>2306</td>\n",
       "      <td>779633844680962048</td>\n",
       "      <td>this network of tunnels is from the stone age ...</td>\n",
       "      <td>unverified</td>\n",
       "      <td>918346674</td>\n",
       "    </tr>\n",
       "    <tr>\n",
       "      <th>2138</th>\n",
       "      <td>2307</td>\n",
       "      <td>765859710503378944</td>\n",
       "      <td>top north korean diplomat who disappeared from...</td>\n",
       "      <td>non-rumor</td>\n",
       "      <td>5402612</td>\n",
       "    </tr>\n",
       "  </tbody>\n",
       "</table>\n",
       "<p>2139 rows × 5 columns</p>\n",
       "</div>"
      ],
      "text/plain": [
       "      index                  id  \\\n",
       "0         0  731166399389962242   \n",
       "1         1  714598641827246081   \n",
       "2         2  691809004356501505   \n",
       "3         3  693204708933160960   \n",
       "4         4  551099691702956032   \n",
       "...     ...                 ...   \n",
       "2134   2302  693171092555431936   \n",
       "2135   2303  693546915892428800   \n",
       "2136   2304  544269749405097984   \n",
       "2137   2306  779633844680962048   \n",
       "2138   2307  765859710503378944   \n",
       "\n",
       "                                                content       label  publisher  \n",
       "0     🔥ca kkk grand wizard 🔥 endorses @hillaryclinto...  unverified  431917957  \n",
       "1     an open letter to trump voters from his top st...  unverified   94215989  \n",
       "2     america is a nation of second chances —@potus ...   non-rumor   30313925  \n",
       "3     brandon marshall visits and offers advice, sup...   non-rumor    2557521  \n",
       "4     rip elly may clampett: so sad to learn #beverl...        true    2883841  \n",
       "...                                                 ...         ...        ...  \n",
       "2134  watch: tommy chong made a pro-bernie sanders v...   non-rumor   16664681  \n",
       "2135  jeb bush campaign kicks off 3-state farewell t...   non-rumor   14075928  \n",
       "2136  breaking: live coverage of hostage situation u...        true   15250661  \n",
       "2137  this network of tunnels is from the stone age ...  unverified  918346674  \n",
       "2138  top north korean diplomat who disappeared from...   non-rumor    5402612  \n",
       "\n",
       "[2139 rows x 5 columns]"
      ]
     },
     "execution_count": 32,
     "metadata": {},
     "output_type": "execute_result"
    }
   ],
   "source": [
    "data"
   ]
  },
  {
   "cell_type": "code",
   "execution_count": 33,
   "metadata": {},
   "outputs": [
    {
     "data": {
      "text/plain": [
       "906"
      ]
     },
     "execution_count": 33,
     "metadata": {},
     "output_type": "execute_result"
    }
   ],
   "source": [
    "len(data[\"publisher\"].unique())"
   ]
  },
  {
   "cell_type": "markdown",
   "metadata": {},
   "source": [
    "## Preprocessing"
   ]
  },
  {
   "cell_type": "code",
   "execution_count": 34,
   "metadata": {},
   "outputs": [],
   "source": [
    "#Punctuation Removal\n",
    "data['content']= data['content'].apply(lambda x:remove_punctuation(x))"
   ]
  },
  {
   "cell_type": "code",
   "execution_count": 35,
   "metadata": {},
   "outputs": [],
   "source": [
    "#Emoticons Removal\n",
    "data['content']= data['content'].apply(lambda x:remove_emoticons(x))"
   ]
  },
  {
   "cell_type": "code",
   "execution_count": 36,
   "metadata": {},
   "outputs": [],
   "source": [
    "#Numbers Removal\n",
    "remove_digits = str.maketrans('', '', digits)\n",
    "data['content'] = data['content'].apply(lambda x: x.translate(remove_digits))"
   ]
  },
  {
   "cell_type": "code",
   "execution_count": 37,
   "metadata": {},
   "outputs": [],
   "source": [
    "#lowering the text\n",
    "data['content']= data['content'].apply(lambda x: x.lower())"
   ]
  },
  {
   "cell_type": "code",
   "execution_count": 38,
   "metadata": {},
   "outputs": [],
   "source": [
    "#tokenization\n",
    "data['content']= data['content'].apply(lambda x: tokenization(x))"
   ]
  },
  {
   "cell_type": "code",
   "execution_count": 39,
   "metadata": {},
   "outputs": [],
   "source": [
    "#Removing stop words\n",
    "data['content']= data['content'].apply(lambda x:remove_stopwords(x))"
   ]
  },
  {
   "cell_type": "code",
   "execution_count": 40,
   "metadata": {},
   "outputs": [],
   "source": [
    "#Stemming\n",
    "data['content']=data['content'].apply(lambda x: stemming(x))"
   ]
  },
  {
   "cell_type": "code",
   "execution_count": 41,
   "metadata": {},
   "outputs": [],
   "source": [
    "#Lemmatization\n",
    "data['content']=data['content'].apply(lambda x:lemmatizer(x))"
   ]
  },
  {
   "cell_type": "code",
   "execution_count": 42,
   "metadata": {},
   "outputs": [
    {
     "data": {
      "text/plain": [
       "0    [ca, kkk, grand, wizard, endors, hillaryclinto...\n",
       "1    [open, letter, trump, voter, top, strategisttu...\n",
       "2    [america, nation, second, chanc, —potu, new, r...\n",
       "3    [brandon, marshal, visit, offer, advic, suppor...\n",
       "4    [rip, elli, may, clampett, sad, learn, beverly...\n",
       "Name: content, dtype: object"
      ]
     },
     "execution_count": 42,
     "metadata": {},
     "output_type": "execute_result"
    }
   ],
   "source": [
    "data['content'].head()"
   ]
  },
  {
   "cell_type": "code",
   "execution_count": 43,
   "metadata": {},
   "outputs": [
    {
     "data": {
      "text/plain": [
       "true          579\n",
       "non-rumor     579\n",
       "false         575\n",
       "unverified    406\n",
       "Name: label, dtype: int64"
      ]
     },
     "execution_count": 43,
     "metadata": {},
     "output_type": "execute_result"
    }
   ],
   "source": [
    "data['label'].value_counts()"
   ]
  },
  {
   "cell_type": "code",
   "execution_count": 44,
   "metadata": {},
   "outputs": [],
   "source": [
    "label_map = {'false' : 0, 'unverified' : 1, 'non-rumor' : 2, 'true' : 3}"
   ]
  },
  {
   "cell_type": "code",
   "execution_count": 45,
   "metadata": {},
   "outputs": [],
   "source": [
    "data['label'] = data['label'].map(label_map)"
   ]
  },
  {
   "cell_type": "markdown",
   "metadata": {},
   "source": [
    "### Encoding Publisher"
   ]
  },
  {
   "cell_type": "code",
   "execution_count": 46,
   "metadata": {},
   "outputs": [],
   "source": [
    "labelencoder = LabelEncoder()"
   ]
  },
  {
   "cell_type": "code",
   "execution_count": 47,
   "metadata": {},
   "outputs": [],
   "source": [
    "unique_publishers = data['publisher'].unique()"
   ]
  },
  {
   "cell_type": "code",
   "execution_count": 48,
   "metadata": {},
   "outputs": [
    {
     "data": {
      "text/html": [
       "<div>\n",
       "<style scoped>\n",
       "    .dataframe tbody tr th:only-of-type {\n",
       "        vertical-align: middle;\n",
       "    }\n",
       "\n",
       "    .dataframe tbody tr th {\n",
       "        vertical-align: top;\n",
       "    }\n",
       "\n",
       "    .dataframe thead th {\n",
       "        text-align: right;\n",
       "    }\n",
       "</style>\n",
       "<table border=\"1\" class=\"dataframe\">\n",
       "  <thead>\n",
       "    <tr style=\"text-align: right;\">\n",
       "      <th></th>\n",
       "      <th>index</th>\n",
       "      <th>id</th>\n",
       "      <th>content</th>\n",
       "      <th>label</th>\n",
       "      <th>publisher</th>\n",
       "      <th>publisher_code</th>\n",
       "    </tr>\n",
       "  </thead>\n",
       "  <tbody>\n",
       "    <tr>\n",
       "      <th>0</th>\n",
       "      <td>0</td>\n",
       "      <td>731166399389962242</td>\n",
       "      <td>[ca, kkk, grand, wizard, endors, hillaryclinto...</td>\n",
       "      <td>1</td>\n",
       "      <td>431917957</td>\n",
       "      <td>670</td>\n",
       "    </tr>\n",
       "    <tr>\n",
       "      <th>1</th>\n",
       "      <td>1</td>\n",
       "      <td>714598641827246081</td>\n",
       "      <td>[open, letter, trump, voter, top, strategisttu...</td>\n",
       "      <td>1</td>\n",
       "      <td>94215989</td>\n",
       "      <td>886</td>\n",
       "    </tr>\n",
       "    <tr>\n",
       "      <th>2</th>\n",
       "      <td>2</td>\n",
       "      <td>691809004356501505</td>\n",
       "      <td>[america, nation, second, chanc, —potu, new, r...</td>\n",
       "      <td>2</td>\n",
       "      <td>30313925</td>\n",
       "      <td>566</td>\n",
       "    </tr>\n",
       "    <tr>\n",
       "      <th>3</th>\n",
       "      <td>3</td>\n",
       "      <td>693204708933160960</td>\n",
       "      <td>[brandon, marshal, visit, offer, advic, suppor...</td>\n",
       "      <td>2</td>\n",
       "      <td>2557521</td>\n",
       "      <td>494</td>\n",
       "    </tr>\n",
       "    <tr>\n",
       "      <th>4</th>\n",
       "      <td>4</td>\n",
       "      <td>551099691702956032</td>\n",
       "      <td>[rip, elli, may, clampett, sad, learn, beverly...</td>\n",
       "      <td>3</td>\n",
       "      <td>2883841</td>\n",
       "      <td>547</td>\n",
       "    </tr>\n",
       "    <tr>\n",
       "      <th>...</th>\n",
       "      <td>...</td>\n",
       "      <td>...</td>\n",
       "      <td>...</td>\n",
       "      <td>...</td>\n",
       "      <td>...</td>\n",
       "      <td>...</td>\n",
       "    </tr>\n",
       "    <tr>\n",
       "      <th>2134</th>\n",
       "      <td>2302</td>\n",
       "      <td>693171092555431936</td>\n",
       "      <td>[watch, tommi, chong, made, proberni, sander, ...</td>\n",
       "      <td>2</td>\n",
       "      <td>16664681</td>\n",
       "      <td>245</td>\n",
       "    </tr>\n",
       "    <tr>\n",
       "      <th>2135</th>\n",
       "      <td>2303</td>\n",
       "      <td>693546915892428800</td>\n",
       "      <td>[jeb, bush, campaign, kick, state, farewel, to...</td>\n",
       "      <td>2</td>\n",
       "      <td>14075928</td>\n",
       "      <td>108</td>\n",
       "    </tr>\n",
       "    <tr>\n",
       "      <th>2136</th>\n",
       "      <td>2304</td>\n",
       "      <td>544269749405097984</td>\n",
       "      <td>[break, live, coverag, hostag, situat, unfold,...</td>\n",
       "      <td>3</td>\n",
       "      <td>15250661</td>\n",
       "      <td>168</td>\n",
       "    </tr>\n",
       "    <tr>\n",
       "      <th>2137</th>\n",
       "      <td>2306</td>\n",
       "      <td>779633844680962048</td>\n",
       "      <td>[network, tunnel, stone, age, howev, one, know...</td>\n",
       "      <td>1</td>\n",
       "      <td>918346674</td>\n",
       "      <td>876</td>\n",
       "    </tr>\n",
       "    <tr>\n",
       "      <th>2138</th>\n",
       "      <td>2307</td>\n",
       "      <td>765859710503378944</td>\n",
       "      <td>[top, north, korean, diplomat, disappear, lond...</td>\n",
       "      <td>2</td>\n",
       "      <td>5402612</td>\n",
       "      <td>737</td>\n",
       "    </tr>\n",
       "  </tbody>\n",
       "</table>\n",
       "<p>2139 rows × 6 columns</p>\n",
       "</div>"
      ],
      "text/plain": [
       "      index                  id  \\\n",
       "0         0  731166399389962242   \n",
       "1         1  714598641827246081   \n",
       "2         2  691809004356501505   \n",
       "3         3  693204708933160960   \n",
       "4         4  551099691702956032   \n",
       "...     ...                 ...   \n",
       "2134   2302  693171092555431936   \n",
       "2135   2303  693546915892428800   \n",
       "2136   2304  544269749405097984   \n",
       "2137   2306  779633844680962048   \n",
       "2138   2307  765859710503378944   \n",
       "\n",
       "                                                content  label  publisher  \\\n",
       "0     [ca, kkk, grand, wizard, endors, hillaryclinto...      1  431917957   \n",
       "1     [open, letter, trump, voter, top, strategisttu...      1   94215989   \n",
       "2     [america, nation, second, chanc, —potu, new, r...      2   30313925   \n",
       "3     [brandon, marshal, visit, offer, advic, suppor...      2    2557521   \n",
       "4     [rip, elli, may, clampett, sad, learn, beverly...      3    2883841   \n",
       "...                                                 ...    ...        ...   \n",
       "2134  [watch, tommi, chong, made, proberni, sander, ...      2   16664681   \n",
       "2135  [jeb, bush, campaign, kick, state, farewel, to...      2   14075928   \n",
       "2136  [break, live, coverag, hostag, situat, unfold,...      3   15250661   \n",
       "2137  [network, tunnel, stone, age, howev, one, know...      1  918346674   \n",
       "2138  [top, north, korean, diplomat, disappear, lond...      2    5402612   \n",
       "\n",
       "      publisher_code  \n",
       "0                670  \n",
       "1                886  \n",
       "2                566  \n",
       "3                494  \n",
       "4                547  \n",
       "...              ...  \n",
       "2134             245  \n",
       "2135             108  \n",
       "2136             168  \n",
       "2137             876  \n",
       "2138             737  \n",
       "\n",
       "[2139 rows x 6 columns]"
      ]
     },
     "execution_count": 48,
     "metadata": {},
     "output_type": "execute_result"
    }
   ],
   "source": [
    "data['publisher_code'] = labelencoder.fit_transform(data['publisher'])\n",
    "data"
   ]
  },
  {
   "cell_type": "code",
   "execution_count": 49,
   "metadata": {},
   "outputs": [],
   "source": [
    "enc = OneHotEncoder(handle_unknown='ignore')"
   ]
  },
  {
   "cell_type": "code",
   "execution_count": 50,
   "metadata": {},
   "outputs": [
    {
     "data": {
      "text/plain": [
       "(2139, 906)"
      ]
     },
     "execution_count": 50,
     "metadata": {},
     "output_type": "execute_result"
    }
   ],
   "source": [
    "enc_df = pd.DataFrame(enc.fit_transform(data[['publisher_code']]).toarray())\n",
    "enc_df.shape"
   ]
  },
  {
   "cell_type": "code",
   "execution_count": 51,
   "metadata": {},
   "outputs": [
    {
     "data": {
      "text/html": [
       "<div>\n",
       "<style scoped>\n",
       "    .dataframe tbody tr th:only-of-type {\n",
       "        vertical-align: middle;\n",
       "    }\n",
       "\n",
       "    .dataframe tbody tr th {\n",
       "        vertical-align: top;\n",
       "    }\n",
       "\n",
       "    .dataframe thead th {\n",
       "        text-align: right;\n",
       "    }\n",
       "</style>\n",
       "<table border=\"1\" class=\"dataframe\">\n",
       "  <thead>\n",
       "    <tr style=\"text-align: right;\">\n",
       "      <th></th>\n",
       "      <th>index</th>\n",
       "      <th>id</th>\n",
       "      <th>content</th>\n",
       "      <th>label</th>\n",
       "      <th>publisher</th>\n",
       "      <th>publisher_code</th>\n",
       "      <th>0</th>\n",
       "      <th>1</th>\n",
       "      <th>2</th>\n",
       "      <th>3</th>\n",
       "      <th>...</th>\n",
       "      <th>896</th>\n",
       "      <th>897</th>\n",
       "      <th>898</th>\n",
       "      <th>899</th>\n",
       "      <th>900</th>\n",
       "      <th>901</th>\n",
       "      <th>902</th>\n",
       "      <th>903</th>\n",
       "      <th>904</th>\n",
       "      <th>905</th>\n",
       "    </tr>\n",
       "  </thead>\n",
       "  <tbody>\n",
       "    <tr>\n",
       "      <th>0</th>\n",
       "      <td>0</td>\n",
       "      <td>731166399389962242</td>\n",
       "      <td>[ca, kkk, grand, wizard, endors, hillaryclinto...</td>\n",
       "      <td>1</td>\n",
       "      <td>431917957</td>\n",
       "      <td>670</td>\n",
       "      <td>0.0</td>\n",
       "      <td>0.0</td>\n",
       "      <td>0.0</td>\n",
       "      <td>0.0</td>\n",
       "      <td>...</td>\n",
       "      <td>0.0</td>\n",
       "      <td>0.0</td>\n",
       "      <td>0.0</td>\n",
       "      <td>0.0</td>\n",
       "      <td>0.0</td>\n",
       "      <td>0.0</td>\n",
       "      <td>0.0</td>\n",
       "      <td>0.0</td>\n",
       "      <td>0.0</td>\n",
       "      <td>0.0</td>\n",
       "    </tr>\n",
       "    <tr>\n",
       "      <th>1</th>\n",
       "      <td>1</td>\n",
       "      <td>714598641827246081</td>\n",
       "      <td>[open, letter, trump, voter, top, strategisttu...</td>\n",
       "      <td>1</td>\n",
       "      <td>94215989</td>\n",
       "      <td>886</td>\n",
       "      <td>0.0</td>\n",
       "      <td>0.0</td>\n",
       "      <td>0.0</td>\n",
       "      <td>0.0</td>\n",
       "      <td>...</td>\n",
       "      <td>0.0</td>\n",
       "      <td>0.0</td>\n",
       "      <td>0.0</td>\n",
       "      <td>0.0</td>\n",
       "      <td>0.0</td>\n",
       "      <td>0.0</td>\n",
       "      <td>0.0</td>\n",
       "      <td>0.0</td>\n",
       "      <td>0.0</td>\n",
       "      <td>0.0</td>\n",
       "    </tr>\n",
       "    <tr>\n",
       "      <th>2</th>\n",
       "      <td>2</td>\n",
       "      <td>691809004356501505</td>\n",
       "      <td>[america, nation, second, chanc, —potu, new, r...</td>\n",
       "      <td>2</td>\n",
       "      <td>30313925</td>\n",
       "      <td>566</td>\n",
       "      <td>0.0</td>\n",
       "      <td>0.0</td>\n",
       "      <td>0.0</td>\n",
       "      <td>0.0</td>\n",
       "      <td>...</td>\n",
       "      <td>0.0</td>\n",
       "      <td>0.0</td>\n",
       "      <td>0.0</td>\n",
       "      <td>0.0</td>\n",
       "      <td>0.0</td>\n",
       "      <td>0.0</td>\n",
       "      <td>0.0</td>\n",
       "      <td>0.0</td>\n",
       "      <td>0.0</td>\n",
       "      <td>0.0</td>\n",
       "    </tr>\n",
       "    <tr>\n",
       "      <th>3</th>\n",
       "      <td>3</td>\n",
       "      <td>693204708933160960</td>\n",
       "      <td>[brandon, marshal, visit, offer, advic, suppor...</td>\n",
       "      <td>2</td>\n",
       "      <td>2557521</td>\n",
       "      <td>494</td>\n",
       "      <td>0.0</td>\n",
       "      <td>0.0</td>\n",
       "      <td>0.0</td>\n",
       "      <td>0.0</td>\n",
       "      <td>...</td>\n",
       "      <td>0.0</td>\n",
       "      <td>0.0</td>\n",
       "      <td>0.0</td>\n",
       "      <td>0.0</td>\n",
       "      <td>0.0</td>\n",
       "      <td>0.0</td>\n",
       "      <td>0.0</td>\n",
       "      <td>0.0</td>\n",
       "      <td>0.0</td>\n",
       "      <td>0.0</td>\n",
       "    </tr>\n",
       "    <tr>\n",
       "      <th>4</th>\n",
       "      <td>4</td>\n",
       "      <td>551099691702956032</td>\n",
       "      <td>[rip, elli, may, clampett, sad, learn, beverly...</td>\n",
       "      <td>3</td>\n",
       "      <td>2883841</td>\n",
       "      <td>547</td>\n",
       "      <td>0.0</td>\n",
       "      <td>0.0</td>\n",
       "      <td>0.0</td>\n",
       "      <td>0.0</td>\n",
       "      <td>...</td>\n",
       "      <td>0.0</td>\n",
       "      <td>0.0</td>\n",
       "      <td>0.0</td>\n",
       "      <td>0.0</td>\n",
       "      <td>0.0</td>\n",
       "      <td>0.0</td>\n",
       "      <td>0.0</td>\n",
       "      <td>0.0</td>\n",
       "      <td>0.0</td>\n",
       "      <td>0.0</td>\n",
       "    </tr>\n",
       "    <tr>\n",
       "      <th>...</th>\n",
       "      <td>...</td>\n",
       "      <td>...</td>\n",
       "      <td>...</td>\n",
       "      <td>...</td>\n",
       "      <td>...</td>\n",
       "      <td>...</td>\n",
       "      <td>...</td>\n",
       "      <td>...</td>\n",
       "      <td>...</td>\n",
       "      <td>...</td>\n",
       "      <td>...</td>\n",
       "      <td>...</td>\n",
       "      <td>...</td>\n",
       "      <td>...</td>\n",
       "      <td>...</td>\n",
       "      <td>...</td>\n",
       "      <td>...</td>\n",
       "      <td>...</td>\n",
       "      <td>...</td>\n",
       "      <td>...</td>\n",
       "      <td>...</td>\n",
       "    </tr>\n",
       "    <tr>\n",
       "      <th>2134</th>\n",
       "      <td>2302</td>\n",
       "      <td>693171092555431936</td>\n",
       "      <td>[watch, tommi, chong, made, proberni, sander, ...</td>\n",
       "      <td>2</td>\n",
       "      <td>16664681</td>\n",
       "      <td>245</td>\n",
       "      <td>0.0</td>\n",
       "      <td>0.0</td>\n",
       "      <td>0.0</td>\n",
       "      <td>0.0</td>\n",
       "      <td>...</td>\n",
       "      <td>0.0</td>\n",
       "      <td>0.0</td>\n",
       "      <td>0.0</td>\n",
       "      <td>0.0</td>\n",
       "      <td>0.0</td>\n",
       "      <td>0.0</td>\n",
       "      <td>0.0</td>\n",
       "      <td>0.0</td>\n",
       "      <td>0.0</td>\n",
       "      <td>0.0</td>\n",
       "    </tr>\n",
       "    <tr>\n",
       "      <th>2135</th>\n",
       "      <td>2303</td>\n",
       "      <td>693546915892428800</td>\n",
       "      <td>[jeb, bush, campaign, kick, state, farewel, to...</td>\n",
       "      <td>2</td>\n",
       "      <td>14075928</td>\n",
       "      <td>108</td>\n",
       "      <td>0.0</td>\n",
       "      <td>0.0</td>\n",
       "      <td>0.0</td>\n",
       "      <td>0.0</td>\n",
       "      <td>...</td>\n",
       "      <td>0.0</td>\n",
       "      <td>0.0</td>\n",
       "      <td>0.0</td>\n",
       "      <td>0.0</td>\n",
       "      <td>0.0</td>\n",
       "      <td>0.0</td>\n",
       "      <td>0.0</td>\n",
       "      <td>0.0</td>\n",
       "      <td>0.0</td>\n",
       "      <td>0.0</td>\n",
       "    </tr>\n",
       "    <tr>\n",
       "      <th>2136</th>\n",
       "      <td>2304</td>\n",
       "      <td>544269749405097984</td>\n",
       "      <td>[break, live, coverag, hostag, situat, unfold,...</td>\n",
       "      <td>3</td>\n",
       "      <td>15250661</td>\n",
       "      <td>168</td>\n",
       "      <td>0.0</td>\n",
       "      <td>0.0</td>\n",
       "      <td>0.0</td>\n",
       "      <td>0.0</td>\n",
       "      <td>...</td>\n",
       "      <td>0.0</td>\n",
       "      <td>0.0</td>\n",
       "      <td>0.0</td>\n",
       "      <td>0.0</td>\n",
       "      <td>0.0</td>\n",
       "      <td>0.0</td>\n",
       "      <td>0.0</td>\n",
       "      <td>0.0</td>\n",
       "      <td>0.0</td>\n",
       "      <td>0.0</td>\n",
       "    </tr>\n",
       "    <tr>\n",
       "      <th>2137</th>\n",
       "      <td>2306</td>\n",
       "      <td>779633844680962048</td>\n",
       "      <td>[network, tunnel, stone, age, howev, one, know...</td>\n",
       "      <td>1</td>\n",
       "      <td>918346674</td>\n",
       "      <td>876</td>\n",
       "      <td>0.0</td>\n",
       "      <td>0.0</td>\n",
       "      <td>0.0</td>\n",
       "      <td>0.0</td>\n",
       "      <td>...</td>\n",
       "      <td>0.0</td>\n",
       "      <td>0.0</td>\n",
       "      <td>0.0</td>\n",
       "      <td>0.0</td>\n",
       "      <td>0.0</td>\n",
       "      <td>0.0</td>\n",
       "      <td>0.0</td>\n",
       "      <td>0.0</td>\n",
       "      <td>0.0</td>\n",
       "      <td>0.0</td>\n",
       "    </tr>\n",
       "    <tr>\n",
       "      <th>2138</th>\n",
       "      <td>2307</td>\n",
       "      <td>765859710503378944</td>\n",
       "      <td>[top, north, korean, diplomat, disappear, lond...</td>\n",
       "      <td>2</td>\n",
       "      <td>5402612</td>\n",
       "      <td>737</td>\n",
       "      <td>0.0</td>\n",
       "      <td>0.0</td>\n",
       "      <td>0.0</td>\n",
       "      <td>0.0</td>\n",
       "      <td>...</td>\n",
       "      <td>0.0</td>\n",
       "      <td>0.0</td>\n",
       "      <td>0.0</td>\n",
       "      <td>0.0</td>\n",
       "      <td>0.0</td>\n",
       "      <td>0.0</td>\n",
       "      <td>0.0</td>\n",
       "      <td>0.0</td>\n",
       "      <td>0.0</td>\n",
       "      <td>0.0</td>\n",
       "    </tr>\n",
       "  </tbody>\n",
       "</table>\n",
       "<p>2139 rows × 912 columns</p>\n",
       "</div>"
      ],
      "text/plain": [
       "      index                  id  \\\n",
       "0         0  731166399389962242   \n",
       "1         1  714598641827246081   \n",
       "2         2  691809004356501505   \n",
       "3         3  693204708933160960   \n",
       "4         4  551099691702956032   \n",
       "...     ...                 ...   \n",
       "2134   2302  693171092555431936   \n",
       "2135   2303  693546915892428800   \n",
       "2136   2304  544269749405097984   \n",
       "2137   2306  779633844680962048   \n",
       "2138   2307  765859710503378944   \n",
       "\n",
       "                                                content  label  publisher  \\\n",
       "0     [ca, kkk, grand, wizard, endors, hillaryclinto...      1  431917957   \n",
       "1     [open, letter, trump, voter, top, strategisttu...      1   94215989   \n",
       "2     [america, nation, second, chanc, —potu, new, r...      2   30313925   \n",
       "3     [brandon, marshal, visit, offer, advic, suppor...      2    2557521   \n",
       "4     [rip, elli, may, clampett, sad, learn, beverly...      3    2883841   \n",
       "...                                                 ...    ...        ...   \n",
       "2134  [watch, tommi, chong, made, proberni, sander, ...      2   16664681   \n",
       "2135  [jeb, bush, campaign, kick, state, farewel, to...      2   14075928   \n",
       "2136  [break, live, coverag, hostag, situat, unfold,...      3   15250661   \n",
       "2137  [network, tunnel, stone, age, howev, one, know...      1  918346674   \n",
       "2138  [top, north, korean, diplomat, disappear, lond...      2    5402612   \n",
       "\n",
       "      publisher_code    0    1    2    3  ...  896  897  898  899  900  901  \\\n",
       "0                670  0.0  0.0  0.0  0.0  ...  0.0  0.0  0.0  0.0  0.0  0.0   \n",
       "1                886  0.0  0.0  0.0  0.0  ...  0.0  0.0  0.0  0.0  0.0  0.0   \n",
       "2                566  0.0  0.0  0.0  0.0  ...  0.0  0.0  0.0  0.0  0.0  0.0   \n",
       "3                494  0.0  0.0  0.0  0.0  ...  0.0  0.0  0.0  0.0  0.0  0.0   \n",
       "4                547  0.0  0.0  0.0  0.0  ...  0.0  0.0  0.0  0.0  0.0  0.0   \n",
       "...              ...  ...  ...  ...  ...  ...  ...  ...  ...  ...  ...  ...   \n",
       "2134             245  0.0  0.0  0.0  0.0  ...  0.0  0.0  0.0  0.0  0.0  0.0   \n",
       "2135             108  0.0  0.0  0.0  0.0  ...  0.0  0.0  0.0  0.0  0.0  0.0   \n",
       "2136             168  0.0  0.0  0.0  0.0  ...  0.0  0.0  0.0  0.0  0.0  0.0   \n",
       "2137             876  0.0  0.0  0.0  0.0  ...  0.0  0.0  0.0  0.0  0.0  0.0   \n",
       "2138             737  0.0  0.0  0.0  0.0  ...  0.0  0.0  0.0  0.0  0.0  0.0   \n",
       "\n",
       "      902  903  904  905  \n",
       "0     0.0  0.0  0.0  0.0  \n",
       "1     0.0  0.0  0.0  0.0  \n",
       "2     0.0  0.0  0.0  0.0  \n",
       "3     0.0  0.0  0.0  0.0  \n",
       "4     0.0  0.0  0.0  0.0  \n",
       "...   ...  ...  ...  ...  \n",
       "2134  0.0  0.0  0.0  0.0  \n",
       "2135  0.0  0.0  0.0  0.0  \n",
       "2136  0.0  0.0  0.0  0.0  \n",
       "2137  0.0  0.0  0.0  0.0  \n",
       "2138  0.0  0.0  0.0  0.0  \n",
       "\n",
       "[2139 rows x 912 columns]"
      ]
     },
     "execution_count": 51,
     "metadata": {},
     "output_type": "execute_result"
    }
   ],
   "source": [
    "data = data.join(enc_df)\n",
    "data"
   ]
  },
  {
   "cell_type": "markdown",
   "metadata": {},
   "source": [
    "### Split & Vectorization"
   ]
  },
  {
   "cell_type": "code",
   "execution_count": 52,
   "metadata": {},
   "outputs": [],
   "source": [
    "X_train, y_train, X_valid, y_valid, X_test, y_test = train_valid_test_split(data, target = 'label', \n",
    "                                                                            train_size=0.8, valid_size=0.1, test_size=0.1)"
   ]
  },
  {
   "cell_type": "code",
   "execution_count": 53,
   "metadata": {},
   "outputs": [
    {
     "name": "stdout",
     "output_type": "stream",
     "text": [
      "2    467\n",
      "3    465\n",
      "0    453\n",
      "1    326\n",
      "Name: label, dtype: int64\n"
     ]
    }
   ],
   "source": [
    "print(y_train.value_counts())"
   ]
  },
  {
   "cell_type": "code",
   "execution_count": 54,
   "metadata": {},
   "outputs": [
    {
     "name": "stdout",
     "output_type": "stream",
     "text": [
      "3    60\n",
      "0    59\n",
      "2    57\n",
      "1    38\n",
      "Name: label, dtype: int64\n"
     ]
    }
   ],
   "source": [
    "print(y_valid.value_counts())"
   ]
  },
  {
   "cell_type": "code",
   "execution_count": 55,
   "metadata": {},
   "outputs": [
    {
     "name": "stdout",
     "output_type": "stream",
     "text": [
      "0    63\n",
      "2    55\n",
      "3    54\n",
      "1    42\n",
      "Name: label, dtype: int64\n"
     ]
    }
   ],
   "source": [
    "print(y_test.value_counts())"
   ]
  },
  {
   "cell_type": "code",
   "execution_count": 56,
   "metadata": {},
   "outputs": [
    {
     "data": {
      "text/plain": [
       "TfidfVectorizer(lowercase=False, max_features=1000, stop_words='english',\n",
       "                tokenizer=<function identity_tokenizer at 0x7fa0a0aa5160>)"
      ]
     },
     "execution_count": 56,
     "metadata": {},
     "output_type": "execute_result"
    }
   ],
   "source": [
    "def identity_tokenizer(text):\n",
    "    return text\n",
    "tfidf_vectorizer = TfidfVectorizer(tokenizer=identity_tokenizer, stop_words='english', lowercase=False, max_features=1000)\n",
    "tfidf_vectorizer.fit(data['content'])"
   ]
  },
  {
   "cell_type": "code",
   "execution_count": 57,
   "metadata": {},
   "outputs": [],
   "source": [
    "tfidf_train_vectors = tfidf_vectorizer.fit_transform(X_train['content'])"
   ]
  },
  {
   "cell_type": "code",
   "execution_count": 58,
   "metadata": {},
   "outputs": [],
   "source": [
    "tfidf_valid_vectors = tfidf_vectorizer.fit_transform(X_valid['content'])"
   ]
  },
  {
   "cell_type": "code",
   "execution_count": 59,
   "metadata": {},
   "outputs": [],
   "source": [
    "tfidf_test_vectors = tfidf_vectorizer.fit_transform(X_test['content'])"
   ]
  },
  {
   "cell_type": "markdown",
   "metadata": {},
   "source": [
    "# Classification"
   ]
  },
  {
   "cell_type": "markdown",
   "metadata": {},
   "source": [
    "## SVM Multiclass Classification"
   ]
  },
  {
   "cell_type": "code",
   "execution_count": 60,
   "metadata": {},
   "outputs": [],
   "source": [
    "from sklearn import svm\n",
    "from sklearn.metrics import classification_report\n",
    "from sklearn.preprocessing import MinMaxScaler"
   ]
  },
  {
   "cell_type": "code",
   "execution_count": 61,
   "metadata": {},
   "outputs": [],
   "source": [
    "labels = [0,1,2,3]\n",
    "def plot_cm(y_true,y_pred,labels):\n",
    "  cm = confusion_matrix(y_true, y_pred)\n",
    "  ax= plt.subplot()\n",
    "  sns.heatmap(cm, annot=True, ax = ax, fmt=\"d\")\n",
    "  ax.set_title('Confusion Matrix')\n",
    "  ax.set_xlabel('Predicted Labels')\n",
    "  ax.set_ylabel('True Labels')\n",
    "  ax.xaxis.set_ticklabels(labels)\n",
    "  ax.yaxis.set_ticklabels(labels)\n",
    "  plt.show()"
   ]
  },
  {
   "cell_type": "code",
   "execution_count": 62,
   "metadata": {},
   "outputs": [
    {
     "name": "stdout",
     "output_type": "stream",
     "text": [
      "Kernel: linear\n",
      "Validation\n",
      "              precision    recall  f1-score   support\n",
      "\n",
      "           0       0.25      0.24      0.24        59\n",
      "           1       0.22      0.26      0.24        38\n",
      "           2       0.24      0.25      0.24        57\n",
      "           3       0.22      0.20      0.21        60\n",
      "\n",
      "    accuracy                           0.23       214\n",
      "   macro avg       0.23      0.24      0.23       214\n",
      "weighted avg       0.23      0.23      0.23       214\n",
      "\n"
     ]
    },
    {
     "data": {
      "image/png": "[encoded data removed]",
      "text/plain": [
       "<Figure size 432x288 with 2 Axes>"
      ]
     },
     "metadata": {
      "needs_background": "light"
     },
     "output_type": "display_data"
    },
    {
     "name": "stdout",
     "output_type": "stream",
     "text": [
      "\n",
      "Testing\n",
      "              precision    recall  f1-score   support\n",
      "\n",
      "           0       0.33      0.38      0.35        63\n",
      "           1       0.28      0.26      0.27        42\n",
      "           2       0.25      0.24      0.24        55\n",
      "           3       0.28      0.26      0.27        54\n",
      "\n",
      "    accuracy                           0.29       214\n",
      "   macro avg       0.29      0.28      0.28       214\n",
      "weighted avg       0.29      0.29      0.29       214\n",
      "\n"
     ]
    },
    {
     "data": {
      "image/png": "[encoded data removed]",
      "text/plain": [
       "<Figure size 432x288 with 2 Axes>"
      ]
     },
     "metadata": {
      "needs_background": "light"
     },
     "output_type": "display_data"
    }
   ],
   "source": [
    "clf = svm.SVC(kernel='linear')\n",
    "clf.fit(tfidf_train_vectors,y_train)\n",
    "y_pred_valid = clf.predict(tfidf_valid_vectors)\n",
    "y_pred_test = clf.predict(tfidf_test_vectors)\n",
    "\n",
    "print('Kernel: linear')\n",
    "print('Validation')\n",
    "print(classification_report(y_valid,y_pred_valid))\n",
    "plot_cm(y_valid,y_pred_valid,labels)\n",
    "print()\n",
    "print('Testing')\n",
    "print(classification_report(y_test,y_pred_test))\n",
    "plot_cm(y_test,y_pred_test,labels)"
   ]
  },
  {
   "cell_type": "code",
   "execution_count": 63,
   "metadata": {},
   "outputs": [
    {
     "name": "stdout",
     "output_type": "stream",
     "text": [
      "Kernel: rbf\n",
      "Validation\n",
      "              precision    recall  f1-score   support\n",
      "\n",
      "           0       0.25      0.22      0.24        59\n",
      "           1       0.33      0.18      0.24        38\n",
      "           2       0.26      0.49      0.34        57\n",
      "           3       0.29      0.17      0.21        60\n",
      "\n",
      "    accuracy                           0.27       214\n",
      "   macro avg       0.28      0.27      0.26       214\n",
      "weighted avg       0.28      0.27      0.26       214\n",
      "\n"
     ]
    },
    {
     "data": {
      "image/png": "[encoded data removed]",
      "text/plain": [
       "<Figure size 432x288 with 2 Axes>"
      ]
     },
     "metadata": {
      "needs_background": "light"
     },
     "output_type": "display_data"
    },
    {
     "name": "stdout",
     "output_type": "stream",
     "text": [
      "\n",
      "Testing\n",
      "              precision    recall  f1-score   support\n",
      "\n",
      "           0       0.34      0.35      0.35        63\n",
      "           1       0.16      0.07      0.10        42\n",
      "           2       0.27      0.49      0.35        55\n",
      "           3       0.22      0.13      0.16        54\n",
      "\n",
      "    accuracy                           0.28       214\n",
      "   macro avg       0.25      0.26      0.24       214\n",
      "weighted avg       0.26      0.28      0.25       214\n",
      "\n"
     ]
    },
    {
     "data": {
      "image/png": "[encoded data removed]",
      "text/plain": [
       "<Figure size 432x288 with 2 Axes>"
      ]
     },
     "metadata": {
      "needs_background": "light"
     },
     "output_type": "display_data"
    }
   ],
   "source": [
    "clf = svm.SVC(kernel='rbf')\n",
    "clf.fit(tfidf_train_vectors,y_train)\n",
    "y_pred_valid = clf.predict(tfidf_valid_vectors)\n",
    "y_pred_test = clf.predict(tfidf_test_vectors)\n",
    "\n",
    "print('Kernel: rbf')\n",
    "print('Validation')\n",
    "print(classification_report(y_valid,y_pred_valid))\n",
    "plot_cm(y_valid,y_pred_valid,labels)\n",
    "print()\n",
    "print('Testing')\n",
    "print(classification_report(y_test,y_pred_test))\n",
    "plot_cm(y_test,y_pred_test,labels)"
   ]
  },
  {
   "cell_type": "code",
   "execution_count": 64,
   "metadata": {},
   "outputs": [
    {
     "name": "stdout",
     "output_type": "stream",
     "text": [
      "Kernel: sigmoid\n",
      "Validation\n",
      "              precision    recall  f1-score   support\n",
      "\n",
      "           0       0.24      0.22      0.23        59\n",
      "           1       0.22      0.29      0.25        38\n",
      "           2       0.26      0.25      0.25        57\n",
      "           3       0.23      0.22      0.22        60\n",
      "\n",
      "    accuracy                           0.24       214\n",
      "   macro avg       0.24      0.24      0.24       214\n",
      "weighted avg       0.24      0.24      0.24       214\n",
      "\n"
     ]
    },
    {
     "data": {
      "image/png": "[encoded data removed]",
      "text/plain": [
       "<Figure size 432x288 with 2 Axes>"
      ]
     },
     "metadata": {
      "needs_background": "light"
     },
     "output_type": "display_data"
    },
    {
     "name": "stdout",
     "output_type": "stream",
     "text": [
      "\n",
      "Testing\n",
      "              precision    recall  f1-score   support\n",
      "\n",
      "           0       0.32      0.40      0.36        63\n",
      "           1       0.26      0.21      0.23        42\n",
      "           2       0.22      0.20      0.21        55\n",
      "           3       0.30      0.30      0.30        54\n",
      "\n",
      "    accuracy                           0.29       214\n",
      "   macro avg       0.28      0.28      0.28       214\n",
      "weighted avg       0.28      0.29      0.28       214\n",
      "\n"
     ]
    },
    {
     "data": {
      "image/png": "[encoded data removed]",
      "text/plain": [
       "<Figure size 432x288 with 2 Axes>"
      ]
     },
     "metadata": {
      "needs_background": "light"
     },
     "output_type": "display_data"
    }
   ],
   "source": [
    "clf = svm.SVC(kernel='sigmoid')\n",
    "clf.fit(tfidf_train_vectors,y_train)\n",
    "y_pred_valid = clf.predict(tfidf_valid_vectors)\n",
    "y_pred_test = clf.predict(tfidf_test_vectors)\n",
    "\n",
    "print('Kernel: sigmoid')\n",
    "print('Validation')\n",
    "print(classification_report(y_valid,y_pred_valid))\n",
    "plot_cm(y_valid,y_pred_valid,labels)\n",
    "print()\n",
    "print('Testing')\n",
    "print(classification_report(y_test,y_pred_test))\n",
    "plot_cm(y_test,y_pred_test,labels)"
   ]
  },
  {
   "cell_type": "code",
   "execution_count": null,
   "metadata": {},
   "outputs": [],
   "source": []
  },
  {
   "cell_type": "markdown",
   "metadata": {},
   "source": [
    "## LSTM & BiLSTM"
   ]
  },
  {
   "cell_type": "code",
   "execution_count": 65,
   "metadata": {},
   "outputs": [],
   "source": [
    "import tensorflow as tf\n",
    "from sklearn.model_selection import train_test_split\n",
    "from sklearn.metrics import classification_report, confusion_matrix\n",
    "import matplotlib.pyplot as plt"
   ]
  },
  {
   "cell_type": "code",
   "execution_count": 66,
   "metadata": {},
   "outputs": [],
   "source": [
    "from tensorflow.keras import Model\n",
    "from tensorflow.keras.models import Sequential\n",
    "from tensorflow.keras.layers import Dense, Dropout, LSTM, Embedding, Bidirectional, Input, Concatenate, TimeDistributed\n",
    "from tensorflow.keras.utils import plot_model"
   ]
  },
  {
   "cell_type": "code",
   "execution_count": 67,
   "metadata": {},
   "outputs": [],
   "source": [
    "def plot_history(history):\n",
    "    # summarize history for accuracy\n",
    "    plt.plot(history.history['accuracy'])\n",
    "    plt.plot(history.history['val_accuracy'])\n",
    "    plt.title('model accuracy')\n",
    "    plt.ylabel('accuracy')\n",
    "    plt.xlabel('epoch')\n",
    "    plt.legend(['train', 'validation'], loc='upper left')\n",
    "    plt.show()\n",
    "    # summarize history for loss\n",
    "    plt.plot(history.history['loss'])\n",
    "    plt.plot(history.history['val_loss'])\n",
    "    plt.title('model loss')\n",
    "    plt.ylabel('loss')\n",
    "    plt.xlabel('epoch')\n",
    "    plt.legend(['train', 'validation'], loc='upper left')\n",
    "    plt.show()"
   ]
  },
  {
   "cell_type": "markdown",
   "metadata": {},
   "source": [
    "### LSTM - TEXT ONLY"
   ]
  },
  {
   "cell_type": "code",
   "execution_count": 68,
   "metadata": {},
   "outputs": [
    {
     "name": "stdout",
     "output_type": "stream",
     "text": [
      "Model: \"sequential\"\n",
      "_________________________________________________________________\n",
      " Layer (type)                Output Shape              Param #   \n",
      "=================================================================\n",
      " embedding (Embedding)       (None, 1000, 4)           4000      \n",
      "                                                                 \n",
      " dropout (Dropout)           (None, 1000, 4)           0         \n",
      "                                                                 \n",
      " lstm (LSTM)                 (None, 4)                 144       \n",
      "                                                                 \n",
      " dropout_1 (Dropout)         (None, 4)                 0         \n",
      "                                                                 \n",
      " dense (Dense)               (None, 100)               500       \n",
      "                                                                 \n",
      " dropout_2 (Dropout)         (None, 100)               0         \n",
      "                                                                 \n",
      " dense_1 (Dense)             (None, 6)                 606       \n",
      "                                                                 \n",
      "=================================================================\n",
      "Total params: 5,250\n",
      "Trainable params: 5,250\n",
      "Non-trainable params: 0\n",
      "_________________________________________________________________\n"
     ]
    }
   ],
   "source": [
    "model = Sequential()\n",
    "model.add(Embedding(input_dim=1000, input_length=1000, output_dim=4))\n",
    "model.add(Dropout(rate=0.4))\n",
    "model.add(LSTM(units=4))\n",
    "model.add(Dropout(rate=0.4))\n",
    "model.add(Dense(units=100,  activation='relu'))\n",
    "model.add(Dropout(rate=0.5))\n",
    "model.add(Dense(units=6, activation='sigmoid'))\n",
    "\n",
    "model.summary()"
   ]
  },
  {
   "cell_type": "code",
   "execution_count": 69,
   "metadata": {},
   "outputs": [],
   "source": [
    "model.compile(optimizer='adam', loss='sparse_categorical_crossentropy', metrics = ['accuracy'])\n"
   ]
  },
  {
   "cell_type": "code",
   "execution_count": 70,
   "metadata": {},
   "outputs": [
    {
     "name": "stdout",
     "output_type": "stream",
     "text": [
      "Epoch 1/5\n",
      "54/54 [==============================] - 19s 298ms/step - loss: 1.7069 - accuracy: 0.2688 - val_loss: 1.5486 - val_accuracy: 0.2804\n",
      "Epoch 2/5\n",
      "54/54 [==============================] - 16s 293ms/step - loss: 1.4737 - accuracy: 0.2718 - val_loss: 1.3974 - val_accuracy: 0.2804\n",
      "Epoch 3/5\n",
      "54/54 [==============================] - 13s 246ms/step - loss: 1.4172 - accuracy: 0.2805 - val_loss: 1.3855 - val_accuracy: 0.2804\n",
      "Epoch 4/5\n",
      "54/54 [==============================] - 14s 265ms/step - loss: 1.4271 - accuracy: 0.2537 - val_loss: 1.3806 - val_accuracy: 0.2804\n",
      "Epoch 5/5\n",
      "54/54 [==============================] - 13s 242ms/step - loss: 1.4049 - accuracy: 0.2759 - val_loss: 1.3794 - val_accuracy: 0.2804\n"
     ]
    }
   ],
   "source": [
    "history = model.fit(\n",
    "    tfidf_train_vectors.toarray(), \n",
    "    y_train, \n",
    "    validation_data=[tfidf_valid_vectors.toarray(), y_valid],\n",
    "    epochs = 5\n",
    ")"
   ]
  },
  {
   "cell_type": "code",
   "execution_count": 71,
   "metadata": {},
   "outputs": [
    {
     "data": {
      "image/png": "[encoded data removed]",
      "text/plain": [
       "<Figure size 432x288 with 1 Axes>"
      ]
     },
     "metadata": {
      "needs_background": "light"
     },
     "output_type": "display_data"
    },
    {
     "data": {
      "image/png": "[encoded data removed]",
      "text/plain": [
       "<Figure size 432x288 with 1 Axes>"
      ]
     },
     "metadata": {
      "needs_background": "light"
     },
     "output_type": "display_data"
    }
   ],
   "source": [
    "plot_history(history)"
   ]
  },
  {
   "cell_type": "code",
   "execution_count": 72,
   "metadata": {},
   "outputs": [
    {
     "name": "stdout",
     "output_type": "stream",
     "text": [
      "7/7 [==============================] - 0s 48ms/step - loss: 1.3877 - accuracy: 0.2523\n",
      "Test score: 1.3876721858978271\n",
      "Test accuracy: 0.25233644247055054\n"
     ]
    }
   ],
   "source": [
    "score, acc = model.evaluate(tfidf_test_vectors.toarray(), y_test)\n",
    "print('Test score:', score)\n",
    "print('Test accuracy:', acc)"
   ]
  },
  {
   "cell_type": "code",
   "execution_count": 73,
   "metadata": {},
   "outputs": [
    {
     "name": "stdout",
     "output_type": "stream",
     "text": [
      "7/7 [==============================] - 1s 46ms/step\n"
     ]
    }
   ],
   "source": [
    "y_probas = model.predict(tfidf_test_vectors.toarray())\n",
    "y_pred = y_probas.argmax(axis=-1)"
   ]
  },
  {
   "cell_type": "code",
   "execution_count": 74,
   "metadata": {},
   "outputs": [
    {
     "name": "stdout",
     "output_type": "stream",
     "text": [
      "              precision    recall  f1-score   support\n",
      "\n",
      "           0       1.00      0.00      0.00        63\n",
      "           1       1.00      0.00      0.00        42\n",
      "           2       1.00      0.00      0.00        55\n",
      "           3       0.25      1.00      0.40        54\n",
      "\n",
      "    accuracy                           0.25       214\n",
      "   macro avg       0.81      0.25      0.10       214\n",
      "weighted avg       0.81      0.25      0.10       214\n",
      "\n"
     ]
    }
   ],
   "source": [
    "print(classification_report(y_true=y_test, y_pred=y_pred, zero_division=1))"
   ]
  },
  {
   "cell_type": "markdown",
   "metadata": {},
   "source": [
    "### Bi-LSTM - TEXT ONLY"
   ]
  },
  {
   "cell_type": "code",
   "execution_count": 75,
   "metadata": {},
   "outputs": [
    {
     "name": "stdout",
     "output_type": "stream",
     "text": [
      "Model: \"sequential_1\"\n",
      "_________________________________________________________________\n",
      " Layer (type)                Output Shape              Param #   \n",
      "=================================================================\n",
      " embedding_1 (Embedding)     (None, 1000, 4)           4000      \n",
      "                                                                 \n",
      " dropout_3 (Dropout)         (None, 1000, 4)           0         \n",
      "                                                                 \n",
      " bidirectional (Bidirectiona  (None, 8)                288       \n",
      " l)                                                              \n",
      "                                                                 \n",
      " dropout_4 (Dropout)         (None, 8)                 0         \n",
      "                                                                 \n",
      " dense_2 (Dense)             (None, 100)               900       \n",
      "                                                                 \n",
      " dropout_5 (Dropout)         (None, 100)               0         \n",
      "                                                                 \n",
      " dense_3 (Dense)             (None, 6)                 606       \n",
      "                                                                 \n",
      "=================================================================\n",
      "Total params: 5,794\n",
      "Trainable params: 5,794\n",
      "Non-trainable params: 0\n",
      "_________________________________________________________________\n"
     ]
    }
   ],
   "source": [
    "model = Sequential()\n",
    "model.add(Embedding(input_dim=1000, input_length=1000, output_dim=4))\n",
    "model.add(Dropout(rate=0.4))\n",
    "model.add(Bidirectional(LSTM(units=4)))\n",
    "model.add(Dropout(rate=0.4))\n",
    "model.add(Dense(units=100,  activation='relu'))\n",
    "model.add(Dropout(rate=0.5))\n",
    "model.add(Dense(units=6, activation='sigmoid'))\n",
    "\n",
    "model.summary()\n"
   ]
  },
  {
   "cell_type": "code",
   "execution_count": 76,
   "metadata": {},
   "outputs": [],
   "source": [
    "model.compile(optimizer = 'adam', loss = 'sparse_categorical_crossentropy', metrics = ['accuracy'])\n"
   ]
  },
  {
   "cell_type": "code",
   "execution_count": 77,
   "metadata": {},
   "outputs": [
    {
     "name": "stdout",
     "output_type": "stream",
     "text": [
      "Epoch 1/5\n",
      "54/54 [==============================] - 23s 348ms/step - loss: 1.6896 - accuracy: 0.2618 - val_loss: 1.5108 - val_accuracy: 0.2664\n",
      "Epoch 2/5\n",
      "54/54 [==============================] - 18s 334ms/step - loss: 1.4627 - accuracy: 0.2788 - val_loss: 1.3932 - val_accuracy: 0.2664\n",
      "Epoch 3/5\n",
      "54/54 [==============================] - 19s 361ms/step - loss: 1.4272 - accuracy: 0.2683 - val_loss: 1.3832 - val_accuracy: 0.2664\n",
      "Epoch 4/5\n",
      "54/54 [==============================] - 18s 332ms/step - loss: 1.4138 - accuracy: 0.2665 - val_loss: 1.3827 - val_accuracy: 0.2664\n",
      "Epoch 5/5\n",
      "54/54 [==============================] - 18s 341ms/step - loss: 1.4119 - accuracy: 0.2613 - val_loss: 1.3776 - val_accuracy: 0.2664\n"
     ]
    }
   ],
   "source": [
    "history = model.fit(\n",
    "    tfidf_train_vectors.toarray(), \n",
    "    y_train, \n",
    "    validation_data=[tfidf_valid_vectors.toarray(), y_valid],\n",
    "    epochs = 5\n",
    ")\n"
   ]
  },
  {
   "cell_type": "code",
   "execution_count": 78,
   "metadata": {},
   "outputs": [
    {
     "data": {
      "image/png": "[encoded data removed]",
      "text/plain": [
       "<Figure size 432x288 with 1 Axes>"
      ]
     },
     "metadata": {
      "needs_background": "light"
     },
     "output_type": "display_data"
    },
    {
     "data": {
      "image/png": "[encoded data removed]",
      "text/plain": [
       "<Figure size 432x288 with 1 Axes>"
      ]
     },
     "metadata": {
      "needs_background": "light"
     },
     "output_type": "display_data"
    }
   ],
   "source": [
    "plot_history(history)\n"
   ]
  },
  {
   "cell_type": "code",
   "execution_count": 79,
   "metadata": {},
   "outputs": [
    {
     "name": "stdout",
     "output_type": "stream",
     "text": [
      "7/7 [==============================] - 1s 69ms/step - loss: 1.3856 - accuracy: 0.2570\n",
      "Test score: 1.385594129562378\n",
      "Test accuracy: 0.257009357213974\n"
     ]
    }
   ],
   "source": [
    "score, acc = model.evaluate(tfidf_test_vectors.toarray(), y_test)\n",
    "print('Test score:', score)\n",
    "print('Test accuracy:', acc)"
   ]
  },
  {
   "cell_type": "code",
   "execution_count": 80,
   "metadata": {},
   "outputs": [
    {
     "name": "stdout",
     "output_type": "stream",
     "text": [
      "7/7 [==============================] - 1s 86ms/step\n"
     ]
    }
   ],
   "source": [
    "y_probas = model.predict(tfidf_test_vectors.toarray())\n",
    "y_pred = y_probas.argmax(axis=-1)"
   ]
  },
  {
   "cell_type": "code",
   "execution_count": 108,
   "metadata": {},
   "outputs": [
    {
     "name": "stdout",
     "output_type": "stream",
     "text": [
      "              precision    recall  f1-score   support\n",
      "\n",
      "           0       0.00      0.00      0.00        63\n",
      "           1       0.00      0.00      0.00        42\n",
      "           2       0.26      1.00      0.41        55\n",
      "           3       0.00      0.00      0.00        54\n",
      "\n",
      "    accuracy                           0.26       214\n",
      "   macro avg       0.06      0.25      0.10       214\n",
      "weighted avg       0.07      0.26      0.11       214\n",
      "\n"
     ]
    }
   ],
   "source": [
    "print(classification_report(y_true=y_test, y_pred=y_pred, zero_division=0))\n"
   ]
  },
  {
   "cell_type": "code",
   "execution_count": null,
   "metadata": {},
   "outputs": [],
   "source": []
  }
 ],
 "metadata": {
  "kernelspec": {
   "display_name": "Python 3",
   "language": "python",
   "name": "python3"
  },
  "language_info": {
   "codemirror_mode": {
    "name": "ipython",
    "version": 3
   },
   "file_extension": ".py",
   "mimetype": "text/x-python",
   "name": "python",
   "nbconvert_exporter": "python",
   "pygments_lexer": "ipython3",
   "version": "3.8.3"
  }
 },
 "nbformat": 4,
 "nbformat_minor": 4
}
