{
 "cells": [
  {
   "cell_type": "code",
   "execution_count": 1,
   "metadata": {},
   "outputs": [],
   "source": [
    "import pandas as pd"
   ]
  },
  {
   "cell_type": "code",
   "execution_count": 2,
   "metadata": {},
   "outputs": [],
   "source": [
    "data = pd.read_csv('source_tweets.txt', sep=\"\t\", header=None)\n",
    "data.columns = [\"id\", \"content\"]"
   ]
  },
  {
   "cell_type": "code",
   "execution_count": 3,
   "metadata": {},
   "outputs": [
    {
     "data": {
      "text/html": [
       "<div>\n",
       "<style scoped>\n",
       "    .dataframe tbody tr th:only-of-type {\n",
       "        vertical-align: middle;\n",
       "    }\n",
       "\n",
       "    .dataframe tbody tr th {\n",
       "        vertical-align: top;\n",
       "    }\n",
       "\n",
       "    .dataframe thead th {\n",
       "        text-align: right;\n",
       "    }\n",
       "</style>\n",
       "<table border=\"1\" class=\"dataframe\">\n",
       "  <thead>\n",
       "    <tr style=\"text-align: right;\">\n",
       "      <th></th>\n",
       "      <th>id</th>\n",
       "      <th>content</th>\n",
       "    </tr>\n",
       "  </thead>\n",
       "  <tbody>\n",
       "    <tr>\n",
       "      <th>0</th>\n",
       "      <td>731166399389962242</td>\n",
       "      <td>🔥ca kkk grand wizard 🔥 endorses @hillaryclinto...</td>\n",
       "    </tr>\n",
       "    <tr>\n",
       "      <th>1</th>\n",
       "      <td>714598641827246081</td>\n",
       "      <td>an open letter to trump voters from his top st...</td>\n",
       "    </tr>\n",
       "    <tr>\n",
       "      <th>2</th>\n",
       "      <td>691809004356501505</td>\n",
       "      <td>america is a nation of second chances —@potus ...</td>\n",
       "    </tr>\n",
       "    <tr>\n",
       "      <th>3</th>\n",
       "      <td>693204708933160960</td>\n",
       "      <td>brandon marshall visits and offers advice, sup...</td>\n",
       "    </tr>\n",
       "    <tr>\n",
       "      <th>4</th>\n",
       "      <td>551099691702956032</td>\n",
       "      <td>rip elly may clampett: so sad to learn #beverl...</td>\n",
       "    </tr>\n",
       "  </tbody>\n",
       "</table>\n",
       "</div>"
      ],
      "text/plain": [
       "                   id                                            content\n",
       "0  731166399389962242  🔥ca kkk grand wizard 🔥 endorses @hillaryclinto...\n",
       "1  714598641827246081  an open letter to trump voters from his top st...\n",
       "2  691809004356501505  america is a nation of second chances —@potus ...\n",
       "3  693204708933160960  brandon marshall visits and offers advice, sup...\n",
       "4  551099691702956032  rip elly may clampett: so sad to learn #beverl..."
      ]
     },
     "execution_count": 3,
     "metadata": {},
     "output_type": "execute_result"
    }
   ],
   "source": [
    "data.head()"
   ]
  },
  {
   "cell_type": "code",
   "execution_count": 4,
   "metadata": {},
   "outputs": [
    {
     "data": {
      "text/plain": [
       "(1490, 2)"
      ]
     },
     "execution_count": 4,
     "metadata": {},
     "output_type": "execute_result"
    }
   ],
   "source": [
    "data.shape"
   ]
  },
  {
   "cell_type": "code",
   "execution_count": 5,
   "metadata": {},
   "outputs": [],
   "source": [
    "labels = pd.read_csv('label.txt', sep=\":\", header=None)\n",
    "labels.columns = [\"label\", \"id\"]"
   ]
  },
  {
   "cell_type": "code",
   "execution_count": 6,
   "metadata": {},
   "outputs": [
    {
     "data": {
      "text/html": [
       "<div>\n",
       "<style scoped>\n",
       "    .dataframe tbody tr th:only-of-type {\n",
       "        vertical-align: middle;\n",
       "    }\n",
       "\n",
       "    .dataframe tbody tr th {\n",
       "        vertical-align: top;\n",
       "    }\n",
       "\n",
       "    .dataframe thead th {\n",
       "        text-align: right;\n",
       "    }\n",
       "</style>\n",
       "<table border=\"1\" class=\"dataframe\">\n",
       "  <thead>\n",
       "    <tr style=\"text-align: right;\">\n",
       "      <th></th>\n",
       "      <th>label</th>\n",
       "      <th>id</th>\n",
       "    </tr>\n",
       "  </thead>\n",
       "  <tbody>\n",
       "    <tr>\n",
       "      <th>0</th>\n",
       "      <td>unverified</td>\n",
       "      <td>731166399389962242</td>\n",
       "    </tr>\n",
       "    <tr>\n",
       "      <th>1</th>\n",
       "      <td>unverified</td>\n",
       "      <td>714598641827246081</td>\n",
       "    </tr>\n",
       "    <tr>\n",
       "      <th>2</th>\n",
       "      <td>non-rumor</td>\n",
       "      <td>691809004356501505</td>\n",
       "    </tr>\n",
       "    <tr>\n",
       "      <th>3</th>\n",
       "      <td>non-rumor</td>\n",
       "      <td>693204708933160960</td>\n",
       "    </tr>\n",
       "    <tr>\n",
       "      <th>4</th>\n",
       "      <td>true</td>\n",
       "      <td>551099691702956032</td>\n",
       "    </tr>\n",
       "  </tbody>\n",
       "</table>\n",
       "</div>"
      ],
      "text/plain": [
       "        label                  id\n",
       "0  unverified  731166399389962242\n",
       "1  unverified  714598641827246081\n",
       "2   non-rumor  691809004356501505\n",
       "3   non-rumor  693204708933160960\n",
       "4        true  551099691702956032"
      ]
     },
     "execution_count": 6,
     "metadata": {},
     "output_type": "execute_result"
    }
   ],
   "source": [
    "labels.head()"
   ]
  },
  {
   "cell_type": "code",
   "execution_count": 7,
   "metadata": {},
   "outputs": [
    {
     "data": {
      "text/plain": [
       "(1490, 2)"
      ]
     },
     "execution_count": 7,
     "metadata": {},
     "output_type": "execute_result"
    }
   ],
   "source": [
    "labels.shape"
   ]
  },
  {
   "cell_type": "code",
   "execution_count": 8,
   "metadata": {},
   "outputs": [],
   "source": [
    "data = data.join(labels.set_index('id'), on='id')"
   ]
  },
  {
   "cell_type": "code",
   "execution_count": 9,
   "metadata": {},
   "outputs": [
    {
     "data": {
      "text/html": [
       "<div>\n",
       "<style scoped>\n",
       "    .dataframe tbody tr th:only-of-type {\n",
       "        vertical-align: middle;\n",
       "    }\n",
       "\n",
       "    .dataframe tbody tr th {\n",
       "        vertical-align: top;\n",
       "    }\n",
       "\n",
       "    .dataframe thead th {\n",
       "        text-align: right;\n",
       "    }\n",
       "</style>\n",
       "<table border=\"1\" class=\"dataframe\">\n",
       "  <thead>\n",
       "    <tr style=\"text-align: right;\">\n",
       "      <th></th>\n",
       "      <th>id</th>\n",
       "      <th>content</th>\n",
       "      <th>label</th>\n",
       "    </tr>\n",
       "  </thead>\n",
       "  <tbody>\n",
       "    <tr>\n",
       "      <th>0</th>\n",
       "      <td>731166399389962242</td>\n",
       "      <td>🔥ca kkk grand wizard 🔥 endorses @hillaryclinto...</td>\n",
       "      <td>unverified</td>\n",
       "    </tr>\n",
       "    <tr>\n",
       "      <th>1</th>\n",
       "      <td>714598641827246081</td>\n",
       "      <td>an open letter to trump voters from his top st...</td>\n",
       "      <td>unverified</td>\n",
       "    </tr>\n",
       "    <tr>\n",
       "      <th>2</th>\n",
       "      <td>691809004356501505</td>\n",
       "      <td>america is a nation of second chances —@potus ...</td>\n",
       "      <td>non-rumor</td>\n",
       "    </tr>\n",
       "    <tr>\n",
       "      <th>3</th>\n",
       "      <td>693204708933160960</td>\n",
       "      <td>brandon marshall visits and offers advice, sup...</td>\n",
       "      <td>non-rumor</td>\n",
       "    </tr>\n",
       "    <tr>\n",
       "      <th>4</th>\n",
       "      <td>551099691702956032</td>\n",
       "      <td>rip elly may clampett: so sad to learn #beverl...</td>\n",
       "      <td>true</td>\n",
       "    </tr>\n",
       "  </tbody>\n",
       "</table>\n",
       "</div>"
      ],
      "text/plain": [
       "                   id                                            content  \\\n",
       "0  731166399389962242  🔥ca kkk grand wizard 🔥 endorses @hillaryclinto...   \n",
       "1  714598641827246081  an open letter to trump voters from his top st...   \n",
       "2  691809004356501505  america is a nation of second chances —@potus ...   \n",
       "3  693204708933160960  brandon marshall visits and offers advice, sup...   \n",
       "4  551099691702956032  rip elly may clampett: so sad to learn #beverl...   \n",
       "\n",
       "        label  \n",
       "0  unverified  \n",
       "1  unverified  \n",
       "2   non-rumor  \n",
       "3   non-rumor  \n",
       "4        true  "
      ]
     },
     "execution_count": 9,
     "metadata": {},
     "output_type": "execute_result"
    }
   ],
   "source": [
    "data.head()"
   ]
  },
  {
   "cell_type": "code",
   "execution_count": 10,
   "metadata": {},
   "outputs": [
    {
     "data": {
      "text/plain": [
       "array(['unverified', 'non-rumor', 'true', 'false'], dtype=object)"
      ]
     },
     "execution_count": 10,
     "metadata": {},
     "output_type": "execute_result"
    }
   ],
   "source": [
    "data[\"label\"].unique()"
   ]
  },
  {
   "cell_type": "code",
   "execution_count": 11,
   "metadata": {},
   "outputs": [],
   "source": [
    "def convert_tweet_tree_to_df(tweet_id):\n",
    "#     print(tweet_id)\n",
    "    tweet_tree = pd.read_csv('tree/' + str(tweet_id) + '.txt', header=None, sep=',', engine='python')\n",
    "#     print(tweet_tree.head())\n",
    "    tweet_tree.columns = [\"P1\", \"Tw1\", \"Udf\", \"Tw2\", \"T2\"]\n",
    "    tweet_tree['P1'] = tweet_tree['P1'].str[1:]\n",
    "    temp = tweet_tree['Udf'].str.split(\"\\]->\\[\", n = 1, expand = True)\n",
    "#     print(temp.shape)\n",
    "    tweet_tree['T1'] = temp[0]\n",
    "    tweet_tree['P2'] = temp[1]\n",
    "    tweet_tree = tweet_tree[['P1','Tw1','T1','P2','Tw2','T2']]\n",
    "    tweet_tree['T2'] = tweet_tree['T2'].str[:-1]\n",
    "#     print(tweet_tree.head())\n",
    "    return tweet_tree"
   ]
  },
  {
   "cell_type": "code",
   "execution_count": 151,
   "metadata": {},
   "outputs": [
    {
     "data": {
      "text/html": [
       "<div>\n",
       "<style scoped>\n",
       "    .dataframe tbody tr th:only-of-type {\n",
       "        vertical-align: middle;\n",
       "    }\n",
       "\n",
       "    .dataframe tbody tr th {\n",
       "        vertical-align: top;\n",
       "    }\n",
       "\n",
       "    .dataframe thead th {\n",
       "        text-align: right;\n",
       "    }\n",
       "</style>\n",
       "<table border=\"1\" class=\"dataframe\">\n",
       "  <thead>\n",
       "    <tr style=\"text-align: right;\">\n",
       "      <th></th>\n",
       "      <th>P1</th>\n",
       "      <th>Tw1</th>\n",
       "      <th>T1</th>\n",
       "      <th>P2</th>\n",
       "      <th>Tw2</th>\n",
       "      <th>T2</th>\n",
       "    </tr>\n",
       "  </thead>\n",
       "  <tbody>\n",
       "    <tr>\n",
       "      <th>0</th>\n",
       "      <td>'ROOT'</td>\n",
       "      <td>'ROOT'</td>\n",
       "      <td>'0.0'</td>\n",
       "      <td>'431917957'</td>\n",
       "      <td>'731166399389962242'</td>\n",
       "      <td>'0.0'</td>\n",
       "    </tr>\n",
       "    <tr>\n",
       "      <th>1</th>\n",
       "      <td>'431917957'</td>\n",
       "      <td>'731166399389962242'</td>\n",
       "      <td>'0.0'</td>\n",
       "      <td>'21107092'</td>\n",
       "      <td>'731168205788471297'</td>\n",
       "      <td>'7.18'</td>\n",
       "    </tr>\n",
       "    <tr>\n",
       "      <th>2</th>\n",
       "      <td>'431917957'</td>\n",
       "      <td>'731166399389962242'</td>\n",
       "      <td>'0.0'</td>\n",
       "      <td>'4318345394'</td>\n",
       "      <td>'731166399389962242'</td>\n",
       "      <td>'15.25'</td>\n",
       "    </tr>\n",
       "    <tr>\n",
       "      <th>3</th>\n",
       "      <td>'431917957'</td>\n",
       "      <td>'731166399389962242'</td>\n",
       "      <td>'0.0'</td>\n",
       "      <td>'26538104'</td>\n",
       "      <td>'731166399389962242'</td>\n",
       "      <td>'15.25'</td>\n",
       "    </tr>\n",
       "    <tr>\n",
       "      <th>4</th>\n",
       "      <td>'431917957'</td>\n",
       "      <td>'731166399389962242'</td>\n",
       "      <td>'0.0'</td>\n",
       "      <td>'2906655619'</td>\n",
       "      <td>'731166399389962242'</td>\n",
       "      <td>'15.25'</td>\n",
       "    </tr>\n",
       "    <tr>\n",
       "      <th>...</th>\n",
       "      <td>...</td>\n",
       "      <td>...</td>\n",
       "      <td>...</td>\n",
       "      <td>...</td>\n",
       "      <td>...</td>\n",
       "      <td>...</td>\n",
       "    </tr>\n",
       "    <tr>\n",
       "      <th>143</th>\n",
       "      <td>'431917957'</td>\n",
       "      <td>'731166399389962242'</td>\n",
       "      <td>'0.0'</td>\n",
       "      <td>'4828199628'</td>\n",
       "      <td>'731166399389962242'</td>\n",
       "      <td>'171548.17'</td>\n",
       "    </tr>\n",
       "    <tr>\n",
       "      <th>144</th>\n",
       "      <td>'431917957'</td>\n",
       "      <td>'731166399389962242'</td>\n",
       "      <td>'0.0'</td>\n",
       "      <td>'228736760'</td>\n",
       "      <td>'731166399389962242'</td>\n",
       "      <td>'171573.12'</td>\n",
       "    </tr>\n",
       "    <tr>\n",
       "      <th>145</th>\n",
       "      <td>'431917957'</td>\n",
       "      <td>'731166399389962242'</td>\n",
       "      <td>'0.0'</td>\n",
       "      <td>'2401319821'</td>\n",
       "      <td>'731166399389962242'</td>\n",
       "      <td>'171628.83'</td>\n",
       "    </tr>\n",
       "    <tr>\n",
       "      <th>146</th>\n",
       "      <td>'431917957'</td>\n",
       "      <td>'731166399389962242'</td>\n",
       "      <td>'0.0'</td>\n",
       "      <td>'1305192181'</td>\n",
       "      <td>'731166399389962242'</td>\n",
       "      <td>'171756.85'</td>\n",
       "    </tr>\n",
       "    <tr>\n",
       "      <th>147</th>\n",
       "      <td>'431917957'</td>\n",
       "      <td>'731166399389962242'</td>\n",
       "      <td>'0.0'</td>\n",
       "      <td>'705461595749683200'</td>\n",
       "      <td>'731166399389962242'</td>\n",
       "      <td>'171903.5'</td>\n",
       "    </tr>\n",
       "  </tbody>\n",
       "</table>\n",
       "<p>148 rows × 6 columns</p>\n",
       "</div>"
      ],
      "text/plain": [
       "              P1                    Tw1      T1                    P2  \\\n",
       "0         'ROOT'                 'ROOT'   '0.0'           '431917957'   \n",
       "1    '431917957'   '731166399389962242'   '0.0'            '21107092'   \n",
       "2    '431917957'   '731166399389962242'   '0.0'          '4318345394'   \n",
       "3    '431917957'   '731166399389962242'   '0.0'            '26538104'   \n",
       "4    '431917957'   '731166399389962242'   '0.0'          '2906655619'   \n",
       "..           ...                    ...     ...                   ...   \n",
       "143  '431917957'   '731166399389962242'   '0.0'          '4828199628'   \n",
       "144  '431917957'   '731166399389962242'   '0.0'           '228736760'   \n",
       "145  '431917957'   '731166399389962242'   '0.0'          '2401319821'   \n",
       "146  '431917957'   '731166399389962242'   '0.0'          '1305192181'   \n",
       "147  '431917957'   '731166399389962242'   '0.0'  '705461595749683200'   \n",
       "\n",
       "                       Tw2            T2  \n",
       "0     '731166399389962242'         '0.0'  \n",
       "1     '731168205788471297'        '7.18'  \n",
       "2     '731166399389962242'       '15.25'  \n",
       "3     '731166399389962242'       '15.25'  \n",
       "4     '731166399389962242'       '15.25'  \n",
       "..                     ...           ...  \n",
       "143   '731166399389962242'   '171548.17'  \n",
       "144   '731166399389962242'   '171573.12'  \n",
       "145   '731166399389962242'   '171628.83'  \n",
       "146   '731166399389962242'   '171756.85'  \n",
       "147   '731166399389962242'    '171903.5'  \n",
       "\n",
       "[148 rows x 6 columns]"
      ]
     },
     "execution_count": 151,
     "metadata": {},
     "output_type": "execute_result"
    }
   ],
   "source": [
    "convert_tweet_tree_to_df(731166399389962242)"
   ]
  },
  {
   "cell_type": "code",
   "execution_count": 12,
   "metadata": {},
   "outputs": [],
   "source": [
    "def get_tweet_publisher(tweet):\n",
    "    tweet_df = convert_tweet_tree_to_df(tweet['id'])\n",
    "    return tweet_df['P2'][0][1:-1]"
   ]
  },
  {
   "cell_type": "code",
   "execution_count": 13,
   "metadata": {},
   "outputs": [],
   "source": [
    "data['publisher'] = data.apply(get_tweet_publisher, axis=1)"
   ]
  },
  {
   "cell_type": "code",
   "execution_count": 14,
   "metadata": {},
   "outputs": [
    {
     "data": {
      "text/html": [
       "<div>\n",
       "<style scoped>\n",
       "    .dataframe tbody tr th:only-of-type {\n",
       "        vertical-align: middle;\n",
       "    }\n",
       "\n",
       "    .dataframe tbody tr th {\n",
       "        vertical-align: top;\n",
       "    }\n",
       "\n",
       "    .dataframe thead th {\n",
       "        text-align: right;\n",
       "    }\n",
       "</style>\n",
       "<table border=\"1\" class=\"dataframe\">\n",
       "  <thead>\n",
       "    <tr style=\"text-align: right;\">\n",
       "      <th></th>\n",
       "      <th>id</th>\n",
       "      <th>content</th>\n",
       "      <th>label</th>\n",
       "      <th>publisher</th>\n",
       "    </tr>\n",
       "  </thead>\n",
       "  <tbody>\n",
       "    <tr>\n",
       "      <th>0</th>\n",
       "      <td>731166399389962242</td>\n",
       "      <td>🔥ca kkk grand wizard 🔥 endorses @hillaryclinto...</td>\n",
       "      <td>unverified</td>\n",
       "      <td>431917957</td>\n",
       "    </tr>\n",
       "    <tr>\n",
       "      <th>1</th>\n",
       "      <td>714598641827246081</td>\n",
       "      <td>an open letter to trump voters from his top st...</td>\n",
       "      <td>unverified</td>\n",
       "      <td>94215989</td>\n",
       "    </tr>\n",
       "    <tr>\n",
       "      <th>2</th>\n",
       "      <td>691809004356501505</td>\n",
       "      <td>america is a nation of second chances —@potus ...</td>\n",
       "      <td>non-rumor</td>\n",
       "      <td>30313925</td>\n",
       "    </tr>\n",
       "    <tr>\n",
       "      <th>3</th>\n",
       "      <td>693204708933160960</td>\n",
       "      <td>brandon marshall visits and offers advice, sup...</td>\n",
       "      <td>non-rumor</td>\n",
       "      <td>2557521</td>\n",
       "    </tr>\n",
       "    <tr>\n",
       "      <th>4</th>\n",
       "      <td>551099691702956032</td>\n",
       "      <td>rip elly may clampett: so sad to learn #beverl...</td>\n",
       "      <td>true</td>\n",
       "      <td>2883841</td>\n",
       "    </tr>\n",
       "  </tbody>\n",
       "</table>\n",
       "</div>"
      ],
      "text/plain": [
       "                   id                                            content  \\\n",
       "0  731166399389962242  🔥ca kkk grand wizard 🔥 endorses @hillaryclinto...   \n",
       "1  714598641827246081  an open letter to trump voters from his top st...   \n",
       "2  691809004356501505  america is a nation of second chances —@potus ...   \n",
       "3  693204708933160960  brandon marshall visits and offers advice, sup...   \n",
       "4  551099691702956032  rip elly may clampett: so sad to learn #beverl...   \n",
       "\n",
       "        label  publisher  \n",
       "0  unverified  431917957  \n",
       "1  unverified   94215989  \n",
       "2   non-rumor   30313925  \n",
       "3   non-rumor    2557521  \n",
       "4        true    2883841  "
      ]
     },
     "execution_count": 14,
     "metadata": {},
     "output_type": "execute_result"
    }
   ],
   "source": [
    "data.head()"
   ]
  },
  {
   "cell_type": "code",
   "execution_count": 18,
   "metadata": {},
   "outputs": [],
   "source": [
    "def get_users(tweet, users):\n",
    "    tweet_df = convert_tweet_tree_to_df(tweet['id'])\n",
    "    u1 = pd.DataFrame(tweet_df[\"P1\"].unique())\n",
    "    u2 = pd.DataFrame(tweet_df[\"P2\"].unique())\n",
    "    users = pd.concat([users, u1, u2], ignore_index=True)\n",
    "    #users = pd.DataFrame(users[0].unique())\n",
    "    return users"
   ]
  },
  {
   "cell_type": "code",
   "execution_count": 152,
   "metadata": {},
   "outputs": [
    {
     "name": "stdout",
     "output_type": "stream",
     "text": [
      "1490\n"
     ]
    }
   ],
   "source": [
    "users = pd.DataFrame([])\n",
    "size = data.shape[0]\n",
    "print(size)\n",
    "for i in range(size):\n",
    "    users = get_users(data.iloc[i], users)\n",
    "users = users[0].unique()"
   ]
  },
  {
   "cell_type": "code",
   "execution_count": 153,
   "metadata": {},
   "outputs": [
    {
     "name": "stdout",
     "output_type": "stream",
     "text": [
      "(480988,)\n"
     ]
    }
   ],
   "source": [
    "print(users.shape)"
   ]
  },
  {
   "cell_type": "code",
   "execution_count": 21,
   "metadata": {},
   "outputs": [],
   "source": [
    "def get_unique_users(tweet, users):\n",
    "    tweet_df = convert_tweet_tree_to_df(tweet['id'])\n",
    "    u1 = pd.DataFrame(tweet_df[\"P1\"].unique())\n",
    "    u2 = pd.DataFrame(tweet_df[\"P2\"].unique())\n",
    "    users = pd.concat([users, u1, u2], ignore_index=True)\n",
    "    users = pd.DataFrame(users[0].unique())\n",
    "    return users"
   ]
  },
  {
   "cell_type": "code",
   "execution_count": 22,
   "metadata": {},
   "outputs": [
    {
     "name": "stdout",
     "output_type": "stream",
     "text": [
      "1490\n",
      "(480988, 1)\n",
      "(480988,)\n"
     ]
    }
   ],
   "source": [
    "users1 = pd.DataFrame([])\n",
    "size = data.shape[0]\n",
    "print(size)\n",
    "for i in range(size):\n",
    "    users1 = get_unique_users(data.iloc[i], users1)\n",
    "print(users1.shape)\n",
    "print(users1[0].unique().shape)"
   ]
  },
  {
   "cell_type": "markdown",
   "metadata": {},
   "source": [
    "Reshares & Retweets..?"
   ]
  },
  {
   "cell_type": "code",
   "execution_count": 149,
   "metadata": {},
   "outputs": [],
   "source": [
    "#Only considering re-shareing users\n",
    "def get_reshare_users(tweet, users):\n",
    "    tweet_df = convert_tweet_tree_to_df(tweet['id'])\n",
    "    #print(tweet_df)\n",
    "    #print(type(tweet['id']))\n",
    "    #print(tweet['id'])\n",
    "    tweet_df[\"Tw1\"] = tweet_df[\"Tw1\"].apply(lambda x: x.replace(\"'ROOT'\", \"'0'\"))\n",
    "    tweet_df['Tw1'] = tweet_df[\"Tw1\"].str[2:-1].astype(int)\n",
    "    tweet_df['Tw2'] = tweet_df[\"Tw2\"].str[2:-1].astype(int)\n",
    "    #print(tweet_df)\n",
    "    tweet_df = tweet_df.loc[ (tweet_df['Tw2'] == int(tweet['id'])) & (tweet_df['Tw1'] == int(tweet['id']))]\n",
    "    #print(tweet_df)\n",
    "    u1 = pd.DataFrame(tweet_df[\"P1\"].unique())\n",
    "    u2 = pd.DataFrame(tweet_df[\"P2\"].unique())\n",
    "    users = pd.concat([users, u1, u2], ignore_index=True)\n",
    "    #users = pd.DataFrame(users[0].unique())\n",
    "    return users"
   ]
  },
  {
   "cell_type": "code",
   "execution_count": 150,
   "metadata": {},
   "outputs": [
    {
     "name": "stdout",
     "output_type": "stream",
     "text": [
      "1490\n",
      "[\"'431917957'\" \"'2906655619'\" \"'88550047'\" \"'484477723'\" \"'3308560736'\"\n",
      " \"'712976695'\" \"'3709245494'\" \"'2319339266'\" \"'1032818844'\" \"'33270656'\"\n",
      " \"'3353724259'\" \"'4318345394'\" \"'26538104'\" \"'976840800'\"\n",
      " \"'710545371978670081'\" \"'4006650737'\" \"'1426967479'\" \"'3356662759'\"\n",
      " \"'588192356'\" \"'3248410062'\" \"'1656400596'\" \"'4835421670'\" \"'4176001696'\"\n",
      " \"'721104775689863168'\" \"'728588534'\" \"'716286508542652416'\"\n",
      " \"'4769688253'\" \"'178885682'\" \"'4551460812'\" \"'2586878275'\" \"'993896732'\"\n",
      " \"'319432175'\" \"'3661479505'\" \"'726232124798472192'\" \"'62070111'\"\n",
      " \"'72841205'\" \"'2327376091'\" \"'2949051936'\" \"'723539075697926144'\"\n",
      " \"'702149906119712768'\" \"'2926894777'\" \"'1902314210'\" \"'236182540'\"\n",
      " \"'67595149'\" \"'3020425427'\" \"'444994317'\" \"'107161788'\" \"'3185264267'\"\n",
      " \"'315994858'\" \"'4855439824'\" \"'2580296111'\" \"'710247867600887808'\"\n",
      " \"'174025101'\" \"'1849839132'\" \"'2884079135'\" \"'4872648885'\" \"'4618950578'\"\n",
      " \"'33247227'\" \"'2284614762'\" \"'3296734251'\" \"'2477028826'\" \"'107033885'\"\n",
      " \"'3310686488'\" \"'997878320'\" \"'409212580'\" \"'590439684'\"\n",
      " \"'708098284473204736'\" \"'3700121652'\" \"'1240232587'\" \"'872954089'\"\n",
      " \"'52624631'\" \"'716054156767678464'\" \"'2855136498'\" \"'4822094443'\"\n",
      " \"'4822536123'\" \"'3253866861'\" \"'718274256036106240'\" \"'1231055906'\"\n",
      " \"'876040219'\" \"'2898756616'\" \"'19845077'\" \"'108593067'\" \"'67295944'\"\n",
      " \"'535639721'\" \"'874857829'\" \"'2886380524'\" \"'4726269672'\" \"'814121478'\"\n",
      " \"'713154978811142145'\" \"'750239178'\" \"'136166272'\" \"'4182688875'\"\n",
      " \"'501594681'\" \"'2896439073'\" \"'2553941234'\" \"'2926464862'\" \"'4498781714'\"\n",
      " \"'60448759'\" \"'708140515636551680'\" \"'2302327181'\" \"'3146126985'\"\n",
      " \"'1555236642'\" \"'2317369195'\" \"'2874567659'\" \"'3407816050'\" \"'790344848'\"\n",
      " \"'4064331736'\" \"'744920442'\" \"'971712865'\" \"'3529074436'\" \"'1222911632'\"\n",
      " \"'4880441021'\" \"'751478119'\" \"'46149536'\" \"'705115035593379840'\"\n",
      " \"'728635523816775680'\" \"'722488382027214848'\" \"'711954995478794240'\"\n",
      " \"'876665545'\" \"'1367646829'\" \"'713281143609683969'\" \"'1044333870'\"\n",
      " \"'971701411'\" \"'715976478643458048'\" \"'711013678070370305'\"\n",
      " \"'2325067037'\" \"'708232897'\" \"'4661872581'\" \"'729169458120380416'\"\n",
      " \"'2809494898'\" \"'2882467303'\" \"'3091954441'\" \"'482933199'\"\n",
      " \"'732344634089725952'\" \"'765749691547914241'\" \"'4828199628'\"\n",
      " \"'228736760'\" \"'2401319821'\" \"'1305192181'\" \"'705461595749683200'\"]\n",
      "(140,)\n"
     ]
    }
   ],
   "source": [
    "users2 = pd.DataFrame([])\n",
    "size = data.shape[0]\n",
    "print(size)\n",
    "users2 = get_reshare_users(data.iloc[0], users2)\n",
    "# for i in range(size):\n",
    "#     users2 = get_reshare_users(data.iloc[i], users2)\n",
    "users2 = users2[0].unique()\n",
    "print(users2)\n",
    "print(users2.shape)"
   ]
  },
  {
   "cell_type": "code",
   "execution_count": 140,
   "metadata": {},
   "outputs": [],
   "source": [
    "#number of tweets without retweet\n",
    "def get_original_tweets(tweet, users):\n",
    "    tweet_df = convert_tweet_tree_to_df(tweet['id'])\n",
    "    #print(tweet_df)\n",
    "    #print(type(tweet['id']))\n",
    "    #print(tweet['id'])\n",
    "#     tweet_df = tweet_df.iloc[1:,:]\n",
    "    tweet_df[\"Tw1\"] = tweet_df[\"Tw1\"].apply(lambda x: x.replace(\"'ROOT'\", \"'0'\"))\n",
    "    tweet_df['Tw1'] = tweet_df[\"Tw1\"].str[2:-1].astype(int)\n",
    "    tweet_df['Tw2'] = tweet_df[\"Tw2\"].str[2:-1].astype(int)\n",
    "#     print(tweet_df)\n",
    "    tweet_df = tweet_df.loc[ (tweet_df['Tw2'] == int(tweet['id'])) & (tweet_df['Tw1'] == int(tweet['id']))]\n",
    "#     print(tweet_df)\n",
    "    u1 = pd.DataFrame(tweet_df[\"Tw1\"].unique())\n",
    "    u2 = pd.DataFrame(tweet_df[\"Tw2\"].unique())\n",
    "    users = pd.concat([users, u1, u2], ignore_index=True)\n",
    "    #users = pd.DataFrame(users[0].unique())\n",
    "    return users"
   ]
  },
  {
   "cell_type": "code",
   "execution_count": 143,
   "metadata": {},
   "outputs": [
    {
     "name": "stdout",
     "output_type": "stream",
     "text": [
      "(1490,)\n"
     ]
    }
   ],
   "source": [
    "org_tweets = pd.DataFrame([])\n",
    "size = data.shape[0]\n",
    "# print(size)\n",
    "# org_tweets = get_original_tweets(data.iloc[0], org_tweets)\n",
    "# org_tweets = get_original_tweets(data.iloc[1], org_tweets)\n",
    "# org_tweets = get_original_tweets(data.iloc[2], org_tweets)\n",
    "# org_tweets = get_original_tweets(data.iloc[3], org_tweets)\n",
    "# org_tweets = get_original_tweets(data.iloc[4], org_tweets)\n",
    "# org_tweets = get_original_tweets(data.iloc[5], org_tweets)\n",
    "# org_tweets = get_original_tweets(data.iloc[6], org_tweets)\n",
    "# org_tweets = get_original_tweets(data.iloc[7], org_tweets)\n",
    "for i in range(size):\n",
    "    org_tweets = get_original_tweets(data.iloc[i], org_tweets)\n",
    "org_tweets = org_tweets[0].unique()\n",
    "print(org_tweets.shape)"
   ]
  },
  {
   "cell_type": "code",
   "execution_count": 136,
   "metadata": {},
   "outputs": [
    {
     "data": {
      "text/html": [
       "<div>\n",
       "<style scoped>\n",
       "    .dataframe tbody tr th:only-of-type {\n",
       "        vertical-align: middle;\n",
       "    }\n",
       "\n",
       "    .dataframe tbody tr th {\n",
       "        vertical-align: top;\n",
       "    }\n",
       "\n",
       "    .dataframe thead th {\n",
       "        text-align: right;\n",
       "    }\n",
       "</style>\n",
       "<table border=\"1\" class=\"dataframe\">\n",
       "  <thead>\n",
       "    <tr style=\"text-align: right;\">\n",
       "      <th></th>\n",
       "      <th>id</th>\n",
       "      <th>content</th>\n",
       "      <th>label</th>\n",
       "      <th>publisher</th>\n",
       "    </tr>\n",
       "  </thead>\n",
       "  <tbody>\n",
       "    <tr>\n",
       "      <th>0</th>\n",
       "      <td>731166399389962242</td>\n",
       "      <td>🔥ca kkk grand wizard 🔥 endorses @hillaryclinto...</td>\n",
       "      <td>unverified</td>\n",
       "      <td>431917957</td>\n",
       "    </tr>\n",
       "    <tr>\n",
       "      <th>1</th>\n",
       "      <td>714598641827246081</td>\n",
       "      <td>an open letter to trump voters from his top st...</td>\n",
       "      <td>unverified</td>\n",
       "      <td>94215989</td>\n",
       "    </tr>\n",
       "    <tr>\n",
       "      <th>2</th>\n",
       "      <td>691809004356501505</td>\n",
       "      <td>america is a nation of second chances —@potus ...</td>\n",
       "      <td>non-rumor</td>\n",
       "      <td>30313925</td>\n",
       "    </tr>\n",
       "    <tr>\n",
       "      <th>3</th>\n",
       "      <td>693204708933160960</td>\n",
       "      <td>brandon marshall visits and offers advice, sup...</td>\n",
       "      <td>non-rumor</td>\n",
       "      <td>2557521</td>\n",
       "    </tr>\n",
       "    <tr>\n",
       "      <th>4</th>\n",
       "      <td>551099691702956032</td>\n",
       "      <td>rip elly may clampett: so sad to learn #beverl...</td>\n",
       "      <td>true</td>\n",
       "      <td>2883841</td>\n",
       "    </tr>\n",
       "    <tr>\n",
       "      <th>5</th>\n",
       "      <td>767223774072676354</td>\n",
       "      <td>former 3 doors down guitarist matt roberts has...</td>\n",
       "      <td>non-rumor</td>\n",
       "      <td>428333</td>\n",
       "    </tr>\n",
       "    <tr>\n",
       "      <th>6</th>\n",
       "      <td>715515982584881152</td>\n",
       "      <td>craigslist ad: ‘get paid $15 an hour to protes...</td>\n",
       "      <td>unverified</td>\n",
       "      <td>18643437</td>\n",
       "    </tr>\n",
       "    <tr>\n",
       "      <th>7</th>\n",
       "      <td>514106273852174337</td>\n",
       "      <td>just in: missing afghan soldiers found trying ...</td>\n",
       "      <td>true</td>\n",
       "      <td>14173315</td>\n",
       "    </tr>\n",
       "  </tbody>\n",
       "</table>\n",
       "</div>"
      ],
      "text/plain": [
       "                   id                                            content  \\\n",
       "0  731166399389962242  🔥ca kkk grand wizard 🔥 endorses @hillaryclinto...   \n",
       "1  714598641827246081  an open letter to trump voters from his top st...   \n",
       "2  691809004356501505  america is a nation of second chances —@potus ...   \n",
       "3  693204708933160960  brandon marshall visits and offers advice, sup...   \n",
       "4  551099691702956032  rip elly may clampett: so sad to learn #beverl...   \n",
       "5  767223774072676354  former 3 doors down guitarist matt roberts has...   \n",
       "6  715515982584881152  craigslist ad: ‘get paid $15 an hour to protes...   \n",
       "7  514106273852174337  just in: missing afghan soldiers found trying ...   \n",
       "\n",
       "        label  publisher  \n",
       "0  unverified  431917957  \n",
       "1  unverified   94215989  \n",
       "2   non-rumor   30313925  \n",
       "3   non-rumor    2557521  \n",
       "4        true    2883841  \n",
       "5   non-rumor     428333  \n",
       "6  unverified   18643437  \n",
       "7        true   14173315  "
      ]
     },
     "execution_count": 136,
     "metadata": {},
     "output_type": "execute_result"
    }
   ],
   "source": [
    "data.head(8)"
   ]
  },
  {
   "cell_type": "code",
   "execution_count": 154,
   "metadata": {},
   "outputs": [
    {
     "data": {
      "text/plain": [
       "(704,)"
      ]
     },
     "execution_count": 154,
     "metadata": {},
     "output_type": "execute_result"
    }
   ],
   "source": [
    "data[\"publisher\"].unique().shape #number of unique publishers"
   ]
  },
  {
   "cell_type": "code",
   "execution_count": null,
   "metadata": {},
   "outputs": [],
   "source": []
  }
 ],
 "metadata": {
  "kernelspec": {
   "display_name": "Python 3",
   "language": "python",
   "name": "python3"
  },
  "language_info": {
   "codemirror_mode": {
    "name": "ipython",
    "version": 3
   },
   "file_extension": ".py",
   "mimetype": "text/x-python",
   "name": "python",
   "nbconvert_exporter": "python",
   "pygments_lexer": "ipython3",
   "version": "3.8.3"
  }
 },
 "nbformat": 4,
 "nbformat_minor": 4
}
