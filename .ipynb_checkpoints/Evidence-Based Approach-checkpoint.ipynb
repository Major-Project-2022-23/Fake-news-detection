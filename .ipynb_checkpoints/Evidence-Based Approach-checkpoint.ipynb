{
 "cells": [
  {
   "cell_type": "code",
   "execution_count": 1,
   "metadata": {},
   "outputs": [],
   "source": [
    "import spacy_sentence_bert"
   ]
  },
  {
   "cell_type": "code",
   "execution_count": 2,
   "metadata": {},
   "outputs": [
    {
     "name": "stderr",
     "output_type": "stream",
     "text": [
      "/opt/anaconda3/lib/python3.8/site-packages/spacy/util.py:887: UserWarning: [W095] Model 'en_core_web_sm' (2.3.1) was trained with spaCy v2.3 and may not be 100% compatible with the current version (3.5.1). If you see errors or degraded performance, download a newer compatible model or retrain your custom model with the current spaCy version. For more details and available updates, run: python -m spacy validate\n",
      "  warnings.warn(warn_msg)\n"
     ]
    },
    {
     "name": "stdout",
     "output_type": "stream",
     "text": [
      "\u001b[38;5;2m✔ Download and installation successful\u001b[0m\n",
      "You can now load the package via spacy.load('en_core_web_sm')\n"
     ]
    }
   ],
   "source": [
    "import re\n",
    "import urllib\n",
    "\n",
    "import json\n",
    "import pandas as pd\n",
    "import torch.nn as nn\n",
    "import texthero as hero\n",
    "from urllib.parse import urlsplit\n",
    "import requests\n",
    "# import spacy_sentence_bert\n",
    "import torch\n",
    "from bs4 import BeautifulSoup\n",
    "from requests import get\n",
    "from transformers import T5Tokenizer, T5ForConditionalGeneration\n",
    "from transformers import XLNetTokenizer, XLNetForSequenceClassification"
   ]
  },
  {
   "cell_type": "code",
   "execution_count": 63,
   "metadata": {},
   "outputs": [],
   "source": [
    "text = \"unified civil code\""
   ]
  },
  {
   "cell_type": "code",
   "execution_count": 64,
   "metadata": {},
   "outputs": [],
   "source": [
    "nlp = spacy_sentence_bert.load_model('en_nli_roberta_base')"
   ]
  },
  {
   "cell_type": "code",
   "execution_count": 81,
   "metadata": {},
   "outputs": [],
   "source": [
    "def filter_data(text, res, top=5):\n",
    "    doc1 = nlp(text)\n",
    "    sim = []\n",
    "    for a in res:\n",
    "        sim.append(doc1.similarity(nlp(a[1])))\n",
    "    # print(sim)\n",
    "    zipped = zip(sim, res)\n",
    "    zipped = sorted(zipped, reverse=True)\n",
    "    high_conf = [a for s, a in zipped if s >= 0.7]\n",
    "    low_conf = [a for s, a in zipped if 0.3 <= s < 0.7]\n",
    "#     print(high_conf, low_conf)\n",
    "    return high_conf, low_conf"
   ]
  },
  {
   "cell_type": "code",
   "execution_count": 82,
   "metadata": {},
   "outputs": [],
   "source": [
    "def search(term, num_results=10, lang=\"en\"):\n",
    "    usr_agent = {\n",
    "        'User-Agent': 'Mozilla/5.0 (X11; Ubuntu; Linux x86_64; rv:88.0) Gecko/20100101 Firefox/88.0'}\n",
    "        # 'User-Agent': 'Mozilla/5.0 (Windows NT 10.0; Win64; x64) AppleWebKit/537.36 (KHTML, like Gecko) '\n",
    "        #               'Chrome/61.0.3163.100 Safari/537.36'}\n",
    "\n",
    "    def fetch_results(search_term, number_results, language_code):\n",
    "        escaped_search_term = search_term.replace(' ', '+')\n",
    "\n",
    "        google_url = 'https://www.google.com/search?q={}&num={}&hl={}'.format(escaped_search_term, number_results+1,\n",
    "                                                                              language_code)\n",
    "        response = get(google_url, headers=usr_agent)\n",
    "        response.raise_for_status()\n",
    "\n",
    "        return response.text\n",
    "\n",
    "    def parse_results(raw_html):\n",
    "        soup = BeautifulSoup(raw_html, 'html.parser')\n",
    "        result_block = soup.find_all('div', attrs={'class': 'g'})\n",
    "        for result in result_block:\n",
    "            link = result.find('a', href=True)\n",
    "            title = result.find('h3')\n",
    "            text = result.findAll('span')[-1]\n",
    "            # print(text.text)\n",
    "\n",
    "            if link and title:\n",
    "                yield link['href'], text.text\n",
    "\n",
    "    html = fetch_results(term, num_results, lang)\n",
    "#     print(list(parse_results(html)))\n",
    "    return list(parse_results(html))"
   ]
  },
  {
   "cell_type": "code",
   "execution_count": 94,
   "metadata": {},
   "outputs": [],
   "source": [
    "def get_search_results(text, res, top=5):\n",
    "    text_url = urllib.parse.quote_plus(text)\n",
    "    res = search(text_url)\n",
    "    blacklisted_phras= ['.pdf', '.xlsx', '.csv', '/download', 'facebook.com', 'youtube.com', 'patrika.com',\n",
    "                        'maharashtratimes.com', 'books.google', '.txt', '.vocab']\n",
    "    filtered_res = []\n",
    "    for r in res:\n",
    "        found = False\n",
    "        for b_url in blacklisted_phras:\n",
    "            if b_url in r[0]:\n",
    "                found = True\n",
    "                break\n",
    "        if not found:\n",
    "            filtered_res.append(r)\n",
    "    high_conf, low_conf = filter_data(text, filtered_res)\n",
    "    \n",
    "    return high_conf + low_conf[:top]\n",
    "    \n",
    "#     if high_conf:\n",
    "#         return high_conf\n",
    "#     else:\n",
    "#         return low_conf[:top]\n"
   ]
  },
  {
   "cell_type": "code",
   "execution_count": 95,
   "metadata": {},
   "outputs": [],
   "source": [
    "def get_sentences_from_link(link, text, top=5):\n",
    "    request = requests.get(link, verify=False, timeout=20)\n",
    "#     time.sleep(1)\n",
    "    Soup = BeautifulSoup(request.text, 'lxml')\n",
    "    if 'twitter.com' in request.url:\n",
    "        return [], request.url\n",
    "\n",
    "    if 'facebook.com' in request.url:\n",
    "        return [], request.url\n",
    "\n",
    "    if '%PDF-' in request.text:\n",
    "        return [], request.url\n",
    "\n",
    "    # creating a list of all common heading tags\n",
    "#     heading_tags = ['h{}'.format(h) for h in range(1, 10)] + ['p']\n",
    "    heading_tags = ['p']\n",
    "\n",
    "\n",
    "    results = []\n",
    "    used = []\n",
    "\n",
    "    for tags in Soup.find_all(heading_tags):\n",
    "        if 'h' in tags.name:\n",
    "            tokens = tags.text.strip().split()\n",
    "            if len(tokens) > 8:\n",
    "                if tags.text.strip() not in used:\n",
    "                    used.append(tags.text.strip())\n",
    "                    results.append([tags.name, tags.text.strip()])\n",
    "        else:\n",
    "            tokens = tags.text.strip().split()\n",
    "            if len(tokens) > 8:\n",
    "                if tags.text.strip() not in used:\n",
    "                    used.append(tags.text.strip())\n",
    "                    results.append([tags.name, tags.text.strip()])\n",
    "    doc1 = nlp(text)\n",
    "    sim = []\n",
    "    for r in results:\n",
    "        sim.append(doc1.similarity(nlp(r[1])))\n",
    "    zipped = zip(sim, results)\n",
    "    zipped = sorted(zipped, reverse=True)\n",
    "    high_conf = [a for s, a in zipped if s >= 0.5]\n",
    "    \n",
    "#     print(high_conf[:top])\n",
    "\n",
    "    return high_conf[:top], request.url"
   ]
  },
  {
   "cell_type": "code",
   "execution_count": 96,
   "metadata": {},
   "outputs": [],
   "source": [
    "import warnings"
   ]
  },
  {
   "cell_type": "code",
   "execution_count": 97,
   "metadata": {},
   "outputs": [],
   "source": [
    "warnings.filterwarnings('ignore')"
   ]
  },
  {
   "cell_type": "code",
   "execution_count": 98,
   "metadata": {},
   "outputs": [],
   "source": [
    "def get_evidence_links(text):\n",
    "    links = []\n",
    "    if 't.co/' in text:\n",
    "        urls = re.findall(r'https?:\\/+\\/+t+\\.+co+\\/+\\S*', text)\n",
    "        new_links = []\n",
    "        for li in urls:\n",
    "            li = li.replace('.%20', '').replace('%20', '').strip('.').strip()\n",
    "            if li[-1] == '.':\n",
    "                li = li[:-1]\n",
    "            conf, lin = get_sentences_from_link(li, text)\n",
    "            new_links.append([lin, conf])\n",
    "        links = new_links\n",
    "\n",
    "    else:\n",
    "        links = get_search_results(text, links)\n",
    "        new_links = []\n",
    "        for link in links:\n",
    "            conf, lin = get_sentences_from_link(link[0], text)\n",
    "            new_links.append([lin, conf])\n",
    "        links = new_links\n",
    "#     except:\n",
    "#         pass\n",
    "#     print(links)\n",
    "    return links"
   ]
  },
  {
   "cell_type": "code",
   "execution_count": 99,
   "metadata": {},
   "outputs": [],
   "source": [
    "links = get_evidence_links(text)"
   ]
  },
  {
   "cell_type": "code",
   "execution_count": 100,
   "metadata": {},
   "outputs": [
    {
     "data": {
      "text/plain": [
       "[['https://byjus.com/free-ias-prep/need-for-a-uniform-civil-code-in-a-secular-india/',\n",
       "  [['p',\n",
       "    'Article 44 of the Indian Constitution defines a Uniform Civil Code. Article 44 says, ‘The State shall endeavour to secure for the citizens a Uniform Civil Code throughout the territory of India.’ The article is a part of the Directive Principles of State Policy.'],\n",
       "   ['p', 'Uniform Civil Code – Indian Polity:-\\xa0Download PDF Here'],\n",
       "   ['p',\n",
       "    'Article 44 corresponds with Directive Principles of State Policy stating that\\xa0State shall endeavour to provide for its citizens a uniform civil code (UCC) throughout the territory of India.'],\n",
       "   ['p',\n",
       "    'A civil code is a systematic collection of laws designed to deal with the core areas of private law such as for dealing with business and negligence lawsuits and practices.'],\n",
       "   ['p',\n",
       "    'Part IV, Article 44 of the Constitution states that “The State shall endeavour to secure the citizen a Uniform Civil Code throughout the territory of India”.']]],\n",
       " ['https://currentaffairs.adda247.com/what-is-uniform-civil-code-in-india/',\n",
       "  [['p',\n",
       "    'Uniform Civil Code in India: The Uniform Civil Code (UCC) is a proposed law in India to create and execute personal laws of citizens regardless of their gender, sexual orientation, or religion.'],\n",
       "   ['p',\n",
       "    'Uniform Civil Code in India: The Uniform Civil Code, also known as the UCC, is a proposed law in India to create and execute personal laws of citizens that are applicable to all people regardless of their gender, sexual orientation, or religion. Currently, the religious texts of different communities regulate their personal laws.'],\n",
       "   ['p',\n",
       "    'Hinduism recognises the application of personal laws to cases involving legal matters such as inheritance, succession, marriage, adoption, co-parenting, sons’ duty to settle their father’s debts, the division of family property, maintenance, guardianship, and charity contributions.'],\n",
       "   ['p',\n",
       "    'Islam has personal rules that are based on the Quran that govern issues including pre-emption, guardianship, guardianship, marriage, wakfs, dowry, inheritance, wills, succession, legacies, and marriage.'],\n",
       "   ['p',\n",
       "    'Goa, a state in India, was expelled from the country Due to colonial rule in the formerly Portuguese Goa and Daman, the Indian state of Goa was cut off from the rest of India but kept its common family law, known as the Goa civil code, making it the only state in India to this day with a unified civil code.']]],\n",
       " ['https://www.drishtiias.com/daily-updates/daily-news-editorials/uniform-civil-code-balancing-tradition-and-modernity',\n",
       "  [['p',\n",
       "    'For Prelims: Uniform Civil Code, Directive Principle in the Indian Constitution, Secularism, Hindu personal laws, Shariat law of 1937, Right to freedom of religion, Paulo Coutinho vs Maria Luiza Valentina Pereira case (2019), Section 125 of Code of Criminal Procedure (CrPC), Shah Bano Case'],\n",
       "   ['p',\n",
       "    'Which of the above are the Gandhian Principles that are reflected in the Directive Principles of State Policy?'],\n",
       "   ['p',\n",
       "    'This article is based on “Uniform Civil Code: Reframe the debate” which was published in Hindustan Times on 27/12/2022. It talks about Uniform Civil Code in India and the need of gender-just civil code.'],\n",
       "   ['p',\n",
       "    'Q1. Consider the following provisions under the Directive Principles of State Policy as enshrined in the Constitution of India: (2012)'],\n",
       "   ['p',\n",
       "    'For Mains: Status of Personal Laws in India, Arguments in Favour of UCC, Arguments Against UCC, Efforts Towards UCC in India.']]],\n",
       " ['https://www.thehindu.com/news/national/explained-the-uniform-civil-code/article66105351.ece',\n",
       "  [['p',\n",
       "    'Text and Context\\n\\n/\\n\\nThe Hindu Explains\\n\\n/\\n\\ncivil rights\\n\\n/\\n\\nlaws\\n\\n/\\n\\nInstagram stories'],\n",
       "   ['p',\n",
       "    'Comments have to be in English, and in full sentences. They cannot be abusive or personal. Please abide by our community guidelines  for posting your comments.'],\n",
       "   ['p',\n",
       "    'Article 44 contained in part IV of the Constitution says that the state “shall endeavour to secure for the citizens a uniform civil code throughout the territory of India”. While there is no draft or model document yet for the UCC, the framers of the Constitution envisioned that it would be a uniform set of laws that would replace the distinct personal laws of each religion with regard to matters like marriage, divorce, adoption, and inheritance. Part IV of the Constitution outlines the Directive Principles of State Policy, which, while not enforceable or justiciable in a court of law, are fundamental to the country’s governance.']]],\n",
       " ['https://www.legalserviceindia.com/legal/article-4743-implementation-of-uniform-civil-code-in-india.html',\n",
       "  [['p',\n",
       "    'How To File For Mutual Divorce In Delhi\\r\\nMutual Consent Divorce is the Simplest Way to Obtain a D...'],\n",
       "   ['p',\n",
       "    'Wednesday, Live Law reported that a Kerala court ruled that the Indian \\r\\nPenal Code Section 354, ...'],\n",
       "   ['p',\n",
       "    'The Inherent power under Section 482 in The Code Of Criminal Procedure, 1973 \\r\\n(37th Chapter of t...']]],\n",
       " ['https://en.wikipedia.org/wiki/Uniform_Civil_Code',\n",
       "  [['p',\n",
       "    \"The Uniform Civil Code (Hindi: समान नागरिक संहिता, romanized:\\xa0Samāna Nāgarika Saṃhitā) is a proposal in India to formulate and implement personal laws of citizens which apply on all citizens equally regardless of their religion, gender and sexual orientation. Currently, personal laws of various communities are governed by their religious scriptures.[1] Implementation of a uniform civil code across the nation is one of the contentious promises pursued by India's ruling Bharatiya Janata Party. It is an important issue regarding secularism in Indian politics and continues to remain disputed by India's political left wing, Muslim groups and other conservative religious groups and sects in defence of sharia and religious customs. Personal laws are distinguished from public law and cover marriage, divorce, inheritance, adoption and maintenance. Meanwhile, article 25-28 of the Indian constitution guarantees religious freedom to Indian citizens and allows religious groups to maintain their own affairs, article 44 of the constitution expects the Indian state to apply directive principles and common law for all Indian citizens while formulating national policies.[2][3]\"],\n",
       "   ['p',\n",
       "    \"Personal laws were first framed during the British Raj, mainly for Hindu and Muslim citizens. The British feared opposition from community leaders and refrained from further interfering within this domestic sphere. Indian state of Goa was separated from India due to colonial rule in the erstwhile Portuguese Goa and Damaon, retained a common family law known as the Goa civil code and thus being only state in India with a uniform civil code till date. Following India's independence, Hindu code bills were introduced which largely codified and reformed personal laws in various sects among Indian religions like Buddhists, Hindus, Jains and Sikhs while exempted Christians, Jews, Muslims and Parsis, being identified as distinct communities from Hindus.[4]\"],\n",
       "   ['p',\n",
       "    \"The Indian Parliament discussed the report of the Hindu law committee during the 1948–1951 and 1951–1954 sessions. The first Prime Minister of the Indian republic, Jawaharlal Nehru, his supporters and women members wanted a uniform civil code to be implemented.[17] As Law Minister, B. R. Ambedkar was in charge of presenting the details of this bill. It was found that the orthodox Hindu laws were supportive of women's rights since monogamy, divorce and the widow's right to inherit property were present in the Shashtras.[17] Ambedkar recommended the adoption of a uniform civil code.[18][19]  Ambedkar's frequent attack on the caste system and dislike for the upper castes made him unpopular in the parliament. He had done research on the religious texts and considered the caste system in Hindu society to be flawed. According to him, only the Uniform Civil Code bill was this opportunity to reform Hindu society as well to ensure protection to Muslim women who have little protection under Sharia Law.[20] He thus faced severe criticism from the opposition but Nehru later supported Ambedkar's reforms and demand for a Uniform Civil Code.[20] Although a Uniform Civil Code was not introduced at the time, a Hindu Bill was introduced to ensure modern reformation of Hindu Society.\"]]],\n",
       " ['https://www.jagranjosh.com/general-knowledge/why-uniform-civil-code-is-necessary-for-india-1477037384-1',\n",
       "  [['p', 'Do you know about Uniform Civil Code in Goa'],\n",
       "   ['p', 'Do you know about Uniform Civil Code in Goa?'],\n",
       "   ['p', 'Now let us see our past from where uniform laws are originated.'],\n",
       "   ['p', 'Now let us see our past from where uniform laws originated.'],\n",
       "   ['p',\n",
       "    'Uniform Civil Code is defined in our Constitution under Article 44 which states that it is the duty of the state to secure for the citizens a Uniform Civil Code throughout the territory of India. Now question arises what is Uniform Civil Code? It is the common set of governing rules for all citizens of India which refers to replace the personal laws (based on religious scriptures and customs). These laws are famous from public law and cover marriage, divorce, inheritance, adoption and maintenance. In fact Goa is the only state which has a common family law and 1954 Special Marriage Act allows any citizen to marry outside the realm of any special religious personal law.']]],\n",
       " ['https://en.wikipedia.org/wiki/Uniform_Civil_Code',\n",
       "  [['p',\n",
       "    \"The Uniform Civil Code (Hindi: समान नागरिक संहिता, romanized:\\xa0Samāna Nāgarika Saṃhitā) is a proposal in India to formulate and implement personal laws of citizens which apply on all citizens equally regardless of their religion, gender and sexual orientation. Currently, personal laws of various communities are governed by their religious scriptures.[1] Implementation of a uniform civil code across the nation is one of the contentious promises pursued by India's ruling Bharatiya Janata Party. It is an important issue regarding secularism in Indian politics and continues to remain disputed by India's political left wing, Muslim groups and other conservative religious groups and sects in defence of sharia and religious customs. Personal laws are distinguished from public law and cover marriage, divorce, inheritance, adoption and maintenance. Meanwhile, article 25-28 of the Indian constitution guarantees religious freedom to Indian citizens and allows religious groups to maintain their own affairs, article 44 of the constitution expects the Indian state to apply directive principles and common law for all Indian citizens while formulating national policies.[2][3]\"],\n",
       "   ['p',\n",
       "    \"Personal laws were first framed during the British Raj, mainly for Hindu and Muslim citizens. The British feared opposition from community leaders and refrained from further interfering within this domestic sphere. Indian state of Goa was separated from India due to colonial rule in the erstwhile Portuguese Goa and Damaon, retained a common family law known as the Goa civil code and thus being only state in India with a uniform civil code till date. Following India's independence, Hindu code bills were introduced which largely codified and reformed personal laws in various sects among Indian religions like Buddhists, Hindus, Jains and Sikhs while exempted Christians, Jews, Muslims and Parsis, being identified as distinct communities from Hindus.[4]\"],\n",
       "   ['p',\n",
       "    \"The Indian Parliament discussed the report of the Hindu law committee during the 1948–1951 and 1951–1954 sessions. The first Prime Minister of the Indian republic, Jawaharlal Nehru, his supporters and women members wanted a uniform civil code to be implemented.[17] As Law Minister, B. R. Ambedkar was in charge of presenting the details of this bill. It was found that the orthodox Hindu laws were supportive of women's rights since monogamy, divorce and the widow's right to inherit property were present in the Shashtras.[17] Ambedkar recommended the adoption of a uniform civil code.[18][19]  Ambedkar's frequent attack on the caste system and dislike for the upper castes made him unpopular in the parliament. He had done research on the religious texts and considered the caste system in Hindu society to be flawed. According to him, only the Uniform Civil Code bill was this opportunity to reform Hindu society as well to ensure protection to Muslim women who have little protection under Sharia Law.[20] He thus faced severe criticism from the opposition but Nehru later supported Ambedkar's reforms and demand for a Uniform Civil Code.[20] Although a Uniform Civil Code was not introduced at the time, a Hindu Bill was introduced to ensure modern reformation of Hindu Society.\"]]]]"
      ]
     },
     "execution_count": 100,
     "metadata": {},
     "output_type": "execute_result"
    }
   ],
   "source": [
    "links"
   ]
  },
  {
   "cell_type": "code",
   "execution_count": null,
   "metadata": {},
   "outputs": [],
   "source": []
  }
 ],
 "metadata": {
  "kernelspec": {
   "display_name": "Python 3",
   "language": "python",
   "name": "python3"
  },
  "language_info": {
   "codemirror_mode": {
    "name": "ipython",
    "version": 3
   },
   "file_extension": ".py",
   "mimetype": "text/x-python",
   "name": "python",
   "nbconvert_exporter": "python",
   "pygments_lexer": "ipython3",
   "version": "3.8.3"
  }
 },
 "nbformat": 4,
 "nbformat_minor": 4
}
