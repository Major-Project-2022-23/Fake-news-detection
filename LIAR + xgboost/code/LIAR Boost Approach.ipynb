{
 "cells": [
  {
   "cell_type": "code",
   "execution_count": 10,
   "metadata": {},
   "outputs": [
    {
     "name": "stderr",
     "output_type": "stream",
     "text": [
      "[nltk_data] Downloading package averaged_perceptron_tagger to\n",
      "[nltk_data]     /Users/shivamarora/nltk_data...\n",
      "[nltk_data]   Unzipping taggers/averaged_perceptron_tagger.zip.\n"
     ]
    },
    {
     "data": {
      "text/plain": [
       "True"
      ]
     },
     "execution_count": 10,
     "metadata": {},
     "output_type": "execute_result"
    }
   ],
   "source": [
    "import re\n",
    "import nltk\n",
    "import numpy as np\n",
    "import pandas as pd\n",
    "from xgboost import XGBClassifier\n",
    "from nltk.corpus import stopwords\n",
    "from nltk.stem.porter import PorterStemmer\n",
    "from sklearn.pipeline import FeatureUnion, Pipeline\n",
    "from sklearn.preprocessing import FunctionTransformer\n",
    "from sklearn.feature_extraction.text import TfidfVectorizer\n",
    "from fast_ml.model_development import train_valid_test_split\n",
    "from sklearn.preprocessing import LabelEncoder, OneHotEncoder\n",
    "from sklearn.metrics import accuracy_score, classification_report, confusion_matrix\n",
    "nltk.download('averaged_perceptron_tagger')"
   ]
  },
  {
   "cell_type": "markdown",
   "metadata": {},
   "source": [
    "remove duplicates \\\n",
    "drop rows with null values \\\n",
    "convert to string and then unicode \\\n",
    "one hot encoder \\\n",
    "tokenization \\\n",
    "remove stop words \\\n",
    "position tagging \\\n",
    "filter out verbs adjectives nouns \\\n",
    "lemmatization (or stemming) \\\n",
    "test train valid split\n",
    "\n",
    "\n",
    "how to consider multiple columns as single document for tfidf? one approach - ignore numerical values and just append all text together into a single column \\\n",
    "what is the numerical data? is it important for classification or should we get rid of it \\\n",
    "what pipeline are they talking about - explore results with and without pipeline"
   ]
  },
  {
   "cell_type": "code",
   "execution_count": 11,
   "metadata": {},
   "outputs": [],
   "source": [
    "# Reading Data and integrating into one dataframe so we can implement preprocessing and split later\n",
    "\n",
    "df = pd.read_csv('../data/train.tsv', sep='\\t')\n",
    "df1 = pd.read_csv('../data/test.tsv', sep='\\t')\n",
    "df2 = pd.read_csv('../data/valid.tsv', sep='\\t')\n",
    "columns = [\"ID\",\"label\",\"statement\",\"subject\",\"speaker\",\"jobtitle\",\"state\",\"party\",\"barely\",\"false\",\"half\",\"mostly\",\"pantsfire\",\"context\"]\n",
    "\n",
    "df = pd.DataFrame(np.vstack([df.columns, df]))\n",
    "df1 = pd.DataFrame(np.vstack([df1.columns, df1]))\n",
    "df2 = pd.DataFrame(np.vstack([df2.columns, df2]))\n",
    "\n",
    "df.columns = columns\n",
    "df1.columns = columns\n",
    "df2.columns = columns\n",
    "\n",
    "df = df.append(df1, ignore_index = True)\n",
    "df = df.append(df2, ignore_index = True)\n",
    "\n",
    "df = df.drop_duplicates()\n",
    "df = df.dropna()\n",
    "df = df.reset_index(drop=True)\n",
    "\n",
    "df['label'] = df['label'].map({'pants-fire': 0, 'false': 1, 'barely-true': 2, 'half-true' : 3, 'mostly-true' : 4, 'true' : 5})\n",
    "\n",
    "\n",
    "#df['statement'] = df['statement'] + \" \" + df['context']\n",
    "#df = df.drop('context', axis=1)\n",
    "\n",
    "\n",
    "#labelencoder = LabelEncoder()\n",
    "#df['speaker'] = labelencoder.fit_transform(df['speaker'])\n",
    "#df['subject'] = labelencoder.fit_transform(df['subject'])\n",
    "#df['jobtitle'] = labelencoder.fit_transform(df['jobtitle'])\n",
    "#df['state'] = labelencoder.fit_transform(df['state'])\n",
    "#df['party'] = labelencoder.fit_transform(df['party'])\n",
    "#df['context'] = labelencoder.fit_transform(df['context'])"
   ]
  },
  {
   "cell_type": "code",
   "execution_count": 12,
   "metadata": {},
   "outputs": [],
   "source": [
    "# Remove punctuation, convert to lowercase, remove stopwords, filter nouns adjectives verbs, stemming\n",
    "\n",
    "def preprocess(df, col):\n",
    "    porter = PorterStemmer()\n",
    "    filterpos = [\"JJ\",\"JJR\",\"JJS\",\"NN\",\"NNS\",\"NNP\",\"NNPS\",\"POS\",\"VB\",\"VBD\",\"VBG\",\"VBN\",\"VBP\",\"VBZ\",\"FW\"]\n",
    "    df.loc[:, col] = df[col].apply(lambda x : str.lower(x))\n",
    "    df.loc[:,col] = df[col].apply(lambda x : \" \".join(re.findall('[\\w]+',x)))\n",
    "    stop = stopwords.words('english')\n",
    "    df[col] = df[col].apply(lambda x: ' '.join([word for word in x.split() if word not in (stop)]))\n",
    "    df[col] = df[col].apply(lambda x: ' '.join([word for word in x.split() if (nltk.pos_tag([word]))[0][1] in filterpos]))\n",
    "    df[col] = df[col].apply(lambda x: ' '.join([porter.stem(word) for word in x.split()]))\n",
    "    return df\n"
   ]
  },
  {
   "cell_type": "code",
   "execution_count": 13,
   "metadata": {},
   "outputs": [
    {
     "data": {
      "text/html": [
       "<div>\n",
       "<style scoped>\n",
       "    .dataframe tbody tr th:only-of-type {\n",
       "        vertical-align: middle;\n",
       "    }\n",
       "\n",
       "    .dataframe tbody tr th {\n",
       "        vertical-align: top;\n",
       "    }\n",
       "\n",
       "    .dataframe thead th {\n",
       "        text-align: right;\n",
       "    }\n",
       "</style>\n",
       "<table border=\"1\" class=\"dataframe\">\n",
       "  <thead>\n",
       "    <tr style=\"text-align: right;\">\n",
       "      <th></th>\n",
       "      <th>ID</th>\n",
       "      <th>label</th>\n",
       "      <th>statement</th>\n",
       "      <th>subject</th>\n",
       "      <th>speaker</th>\n",
       "      <th>jobtitle</th>\n",
       "      <th>state</th>\n",
       "      <th>party</th>\n",
       "      <th>barely</th>\n",
       "      <th>false</th>\n",
       "      <th>half</th>\n",
       "      <th>mostly</th>\n",
       "      <th>pantsfire</th>\n",
       "      <th>context</th>\n",
       "    </tr>\n",
       "  </thead>\n",
       "  <tbody>\n",
       "    <tr>\n",
       "      <th>0</th>\n",
       "      <td>2635.json</td>\n",
       "      <td>1</td>\n",
       "      <td>Says the Annies List political group supports ...</td>\n",
       "      <td>abortion</td>\n",
       "      <td>dwayne-bohac</td>\n",
       "      <td>State representative</td>\n",
       "      <td>Texas</td>\n",
       "      <td>republican</td>\n",
       "      <td>0</td>\n",
       "      <td>1</td>\n",
       "      <td>0.1</td>\n",
       "      <td>0.2</td>\n",
       "      <td>0.3</td>\n",
       "      <td>a mailer</td>\n",
       "    </tr>\n",
       "    <tr>\n",
       "      <th>1</th>\n",
       "      <td>10540.json</td>\n",
       "      <td>3</td>\n",
       "      <td>When did the decline of coal start? It started...</td>\n",
       "      <td>energy,history,job-accomplishments</td>\n",
       "      <td>scott-surovell</td>\n",
       "      <td>State delegate</td>\n",
       "      <td>Virginia</td>\n",
       "      <td>democrat</td>\n",
       "      <td>0</td>\n",
       "      <td>0</td>\n",
       "      <td>1</td>\n",
       "      <td>1</td>\n",
       "      <td>0</td>\n",
       "      <td>a floor speech.</td>\n",
       "    </tr>\n",
       "    <tr>\n",
       "      <th>2</th>\n",
       "      <td>324.json</td>\n",
       "      <td>4</td>\n",
       "      <td>Hillary Clinton agrees with John McCain \"by vo...</td>\n",
       "      <td>foreign-policy</td>\n",
       "      <td>barack-obama</td>\n",
       "      <td>President</td>\n",
       "      <td>Illinois</td>\n",
       "      <td>democrat</td>\n",
       "      <td>70</td>\n",
       "      <td>71</td>\n",
       "      <td>160</td>\n",
       "      <td>163</td>\n",
       "      <td>9</td>\n",
       "      <td>Denver</td>\n",
       "    </tr>\n",
       "    <tr>\n",
       "      <th>3</th>\n",
       "      <td>12465.json</td>\n",
       "      <td>5</td>\n",
       "      <td>The Chicago Bears have had more starting quart...</td>\n",
       "      <td>education</td>\n",
       "      <td>robin-vos</td>\n",
       "      <td>Wisconsin Assembly speaker</td>\n",
       "      <td>Wisconsin</td>\n",
       "      <td>republican</td>\n",
       "      <td>0</td>\n",
       "      <td>3</td>\n",
       "      <td>2</td>\n",
       "      <td>5</td>\n",
       "      <td>1</td>\n",
       "      <td>a an online opinion-piece</td>\n",
       "    </tr>\n",
       "    <tr>\n",
       "      <th>4</th>\n",
       "      <td>153.json</td>\n",
       "      <td>3</td>\n",
       "      <td>I'm the only person on this stage who has work...</td>\n",
       "      <td>ethics</td>\n",
       "      <td>barack-obama</td>\n",
       "      <td>President</td>\n",
       "      <td>Illinois</td>\n",
       "      <td>democrat</td>\n",
       "      <td>70</td>\n",
       "      <td>71</td>\n",
       "      <td>160</td>\n",
       "      <td>163</td>\n",
       "      <td>9</td>\n",
       "      <td>a Democratic debate in Philadelphia, Pa.</td>\n",
       "    </tr>\n",
       "  </tbody>\n",
       "</table>\n",
       "</div>"
      ],
      "text/plain": [
       "           ID  label                                          statement  \\\n",
       "0   2635.json      1  Says the Annies List political group supports ...   \n",
       "1  10540.json      3  When did the decline of coal start? It started...   \n",
       "2    324.json      4  Hillary Clinton agrees with John McCain \"by vo...   \n",
       "3  12465.json      5  The Chicago Bears have had more starting quart...   \n",
       "4    153.json      3  I'm the only person on this stage who has work...   \n",
       "\n",
       "                              subject         speaker  \\\n",
       "0                            abortion    dwayne-bohac   \n",
       "1  energy,history,job-accomplishments  scott-surovell   \n",
       "2                      foreign-policy    barack-obama   \n",
       "3                           education       robin-vos   \n",
       "4                              ethics    barack-obama   \n",
       "\n",
       "                     jobtitle      state       party barely false half mostly  \\\n",
       "0        State representative      Texas  republican      0     1  0.1    0.2   \n",
       "1              State delegate   Virginia    democrat      0     0    1      1   \n",
       "2                   President   Illinois    democrat     70    71  160    163   \n",
       "3  Wisconsin Assembly speaker  Wisconsin  republican      0     3    2      5   \n",
       "4                   President   Illinois    democrat     70    71  160    163   \n",
       "\n",
       "  pantsfire                                   context  \n",
       "0       0.3                                  a mailer  \n",
       "1         0                           a floor speech.  \n",
       "2         9                                    Denver  \n",
       "3         1                 a an online opinion-piece  \n",
       "4         9  a Democratic debate in Philadelphia, Pa.  "
      ]
     },
     "execution_count": 13,
     "metadata": {},
     "output_type": "execute_result"
    }
   ],
   "source": [
    "df.head()"
   ]
  },
  {
   "cell_type": "code",
   "execution_count": 16,
   "metadata": {},
   "outputs": [
    {
     "data": {
      "text/html": [
       "<div>\n",
       "<style scoped>\n",
       "    .dataframe tbody tr th:only-of-type {\n",
       "        vertical-align: middle;\n",
       "    }\n",
       "\n",
       "    .dataframe tbody tr th {\n",
       "        vertical-align: top;\n",
       "    }\n",
       "\n",
       "    .dataframe thead th {\n",
       "        text-align: right;\n",
       "    }\n",
       "</style>\n",
       "<table border=\"1\" class=\"dataframe\">\n",
       "  <thead>\n",
       "    <tr style=\"text-align: right;\">\n",
       "      <th></th>\n",
       "      <th>ID</th>\n",
       "      <th>label</th>\n",
       "      <th>statement</th>\n",
       "      <th>subject</th>\n",
       "      <th>speaker</th>\n",
       "      <th>jobtitle</th>\n",
       "      <th>state</th>\n",
       "      <th>party</th>\n",
       "      <th>barely</th>\n",
       "      <th>false</th>\n",
       "      <th>half</th>\n",
       "      <th>mostly</th>\n",
       "      <th>pantsfire</th>\n",
       "      <th>context</th>\n",
       "    </tr>\n",
       "  </thead>\n",
       "  <tbody>\n",
       "    <tr>\n",
       "      <th>0</th>\n",
       "      <td>2635.json</td>\n",
       "      <td>1</td>\n",
       "      <td>say anni list polit group support third trimes...</td>\n",
       "      <td>abortion</td>\n",
       "      <td>dwayne-bohac</td>\n",
       "      <td>State representative</td>\n",
       "      <td>Texas</td>\n",
       "      <td>republican</td>\n",
       "      <td>0</td>\n",
       "      <td>1</td>\n",
       "      <td>0.1</td>\n",
       "      <td>0.2</td>\n",
       "      <td>0.3</td>\n",
       "      <td>a mailer</td>\n",
       "    </tr>\n",
       "    <tr>\n",
       "      <th>1</th>\n",
       "      <td>10540.json</td>\n",
       "      <td>3</td>\n",
       "      <td>declin coal start start natur ga took start be...</td>\n",
       "      <td>energy,history,job-accomplishments</td>\n",
       "      <td>scott-surovell</td>\n",
       "      <td>State delegate</td>\n",
       "      <td>Virginia</td>\n",
       "      <td>democrat</td>\n",
       "      <td>0</td>\n",
       "      <td>0</td>\n",
       "      <td>1</td>\n",
       "      <td>1</td>\n",
       "      <td>0</td>\n",
       "      <td>a floor speech.</td>\n",
       "    </tr>\n",
       "    <tr>\n",
       "      <th>2</th>\n",
       "      <td>324.json</td>\n",
       "      <td>4</td>\n",
       "      <td>hillari clinton agre john mccain vote give geo...</td>\n",
       "      <td>foreign-policy</td>\n",
       "      <td>barack-obama</td>\n",
       "      <td>President</td>\n",
       "      <td>Illinois</td>\n",
       "      <td>democrat</td>\n",
       "      <td>70</td>\n",
       "      <td>71</td>\n",
       "      <td>160</td>\n",
       "      <td>163</td>\n",
       "      <td>9</td>\n",
       "      <td>Denver</td>\n",
       "    </tr>\n",
       "    <tr>\n",
       "      <th>3</th>\n",
       "      <td>12465.json</td>\n",
       "      <td>5</td>\n",
       "      <td>chicago bear start quarterback last year total...</td>\n",
       "      <td>education</td>\n",
       "      <td>robin-vos</td>\n",
       "      <td>Wisconsin Assembly speaker</td>\n",
       "      <td>Wisconsin</td>\n",
       "      <td>republican</td>\n",
       "      <td>0</td>\n",
       "      <td>3</td>\n",
       "      <td>2</td>\n",
       "      <td>5</td>\n",
       "      <td>1</td>\n",
       "      <td>a an online opinion-piece</td>\n",
       "    </tr>\n",
       "    <tr>\n",
       "      <th>4</th>\n",
       "      <td>153.json</td>\n",
       "      <td>3</td>\n",
       "      <td>person stage work last year pass russ feingold...</td>\n",
       "      <td>ethics</td>\n",
       "      <td>barack-obama</td>\n",
       "      <td>President</td>\n",
       "      <td>Illinois</td>\n",
       "      <td>democrat</td>\n",
       "      <td>70</td>\n",
       "      <td>71</td>\n",
       "      <td>160</td>\n",
       "      <td>163</td>\n",
       "      <td>9</td>\n",
       "      <td>a Democratic debate in Philadelphia, Pa.</td>\n",
       "    </tr>\n",
       "    <tr>\n",
       "      <th>...</th>\n",
       "      <td>...</td>\n",
       "      <td>...</td>\n",
       "      <td>...</td>\n",
       "      <td>...</td>\n",
       "      <td>...</td>\n",
       "      <td>...</td>\n",
       "      <td>...</td>\n",
       "      <td>...</td>\n",
       "      <td>...</td>\n",
       "      <td>...</td>\n",
       "      <td>...</td>\n",
       "      <td>...</td>\n",
       "      <td>...</td>\n",
       "      <td>...</td>\n",
       "    </tr>\n",
       "    <tr>\n",
       "      <th>8433</th>\n",
       "      <td>7013.json</td>\n",
       "      <td>2</td>\n",
       "      <td>say u rep charl bass want privat social secur</td>\n",
       "      <td>social-security</td>\n",
       "      <td>ann-mclane-kuster</td>\n",
       "      <td>Attorney</td>\n",
       "      <td>New Hampshire</td>\n",
       "      <td>democrat</td>\n",
       "      <td>2</td>\n",
       "      <td>1</td>\n",
       "      <td>3</td>\n",
       "      <td>0</td>\n",
       "      <td>0</td>\n",
       "      <td>an ad, “Janice,” released September 6, 2012</td>\n",
       "    </tr>\n",
       "    <tr>\n",
       "      <th>8434</th>\n",
       "      <td>2661.json</td>\n",
       "      <td>0</td>\n",
       "      <td>past year democrat spent money countri spent l...</td>\n",
       "      <td>federal-budget,history</td>\n",
       "      <td>eric-cantor</td>\n",
       "      <td>House Majority Leader</td>\n",
       "      <td>Virginia</td>\n",
       "      <td>republican</td>\n",
       "      <td>9</td>\n",
       "      <td>6</td>\n",
       "      <td>4</td>\n",
       "      <td>4</td>\n",
       "      <td>4</td>\n",
       "      <td>an interview on Comedy Central's Daily Show wi...</td>\n",
       "    </tr>\n",
       "    <tr>\n",
       "      <th>8435</th>\n",
       "      <td>3419.json</td>\n",
       "      <td>3</td>\n",
       "      <td>time decad import account half oil consum</td>\n",
       "      <td>energy,oil-spill,trade</td>\n",
       "      <td>barack-obama</td>\n",
       "      <td>President</td>\n",
       "      <td>Illinois</td>\n",
       "      <td>democrat</td>\n",
       "      <td>70</td>\n",
       "      <td>71</td>\n",
       "      <td>160</td>\n",
       "      <td>163</td>\n",
       "      <td>9</td>\n",
       "      <td>a press conference</td>\n",
       "    </tr>\n",
       "    <tr>\n",
       "      <th>8436</th>\n",
       "      <td>12548.json</td>\n",
       "      <td>4</td>\n",
       "      <td>say donald trump bankrupt compani time</td>\n",
       "      <td>candidates-biography</td>\n",
       "      <td>hillary-clinton</td>\n",
       "      <td>Presidential candidate</td>\n",
       "      <td>New York</td>\n",
       "      <td>democrat</td>\n",
       "      <td>40</td>\n",
       "      <td>29</td>\n",
       "      <td>69</td>\n",
       "      <td>76</td>\n",
       "      <td>7</td>\n",
       "      <td>a speech on the economy</td>\n",
       "    </tr>\n",
       "    <tr>\n",
       "      <th>8437</th>\n",
       "      <td>9117.json</td>\n",
       "      <td>2</td>\n",
       "      <td>claim report vindic new jersey gov chri christ...</td>\n",
       "      <td>candidates-biography,infrastructure</td>\n",
       "      <td>rudy-giuliani</td>\n",
       "      <td>Attorney</td>\n",
       "      <td>New York</td>\n",
       "      <td>republican</td>\n",
       "      <td>9</td>\n",
       "      <td>11</td>\n",
       "      <td>10</td>\n",
       "      <td>7</td>\n",
       "      <td>3</td>\n",
       "      <td>comments on NBC's \"Meet the Press\"</td>\n",
       "    </tr>\n",
       "  </tbody>\n",
       "</table>\n",
       "<p>8438 rows × 14 columns</p>\n",
       "</div>"
      ],
      "text/plain": [
       "              ID  label                                          statement  \\\n",
       "0      2635.json      1  say anni list polit group support third trimes...   \n",
       "1     10540.json      3  declin coal start start natur ga took start be...   \n",
       "2       324.json      4  hillari clinton agre john mccain vote give geo...   \n",
       "3     12465.json      5  chicago bear start quarterback last year total...   \n",
       "4       153.json      3  person stage work last year pass russ feingold...   \n",
       "...          ...    ...                                                ...   \n",
       "8433   7013.json      2      say u rep charl bass want privat social secur   \n",
       "8434   2661.json      0  past year democrat spent money countri spent l...   \n",
       "8435   3419.json      3          time decad import account half oil consum   \n",
       "8436  12548.json      4             say donald trump bankrupt compani time   \n",
       "8437   9117.json      2  claim report vindic new jersey gov chri christ...   \n",
       "\n",
       "                                  subject            speaker  \\\n",
       "0                                abortion       dwayne-bohac   \n",
       "1      energy,history,job-accomplishments     scott-surovell   \n",
       "2                          foreign-policy       barack-obama   \n",
       "3                               education          robin-vos   \n",
       "4                                  ethics       barack-obama   \n",
       "...                                   ...                ...   \n",
       "8433                      social-security  ann-mclane-kuster   \n",
       "8434               federal-budget,history        eric-cantor   \n",
       "8435               energy,oil-spill,trade       barack-obama   \n",
       "8436                 candidates-biography    hillary-clinton   \n",
       "8437  candidates-biography,infrastructure      rudy-giuliani   \n",
       "\n",
       "                        jobtitle          state       party barely false half  \\\n",
       "0           State representative          Texas  republican      0     1  0.1   \n",
       "1                 State delegate       Virginia    democrat      0     0    1   \n",
       "2                      President       Illinois    democrat     70    71  160   \n",
       "3     Wisconsin Assembly speaker      Wisconsin  republican      0     3    2   \n",
       "4                      President       Illinois    democrat     70    71  160   \n",
       "...                          ...            ...         ...    ...   ...  ...   \n",
       "8433                    Attorney  New Hampshire    democrat      2     1    3   \n",
       "8434       House Majority Leader       Virginia  republican      9     6    4   \n",
       "8435                   President       Illinois    democrat     70    71  160   \n",
       "8436      Presidential candidate       New York    democrat     40    29   69   \n",
       "8437                    Attorney       New York  republican      9    11   10   \n",
       "\n",
       "     mostly pantsfire                                            context  \n",
       "0       0.2       0.3                                           a mailer  \n",
       "1         1         0                                    a floor speech.  \n",
       "2       163         9                                             Denver  \n",
       "3         5         1                          a an online opinion-piece  \n",
       "4       163         9           a Democratic debate in Philadelphia, Pa.  \n",
       "...     ...       ...                                                ...  \n",
       "8433      0         0        an ad, “Janice,” released September 6, 2012  \n",
       "8434      4         4  an interview on Comedy Central's Daily Show wi...  \n",
       "8435    163         9                                 a press conference  \n",
       "8436     76         7                            a speech on the economy  \n",
       "8437      7         3                 comments on NBC's \"Meet the Press\"  \n",
       "\n",
       "[8438 rows x 14 columns]"
      ]
     },
     "execution_count": 16,
     "metadata": {},
     "output_type": "execute_result"
    }
   ],
   "source": [
    "df"
   ]
  },
  {
   "cell_type": "code",
   "execution_count": 14,
   "metadata": {},
   "outputs": [],
   "source": [
    "df = preprocess(df, 'statement')"
   ]
  },
  {
   "cell_type": "code",
   "execution_count": 15,
   "metadata": {},
   "outputs": [
    {
     "data": {
      "text/html": [
       "<div>\n",
       "<style scoped>\n",
       "    .dataframe tbody tr th:only-of-type {\n",
       "        vertical-align: middle;\n",
       "    }\n",
       "\n",
       "    .dataframe tbody tr th {\n",
       "        vertical-align: top;\n",
       "    }\n",
       "\n",
       "    .dataframe thead th {\n",
       "        text-align: right;\n",
       "    }\n",
       "</style>\n",
       "<table border=\"1\" class=\"dataframe\">\n",
       "  <thead>\n",
       "    <tr style=\"text-align: right;\">\n",
       "      <th></th>\n",
       "      <th>ID</th>\n",
       "      <th>label</th>\n",
       "      <th>statement</th>\n",
       "      <th>subject</th>\n",
       "      <th>speaker</th>\n",
       "      <th>jobtitle</th>\n",
       "      <th>state</th>\n",
       "      <th>party</th>\n",
       "      <th>barely</th>\n",
       "      <th>false</th>\n",
       "      <th>half</th>\n",
       "      <th>mostly</th>\n",
       "      <th>pantsfire</th>\n",
       "      <th>context</th>\n",
       "    </tr>\n",
       "  </thead>\n",
       "  <tbody>\n",
       "    <tr>\n",
       "      <th>0</th>\n",
       "      <td>2635.json</td>\n",
       "      <td>1</td>\n",
       "      <td>say anni list polit group support third trimes...</td>\n",
       "      <td>abortion</td>\n",
       "      <td>dwayne-bohac</td>\n",
       "      <td>State representative</td>\n",
       "      <td>Texas</td>\n",
       "      <td>republican</td>\n",
       "      <td>0</td>\n",
       "      <td>1</td>\n",
       "      <td>0.1</td>\n",
       "      <td>0.2</td>\n",
       "      <td>0.3</td>\n",
       "      <td>a mailer</td>\n",
       "    </tr>\n",
       "    <tr>\n",
       "      <th>1</th>\n",
       "      <td>10540.json</td>\n",
       "      <td>3</td>\n",
       "      <td>declin coal start start natur ga took start be...</td>\n",
       "      <td>energy,history,job-accomplishments</td>\n",
       "      <td>scott-surovell</td>\n",
       "      <td>State delegate</td>\n",
       "      <td>Virginia</td>\n",
       "      <td>democrat</td>\n",
       "      <td>0</td>\n",
       "      <td>0</td>\n",
       "      <td>1</td>\n",
       "      <td>1</td>\n",
       "      <td>0</td>\n",
       "      <td>a floor speech.</td>\n",
       "    </tr>\n",
       "    <tr>\n",
       "      <th>2</th>\n",
       "      <td>324.json</td>\n",
       "      <td>4</td>\n",
       "      <td>hillari clinton agre john mccain vote give geo...</td>\n",
       "      <td>foreign-policy</td>\n",
       "      <td>barack-obama</td>\n",
       "      <td>President</td>\n",
       "      <td>Illinois</td>\n",
       "      <td>democrat</td>\n",
       "      <td>70</td>\n",
       "      <td>71</td>\n",
       "      <td>160</td>\n",
       "      <td>163</td>\n",
       "      <td>9</td>\n",
       "      <td>Denver</td>\n",
       "    </tr>\n",
       "    <tr>\n",
       "      <th>3</th>\n",
       "      <td>12465.json</td>\n",
       "      <td>5</td>\n",
       "      <td>chicago bear start quarterback last year total...</td>\n",
       "      <td>education</td>\n",
       "      <td>robin-vos</td>\n",
       "      <td>Wisconsin Assembly speaker</td>\n",
       "      <td>Wisconsin</td>\n",
       "      <td>republican</td>\n",
       "      <td>0</td>\n",
       "      <td>3</td>\n",
       "      <td>2</td>\n",
       "      <td>5</td>\n",
       "      <td>1</td>\n",
       "      <td>a an online opinion-piece</td>\n",
       "    </tr>\n",
       "    <tr>\n",
       "      <th>4</th>\n",
       "      <td>153.json</td>\n",
       "      <td>3</td>\n",
       "      <td>person stage work last year pass russ feingold...</td>\n",
       "      <td>ethics</td>\n",
       "      <td>barack-obama</td>\n",
       "      <td>President</td>\n",
       "      <td>Illinois</td>\n",
       "      <td>democrat</td>\n",
       "      <td>70</td>\n",
       "      <td>71</td>\n",
       "      <td>160</td>\n",
       "      <td>163</td>\n",
       "      <td>9</td>\n",
       "      <td>a Democratic debate in Philadelphia, Pa.</td>\n",
       "    </tr>\n",
       "  </tbody>\n",
       "</table>\n",
       "</div>"
      ],
      "text/plain": [
       "           ID  label                                          statement  \\\n",
       "0   2635.json      1  say anni list polit group support third trimes...   \n",
       "1  10540.json      3  declin coal start start natur ga took start be...   \n",
       "2    324.json      4  hillari clinton agre john mccain vote give geo...   \n",
       "3  12465.json      5  chicago bear start quarterback last year total...   \n",
       "4    153.json      3  person stage work last year pass russ feingold...   \n",
       "\n",
       "                              subject         speaker  \\\n",
       "0                            abortion    dwayne-bohac   \n",
       "1  energy,history,job-accomplishments  scott-surovell   \n",
       "2                      foreign-policy    barack-obama   \n",
       "3                           education       robin-vos   \n",
       "4                              ethics    barack-obama   \n",
       "\n",
       "                     jobtitle      state       party barely false half mostly  \\\n",
       "0        State representative      Texas  republican      0     1  0.1    0.2   \n",
       "1              State delegate   Virginia    democrat      0     0    1      1   \n",
       "2                   President   Illinois    democrat     70    71  160    163   \n",
       "3  Wisconsin Assembly speaker  Wisconsin  republican      0     3    2      5   \n",
       "4                   President   Illinois    democrat     70    71  160    163   \n",
       "\n",
       "  pantsfire                                   context  \n",
       "0       0.3                                  a mailer  \n",
       "1         0                           a floor speech.  \n",
       "2         9                                    Denver  \n",
       "3         1                 a an online opinion-piece  \n",
       "4         9  a Democratic debate in Philadelphia, Pa.  "
      ]
     },
     "execution_count": 15,
     "metadata": {},
     "output_type": "execute_result"
    }
   ],
   "source": [
    "df.head(5)"
   ]
  },
  {
   "cell_type": "code",
   "execution_count": 8,
   "metadata": {},
   "outputs": [
    {
     "data": {
      "text/plain": [
       "'says annies list political group supports third trimester abortions demand'"
      ]
     },
     "execution_count": 8,
     "metadata": {},
     "output_type": "execute_result"
    }
   ],
   "source": [
    "df['statement'][0]"
   ]
  },
  {
   "cell_type": "code",
   "execution_count": 13,
   "metadata": {},
   "outputs": [],
   "source": [
    "df = preprocess(df, 'subject')\n",
    "df = preprocess(df, 'speaker')\n",
    "df = preprocess(df, 'jobtitle')\n",
    "df = preprocess(df, 'state')\n",
    "df = preprocess(df, 'party')\n",
    "df = preprocess(df, 'context')"
   ]
  },
  {
   "cell_type": "code",
   "execution_count": 14,
   "metadata": {},
   "outputs": [
    {
     "data": {
      "text/html": [
       "<div>\n",
       "<style scoped>\n",
       "    .dataframe tbody tr th:only-of-type {\n",
       "        vertical-align: middle;\n",
       "    }\n",
       "\n",
       "    .dataframe tbody tr th {\n",
       "        vertical-align: top;\n",
       "    }\n",
       "\n",
       "    .dataframe thead th {\n",
       "        text-align: right;\n",
       "    }\n",
       "</style>\n",
       "<table border=\"1\" class=\"dataframe\">\n",
       "  <thead>\n",
       "    <tr style=\"text-align: right;\">\n",
       "      <th></th>\n",
       "      <th>ID</th>\n",
       "      <th>label</th>\n",
       "      <th>statement</th>\n",
       "      <th>subject</th>\n",
       "      <th>speaker</th>\n",
       "      <th>jobtitle</th>\n",
       "      <th>state</th>\n",
       "      <th>party</th>\n",
       "      <th>barely</th>\n",
       "      <th>false</th>\n",
       "      <th>half</th>\n",
       "      <th>mostly</th>\n",
       "      <th>pantsfire</th>\n",
       "      <th>context</th>\n",
       "    </tr>\n",
       "  </thead>\n",
       "  <tbody>\n",
       "    <tr>\n",
       "      <th>0</th>\n",
       "      <td>2635.json</td>\n",
       "      <td>1</td>\n",
       "      <td>say anni list polit group support third trimes...</td>\n",
       "      <td>abort</td>\n",
       "      <td>dwayn bohac</td>\n",
       "      <td>state repres</td>\n",
       "      <td>texa</td>\n",
       "      <td>republican</td>\n",
       "      <td>0</td>\n",
       "      <td>1</td>\n",
       "      <td>0.1</td>\n",
       "      <td>0.2</td>\n",
       "      <td>0.3</td>\n",
       "      <td>mailer</td>\n",
       "    </tr>\n",
       "    <tr>\n",
       "      <th>1</th>\n",
       "      <td>10540.json</td>\n",
       "      <td>3</td>\n",
       "      <td>declin coal start start natur ga took start be...</td>\n",
       "      <td>energi histori job accomplish</td>\n",
       "      <td>scott surovel</td>\n",
       "      <td>state deleg</td>\n",
       "      <td>virginia</td>\n",
       "      <td>democrat</td>\n",
       "      <td>0</td>\n",
       "      <td>0</td>\n",
       "      <td>1</td>\n",
       "      <td>1</td>\n",
       "      <td>0</td>\n",
       "      <td>floor speech</td>\n",
       "    </tr>\n",
       "    <tr>\n",
       "      <th>2</th>\n",
       "      <td>324.json</td>\n",
       "      <td>4</td>\n",
       "      <td>hillari clinton agre john mccain vote give geo...</td>\n",
       "      <td>foreign polici</td>\n",
       "      <td>barack obama</td>\n",
       "      <td>presid</td>\n",
       "      <td>illinoi</td>\n",
       "      <td>democrat</td>\n",
       "      <td>70</td>\n",
       "      <td>71</td>\n",
       "      <td>160</td>\n",
       "      <td>163</td>\n",
       "      <td>9</td>\n",
       "      <td>denver</td>\n",
       "    </tr>\n",
       "    <tr>\n",
       "      <th>3</th>\n",
       "      <td>12465.json</td>\n",
       "      <td>5</td>\n",
       "      <td>chicago bear start quarterback last year total...</td>\n",
       "      <td>educ</td>\n",
       "      <td>robin vo</td>\n",
       "      <td>wisconsin speaker</td>\n",
       "      <td>wisconsin</td>\n",
       "      <td>republican</td>\n",
       "      <td>0</td>\n",
       "      <td>3</td>\n",
       "      <td>2</td>\n",
       "      <td>5</td>\n",
       "      <td>1</td>\n",
       "      <td>onlin opinion piec</td>\n",
       "    </tr>\n",
       "    <tr>\n",
       "      <th>4</th>\n",
       "      <td>153.json</td>\n",
       "      <td>3</td>\n",
       "      <td>person stage work last year pass russ feingold...</td>\n",
       "      <td>ethic</td>\n",
       "      <td>barack obama</td>\n",
       "      <td>presid</td>\n",
       "      <td>illinoi</td>\n",
       "      <td>democrat</td>\n",
       "      <td>70</td>\n",
       "      <td>71</td>\n",
       "      <td>160</td>\n",
       "      <td>163</td>\n",
       "      <td>9</td>\n",
       "      <td>democrat debat philadelphia pa</td>\n",
       "    </tr>\n",
       "  </tbody>\n",
       "</table>\n",
       "</div>"
      ],
      "text/plain": [
       "           ID  label                                          statement  \\\n",
       "0   2635.json      1  say anni list polit group support third trimes...   \n",
       "1  10540.json      3  declin coal start start natur ga took start be...   \n",
       "2    324.json      4  hillari clinton agre john mccain vote give geo...   \n",
       "3  12465.json      5  chicago bear start quarterback last year total...   \n",
       "4    153.json      3  person stage work last year pass russ feingold...   \n",
       "\n",
       "                         subject        speaker           jobtitle      state  \\\n",
       "0                          abort    dwayn bohac       state repres       texa   \n",
       "1  energi histori job accomplish  scott surovel        state deleg   virginia   \n",
       "2                 foreign polici   barack obama             presid    illinoi   \n",
       "3                           educ       robin vo  wisconsin speaker  wisconsin   \n",
       "4                          ethic   barack obama             presid    illinoi   \n",
       "\n",
       "        party barely false half mostly pantsfire  \\\n",
       "0  republican      0     1  0.1    0.2       0.3   \n",
       "1    democrat      0     0    1      1         0   \n",
       "2    democrat     70    71  160    163         9   \n",
       "3  republican      0     3    2      5         1   \n",
       "4    democrat     70    71  160    163         9   \n",
       "\n",
       "                          context  \n",
       "0                          mailer  \n",
       "1                    floor speech  \n",
       "2                          denver  \n",
       "3              onlin opinion piec  \n",
       "4  democrat debat philadelphia pa  "
      ]
     },
     "execution_count": 14,
     "metadata": {},
     "output_type": "execute_result"
    }
   ],
   "source": [
    "df.head()"
   ]
  },
  {
   "cell_type": "code",
   "execution_count": 16,
   "metadata": {},
   "outputs": [],
   "source": [
    "X_train, y_train, X_valid, y_valid, X_test, y_test = train_valid_test_split(df, target = 'label', train_size=0.8, valid_size=0.1, test_size=0.1)"
   ]
  },
  {
   "cell_type": "code",
   "execution_count": 17,
   "metadata": {},
   "outputs": [
    {
     "name": "stdout",
     "output_type": "stream",
     "text": [
      "1    187\n",
      "3    185\n",
      "5    146\n",
      "4    145\n",
      "2    133\n",
      "0     48\n",
      "Name: label, dtype: int64\n"
     ]
    }
   ],
   "source": [
    "print(y_test.value_counts())"
   ]
  },
  {
   "cell_type": "code",
   "execution_count": 18,
   "metadata": {},
   "outputs": [
    {
     "data": {
      "text/plain": [
       "TfidfVectorizer(analyzer='word', binary=False, decode_error='strict',\n",
       "                dtype=<class 'numpy.float64'>, encoding='utf-8',\n",
       "                input='content', lowercase=False, max_df=1.0, max_features=3500,\n",
       "                min_df=1, ngram_range=(1, 1), norm='l2', preprocessor=None,\n",
       "                smooth_idf=True, stop_words='english', strip_accents=None,\n",
       "                sublinear_tf=False, token_pattern='(?u)\\\\b\\\\w\\\\w+\\\\b',\n",
       "                tokenizer=<function identity_tokenizer at 0x00000214A54BB558>,\n",
       "                use_idf=True, vocabulary=None)"
      ]
     },
     "execution_count": 18,
     "metadata": {},
     "output_type": "execute_result"
    }
   ],
   "source": [
    "def identity_tokenizer(text):\n",
    "    return text\n",
    "tfidf_vectorizer = TfidfVectorizer(tokenizer=identity_tokenizer, stop_words='english', lowercase=False, max_features=3500)\n",
    "tfidf_vectorizer.fit(df['statement'])"
   ]
  },
  {
   "cell_type": "code",
   "execution_count": 19,
   "metadata": {},
   "outputs": [],
   "source": [
    "tfidf_train_vectors = tfidf_vectorizer.fit_transform(X_train['statement'])\n",
    "tfidf_valid_vectors = tfidf_vectorizer.fit_transform(X_valid['statement'])\n",
    "tfidf_test_vectors = tfidf_vectorizer.fit_transform(X_test['statement'])"
   ]
  },
  {
   "cell_type": "code",
   "execution_count": 20,
   "metadata": {
    "scrolled": true
   },
   "outputs": [
    {
     "data": {
      "text/plain": [
       "<6750x36 sparse matrix of type '<class 'numpy.float64'>'\n",
       "\twith 108940 stored elements in Compressed Sparse Row format>"
      ]
     },
     "execution_count": 20,
     "metadata": {},
     "output_type": "execute_result"
    }
   ],
   "source": [
    "tfidf_train_vectors"
   ]
  },
  {
   "cell_type": "code",
   "execution_count": 21,
   "metadata": {},
   "outputs": [
    {
     "data": {
      "text/plain": [
       "<844x30 sparse matrix of type '<class 'numpy.float64'>'\n",
       "\twith 13561 stored elements in Compressed Sparse Row format>"
      ]
     },
     "execution_count": 21,
     "metadata": {},
     "output_type": "execute_result"
    }
   ],
   "source": [
    "tfidf_test_vectors"
   ]
  },
  {
   "cell_type": "code",
   "execution_count": 22,
   "metadata": {},
   "outputs": [
    {
     "data": {
      "text/plain": [
       "<844x32 sparse matrix of type '<class 'numpy.float64'>'\n",
       "\twith 13615 stored elements in Compressed Sparse Row format>"
      ]
     },
     "execution_count": 22,
     "metadata": {},
     "output_type": "execute_result"
    }
   ],
   "source": [
    "tfidf_valid_vectors"
   ]
  },
  {
   "cell_type": "code",
   "execution_count": 23,
   "metadata": {},
   "outputs": [],
   "source": [
    "transformer = FeatureUnion([\n",
    "                ('statement_tfidf', \n",
    "                  Pipeline([('extract_field',\n",
    "                              FunctionTransformer(lambda x: x['statement'], \n",
    "                                                  validate=False)),\n",
    "                            ('tfidf', \n",
    "                              TfidfVectorizer())])),\n",
    "                ('subject_tfidf', \n",
    "                  Pipeline([('extract_field', \n",
    "                              FunctionTransformer(lambda x: x['subject'], \n",
    "                                                  validate=False)),\n",
    "                            ('tfidf', \n",
    "                              TfidfVectorizer())])),\n",
    "                ('speaker_tfidf', \n",
    "                  Pipeline([('extract_field', \n",
    "                              FunctionTransformer(lambda x: x['speaker'], \n",
    "                                                  validate=False)),\n",
    "                            ('tfidf', \n",
    "                              TfidfVectorizer())])),\n",
    "                ('jobtitle_tfidf', \n",
    "                  Pipeline([('extract_field', \n",
    "                              FunctionTransformer(lambda x: x['jobtitle'], \n",
    "                                                  validate=False)),\n",
    "                            ('tfidf', \n",
    "                              TfidfVectorizer())])),\n",
    "                ('state_tfidf', \n",
    "                  Pipeline([('extract_field', \n",
    "                              FunctionTransformer(lambda x: x['state'], \n",
    "                                                  validate=False)),\n",
    "                            ('tfidf', \n",
    "                              TfidfVectorizer())])),\n",
    "                ('party_tfidf', \n",
    "                  Pipeline([('extract_field', \n",
    "                              FunctionTransformer(lambda x: x['party'], \n",
    "                                                  validate=False)),\n",
    "                            ('tfidf', \n",
    "                              TfidfVectorizer())])),\n",
    "                ('context_tfidf', \n",
    "                  Pipeline([('extract_field', \n",
    "                              FunctionTransformer(lambda x: x['context'], \n",
    "                                                  validate=False)),\n",
    "                            ('tfidf', \n",
    "                              TfidfVectorizer())]))\n",
    "\n",
    "])"
   ]
  },
  {
   "cell_type": "code",
   "execution_count": 24,
   "metadata": {},
   "outputs": [],
   "source": [
    "tfidf_train_vectors = transformer.fit(X_train)\n",
    "Xt = transformer.transform(X_train)"
   ]
  },
  {
   "cell_type": "code",
   "execution_count": 25,
   "metadata": {},
   "outputs": [
    {
     "data": {
      "text/plain": [
       "<844x3815 sparse matrix of type '<class 'numpy.float64'>'\n",
       "\twith 17705 stored elements in Compressed Sparse Row format>"
      ]
     },
     "execution_count": 25,
     "metadata": {},
     "output_type": "execute_result"
    }
   ],
   "source": [
    "tfidf_test_vectors = transformer.fit(X_test)\n",
    "transformer.transform(X_test)"
   ]
  },
  {
   "cell_type": "code",
   "execution_count": 26,
   "metadata": {},
   "outputs": [
    {
     "data": {
      "text/plain": [
       "<844x3962 sparse matrix of type '<class 'numpy.float64'>'\n",
       "\twith 17765 stored elements in Compressed Sparse Row format>"
      ]
     },
     "execution_count": 26,
     "metadata": {},
     "output_type": "execute_result"
    }
   ],
   "source": [
    "tfidf_valid_vectors = transformer.fit(X_valid)\n",
    "transformer.transform(X_valid)"
   ]
  },
  {
   "cell_type": "code",
   "execution_count": 27,
   "metadata": {},
   "outputs": [
    {
     "data": {
      "text/plain": [
       "<6750x10531 sparse matrix of type '<class 'numpy.float64'>'\n",
       "\twith 142787 stored elements in Compressed Sparse Row format>"
      ]
     },
     "execution_count": 27,
     "metadata": {},
     "output_type": "execute_result"
    }
   ],
   "source": [
    "Xt"
   ]
  },
  {
   "cell_type": "code",
   "execution_count": 28,
   "metadata": {},
   "outputs": [],
   "source": [
    "Xt_df_sparse = pd.DataFrame.sparse.from_spmatrix(Xt)"
   ]
  },
  {
   "cell_type": "code",
   "execution_count": 29,
   "metadata": {},
   "outputs": [
    {
     "name": "stdout",
     "output_type": "stream",
     "text": [
      "fitting classifier\n",
      "classifier fit\n"
     ]
    }
   ],
   "source": [
    "classifier = XGBClassifier()\n",
    "print(\"fitting classifier\")\n",
    "classifier.fit(Xt_df_sparse, y_train)\n",
    "print(\"classifier fit\")\n",
    "yt_proba = classifier.predict_proba(Xt_df_sparse)"
   ]
  },
  {
   "cell_type": "code",
   "execution_count": 30,
   "metadata": {},
   "outputs": [
    {
     "name": "stdout",
     "output_type": "stream",
     "text": [
      "[[0.02302412 0.19292921 0.20823325 0.16269194 0.2540677  0.15905383]\n",
      " [0.04053952 0.07868341 0.4150491  0.15522408 0.20587987 0.10462398]\n",
      " [0.02194933 0.07161867 0.05847688 0.6051747  0.1315207  0.11125972]\n",
      " ...\n",
      " [0.04736154 0.09333981 0.29707366 0.26894635 0.1840483  0.10923032]\n",
      " [0.04038815 0.11033293 0.5937673  0.0872489  0.10282087 0.06544182]\n",
      " [0.0528703  0.13778262 0.069204   0.06464471 0.09895712 0.57654124]]\n"
     ]
    }
   ],
   "source": [
    "print(yt_proba)"
   ]
  },
  {
   "cell_type": "code",
   "execution_count": 31,
   "metadata": {},
   "outputs": [],
   "source": [
    "y_pred = np.argmax(yt_proba, axis=1)"
   ]
  },
  {
   "cell_type": "code",
   "execution_count": 42,
   "metadata": {},
   "outputs": [
    {
     "data": {
      "text/plain": [
       "array([4, 2, 3, ..., 2, 2, 5], dtype=int64)"
      ]
     },
     "execution_count": 42,
     "metadata": {},
     "output_type": "execute_result"
    }
   ],
   "source": [
    "y_pred"
   ]
  },
  {
   "cell_type": "code",
   "execution_count": 44,
   "metadata": {},
   "outputs": [
    {
     "data": {
      "text/plain": [
       "array([2, 2, 3, ..., 2, 2, 5], dtype=int64)"
      ]
     },
     "execution_count": 44,
     "metadata": {},
     "output_type": "execute_result"
    }
   ],
   "source": [
    "y_true = np.array(y_train.values)\n",
    "y_true"
   ]
  },
  {
   "cell_type": "code",
   "execution_count": 45,
   "metadata": {},
   "outputs": [
    {
     "name": "stdout",
     "output_type": "stream",
     "text": [
      "Accuracy:  0.8121481481481482\n",
      "              precision    recall  f1-score   support\n",
      "\n",
      "           0       0.99      0.70      0.82       433\n",
      "           1       0.77      0.84      0.80      1292\n",
      "           2       0.90      0.73      0.81      1059\n",
      "           3       0.82      0.84      0.83      1420\n",
      "           4       0.75      0.87      0.81      1407\n",
      "           5       0.83      0.80      0.81      1139\n",
      "\n",
      "    accuracy                           0.81      6750\n",
      "   macro avg       0.84      0.80      0.81      6750\n",
      "weighted avg       0.82      0.81      0.81      6750\n",
      "\n",
      "[[ 302   44    9   28   28   22]\n",
      " [   1 1082   20   66   74   49]\n",
      " [   1   88  773   62   99   36]\n",
      " [   0   69   19 1193   96   43]\n",
      " [   2   64   23   59 1222   37]\n",
      " [   0   60   12   53  104  910]]\n"
     ]
    }
   ],
   "source": [
    "# print accuracy\n",
    "print(\"Accuracy: \", accuracy_score(y_true, y_pred))\n",
    "\n",
    "# print precision, recall, F1-score per each class/tag\n",
    "print(classification_report(y_true, y_pred))\n",
    "\n",
    "# print confusion matrix, check documentation for sorting rows/columns\n",
    "print(confusion_matrix(y_true, y_pred))"
   ]
  },
  {
   "cell_type": "code",
   "execution_count": null,
   "metadata": {},
   "outputs": [],
   "source": []
  }
 ],
 "metadata": {
  "kernelspec": {
   "display_name": "Python 3",
   "language": "python",
   "name": "python3"
  },
  "language_info": {
   "codemirror_mode": {
    "name": "ipython",
    "version": 3
   },
   "file_extension": ".py",
   "mimetype": "text/x-python",
   "name": "python",
   "nbconvert_exporter": "python",
   "pygments_lexer": "ipython3",
   "version": "3.8.3"
  }
 },
 "nbformat": 4,
 "nbformat_minor": 4
}
