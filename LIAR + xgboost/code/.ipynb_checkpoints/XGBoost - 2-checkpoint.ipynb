{
 "cells": [
  {
   "cell_type": "code",
   "execution_count": 1,
   "metadata": {},
   "outputs": [
    {
     "name": "stderr",
     "output_type": "stream",
     "text": [
      "[nltk_data] Downloading package averaged_perceptron_tagger to\n",
      "[nltk_data]     /Users/shivamarora/nltk_data...\n",
      "[nltk_data]   Package averaged_perceptron_tagger is already up-to-\n",
      "[nltk_data]       date!\n"
     ]
    },
    {
     "data": {
      "text/plain": [
       "True"
      ]
     },
     "execution_count": 1,
     "metadata": {},
     "output_type": "execute_result"
    }
   ],
   "source": [
    "import re\n",
    "import nltk\n",
    "import numpy as np\n",
    "import pandas as pd\n",
    "from xgboost import XGBClassifier\n",
    "from nltk.corpus import stopwords\n",
    "from nltk.stem.porter import PorterStemmer\n",
    "from sklearn.pipeline import FeatureUnion, Pipeline\n",
    "from sklearn.preprocessing import FunctionTransformer\n",
    "from sklearn.feature_extraction.text import TfidfVectorizer\n",
    "from fast_ml.model_development import train_valid_test_split\n",
    "from sklearn.preprocessing import LabelEncoder, OneHotEncoder\n",
    "from sklearn.metrics import accuracy_score, classification_report, confusion_matrix\n",
    "nltk.download('averaged_perceptron_tagger')"
   ]
  },
  {
   "cell_type": "code",
   "execution_count": 2,
   "metadata": {},
   "outputs": [
    {
     "name": "stderr",
     "output_type": "stream",
     "text": [
      "[nltk_data] Downloading package stopwords to\n",
      "[nltk_data]     /Users/shivamarora/nltk_data...\n",
      "[nltk_data]   Package stopwords is already up-to-date!\n",
      "[nltk_data] Downloading package wordnet to\n",
      "[nltk_data]     /Users/shivamarora/nltk_data...\n",
      "[nltk_data]   Package wordnet is already up-to-date!\n"
     ]
    }
   ],
   "source": [
    "import numpy as np\n",
    "import pandas as pd\n",
    "from fast_ml.model_development import train_valid_test_split\n",
    "from string import punctuation\n",
    "import re\n",
    "import nltk\n",
    "from nltk import word_tokenize\n",
    "nltk.download('stopwords')\n",
    "from nltk.stem.porter import PorterStemmer\n",
    "from nltk.stem import WordNetLemmatizer\n",
    "nltk.download('wordnet')\n",
    "from sklearn.feature_extraction.text import TfidfVectorizer\n",
    "from string import digits\n",
    "import matplotlib.pyplot as plt\n",
    "%matplotlib inline\n",
    "import seaborn as sns\n",
    "import sklearn.naive_bayes as naive_bayes\n",
    "from sklearn.metrics import accuracy_score, confusion_matrix\n",
    "from sklearn.preprocessing import LabelEncoder, OneHotEncoder"
   ]
  },
  {
   "cell_type": "code",
   "execution_count": 3,
   "metadata": {},
   "outputs": [],
   "source": [
    "columns_LIAR = [\"ID\",\"label\",\"statement\",\"subject\",\"speaker\",\"jobtitle\",\"state\",\"party\",\"barely\",\"false\",\"half\",\"mostly\",\"pantsfire\",\"context\"]\n",
    "df = pd.read_csv('../data/train.tsv', sep='\\t', header= None, names=columns_LIAR)\n",
    "df1 = pd.read_csv('../data/test.tsv', sep='\\t', header= None, names=columns_LIAR)\n",
    "df2 = pd.read_csv('../data/valid.tsv', sep='\\t', header= None, names=columns_LIAR)"
   ]
  },
  {
   "cell_type": "code",
   "execution_count": 4,
   "metadata": {},
   "outputs": [],
   "source": [
    "df = pd.concat([df, df1, df2], ignore_index=True)"
   ]
  },
  {
   "cell_type": "code",
   "execution_count": 5,
   "metadata": {},
   "outputs": [
    {
     "data": {
      "text/plain": [
       "(12791, 14)"
      ]
     },
     "execution_count": 5,
     "metadata": {},
     "output_type": "execute_result"
    }
   ],
   "source": [
    "df.shape"
   ]
  },
  {
   "cell_type": "code",
   "execution_count": 6,
   "metadata": {},
   "outputs": [],
   "source": [
    "df = df.drop_duplicates(keep='last', ignore_index=True)\n",
    "df = df.dropna()\n",
    "df = df.reset_index(drop=True)\n",
    "\n",
    "df['label'] = df['label'].map({'pants-fire': 0, 'false': 1, 'barely-true': 2, 'half-true' : 3, 'mostly-true' : 4, 'true' : 5})"
   ]
  },
  {
   "cell_type": "code",
   "execution_count": 7,
   "metadata": {},
   "outputs": [
    {
     "data": {
      "text/html": [
       "<div>\n",
       "<style scoped>\n",
       "    .dataframe tbody tr th:only-of-type {\n",
       "        vertical-align: middle;\n",
       "    }\n",
       "\n",
       "    .dataframe tbody tr th {\n",
       "        vertical-align: top;\n",
       "    }\n",
       "\n",
       "    .dataframe thead th {\n",
       "        text-align: right;\n",
       "    }\n",
       "</style>\n",
       "<table border=\"1\" class=\"dataframe\">\n",
       "  <thead>\n",
       "    <tr style=\"text-align: right;\">\n",
       "      <th></th>\n",
       "      <th>ID</th>\n",
       "      <th>label</th>\n",
       "      <th>statement</th>\n",
       "      <th>subject</th>\n",
       "      <th>speaker</th>\n",
       "      <th>jobtitle</th>\n",
       "      <th>state</th>\n",
       "      <th>party</th>\n",
       "      <th>barely</th>\n",
       "      <th>false</th>\n",
       "      <th>half</th>\n",
       "      <th>mostly</th>\n",
       "      <th>pantsfire</th>\n",
       "      <th>context</th>\n",
       "    </tr>\n",
       "  </thead>\n",
       "  <tbody>\n",
       "    <tr>\n",
       "      <th>0</th>\n",
       "      <td>2635.json</td>\n",
       "      <td>1</td>\n",
       "      <td>Says the Annies List political group supports ...</td>\n",
       "      <td>abortion</td>\n",
       "      <td>dwayne-bohac</td>\n",
       "      <td>State representative</td>\n",
       "      <td>Texas</td>\n",
       "      <td>republican</td>\n",
       "      <td>0.0</td>\n",
       "      <td>1.0</td>\n",
       "      <td>0.0</td>\n",
       "      <td>0.0</td>\n",
       "      <td>0.0</td>\n",
       "      <td>a mailer</td>\n",
       "    </tr>\n",
       "    <tr>\n",
       "      <th>1</th>\n",
       "      <td>10540.json</td>\n",
       "      <td>3</td>\n",
       "      <td>When did the decline of coal start? It started...</td>\n",
       "      <td>energy,history,job-accomplishments</td>\n",
       "      <td>scott-surovell</td>\n",
       "      <td>State delegate</td>\n",
       "      <td>Virginia</td>\n",
       "      <td>democrat</td>\n",
       "      <td>0.0</td>\n",
       "      <td>0.0</td>\n",
       "      <td>1.0</td>\n",
       "      <td>1.0</td>\n",
       "      <td>0.0</td>\n",
       "      <td>a floor speech.</td>\n",
       "    </tr>\n",
       "    <tr>\n",
       "      <th>2</th>\n",
       "      <td>324.json</td>\n",
       "      <td>4</td>\n",
       "      <td>Hillary Clinton agrees with John McCain \"by vo...</td>\n",
       "      <td>foreign-policy</td>\n",
       "      <td>barack-obama</td>\n",
       "      <td>President</td>\n",
       "      <td>Illinois</td>\n",
       "      <td>democrat</td>\n",
       "      <td>70.0</td>\n",
       "      <td>71.0</td>\n",
       "      <td>160.0</td>\n",
       "      <td>163.0</td>\n",
       "      <td>9.0</td>\n",
       "      <td>Denver</td>\n",
       "    </tr>\n",
       "    <tr>\n",
       "      <th>3</th>\n",
       "      <td>12465.json</td>\n",
       "      <td>5</td>\n",
       "      <td>The Chicago Bears have had more starting quart...</td>\n",
       "      <td>education</td>\n",
       "      <td>robin-vos</td>\n",
       "      <td>Wisconsin Assembly speaker</td>\n",
       "      <td>Wisconsin</td>\n",
       "      <td>republican</td>\n",
       "      <td>0.0</td>\n",
       "      <td>3.0</td>\n",
       "      <td>2.0</td>\n",
       "      <td>5.0</td>\n",
       "      <td>1.0</td>\n",
       "      <td>a an online opinion-piece</td>\n",
       "    </tr>\n",
       "    <tr>\n",
       "      <th>4</th>\n",
       "      <td>153.json</td>\n",
       "      <td>3</td>\n",
       "      <td>I'm the only person on this stage who has work...</td>\n",
       "      <td>ethics</td>\n",
       "      <td>barack-obama</td>\n",
       "      <td>President</td>\n",
       "      <td>Illinois</td>\n",
       "      <td>democrat</td>\n",
       "      <td>70.0</td>\n",
       "      <td>71.0</td>\n",
       "      <td>160.0</td>\n",
       "      <td>163.0</td>\n",
       "      <td>9.0</td>\n",
       "      <td>a Democratic debate in Philadelphia, Pa.</td>\n",
       "    </tr>\n",
       "  </tbody>\n",
       "</table>\n",
       "</div>"
      ],
      "text/plain": [
       "           ID  label                                          statement  \\\n",
       "0   2635.json      1  Says the Annies List political group supports ...   \n",
       "1  10540.json      3  When did the decline of coal start? It started...   \n",
       "2    324.json      4  Hillary Clinton agrees with John McCain \"by vo...   \n",
       "3  12465.json      5  The Chicago Bears have had more starting quart...   \n",
       "4    153.json      3  I'm the only person on this stage who has work...   \n",
       "\n",
       "                              subject         speaker  \\\n",
       "0                            abortion    dwayne-bohac   \n",
       "1  energy,history,job-accomplishments  scott-surovell   \n",
       "2                      foreign-policy    barack-obama   \n",
       "3                           education       robin-vos   \n",
       "4                              ethics    barack-obama   \n",
       "\n",
       "                     jobtitle      state       party  barely  false   half  \\\n",
       "0        State representative      Texas  republican     0.0    1.0    0.0   \n",
       "1              State delegate   Virginia    democrat     0.0    0.0    1.0   \n",
       "2                   President   Illinois    democrat    70.0   71.0  160.0   \n",
       "3  Wisconsin Assembly speaker  Wisconsin  republican     0.0    3.0    2.0   \n",
       "4                   President   Illinois    democrat    70.0   71.0  160.0   \n",
       "\n",
       "   mostly  pantsfire                                   context  \n",
       "0     0.0        0.0                                  a mailer  \n",
       "1     1.0        0.0                           a floor speech.  \n",
       "2   163.0        9.0                                    Denver  \n",
       "3     5.0        1.0                 a an online opinion-piece  \n",
       "4   163.0        9.0  a Democratic debate in Philadelphia, Pa.  "
      ]
     },
     "execution_count": 7,
     "metadata": {},
     "output_type": "execute_result"
    }
   ],
   "source": [
    "df.head()"
   ]
  },
  {
   "cell_type": "code",
   "execution_count": 8,
   "metadata": {},
   "outputs": [
    {
     "data": {
      "text/plain": [
       "(8438, 14)"
      ]
     },
     "execution_count": 8,
     "metadata": {},
     "output_type": "execute_result"
    }
   ],
   "source": [
    "df.shape"
   ]
  },
  {
   "cell_type": "markdown",
   "metadata": {},
   "source": [
    "## Utility Functions"
   ]
  },
  {
   "cell_type": "code",
   "execution_count": 9,
   "metadata": {},
   "outputs": [],
   "source": [
    "def remove_punctuation(text):\n",
    "    punctuationfree= \"\".join([i for i in text if i not in punctuation])\n",
    "    return punctuationfree"
   ]
  },
  {
   "cell_type": "code",
   "execution_count": 10,
   "metadata": {},
   "outputs": [],
   "source": [
    "def tokenization(text):\n",
    "    return word_tokenize(str(text))"
   ]
  },
  {
   "cell_type": "code",
   "execution_count": 11,
   "metadata": {},
   "outputs": [],
   "source": [
    "from nltk.corpus import stopwords\n",
    "stopWords = stopwords.words('english')\n",
    "def remove_stopwords(text):\n",
    "    output= [i for i in text.split() if i not in stopWords]\n",
    "    return \" \".join(output)"
   ]
  },
  {
   "cell_type": "code",
   "execution_count": 12,
   "metadata": {},
   "outputs": [],
   "source": [
    "porter_stemmer = PorterStemmer()\n",
    "def stemming(text):\n",
    "    stem_text = [porter_stemmer.stem(word) for word in text]\n",
    "    return stem_text"
   ]
  },
  {
   "cell_type": "code",
   "execution_count": 13,
   "metadata": {},
   "outputs": [],
   "source": [
    "wordnet_lemmatizer = WordNetLemmatizer()\n",
    "def lemmatizer(text):\n",
    "    lemm_text = [wordnet_lemmatizer.lemmatize(word) for word in text.split()]\n",
    "    return \" \".join(lemm_text)"
   ]
  },
  {
   "cell_type": "code",
   "execution_count": null,
   "metadata": {},
   "outputs": [],
   "source": []
  },
  {
   "cell_type": "markdown",
   "metadata": {},
   "source": [
    "## Preprocessing"
   ]
  },
  {
   "cell_type": "code",
   "execution_count": 14,
   "metadata": {},
   "outputs": [],
   "source": [
    "def preprocess(df, col):\n",
    "    \n",
    "    #Puntuations Removal\n",
    "    #df[col] = df[col].apply(lambda x:remove_punctuation(x))\n",
    "    df.loc[:,col] = df[col].apply(lambda x : \" \".join(re.findall('[\\w]+',x)))\n",
    "    \n",
    "    #Numbers Removal\n",
    "    remove_digits = str.maketrans('', '', digits)\n",
    "    df[col] = df[col].apply(lambda x: x.translate(remove_digits))\n",
    "    \n",
    "    #lowering the text\n",
    "    df[col] = df[col].apply(lambda x: x.lower())\n",
    "    \n",
    "    \n",
    "    #Removing stop words\n",
    "    df[col] = df[col].apply(lambda x: remove_stopwords(x))\n",
    "    \n",
    "    #Position Tagging\n",
    "    filterpos = [\"JJ\",\"JJR\",\"JJS\",\"NN\",\"NNS\",\"NNP\",\"NNPS\",\"POS\",\"VB\",\"VBD\",\"VBG\",\"VBN\",\"VBP\",\"VBZ\",\"FW\"]\n",
    "    df[col] = df[col].apply(lambda x: ' '.join([word for word in x.split() if (nltk.pos_tag([word]))[0][1] in filterpos]))\n",
    "    \n",
    "    #Lemmatization\n",
    "    df[col] = df[col].apply(lambda x:lemmatizer(x))\n",
    "    \n",
    "    #tokenization\n",
    "    df[col] = df[col].apply(lambda x: tokenization(x))\n",
    "    \n",
    "    return df"
   ]
  },
  {
   "cell_type": "code",
   "execution_count": null,
   "metadata": {},
   "outputs": [],
   "source": [
    "# enc = OneHotEncoder(handle_unknown='ignore',sparse=False)"
   ]
  },
  {
   "cell_type": "code",
   "execution_count": null,
   "metadata": {},
   "outputs": [],
   "source": [
    "# enc_df = enc.fit_transform(df[['label']])\n",
    "# enc_df.shape"
   ]
  },
  {
   "cell_type": "code",
   "execution_count": null,
   "metadata": {},
   "outputs": [],
   "source": [
    "# enc_df"
   ]
  },
  {
   "cell_type": "code",
   "execution_count": 15,
   "metadata": {},
   "outputs": [],
   "source": [
    "df = preprocess(df, 'statement')"
   ]
  },
  {
   "cell_type": "code",
   "execution_count": 16,
   "metadata": {},
   "outputs": [
    {
     "data": {
      "text/html": [
       "<div>\n",
       "<style scoped>\n",
       "    .dataframe tbody tr th:only-of-type {\n",
       "        vertical-align: middle;\n",
       "    }\n",
       "\n",
       "    .dataframe tbody tr th {\n",
       "        vertical-align: top;\n",
       "    }\n",
       "\n",
       "    .dataframe thead th {\n",
       "        text-align: right;\n",
       "    }\n",
       "</style>\n",
       "<table border=\"1\" class=\"dataframe\">\n",
       "  <thead>\n",
       "    <tr style=\"text-align: right;\">\n",
       "      <th></th>\n",
       "      <th>ID</th>\n",
       "      <th>label</th>\n",
       "      <th>statement</th>\n",
       "      <th>subject</th>\n",
       "      <th>speaker</th>\n",
       "      <th>jobtitle</th>\n",
       "      <th>state</th>\n",
       "      <th>party</th>\n",
       "      <th>barely</th>\n",
       "      <th>false</th>\n",
       "      <th>half</th>\n",
       "      <th>mostly</th>\n",
       "      <th>pantsfire</th>\n",
       "      <th>context</th>\n",
       "    </tr>\n",
       "  </thead>\n",
       "  <tbody>\n",
       "    <tr>\n",
       "      <th>0</th>\n",
       "      <td>2635.json</td>\n",
       "      <td>1</td>\n",
       "      <td>[say, annies, list, political, group, support,...</td>\n",
       "      <td>abortion</td>\n",
       "      <td>dwayne-bohac</td>\n",
       "      <td>State representative</td>\n",
       "      <td>Texas</td>\n",
       "      <td>republican</td>\n",
       "      <td>0.0</td>\n",
       "      <td>1.0</td>\n",
       "      <td>0.0</td>\n",
       "      <td>0.0</td>\n",
       "      <td>0.0</td>\n",
       "      <td>a mailer</td>\n",
       "    </tr>\n",
       "    <tr>\n",
       "      <th>1</th>\n",
       "      <td>10540.json</td>\n",
       "      <td>3</td>\n",
       "      <td>[decline, coal, start, started, natural, gas, ...</td>\n",
       "      <td>energy,history,job-accomplishments</td>\n",
       "      <td>scott-surovell</td>\n",
       "      <td>State delegate</td>\n",
       "      <td>Virginia</td>\n",
       "      <td>democrat</td>\n",
       "      <td>0.0</td>\n",
       "      <td>0.0</td>\n",
       "      <td>1.0</td>\n",
       "      <td>1.0</td>\n",
       "      <td>0.0</td>\n",
       "      <td>a floor speech.</td>\n",
       "    </tr>\n",
       "    <tr>\n",
       "      <th>2</th>\n",
       "      <td>324.json</td>\n",
       "      <td>4</td>\n",
       "      <td>[hillary, clinton, agrees, john, mccain, votin...</td>\n",
       "      <td>foreign-policy</td>\n",
       "      <td>barack-obama</td>\n",
       "      <td>President</td>\n",
       "      <td>Illinois</td>\n",
       "      <td>democrat</td>\n",
       "      <td>70.0</td>\n",
       "      <td>71.0</td>\n",
       "      <td>160.0</td>\n",
       "      <td>163.0</td>\n",
       "      <td>9.0</td>\n",
       "      <td>Denver</td>\n",
       "    </tr>\n",
       "    <tr>\n",
       "      <th>3</th>\n",
       "      <td>12465.json</td>\n",
       "      <td>5</td>\n",
       "      <td>[chicago, bear, starting, quarterback, last, y...</td>\n",
       "      <td>education</td>\n",
       "      <td>robin-vos</td>\n",
       "      <td>Wisconsin Assembly speaker</td>\n",
       "      <td>Wisconsin</td>\n",
       "      <td>republican</td>\n",
       "      <td>0.0</td>\n",
       "      <td>3.0</td>\n",
       "      <td>2.0</td>\n",
       "      <td>5.0</td>\n",
       "      <td>1.0</td>\n",
       "      <td>a an online opinion-piece</td>\n",
       "    </tr>\n",
       "    <tr>\n",
       "      <th>4</th>\n",
       "      <td>153.json</td>\n",
       "      <td>3</td>\n",
       "      <td>[person, stage, worked, last, year, passing, r...</td>\n",
       "      <td>ethics</td>\n",
       "      <td>barack-obama</td>\n",
       "      <td>President</td>\n",
       "      <td>Illinois</td>\n",
       "      <td>democrat</td>\n",
       "      <td>70.0</td>\n",
       "      <td>71.0</td>\n",
       "      <td>160.0</td>\n",
       "      <td>163.0</td>\n",
       "      <td>9.0</td>\n",
       "      <td>a Democratic debate in Philadelphia, Pa.</td>\n",
       "    </tr>\n",
       "    <tr>\n",
       "      <th>...</th>\n",
       "      <td>...</td>\n",
       "      <td>...</td>\n",
       "      <td>...</td>\n",
       "      <td>...</td>\n",
       "      <td>...</td>\n",
       "      <td>...</td>\n",
       "      <td>...</td>\n",
       "      <td>...</td>\n",
       "      <td>...</td>\n",
       "      <td>...</td>\n",
       "      <td>...</td>\n",
       "      <td>...</td>\n",
       "      <td>...</td>\n",
       "      <td>...</td>\n",
       "    </tr>\n",
       "    <tr>\n",
       "      <th>8433</th>\n",
       "      <td>7013.json</td>\n",
       "      <td>2</td>\n",
       "      <td>[say, u, rep, charles, bass, want, privatize, ...</td>\n",
       "      <td>social-security</td>\n",
       "      <td>ann-mclane-kuster</td>\n",
       "      <td>Attorney</td>\n",
       "      <td>New Hampshire</td>\n",
       "      <td>democrat</td>\n",
       "      <td>2.0</td>\n",
       "      <td>1.0</td>\n",
       "      <td>3.0</td>\n",
       "      <td>0.0</td>\n",
       "      <td>0.0</td>\n",
       "      <td>an ad, “Janice,” released September 6, 2012</td>\n",
       "    </tr>\n",
       "    <tr>\n",
       "      <th>8434</th>\n",
       "      <td>2661.json</td>\n",
       "      <td>0</td>\n",
       "      <td>[past, year, democrat, spent, money, country, ...</td>\n",
       "      <td>federal-budget,history</td>\n",
       "      <td>eric-cantor</td>\n",
       "      <td>House Majority Leader</td>\n",
       "      <td>Virginia</td>\n",
       "      <td>republican</td>\n",
       "      <td>9.0</td>\n",
       "      <td>6.0</td>\n",
       "      <td>4.0</td>\n",
       "      <td>4.0</td>\n",
       "      <td>4.0</td>\n",
       "      <td>an interview on Comedy Central's Daily Show wi...</td>\n",
       "    </tr>\n",
       "    <tr>\n",
       "      <th>8435</th>\n",
       "      <td>3419.json</td>\n",
       "      <td>3</td>\n",
       "      <td>[time, decade, import, accounted, half, oil, c...</td>\n",
       "      <td>energy,oil-spill,trade</td>\n",
       "      <td>barack-obama</td>\n",
       "      <td>President</td>\n",
       "      <td>Illinois</td>\n",
       "      <td>democrat</td>\n",
       "      <td>70.0</td>\n",
       "      <td>71.0</td>\n",
       "      <td>160.0</td>\n",
       "      <td>163.0</td>\n",
       "      <td>9.0</td>\n",
       "      <td>a press conference</td>\n",
       "    </tr>\n",
       "    <tr>\n",
       "      <th>8436</th>\n",
       "      <td>12548.json</td>\n",
       "      <td>4</td>\n",
       "      <td>[say, donald, trump, bankrupted, company, time]</td>\n",
       "      <td>candidates-biography</td>\n",
       "      <td>hillary-clinton</td>\n",
       "      <td>Presidential candidate</td>\n",
       "      <td>New York</td>\n",
       "      <td>democrat</td>\n",
       "      <td>40.0</td>\n",
       "      <td>29.0</td>\n",
       "      <td>69.0</td>\n",
       "      <td>76.0</td>\n",
       "      <td>7.0</td>\n",
       "      <td>a speech on the economy</td>\n",
       "    </tr>\n",
       "    <tr>\n",
       "      <th>8437</th>\n",
       "      <td>9117.json</td>\n",
       "      <td>2</td>\n",
       "      <td>[claim, report, vindicating, new, jersey, gov,...</td>\n",
       "      <td>candidates-biography,infrastructure</td>\n",
       "      <td>rudy-giuliani</td>\n",
       "      <td>Attorney</td>\n",
       "      <td>New York</td>\n",
       "      <td>republican</td>\n",
       "      <td>9.0</td>\n",
       "      <td>11.0</td>\n",
       "      <td>10.0</td>\n",
       "      <td>7.0</td>\n",
       "      <td>3.0</td>\n",
       "      <td>comments on NBC's \"Meet the Press\"</td>\n",
       "    </tr>\n",
       "  </tbody>\n",
       "</table>\n",
       "<p>8438 rows × 14 columns</p>\n",
       "</div>"
      ],
      "text/plain": [
       "              ID  label                                          statement  \\\n",
       "0      2635.json      1  [say, annies, list, political, group, support,...   \n",
       "1     10540.json      3  [decline, coal, start, started, natural, gas, ...   \n",
       "2       324.json      4  [hillary, clinton, agrees, john, mccain, votin...   \n",
       "3     12465.json      5  [chicago, bear, starting, quarterback, last, y...   \n",
       "4       153.json      3  [person, stage, worked, last, year, passing, r...   \n",
       "...          ...    ...                                                ...   \n",
       "8433   7013.json      2  [say, u, rep, charles, bass, want, privatize, ...   \n",
       "8434   2661.json      0  [past, year, democrat, spent, money, country, ...   \n",
       "8435   3419.json      3  [time, decade, import, accounted, half, oil, c...   \n",
       "8436  12548.json      4    [say, donald, trump, bankrupted, company, time]   \n",
       "8437   9117.json      2  [claim, report, vindicating, new, jersey, gov,...   \n",
       "\n",
       "                                  subject            speaker  \\\n",
       "0                                abortion       dwayne-bohac   \n",
       "1      energy,history,job-accomplishments     scott-surovell   \n",
       "2                          foreign-policy       barack-obama   \n",
       "3                               education          robin-vos   \n",
       "4                                  ethics       barack-obama   \n",
       "...                                   ...                ...   \n",
       "8433                      social-security  ann-mclane-kuster   \n",
       "8434               federal-budget,history        eric-cantor   \n",
       "8435               energy,oil-spill,trade       barack-obama   \n",
       "8436                 candidates-biography    hillary-clinton   \n",
       "8437  candidates-biography,infrastructure      rudy-giuliani   \n",
       "\n",
       "                        jobtitle          state       party  barely  false  \\\n",
       "0           State representative          Texas  republican     0.0    1.0   \n",
       "1                 State delegate       Virginia    democrat     0.0    0.0   \n",
       "2                      President       Illinois    democrat    70.0   71.0   \n",
       "3     Wisconsin Assembly speaker      Wisconsin  republican     0.0    3.0   \n",
       "4                      President       Illinois    democrat    70.0   71.0   \n",
       "...                          ...            ...         ...     ...    ...   \n",
       "8433                    Attorney  New Hampshire    democrat     2.0    1.0   \n",
       "8434       House Majority Leader       Virginia  republican     9.0    6.0   \n",
       "8435                   President       Illinois    democrat    70.0   71.0   \n",
       "8436      Presidential candidate       New York    democrat    40.0   29.0   \n",
       "8437                    Attorney       New York  republican     9.0   11.0   \n",
       "\n",
       "       half  mostly  pantsfire  \\\n",
       "0       0.0     0.0        0.0   \n",
       "1       1.0     1.0        0.0   \n",
       "2     160.0   163.0        9.0   \n",
       "3       2.0     5.0        1.0   \n",
       "4     160.0   163.0        9.0   \n",
       "...     ...     ...        ...   \n",
       "8433    3.0     0.0        0.0   \n",
       "8434    4.0     4.0        4.0   \n",
       "8435  160.0   163.0        9.0   \n",
       "8436   69.0    76.0        7.0   \n",
       "8437   10.0     7.0        3.0   \n",
       "\n",
       "                                                context  \n",
       "0                                              a mailer  \n",
       "1                                       a floor speech.  \n",
       "2                                                Denver  \n",
       "3                             a an online opinion-piece  \n",
       "4              a Democratic debate in Philadelphia, Pa.  \n",
       "...                                                 ...  \n",
       "8433        an ad, “Janice,” released September 6, 2012  \n",
       "8434  an interview on Comedy Central's Daily Show wi...  \n",
       "8435                                 a press conference  \n",
       "8436                            a speech on the economy  \n",
       "8437                 comments on NBC's \"Meet the Press\"  \n",
       "\n",
       "[8438 rows x 14 columns]"
      ]
     },
     "execution_count": 16,
     "metadata": {},
     "output_type": "execute_result"
    }
   ],
   "source": [
    "df"
   ]
  },
  {
   "cell_type": "code",
   "execution_count": null,
   "metadata": {},
   "outputs": [],
   "source": [
    "# df['target'] = enc_df"
   ]
  },
  {
   "cell_type": "code",
   "execution_count": null,
   "metadata": {},
   "outputs": [],
   "source": [
    "df.head()"
   ]
  },
  {
   "cell_type": "code",
   "execution_count": null,
   "metadata": {},
   "outputs": [],
   "source": [
    "# df['target']"
   ]
  },
  {
   "cell_type": "code",
   "execution_count": 75,
   "metadata": {},
   "outputs": [],
   "source": [
    "df = preprocess(df, 'subject')\n",
    "df = preprocess(df, 'speaker')\n",
    "df = preprocess(df, 'jobtitle')\n",
    "df = preprocess(df, 'state')\n",
    "df = preprocess(df, 'party')\n",
    "df = preprocess(df, 'context')"
   ]
  },
  {
   "cell_type": "code",
   "execution_count": null,
   "metadata": {},
   "outputs": [],
   "source": [
    "# df = df.join(enc_df)"
   ]
  },
  {
   "cell_type": "code",
   "execution_count": null,
   "metadata": {},
   "outputs": [],
   "source": [
    "df.head()"
   ]
  },
  {
   "cell_type": "code",
   "execution_count": 85,
   "metadata": {},
   "outputs": [],
   "source": [
    "X_train, y_train, X_valid, y_valid, X_test, y_test = train_valid_test_split(df, target = 'label', \n",
    "                                                                            train_size=0.8, valid_size=0.1, test_size=0.1)"
   ]
  },
  {
   "cell_type": "code",
   "execution_count": 18,
   "metadata": {},
   "outputs": [
    {
     "data": {
      "text/html": [
       "<div>\n",
       "<style scoped>\n",
       "    .dataframe tbody tr th:only-of-type {\n",
       "        vertical-align: middle;\n",
       "    }\n",
       "\n",
       "    .dataframe tbody tr th {\n",
       "        vertical-align: top;\n",
       "    }\n",
       "\n",
       "    .dataframe thead th {\n",
       "        text-align: right;\n",
       "    }\n",
       "</style>\n",
       "<table border=\"1\" class=\"dataframe\">\n",
       "  <thead>\n",
       "    <tr style=\"text-align: right;\">\n",
       "      <th></th>\n",
       "      <th>ID</th>\n",
       "      <th>statement</th>\n",
       "      <th>subject</th>\n",
       "      <th>speaker</th>\n",
       "      <th>jobtitle</th>\n",
       "      <th>state</th>\n",
       "      <th>party</th>\n",
       "      <th>barely</th>\n",
       "      <th>false</th>\n",
       "      <th>half</th>\n",
       "      <th>mostly</th>\n",
       "      <th>pantsfire</th>\n",
       "      <th>context</th>\n",
       "    </tr>\n",
       "  </thead>\n",
       "  <tbody>\n",
       "    <tr>\n",
       "      <th>6593</th>\n",
       "      <td>62.json</td>\n",
       "      <td>[congress, funded, half, wall, mexico, united,...</td>\n",
       "      <td>immigration</td>\n",
       "      <td>bill-richardson</td>\n",
       "      <td>Governor</td>\n",
       "      <td>New Mexico</td>\n",
       "      <td>democrat</td>\n",
       "      <td>1.0</td>\n",
       "      <td>2.0</td>\n",
       "      <td>3.0</td>\n",
       "      <td>8.0</td>\n",
       "      <td>1.0</td>\n",
       "      <td>a debate in Miami, Fla.</td>\n",
       "    </tr>\n",
       "    <tr>\n",
       "      <th>6389</th>\n",
       "      <td>5141.json</td>\n",
       "      <td>[suzanne, bonamici, vote, bill, cracking, drun...</td>\n",
       "      <td>crime,criminal-justice,message-machine-2012,vo...</td>\n",
       "      <td>rob-cornilles</td>\n",
       "      <td>consultant</td>\n",
       "      <td>Oregon</td>\n",
       "      <td>republican</td>\n",
       "      <td>1.0</td>\n",
       "      <td>1.0</td>\n",
       "      <td>3.0</td>\n",
       "      <td>1.0</td>\n",
       "      <td>1.0</td>\n",
       "      <td>a debate</td>\n",
       "    </tr>\n",
       "    <tr>\n",
       "      <th>3932</th>\n",
       "      <td>5943.json</td>\n",
       "      <td>[say, u, congress, member, dont, floor, debate...</td>\n",
       "      <td>congress,congressional-rules</td>\n",
       "      <td>beth-harwell</td>\n",
       "      <td>Speaker of the Tennessee House of Representatives</td>\n",
       "      <td>Tennessee</td>\n",
       "      <td>republican</td>\n",
       "      <td>0.0</td>\n",
       "      <td>0.0</td>\n",
       "      <td>1.0</td>\n",
       "      <td>0.0</td>\n",
       "      <td>0.0</td>\n",
       "      <td>an interview about WTVF-TV’s “ghost voting” st...</td>\n",
       "    </tr>\n",
       "    <tr>\n",
       "      <th>2175</th>\n",
       "      <td>1465.json</td>\n",
       "      <td>[republican, voted, stimulus, happy, claim, cr...</td>\n",
       "      <td>economy,federal-budget,stimulus</td>\n",
       "      <td>barack-obama</td>\n",
       "      <td>President</td>\n",
       "      <td>Illinois</td>\n",
       "      <td>democrat</td>\n",
       "      <td>70.0</td>\n",
       "      <td>71.0</td>\n",
       "      <td>160.0</td>\n",
       "      <td>163.0</td>\n",
       "      <td>9.0</td>\n",
       "      <td>a town meeting in New Hampshire</td>\n",
       "    </tr>\n",
       "    <tr>\n",
       "      <th>6439</th>\n",
       "      <td>202.json</td>\n",
       "      <td>[illegal, immigrant, working, mansion]</td>\n",
       "      <td>immigration</td>\n",
       "      <td>mitt-romney</td>\n",
       "      <td>Former governor</td>\n",
       "      <td>Massachusetts</td>\n",
       "      <td>republican</td>\n",
       "      <td>34.0</td>\n",
       "      <td>32.0</td>\n",
       "      <td>58.0</td>\n",
       "      <td>33.0</td>\n",
       "      <td>19.0</td>\n",
       "      <td>St. Petersburg, Fla.</td>\n",
       "    </tr>\n",
       "    <tr>\n",
       "      <th>...</th>\n",
       "      <td>...</td>\n",
       "      <td>...</td>\n",
       "      <td>...</td>\n",
       "      <td>...</td>\n",
       "      <td>...</td>\n",
       "      <td>...</td>\n",
       "      <td>...</td>\n",
       "      <td>...</td>\n",
       "      <td>...</td>\n",
       "      <td>...</td>\n",
       "      <td>...</td>\n",
       "      <td>...</td>\n",
       "      <td>...</td>\n",
       "    </tr>\n",
       "    <tr>\n",
       "      <th>7643</th>\n",
       "      <td>8930.json</td>\n",
       "      <td>[republican, leadership, house, refused, addre...</td>\n",
       "      <td>climate-change,congress,economy,energy,environ...</td>\n",
       "      <td>jonathan-boucher</td>\n",
       "      <td>Executive director, Rhode Island Democratic Party</td>\n",
       "      <td>Rhode Island</td>\n",
       "      <td>democrat</td>\n",
       "      <td>0.0</td>\n",
       "      <td>0.0</td>\n",
       "      <td>0.0</td>\n",
       "      <td>0.0</td>\n",
       "      <td>1.0</td>\n",
       "      <td>a Providence Journal commentary</td>\n",
       "    </tr>\n",
       "    <tr>\n",
       "      <th>5125</th>\n",
       "      <td>5407.json</td>\n",
       "      <td>[say, sixty, percent, small, business, last, y...</td>\n",
       "      <td>health-care,small-business</td>\n",
       "      <td>bill-pascrell</td>\n",
       "      <td>U.S. House of Representatives</td>\n",
       "      <td>New Jersey</td>\n",
       "      <td>democrat</td>\n",
       "      <td>0.0</td>\n",
       "      <td>3.0</td>\n",
       "      <td>4.0</td>\n",
       "      <td>4.0</td>\n",
       "      <td>0.0</td>\n",
       "      <td>a speech on the House floor</td>\n",
       "    </tr>\n",
       "    <tr>\n",
       "      <th>7709</th>\n",
       "      <td>9934.json</td>\n",
       "      <td>[state, budget, increased, year, last, year]</td>\n",
       "      <td>state-budget</td>\n",
       "      <td>jeff-amason</td>\n",
       "      <td>attorney</td>\n",
       "      <td>Georgia</td>\n",
       "      <td>libertarian</td>\n",
       "      <td>0.0</td>\n",
       "      <td>0.0</td>\n",
       "      <td>0.0</td>\n",
       "      <td>0.0</td>\n",
       "      <td>0.0</td>\n",
       "      <td>interview on The Monica Perez Show, WSB</td>\n",
       "    </tr>\n",
       "    <tr>\n",
       "      <th>5610</th>\n",
       "      <td>11791.json</td>\n",
       "      <td>[texas, sixth, highest, property, tax, nation]</td>\n",
       "      <td>taxes</td>\n",
       "      <td>jeff-judson</td>\n",
       "      <td>Business and policy consultant</td>\n",
       "      <td>Texas</td>\n",
       "      <td>tea-party-member</td>\n",
       "      <td>0.0</td>\n",
       "      <td>0.0</td>\n",
       "      <td>0.0</td>\n",
       "      <td>1.0</td>\n",
       "      <td>0.0</td>\n",
       "      <td>Conservatives in Action blog post</td>\n",
       "    </tr>\n",
       "    <tr>\n",
       "      <th>3444</th>\n",
       "      <td>8612.json</td>\n",
       "      <td>[recidivism, rate, percent, climbing, detainee...</td>\n",
       "      <td>terrorism</td>\n",
       "      <td>saxby-chambliss</td>\n",
       "      <td>U.S. Senator</td>\n",
       "      <td>Georgia</td>\n",
       "      <td>republican</td>\n",
       "      <td>1.0</td>\n",
       "      <td>1.0</td>\n",
       "      <td>3.0</td>\n",
       "      <td>4.0</td>\n",
       "      <td>1.0</td>\n",
       "      <td>a debate on the Senate floor</td>\n",
       "    </tr>\n",
       "  </tbody>\n",
       "</table>\n",
       "<p>6750 rows × 13 columns</p>\n",
       "</div>"
      ],
      "text/plain": [
       "              ID                                          statement  \\\n",
       "6593     62.json  [congress, funded, half, wall, mexico, united,...   \n",
       "6389   5141.json  [suzanne, bonamici, vote, bill, cracking, drun...   \n",
       "3932   5943.json  [say, u, congress, member, dont, floor, debate...   \n",
       "2175   1465.json  [republican, voted, stimulus, happy, claim, cr...   \n",
       "6439    202.json             [illegal, immigrant, working, mansion]   \n",
       "...          ...                                                ...   \n",
       "7643   8930.json  [republican, leadership, house, refused, addre...   \n",
       "5125   5407.json  [say, sixty, percent, small, business, last, y...   \n",
       "7709   9934.json       [state, budget, increased, year, last, year]   \n",
       "5610  11791.json     [texas, sixth, highest, property, tax, nation]   \n",
       "3444   8612.json  [recidivism, rate, percent, climbing, detainee...   \n",
       "\n",
       "                                                subject           speaker  \\\n",
       "6593                                        immigration   bill-richardson   \n",
       "6389  crime,criminal-justice,message-machine-2012,vo...     rob-cornilles   \n",
       "3932                       congress,congressional-rules      beth-harwell   \n",
       "2175                    economy,federal-budget,stimulus      barack-obama   \n",
       "6439                                        immigration       mitt-romney   \n",
       "...                                                 ...               ...   \n",
       "7643  climate-change,congress,economy,energy,environ...  jonathan-boucher   \n",
       "5125                         health-care,small-business     bill-pascrell   \n",
       "7709                                       state-budget       jeff-amason   \n",
       "5610                                              taxes       jeff-judson   \n",
       "3444                                          terrorism   saxby-chambliss   \n",
       "\n",
       "                                               jobtitle          state  \\\n",
       "6593                                           Governor     New Mexico   \n",
       "6389                                         consultant         Oregon   \n",
       "3932  Speaker of the Tennessee House of Representatives      Tennessee   \n",
       "2175                                          President       Illinois   \n",
       "6439                                    Former governor  Massachusetts   \n",
       "...                                                 ...            ...   \n",
       "7643  Executive director, Rhode Island Democratic Party   Rhode Island   \n",
       "5125                      U.S. House of Representatives     New Jersey   \n",
       "7709                                           attorney        Georgia   \n",
       "5610                     Business and policy consultant          Texas   \n",
       "3444                                       U.S. Senator        Georgia   \n",
       "\n",
       "                 party  barely  false   half  mostly  pantsfire  \\\n",
       "6593          democrat     1.0    2.0    3.0     8.0        1.0   \n",
       "6389        republican     1.0    1.0    3.0     1.0        1.0   \n",
       "3932        republican     0.0    0.0    1.0     0.0        0.0   \n",
       "2175          democrat    70.0   71.0  160.0   163.0        9.0   \n",
       "6439        republican    34.0   32.0   58.0    33.0       19.0   \n",
       "...                ...     ...    ...    ...     ...        ...   \n",
       "7643          democrat     0.0    0.0    0.0     0.0        1.0   \n",
       "5125          democrat     0.0    3.0    4.0     4.0        0.0   \n",
       "7709       libertarian     0.0    0.0    0.0     0.0        0.0   \n",
       "5610  tea-party-member     0.0    0.0    0.0     1.0        0.0   \n",
       "3444        republican     1.0    1.0    3.0     4.0        1.0   \n",
       "\n",
       "                                                context  \n",
       "6593                            a debate in Miami, Fla.  \n",
       "6389                                           a debate  \n",
       "3932  an interview about WTVF-TV’s “ghost voting” st...  \n",
       "2175                    a town meeting in New Hampshire  \n",
       "6439                               St. Petersburg, Fla.  \n",
       "...                                                 ...  \n",
       "7643                    a Providence Journal commentary  \n",
       "5125                        a speech on the House floor  \n",
       "7709            interview on The Monica Perez Show, WSB  \n",
       "5610                  Conservatives in Action blog post  \n",
       "3444                       a debate on the Senate floor  \n",
       "\n",
       "[6750 rows x 13 columns]"
      ]
     },
     "execution_count": 18,
     "metadata": {},
     "output_type": "execute_result"
    }
   ],
   "source": [
    "X_train"
   ]
  },
  {
   "cell_type": "code",
   "execution_count": 19,
   "metadata": {},
   "outputs": [
    {
     "data": {
      "text/plain": [
       "6593    4\n",
       "6389    5\n",
       "3932    3\n",
       "2175    5\n",
       "6439    2\n",
       "       ..\n",
       "7643    0\n",
       "5125    1\n",
       "7709    5\n",
       "5610    4\n",
       "3444    3\n",
       "Name: label, Length: 6750, dtype: int64"
      ]
     },
     "execution_count": 19,
     "metadata": {},
     "output_type": "execute_result"
    }
   ],
   "source": [
    "y_train"
   ]
  },
  {
   "cell_type": "code",
   "execution_count": 28,
   "metadata": {},
   "outputs": [
    {
     "data": {
      "text/plain": [
       "TfidfVectorizer(lowercase=False, max_features=2000, stop_words='english',\n",
       "                tokenizer=<function identity_tokenizer at 0x7fa0bd4480d0>)"
      ]
     },
     "execution_count": 28,
     "metadata": {},
     "output_type": "execute_result"
    }
   ],
   "source": [
    "def identity_tokenizer(text):\n",
    "    return text\n",
    "tfidf_vectorizer = TfidfVectorizer(tokenizer=identity_tokenizer, stop_words='english', lowercase=False, max_features=2000)\n",
    "tfidf_vectorizer.fit(df['statement'])"
   ]
  },
  {
   "cell_type": "code",
   "execution_count": 29,
   "metadata": {},
   "outputs": [],
   "source": [
    "tfidf_train_vectors = tfidf_vectorizer.fit_transform(X_train['statement'])\n",
    "tfidf_valid_vectors = tfidf_vectorizer.fit_transform(X_valid['statement'])\n",
    "tfidf_test_vectors = tfidf_vectorizer.fit_transform(X_test['statement'])"
   ]
  },
  {
   "cell_type": "code",
   "execution_count": 30,
   "metadata": {},
   "outputs": [
    {
     "data": {
      "text/plain": [
       "<6750x2000 sparse matrix of type '<class 'numpy.float64'>'\n",
       "\twith 50652 stored elements in Compressed Sparse Row format>"
      ]
     },
     "execution_count": 30,
     "metadata": {},
     "output_type": "execute_result"
    }
   ],
   "source": [
    "tfidf_train_vectors"
   ]
  },
  {
   "cell_type": "code",
   "execution_count": 31,
   "metadata": {},
   "outputs": [
    {
     "data": {
      "text/plain": [
       "<844x2000 sparse matrix of type '<class 'numpy.float64'>'\n",
       "\twith 6771 stored elements in Compressed Sparse Row format>"
      ]
     },
     "execution_count": 31,
     "metadata": {},
     "output_type": "execute_result"
    }
   ],
   "source": [
    "tfidf_test_vectors"
   ]
  },
  {
   "cell_type": "code",
   "execution_count": 32,
   "metadata": {},
   "outputs": [
    {
     "data": {
      "text/plain": [
       "<844x2000 sparse matrix of type '<class 'numpy.float64'>'\n",
       "\twith 6800 stored elements in Compressed Sparse Row format>"
      ]
     },
     "execution_count": 32,
     "metadata": {},
     "output_type": "execute_result"
    }
   ],
   "source": [
    "tfidf_valid_vectors"
   ]
  },
  {
   "cell_type": "code",
   "execution_count": 36,
   "metadata": {},
   "outputs": [],
   "source": [
    "Xt_df_sparse = pd.DataFrame.sparse.from_spmatrix(tfidf_train_vectors)"
   ]
  },
  {
   "cell_type": "code",
   "execution_count": 37,
   "metadata": {},
   "outputs": [],
   "source": [
    "Xt_df_sparse_test = pd.DataFrame.sparse.from_spmatrix(tfidf_test_vectors)"
   ]
  },
  {
   "cell_type": "code",
   "execution_count": null,
   "metadata": {},
   "outputs": [],
   "source": []
  },
  {
   "cell_type": "code",
   "execution_count": 38,
   "metadata": {},
   "outputs": [
    {
     "name": "stdout",
     "output_type": "stream",
     "text": [
      "fitting classifier\n",
      "classifier fit\n"
     ]
    }
   ],
   "source": [
    "classifier = XGBClassifier()\n",
    "print(\"fitting classifier\")\n",
    "classifier.fit(Xt_df_sparse, y_train)\n",
    "print(\"classifier fit\")\n",
    "yt_proba = classifier.predict_proba(Xt_df_sparse)"
   ]
  },
  {
   "cell_type": "code",
   "execution_count": 39,
   "metadata": {},
   "outputs": [
    {
     "name": "stdout",
     "output_type": "stream",
     "text": [
      "[[0.01399349 0.1994488  0.09156545 0.17360632 0.28816    0.23322599]\n",
      " [0.04184042 0.13781507 0.10980885 0.13347156 0.13808072 0.4389834 ]\n",
      " [0.0752546  0.18042815 0.0903741  0.39852104 0.15423836 0.10118374]\n",
      " ...\n",
      " [0.01935398 0.14705734 0.14364105 0.16949075 0.30299255 0.21746431]\n",
      " [0.00563874 0.05664333 0.05126864 0.09929707 0.72820646 0.05894578]\n",
      " [0.0193813  0.17887022 0.1241644  0.22755298 0.26253644 0.18749471]]\n"
     ]
    }
   ],
   "source": [
    "print(yt_proba)"
   ]
  },
  {
   "cell_type": "code",
   "execution_count": 40,
   "metadata": {},
   "outputs": [],
   "source": [
    "y_pred = np.argmax(yt_proba, axis=1)"
   ]
  },
  {
   "cell_type": "code",
   "execution_count": 41,
   "metadata": {},
   "outputs": [
    {
     "data": {
      "text/plain": [
       "array([4, 5, 3, ..., 4, 4, 4])"
      ]
     },
     "execution_count": 41,
     "metadata": {},
     "output_type": "execute_result"
    }
   ],
   "source": [
    "y_pred"
   ]
  },
  {
   "cell_type": "code",
   "execution_count": 42,
   "metadata": {},
   "outputs": [
    {
     "data": {
      "text/plain": [
       "array([4, 5, 3, ..., 5, 4, 3])"
      ]
     },
     "execution_count": 42,
     "metadata": {},
     "output_type": "execute_result"
    }
   ],
   "source": [
    "y_true = np.array(y_train.values)\n",
    "y_true"
   ]
  },
  {
   "cell_type": "code",
   "execution_count": 43,
   "metadata": {},
   "outputs": [
    {
     "name": "stdout",
     "output_type": "stream",
     "text": [
      "Accuracy:  0.7013333333333334\n",
      "              precision    recall  f1-score   support\n",
      "\n",
      "           0       0.89      0.47      0.62       440\n",
      "           1       0.64      0.77      0.70      1303\n",
      "           2       0.79      0.64      0.70      1078\n",
      "           3       0.69      0.71      0.70      1399\n",
      "           4       0.66      0.77      0.71      1365\n",
      "           5       0.76      0.68      0.72      1165\n",
      "\n",
      "    accuracy                           0.70      6750\n",
      "   macro avg       0.74      0.67      0.69      6750\n",
      "weighted avg       0.71      0.70      0.70      6750\n",
      "\n",
      "[[ 207   78   26   48   58   23]\n",
      " [   5 1002   54   84  104   54]\n",
      " [   4  112  687  114  108   53]\n",
      " [  10  151   58  994  128   58]\n",
      " [   3  121   31  104 1046   60]\n",
      " [   3  113   18   95  138  798]]\n"
     ]
    }
   ],
   "source": [
    "# print accuracy\n",
    "print(\"Accuracy: \", accuracy_score(y_true, y_pred))\n",
    "\n",
    "# print precision, recall, F1-score per each class/tag\n",
    "print(classification_report(y_true, y_pred))\n",
    "\n",
    "# print confusion matrix, check documentation for sorting rows/columns\n",
    "print(confusion_matrix(y_true, y_pred))\n"
   ]
  },
  {
   "cell_type": "code",
   "execution_count": 53,
   "metadata": {},
   "outputs": [],
   "source": [
    "yt_proba_test = classifier.predict_proba(Xt_df_sparse_test)"
   ]
  },
  {
   "cell_type": "code",
   "execution_count": 54,
   "metadata": {},
   "outputs": [],
   "source": [
    "y_pred_test = np.argmax(yt_proba_test, axis=1)"
   ]
  },
  {
   "cell_type": "code",
   "execution_count": 55,
   "metadata": {},
   "outputs": [
    {
     "data": {
      "text/plain": [
       "(844,)"
      ]
     },
     "execution_count": 55,
     "metadata": {},
     "output_type": "execute_result"
    }
   ],
   "source": [
    "y_pred_test.shape"
   ]
  },
  {
   "cell_type": "code",
   "execution_count": 56,
   "metadata": {},
   "outputs": [
    {
     "data": {
      "text/plain": [
       "(844,)"
      ]
     },
     "execution_count": 56,
     "metadata": {},
     "output_type": "execute_result"
    }
   ],
   "source": [
    "y_true = np.array(y_test.values)\n",
    "y_true.shape"
   ]
  },
  {
   "cell_type": "code",
   "execution_count": 57,
   "metadata": {},
   "outputs": [
    {
     "name": "stdout",
     "output_type": "stream",
     "text": [
      "Accuracy:  0.20853080568720378\n",
      "              precision    recall  f1-score   support\n",
      "\n",
      "           0       0.00      0.00      0.00        34\n",
      "           1       0.25      0.36      0.29       187\n",
      "           2       0.18      0.11      0.14       140\n",
      "           3       0.25      0.19      0.22       193\n",
      "           4       0.20      0.23      0.22       166\n",
      "           5       0.13      0.14      0.13       124\n",
      "\n",
      "    accuracy                           0.21       844\n",
      "   macro avg       0.17      0.17      0.17       844\n",
      "weighted avg       0.20      0.21      0.20       844\n",
      "\n",
      "[[ 0  8  5  2 13  6]\n",
      " [ 1 67 22 30 36 31]\n",
      " [ 0 38 16 28 42 16]\n",
      " [ 3 54 19 37 41 39]\n",
      " [ 1 58 12 32 39 24]\n",
      " [ 1 47 13 22 24 17]]\n"
     ]
    }
   ],
   "source": [
    "# print accuracy\n",
    "print(\"Accuracy: \", accuracy_score(y_true, y_pred_test))\n",
    "\n",
    "# print precision, recall, F1-score per each class/tag\n",
    "print(classification_report(y_true, y_pred_test))\n",
    "\n",
    "# print confusion matrix, check documentation for sorting rows/columns\n",
    "print(confusion_matrix(y_true, y_pred_test))"
   ]
  },
  {
   "cell_type": "code",
   "execution_count": null,
   "metadata": {},
   "outputs": [],
   "source": []
  },
  {
   "cell_type": "code",
   "execution_count": null,
   "metadata": {},
   "outputs": [],
   "source": []
  },
  {
   "cell_type": "code",
   "execution_count": null,
   "metadata": {},
   "outputs": [],
   "source": []
  },
  {
   "cell_type": "code",
   "execution_count": 94,
   "metadata": {},
   "outputs": [
    {
     "data": {
      "text/html": [
       "<div>\n",
       "<style scoped>\n",
       "    .dataframe tbody tr th:only-of-type {\n",
       "        vertical-align: middle;\n",
       "    }\n",
       "\n",
       "    .dataframe tbody tr th {\n",
       "        vertical-align: top;\n",
       "    }\n",
       "\n",
       "    .dataframe thead th {\n",
       "        text-align: right;\n",
       "    }\n",
       "</style>\n",
       "<table border=\"1\" class=\"dataframe\">\n",
       "  <thead>\n",
       "    <tr style=\"text-align: right;\">\n",
       "      <th></th>\n",
       "      <th>ID</th>\n",
       "      <th>statement</th>\n",
       "      <th>subject</th>\n",
       "      <th>speaker</th>\n",
       "      <th>jobtitle</th>\n",
       "      <th>state</th>\n",
       "      <th>party</th>\n",
       "      <th>barely</th>\n",
       "      <th>false</th>\n",
       "      <th>half</th>\n",
       "      <th>mostly</th>\n",
       "      <th>pantsfire</th>\n",
       "      <th>context</th>\n",
       "    </tr>\n",
       "  </thead>\n",
       "  <tbody>\n",
       "    <tr>\n",
       "      <th>1588</th>\n",
       "      <td>8587.json</td>\n",
       "      <td>[university, texas, student, athlete, get, ipad]</td>\n",
       "      <td>[education, sport, technology]</td>\n",
       "      <td>[jody, conradt]</td>\n",
       "      <td>[special, assistant, university, texas]</td>\n",
       "      <td>[texas]</td>\n",
       "      <td>[none]</td>\n",
       "      <td>1.0</td>\n",
       "      <td>0.0</td>\n",
       "      <td>0.0</td>\n",
       "      <td>0.0</td>\n",
       "      <td>0.0</td>\n",
       "      <td>[texas, tribune, festival, panel]</td>\n",
       "    </tr>\n",
       "    <tr>\n",
       "      <th>1315</th>\n",
       "      <td>12824.json</td>\n",
       "      <td>[percent, gain, gone, top, percent]</td>\n",
       "      <td>[economy, poverty]</td>\n",
       "      <td>[hillary, clinton]</td>\n",
       "      <td>[presidential, candidate]</td>\n",
       "      <td>[new, york]</td>\n",
       "      <td>[democrat]</td>\n",
       "      <td>40.0</td>\n",
       "      <td>29.0</td>\n",
       "      <td>69.0</td>\n",
       "      <td>76.0</td>\n",
       "      <td>7.0</td>\n",
       "      <td>[speech, democratic, national, convention]</td>\n",
       "    </tr>\n",
       "    <tr>\n",
       "      <th>5929</th>\n",
       "      <td>4163.json</td>\n",
       "      <td>[say, member, military, sent, campaign, contri...</td>\n",
       "      <td>[campaign, finance]</td>\n",
       "      <td>[ron, paul]</td>\n",
       "      <td>[u, representative]</td>\n",
       "      <td>[texas]</td>\n",
       "      <td>[republican]</td>\n",
       "      <td>5.0</td>\n",
       "      <td>8.0</td>\n",
       "      <td>8.0</td>\n",
       "      <td>8.0</td>\n",
       "      <td>3.0</td>\n",
       "      <td>[interview]</td>\n",
       "    </tr>\n",
       "    <tr>\n",
       "      <th>2851</th>\n",
       "      <td>8969.json</td>\n",
       "      <td>[weve, got, american, access, health, care, ti...</td>\n",
       "      <td>[health, care, medicaid]</td>\n",
       "      <td>[barack, obama]</td>\n",
       "      <td>[president]</td>\n",
       "      <td>[illinois]</td>\n",
       "      <td>[democrat]</td>\n",
       "      <td>70.0</td>\n",
       "      <td>71.0</td>\n",
       "      <td>160.0</td>\n",
       "      <td>163.0</td>\n",
       "      <td>9.0</td>\n",
       "      <td>[speech, democratic, governor]</td>\n",
       "    </tr>\n",
       "    <tr>\n",
       "      <th>2179</th>\n",
       "      <td>5968.json</td>\n",
       "      <td>[say, large, majority, republican, believe, ob...</td>\n",
       "      <td>[candidate, biography, poll]</td>\n",
       "      <td>[gilberto, hinojosa]</td>\n",
       "      <td>[chairman, texas, democratic, party]</td>\n",
       "      <td>[texas]</td>\n",
       "      <td>[democrat]</td>\n",
       "      <td>0.0</td>\n",
       "      <td>4.0</td>\n",
       "      <td>1.0</td>\n",
       "      <td>2.0</td>\n",
       "      <td>1.0</td>\n",
       "      <td>[central, texas, democratic, forum]</td>\n",
       "    </tr>\n",
       "  </tbody>\n",
       "</table>\n",
       "</div>"
      ],
      "text/plain": [
       "              ID                                          statement  \\\n",
       "1588   8587.json   [university, texas, student, athlete, get, ipad]   \n",
       "1315  12824.json                [percent, gain, gone, top, percent]   \n",
       "5929   4163.json  [say, member, military, sent, campaign, contri...   \n",
       "2851   8969.json  [weve, got, american, access, health, care, ti...   \n",
       "2179   5968.json  [say, large, majority, republican, believe, ob...   \n",
       "\n",
       "                             subject               speaker  \\\n",
       "1588  [education, sport, technology]       [jody, conradt]   \n",
       "1315              [economy, poverty]    [hillary, clinton]   \n",
       "5929             [campaign, finance]           [ron, paul]   \n",
       "2851        [health, care, medicaid]       [barack, obama]   \n",
       "2179    [candidate, biography, poll]  [gilberto, hinojosa]   \n",
       "\n",
       "                                     jobtitle        state         party  \\\n",
       "1588  [special, assistant, university, texas]      [texas]        [none]   \n",
       "1315                [presidential, candidate]  [new, york]    [democrat]   \n",
       "5929                      [u, representative]      [texas]  [republican]   \n",
       "2851                              [president]   [illinois]    [democrat]   \n",
       "2179     [chairman, texas, democratic, party]      [texas]    [democrat]   \n",
       "\n",
       "      barely  false   half  mostly  pantsfire  \\\n",
       "1588     1.0    0.0    0.0     0.0        0.0   \n",
       "1315    40.0   29.0   69.0    76.0        7.0   \n",
       "5929     5.0    8.0    8.0     8.0        3.0   \n",
       "2851    70.0   71.0  160.0   163.0        9.0   \n",
       "2179     0.0    4.0    1.0     2.0        1.0   \n",
       "\n",
       "                                         context  \n",
       "1588           [texas, tribune, festival, panel]  \n",
       "1315  [speech, democratic, national, convention]  \n",
       "5929                                 [interview]  \n",
       "2851              [speech, democratic, governor]  \n",
       "2179         [central, texas, democratic, forum]  "
      ]
     },
     "execution_count": 94,
     "metadata": {},
     "output_type": "execute_result"
    }
   ],
   "source": [
    "X_train.head()"
   ]
  },
  {
   "cell_type": "code",
   "execution_count": 167,
   "metadata": {},
   "outputs": [
    {
     "data": {
      "text/plain": [
       "TfidfVectorizer(lowercase=False, max_features=3000, stop_words='english',\n",
       "                tokenizer=<function identity_tokenizer at 0x7fa099123f70>)"
      ]
     },
     "execution_count": 167,
     "metadata": {},
     "output_type": "execute_result"
    }
   ],
   "source": [
    "def identity_tokenizer(text):\n",
    "    return text\n",
    "tfidf_vectorizer = TfidfVectorizer(tokenizer=identity_tokenizer, stop_words='english', lowercase=False, max_features=3000)\n",
    "tfidf_vectorizer.fit(df['statement'])"
   ]
  },
  {
   "cell_type": "code",
   "execution_count": 168,
   "metadata": {},
   "outputs": [],
   "source": [
    "tfidf_train_vectors = tfidf_vectorizer.fit_transform(\n",
    "    X_train['statement'] + X_train['subject'] + X_train['speaker'] +  X_train['jobtitle'] +  X_train['state']\n",
    "    + X_train['party'] +  X_train['context']\n",
    ")"
   ]
  },
  {
   "cell_type": "code",
   "execution_count": 169,
   "metadata": {},
   "outputs": [
    {
     "data": {
      "text/plain": [
       "<6750x3000 sparse matrix of type '<class 'numpy.float64'>'\n",
       "\twith 122253 stored elements in Compressed Sparse Row format>"
      ]
     },
     "execution_count": 169,
     "metadata": {},
     "output_type": "execute_result"
    }
   ],
   "source": [
    "tfidf_train_vectors"
   ]
  },
  {
   "cell_type": "code",
   "execution_count": 170,
   "metadata": {},
   "outputs": [],
   "source": [
    "tfidf_test_vectors = tfidf_vectorizer.fit_transform(\n",
    "    X_test['statement'] + X_test['subject'] + X_test['speaker'] +  X_test['jobtitle'] +  X_test['state']\n",
    "    + X_test['party'] +  X_test['context']\n",
    ")"
   ]
  },
  {
   "cell_type": "code",
   "execution_count": 171,
   "metadata": {},
   "outputs": [
    {
     "data": {
      "text/plain": [
       "<844x3000 sparse matrix of type '<class 'numpy.float64'>'\n",
       "\twith 16171 stored elements in Compressed Sparse Row format>"
      ]
     },
     "execution_count": 171,
     "metadata": {},
     "output_type": "execute_result"
    }
   ],
   "source": [
    "tfidf_test_vectors"
   ]
  },
  {
   "cell_type": "code",
   "execution_count": 172,
   "metadata": {},
   "outputs": [],
   "source": [
    "Xt_df_sparse = pd.DataFrame.sparse.from_spmatrix(tfidf_train_vectors)"
   ]
  },
  {
   "cell_type": "code",
   "execution_count": 173,
   "metadata": {},
   "outputs": [],
   "source": [
    "Xt_df_sparse_test = pd.DataFrame.sparse.from_spmatrix(tfidf_test_vectors)"
   ]
  },
  {
   "cell_type": "code",
   "execution_count": 174,
   "metadata": {},
   "outputs": [
    {
     "name": "stdout",
     "output_type": "stream",
     "text": [
      "fitting classifier\n",
      "classifier fit\n"
     ]
    }
   ],
   "source": [
    "classifier = XGBClassifier()\n",
    "print(\"fitting classifier\")\n",
    "classifier.fit(Xt_df_sparse, y_train)\n",
    "print(\"classifier fit\")\n",
    "yt_proba = classifier.predict_proba(Xt_df_sparse)"
   ]
  },
  {
   "cell_type": "code",
   "execution_count": 175,
   "metadata": {},
   "outputs": [
    {
     "name": "stdout",
     "output_type": "stream",
     "text": [
      "[[0.04514504 0.11696146 0.26289982 0.19263935 0.17626187 0.20609248]\n",
      " [0.00905144 0.05620163 0.06648297 0.5542478  0.15654613 0.15747002]\n",
      " [0.06798316 0.20630156 0.19403362 0.21847646 0.2061453  0.10705993]\n",
      " ...\n",
      " [0.02907823 0.08514464 0.21772006 0.34184185 0.1896854  0.13652986]\n",
      " [0.00677771 0.55107665 0.08723486 0.09864539 0.09080196 0.16546348]\n",
      " [0.01502899 0.09484204 0.11376011 0.28187776 0.32490784 0.1695833 ]]\n"
     ]
    }
   ],
   "source": [
    "print(yt_proba)"
   ]
  },
  {
   "cell_type": "code",
   "execution_count": 176,
   "metadata": {},
   "outputs": [],
   "source": [
    "y_pred = np.argmax(yt_proba, axis=1)"
   ]
  },
  {
   "cell_type": "code",
   "execution_count": 177,
   "metadata": {},
   "outputs": [
    {
     "data": {
      "text/plain": [
       "array([2, 3, 3, ..., 3, 1, 4])"
      ]
     },
     "execution_count": 177,
     "metadata": {},
     "output_type": "execute_result"
    }
   ],
   "source": [
    "y_pred"
   ]
  },
  {
   "cell_type": "code",
   "execution_count": 178,
   "metadata": {},
   "outputs": [
    {
     "data": {
      "text/plain": [
       "array([2, 3, 5, ..., 3, 1, 4])"
      ]
     },
     "execution_count": 178,
     "metadata": {},
     "output_type": "execute_result"
    }
   ],
   "source": [
    "y_true = np.array(y_train.values)\n",
    "y_true"
   ]
  },
  {
   "cell_type": "code",
   "execution_count": 179,
   "metadata": {},
   "outputs": [
    {
     "name": "stdout",
     "output_type": "stream",
     "text": [
      "Accuracy:  0.8391111111111111\n",
      "              precision    recall  f1-score   support\n",
      "\n",
      "           0       0.96      0.75      0.85       428\n",
      "           1       0.82      0.88      0.85      1282\n",
      "           2       0.90      0.76      0.82      1080\n",
      "           3       0.82      0.87      0.84      1430\n",
      "           4       0.78      0.87      0.82      1376\n",
      "           5       0.89      0.83      0.86      1154\n",
      "\n",
      "    accuracy                           0.84      6750\n",
      "   macro avg       0.86      0.83      0.84      6750\n",
      "weighted avg       0.85      0.84      0.84      6750\n",
      "\n",
      "[[ 322   27    7   37   26    9]\n",
      " [   5 1131   18   44   56   28]\n",
      " [   2   65  818   71   94   30]\n",
      " [   3   59   27 1239   81   21]\n",
      " [   1   68   19   61 1200   27]\n",
      " [   1   37   16   67   79  954]]\n"
     ]
    }
   ],
   "source": [
    "# print accuracy\n",
    "print(\"Accuracy: \", accuracy_score(y_true, y_pred))\n",
    "\n",
    "# print precision, recall, F1-score per each class/tag\n",
    "print(classification_report(y_true, y_pred))\n",
    "\n",
    "# print confusion matrix, check documentation for sorting rows/columns\n",
    "print(confusion_matrix(y_true, y_pred))"
   ]
  },
  {
   "cell_type": "code",
   "execution_count": 180,
   "metadata": {},
   "outputs": [],
   "source": [
    "yt_proba_test = classifier.predict_proba(Xt_df_sparse_test)"
   ]
  },
  {
   "cell_type": "code",
   "execution_count": 181,
   "metadata": {},
   "outputs": [],
   "source": [
    "y_pred_test = np.argmax(yt_proba_test, axis=1)"
   ]
  },
  {
   "cell_type": "code",
   "execution_count": 182,
   "metadata": {},
   "outputs": [
    {
     "data": {
      "text/plain": [
       "(844,)"
      ]
     },
     "execution_count": 182,
     "metadata": {},
     "output_type": "execute_result"
    }
   ],
   "source": [
    "y_pred_test.shape"
   ]
  },
  {
   "cell_type": "code",
   "execution_count": 183,
   "metadata": {},
   "outputs": [
    {
     "data": {
      "text/plain": [
       "(844,)"
      ]
     },
     "execution_count": 183,
     "metadata": {},
     "output_type": "execute_result"
    }
   ],
   "source": [
    "y_true = np.array(y_test.values)\n",
    "y_true.shape"
   ]
  },
  {
   "cell_type": "code",
   "execution_count": 184,
   "metadata": {},
   "outputs": [
    {
     "name": "stdout",
     "output_type": "stream",
     "text": [
      "Accuracy:  0.19194312796208532\n",
      "              precision    recall  f1-score   support\n",
      "\n",
      "           0       0.00      0.00      0.00        57\n",
      "           1       0.24      0.12      0.16       191\n",
      "           2       0.16      0.09      0.12       144\n",
      "           3       0.19      0.23      0.21       172\n",
      "           4       0.21      0.41      0.28       169\n",
      "           5       0.13      0.16      0.14       111\n",
      "\n",
      "    accuracy                           0.19       844\n",
      "   macro avg       0.16      0.17      0.15       844\n",
      "weighted avg       0.18      0.19      0.17       844\n",
      "\n",
      "[[ 0  6 10 15 14 12]\n",
      " [ 1 22 18 48 70 32]\n",
      " [ 0 15 13 32 59 25]\n",
      " [ 0 22 16 39 71 24]\n",
      " [ 1 14 10 46 70 28]\n",
      " [ 0 13 13 25 42 18]]\n"
     ]
    }
   ],
   "source": [
    "# print accuracy\n",
    "print(\"Accuracy: \", accuracy_score(y_true, y_pred_test))\n",
    "\n",
    "# print precision, recall, F1-score per each class/tag\n",
    "print(classification_report(y_true, y_pred_test))\n",
    "\n",
    "# print confusion matrix, check documentation for sorting rows/columns\n",
    "print(confusion_matrix(y_true, y_pred_test))"
   ]
  },
  {
   "cell_type": "code",
   "execution_count": null,
   "metadata": {},
   "outputs": [],
   "source": []
  }
 ],
 "metadata": {
  "kernelspec": {
   "display_name": "Python 3",
   "language": "python",
   "name": "python3"
  },
  "language_info": {
   "codemirror_mode": {
    "name": "ipython",
    "version": 3
   },
   "file_extension": ".py",
   "mimetype": "text/x-python",
   "name": "python",
   "nbconvert_exporter": "python",
   "pygments_lexer": "ipython3",
   "version": "3.8.3"
  }
 },
 "nbformat": 4,
 "nbformat_minor": 4
}
