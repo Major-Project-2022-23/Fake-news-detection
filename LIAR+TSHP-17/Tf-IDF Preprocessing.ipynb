{
 "cells": [
  {
   "cell_type": "code",
   "execution_count": 1,
   "metadata": {},
   "outputs": [
    {
     "name": "stderr",
     "output_type": "stream",
     "text": [
      "[nltk_data] Downloading package stopwords to\n",
      "[nltk_data]     /Users/shivamarora/nltk_data...\n",
      "[nltk_data]   Package stopwords is already up-to-date!\n",
      "[nltk_data] Downloading package wordnet to\n",
      "[nltk_data]     /Users/shivamarora/nltk_data...\n",
      "[nltk_data]   Package wordnet is already up-to-date!\n"
     ]
    }
   ],
   "source": [
    "import numpy as np\n",
    "import pandas as pd\n",
    "from fast_ml.model_development import train_valid_test_split\n",
    "from string import punctuation\n",
    "import re\n",
    "import nltk\n",
    "from nltk import word_tokenize\n",
    "nltk.download('stopwords')\n",
    "from nltk.stem.porter import PorterStemmer\n",
    "from nltk.stem import WordNetLemmatizer\n",
    "nltk.download('wordnet')\n",
    "from sklearn.feature_extraction.text import TfidfVectorizer\n",
    "from string import digits\n",
    "import matplotlib.pyplot as plt\n",
    "%matplotlib inline\n",
    "import seaborn as sns\n",
    "import sklearn.naive_bayes as naive_bayes\n",
    "from sklearn.metrics import accuracy_score, confusion_matrix\n",
    "from sklearn.preprocessing import LabelEncoder, OneHotEncoder"
   ]
  },
  {
   "cell_type": "code",
   "execution_count": 2,
   "metadata": {},
   "outputs": [
    {
     "name": "stdout",
     "output_type": "stream",
     "text": [
      "(17662, 3)\n"
     ]
    },
    {
     "data": {
      "text/html": [
       "<div>\n",
       "<style scoped>\n",
       "    .dataframe tbody tr th:only-of-type {\n",
       "        vertical-align: middle;\n",
       "    }\n",
       "\n",
       "    .dataframe tbody tr th {\n",
       "        vertical-align: top;\n",
       "    }\n",
       "\n",
       "    .dataframe thead th {\n",
       "        text-align: right;\n",
       "    }\n",
       "</style>\n",
       "<table border=\"1\" class=\"dataframe\">\n",
       "  <thead>\n",
       "    <tr style=\"text-align: right;\">\n",
       "      <th></th>\n",
       "      <th>text</th>\n",
       "      <th>speaker</th>\n",
       "      <th>label</th>\n",
       "    </tr>\n",
       "  </thead>\n",
       "  <tbody>\n",
       "    <tr>\n",
       "      <th>0</th>\n",
       "      <td>Says the Annies List political group supports ...</td>\n",
       "      <td>dwayne-bohac</td>\n",
       "      <td>false</td>\n",
       "    </tr>\n",
       "    <tr>\n",
       "      <th>1</th>\n",
       "      <td>When did the decline of coal start? It started...</td>\n",
       "      <td>scott-surovell</td>\n",
       "      <td>half-true</td>\n",
       "    </tr>\n",
       "    <tr>\n",
       "      <th>2</th>\n",
       "      <td>The economic turnaround started at the end of ...</td>\n",
       "      <td>charlie-crist</td>\n",
       "      <td>half-true</td>\n",
       "    </tr>\n",
       "    <tr>\n",
       "      <th>3</th>\n",
       "      <td>The Chicago Bears have had more starting quart...</td>\n",
       "      <td>robin-vos</td>\n",
       "      <td>true</td>\n",
       "    </tr>\n",
       "    <tr>\n",
       "      <th>4</th>\n",
       "      <td>Jim Dunnam has not lived in the district he re...</td>\n",
       "      <td>republican-party-texas</td>\n",
       "      <td>barely-true</td>\n",
       "    </tr>\n",
       "  </tbody>\n",
       "</table>\n",
       "</div>"
      ],
      "text/plain": [
       "                                                text                 speaker  \\\n",
       "0  Says the Annies List political group supports ...            dwayne-bohac   \n",
       "1  When did the decline of coal start? It started...          scott-surovell   \n",
       "2  The economic turnaround started at the end of ...           charlie-crist   \n",
       "3  The Chicago Bears have had more starting quart...               robin-vos   \n",
       "4  Jim Dunnam has not lived in the district he re...  republican-party-texas   \n",
       "\n",
       "         label  \n",
       "0        false  \n",
       "1    half-true  \n",
       "2    half-true  \n",
       "3         true  \n",
       "4  barely-true  "
      ]
     },
     "execution_count": 2,
     "metadata": {},
     "output_type": "execute_result"
    }
   ],
   "source": [
    "data = pd.read_csv('data.csv')\n",
    "data = data.dropna()\n",
    "print(data.shape)\n",
    "data.head()"
   ]
  },
  {
   "cell_type": "code",
   "execution_count": 3,
   "metadata": {},
   "outputs": [
    {
     "data": {
      "text/plain": [
       "half-true      3673\n",
       "false          3464\n",
       "mostly-true    3320\n",
       "barely-true    2990\n",
       "true           2696\n",
       "pants-fire     1519\n",
       "Name: label, dtype: int64"
      ]
     },
     "execution_count": 3,
     "metadata": {},
     "output_type": "execute_result"
    }
   ],
   "source": [
    "data['label'].value_counts()"
   ]
  },
  {
   "cell_type": "code",
   "execution_count": 4,
   "metadata": {},
   "outputs": [
    {
     "data": {
      "text/plain": [
       "5105"
      ]
     },
     "execution_count": 4,
     "metadata": {},
     "output_type": "execute_result"
    }
   ],
   "source": [
    "len(data['speaker'].unique())"
   ]
  },
  {
   "cell_type": "markdown",
   "metadata": {},
   "source": [
    "## Utility Functions"
   ]
  },
  {
   "cell_type": "code",
   "execution_count": 5,
   "metadata": {},
   "outputs": [],
   "source": [
    "def remove_punctuation(text):\n",
    "    punctuationfree=\"\".join([i for i in text if i not in punctuation])\n",
    "    return punctuationfree"
   ]
  },
  {
   "cell_type": "code",
   "execution_count": 6,
   "metadata": {},
   "outputs": [],
   "source": [
    "def tokenization(text):\n",
    "    return word_tokenize(str(text))"
   ]
  },
  {
   "cell_type": "code",
   "execution_count": 7,
   "metadata": {},
   "outputs": [],
   "source": [
    "from nltk.corpus import stopwords\n",
    "stopWords = stopwords.words('english')\n",
    "def remove_stopwords(text):\n",
    "    output= [i for i in text if i not in stopWords]\n",
    "    return output"
   ]
  },
  {
   "cell_type": "code",
   "execution_count": 8,
   "metadata": {},
   "outputs": [],
   "source": [
    "porter_stemmer = PorterStemmer()\n",
    "def stemming(text):\n",
    "    stem_text = [porter_stemmer.stem(word) for word in text]\n",
    "    return stem_text"
   ]
  },
  {
   "cell_type": "code",
   "execution_count": 9,
   "metadata": {},
   "outputs": [],
   "source": [
    "wordnet_lemmatizer = WordNetLemmatizer()\n",
    "def lemmatizer(text):\n",
    "    lemm_text = [wordnet_lemmatizer.lemmatize(word) for word in text]\n",
    "    return lemm_text"
   ]
  },
  {
   "cell_type": "markdown",
   "metadata": {},
   "source": [
    "## Preprocessing"
   ]
  },
  {
   "cell_type": "code",
   "execution_count": 10,
   "metadata": {},
   "outputs": [
    {
     "data": {
      "text/html": [
       "<div>\n",
       "<style scoped>\n",
       "    .dataframe tbody tr th:only-of-type {\n",
       "        vertical-align: middle;\n",
       "    }\n",
       "\n",
       "    .dataframe tbody tr th {\n",
       "        vertical-align: top;\n",
       "    }\n",
       "\n",
       "    .dataframe thead th {\n",
       "        text-align: right;\n",
       "    }\n",
       "</style>\n",
       "<table border=\"1\" class=\"dataframe\">\n",
       "  <thead>\n",
       "    <tr style=\"text-align: right;\">\n",
       "      <th></th>\n",
       "      <th>content</th>\n",
       "      <th>speaker</th>\n",
       "      <th>label</th>\n",
       "    </tr>\n",
       "  </thead>\n",
       "  <tbody>\n",
       "    <tr>\n",
       "      <th>0</th>\n",
       "      <td>Says the Annies List political group supports ...</td>\n",
       "      <td>dwayne-bohac</td>\n",
       "      <td>false</td>\n",
       "    </tr>\n",
       "    <tr>\n",
       "      <th>1</th>\n",
       "      <td>When did the decline of coal start? It started...</td>\n",
       "      <td>scott-surovell</td>\n",
       "      <td>half-true</td>\n",
       "    </tr>\n",
       "    <tr>\n",
       "      <th>2</th>\n",
       "      <td>The economic turnaround started at the end of ...</td>\n",
       "      <td>charlie-crist</td>\n",
       "      <td>half-true</td>\n",
       "    </tr>\n",
       "    <tr>\n",
       "      <th>3</th>\n",
       "      <td>The Chicago Bears have had more starting quart...</td>\n",
       "      <td>robin-vos</td>\n",
       "      <td>true</td>\n",
       "    </tr>\n",
       "    <tr>\n",
       "      <th>4</th>\n",
       "      <td>Jim Dunnam has not lived in the district he re...</td>\n",
       "      <td>republican-party-texas</td>\n",
       "      <td>barely-true</td>\n",
       "    </tr>\n",
       "  </tbody>\n",
       "</table>\n",
       "</div>"
      ],
      "text/plain": [
       "                                             content                 speaker  \\\n",
       "0  Says the Annies List political group supports ...            dwayne-bohac   \n",
       "1  When did the decline of coal start? It started...          scott-surovell   \n",
       "2  The economic turnaround started at the end of ...           charlie-crist   \n",
       "3  The Chicago Bears have had more starting quart...               robin-vos   \n",
       "4  Jim Dunnam has not lived in the district he re...  republican-party-texas   \n",
       "\n",
       "         label  \n",
       "0        false  \n",
       "1    half-true  \n",
       "2    half-true  \n",
       "3         true  \n",
       "4  barely-true  "
      ]
     },
     "execution_count": 10,
     "metadata": {},
     "output_type": "execute_result"
    }
   ],
   "source": [
    "data.rename(columns = {'text':'content'}, inplace = True)\n",
    "data.head()"
   ]
  },
  {
   "cell_type": "code",
   "execution_count": 11,
   "metadata": {},
   "outputs": [],
   "source": [
    "#Punctuation Removal\n",
    "data['content']= data['content'].apply(lambda x:remove_punctuation(x))"
   ]
  },
  {
   "cell_type": "code",
   "execution_count": 12,
   "metadata": {},
   "outputs": [],
   "source": [
    "#Numbers Removal\n",
    "remove_digits = str.maketrans('', '', digits)\n",
    "data['content'] = data['content'].apply(lambda x: x.translate(remove_digits))"
   ]
  },
  {
   "cell_type": "code",
   "execution_count": 13,
   "metadata": {},
   "outputs": [],
   "source": [
    "#lowering the text\n",
    "data['content']= data['content'].apply(lambda x: x.lower())"
   ]
  },
  {
   "cell_type": "code",
   "execution_count": 14,
   "metadata": {},
   "outputs": [],
   "source": [
    "#tokenization\n",
    "data['content']= data['content'].apply(lambda x: tokenization(x))"
   ]
  },
  {
   "cell_type": "code",
   "execution_count": 15,
   "metadata": {},
   "outputs": [],
   "source": [
    "#Removing stop words\n",
    "data['content']= data['content'].apply(lambda x:remove_stopwords(x))"
   ]
  },
  {
   "cell_type": "code",
   "execution_count": 16,
   "metadata": {},
   "outputs": [],
   "source": [
    "#Stemming\n",
    "data['content']=data['content'].apply(lambda x: stemming(x))"
   ]
  },
  {
   "cell_type": "code",
   "execution_count": 17,
   "metadata": {},
   "outputs": [],
   "source": [
    "#Lemmatization\n",
    "data['content']=data['content'].apply(lambda x:lemmatizer(x))"
   ]
  },
  {
   "cell_type": "code",
   "execution_count": 18,
   "metadata": {},
   "outputs": [
    {
     "data": {
      "text/html": [
       "<div>\n",
       "<style scoped>\n",
       "    .dataframe tbody tr th:only-of-type {\n",
       "        vertical-align: middle;\n",
       "    }\n",
       "\n",
       "    .dataframe tbody tr th {\n",
       "        vertical-align: top;\n",
       "    }\n",
       "\n",
       "    .dataframe thead th {\n",
       "        text-align: right;\n",
       "    }\n",
       "</style>\n",
       "<table border=\"1\" class=\"dataframe\">\n",
       "  <thead>\n",
       "    <tr style=\"text-align: right;\">\n",
       "      <th></th>\n",
       "      <th>content</th>\n",
       "      <th>speaker</th>\n",
       "      <th>label</th>\n",
       "    </tr>\n",
       "  </thead>\n",
       "  <tbody>\n",
       "    <tr>\n",
       "      <th>0</th>\n",
       "      <td>[say, anni, list, polit, group, support, third...</td>\n",
       "      <td>dwayne-bohac</td>\n",
       "      <td>false</td>\n",
       "    </tr>\n",
       "    <tr>\n",
       "      <th>1</th>\n",
       "      <td>[declin, coal, start, start, natur, ga, took, ...</td>\n",
       "      <td>scott-surovell</td>\n",
       "      <td>half-true</td>\n",
       "    </tr>\n",
       "    <tr>\n",
       "      <th>2</th>\n",
       "      <td>[econom, turnaround, start, end, term]</td>\n",
       "      <td>charlie-crist</td>\n",
       "      <td>half-true</td>\n",
       "    </tr>\n",
       "    <tr>\n",
       "      <th>3</th>\n",
       "      <td>[chicago, bear, start, quarterback, last, year...</td>\n",
       "      <td>robin-vos</td>\n",
       "      <td>true</td>\n",
       "    </tr>\n",
       "    <tr>\n",
       "      <th>4</th>\n",
       "      <td>[jim, dunnam, live, district, repres, year]</td>\n",
       "      <td>republican-party-texas</td>\n",
       "      <td>barely-true</td>\n",
       "    </tr>\n",
       "  </tbody>\n",
       "</table>\n",
       "</div>"
      ],
      "text/plain": [
       "                                             content                 speaker  \\\n",
       "0  [say, anni, list, polit, group, support, third...            dwayne-bohac   \n",
       "1  [declin, coal, start, start, natur, ga, took, ...          scott-surovell   \n",
       "2             [econom, turnaround, start, end, term]           charlie-crist   \n",
       "3  [chicago, bear, start, quarterback, last, year...               robin-vos   \n",
       "4        [jim, dunnam, live, district, repres, year]  republican-party-texas   \n",
       "\n",
       "         label  \n",
       "0        false  \n",
       "1    half-true  \n",
       "2    half-true  \n",
       "3         true  \n",
       "4  barely-true  "
      ]
     },
     "execution_count": 18,
     "metadata": {},
     "output_type": "execute_result"
    }
   ],
   "source": [
    "data.head()"
   ]
  },
  {
   "cell_type": "code",
   "execution_count": 19,
   "metadata": {},
   "outputs": [],
   "source": [
    "label_map = {\n",
    "    'pants-fire':0,\n",
    "    'false':1,\n",
    "    'barely-true':2,\n",
    "    'half-true':3,\n",
    "    'mostly-true':4,\n",
    "    'true':5\n",
    "}"
   ]
  },
  {
   "cell_type": "code",
   "execution_count": 20,
   "metadata": {},
   "outputs": [],
   "source": [
    "data['label'] = data['label'].map(label_map)"
   ]
  },
  {
   "cell_type": "code",
   "execution_count": 21,
   "metadata": {},
   "outputs": [
    {
     "data": {
      "text/html": [
       "<div>\n",
       "<style scoped>\n",
       "    .dataframe tbody tr th:only-of-type {\n",
       "        vertical-align: middle;\n",
       "    }\n",
       "\n",
       "    .dataframe tbody tr th {\n",
       "        vertical-align: top;\n",
       "    }\n",
       "\n",
       "    .dataframe thead th {\n",
       "        text-align: right;\n",
       "    }\n",
       "</style>\n",
       "<table border=\"1\" class=\"dataframe\">\n",
       "  <thead>\n",
       "    <tr style=\"text-align: right;\">\n",
       "      <th></th>\n",
       "      <th>content</th>\n",
       "      <th>speaker</th>\n",
       "      <th>label</th>\n",
       "    </tr>\n",
       "  </thead>\n",
       "  <tbody>\n",
       "    <tr>\n",
       "      <th>0</th>\n",
       "      <td>[say, anni, list, polit, group, support, third...</td>\n",
       "      <td>dwayne-bohac</td>\n",
       "      <td>1</td>\n",
       "    </tr>\n",
       "    <tr>\n",
       "      <th>1</th>\n",
       "      <td>[declin, coal, start, start, natur, ga, took, ...</td>\n",
       "      <td>scott-surovell</td>\n",
       "      <td>3</td>\n",
       "    </tr>\n",
       "    <tr>\n",
       "      <th>2</th>\n",
       "      <td>[econom, turnaround, start, end, term]</td>\n",
       "      <td>charlie-crist</td>\n",
       "      <td>3</td>\n",
       "    </tr>\n",
       "    <tr>\n",
       "      <th>3</th>\n",
       "      <td>[chicago, bear, start, quarterback, last, year...</td>\n",
       "      <td>robin-vos</td>\n",
       "      <td>5</td>\n",
       "    </tr>\n",
       "    <tr>\n",
       "      <th>4</th>\n",
       "      <td>[jim, dunnam, live, district, repres, year]</td>\n",
       "      <td>republican-party-texas</td>\n",
       "      <td>2</td>\n",
       "    </tr>\n",
       "  </tbody>\n",
       "</table>\n",
       "</div>"
      ],
      "text/plain": [
       "                                             content                 speaker  \\\n",
       "0  [say, anni, list, polit, group, support, third...            dwayne-bohac   \n",
       "1  [declin, coal, start, start, natur, ga, took, ...          scott-surovell   \n",
       "2             [econom, turnaround, start, end, term]           charlie-crist   \n",
       "3  [chicago, bear, start, quarterback, last, year...               robin-vos   \n",
       "4        [jim, dunnam, live, district, repres, year]  republican-party-texas   \n",
       "\n",
       "   label  \n",
       "0      1  \n",
       "1      3  \n",
       "2      3  \n",
       "3      5  \n",
       "4      2  "
      ]
     },
     "execution_count": 21,
     "metadata": {},
     "output_type": "execute_result"
    }
   ],
   "source": [
    "data.head()"
   ]
  },
  {
   "cell_type": "code",
   "execution_count": 22,
   "metadata": {},
   "outputs": [],
   "source": [
    "labelencoder = LabelEncoder()"
   ]
  },
  {
   "cell_type": "code",
   "execution_count": 23,
   "metadata": {},
   "outputs": [],
   "source": [
    "data['speaker_code'] = labelencoder.fit_transform(data['speaker'])"
   ]
  },
  {
   "cell_type": "code",
   "execution_count": 24,
   "metadata": {},
   "outputs": [
    {
     "data": {
      "text/html": [
       "<div>\n",
       "<style scoped>\n",
       "    .dataframe tbody tr th:only-of-type {\n",
       "        vertical-align: middle;\n",
       "    }\n",
       "\n",
       "    .dataframe tbody tr th {\n",
       "        vertical-align: top;\n",
       "    }\n",
       "\n",
       "    .dataframe thead th {\n",
       "        text-align: right;\n",
       "    }\n",
       "</style>\n",
       "<table border=\"1\" class=\"dataframe\">\n",
       "  <thead>\n",
       "    <tr style=\"text-align: right;\">\n",
       "      <th></th>\n",
       "      <th>content</th>\n",
       "      <th>speaker</th>\n",
       "      <th>label</th>\n",
       "      <th>speaker_code</th>\n",
       "    </tr>\n",
       "  </thead>\n",
       "  <tbody>\n",
       "    <tr>\n",
       "      <th>0</th>\n",
       "      <td>[say, anni, list, polit, group, support, third...</td>\n",
       "      <td>dwayne-bohac</td>\n",
       "      <td>1</td>\n",
       "      <td>3497</td>\n",
       "    </tr>\n",
       "    <tr>\n",
       "      <th>1</th>\n",
       "      <td>[declin, coal, start, start, natur, ga, took, ...</td>\n",
       "      <td>scott-surovell</td>\n",
       "      <td>3</td>\n",
       "      <td>4773</td>\n",
       "    </tr>\n",
       "    <tr>\n",
       "      <th>2</th>\n",
       "      <td>[econom, turnaround, start, end, term]</td>\n",
       "      <td>charlie-crist</td>\n",
       "      <td>3</td>\n",
       "      <td>3210</td>\n",
       "    </tr>\n",
       "    <tr>\n",
       "      <th>3</th>\n",
       "      <td>[chicago, bear, start, quarterback, last, year...</td>\n",
       "      <td>robin-vos</td>\n",
       "      <td>5</td>\n",
       "      <td>4686</td>\n",
       "    </tr>\n",
       "    <tr>\n",
       "      <th>4</th>\n",
       "      <td>[jim, dunnam, live, district, repres, year]</td>\n",
       "      <td>republican-party-texas</td>\n",
       "      <td>2</td>\n",
       "      <td>4620</td>\n",
       "    </tr>\n",
       "  </tbody>\n",
       "</table>\n",
       "</div>"
      ],
      "text/plain": [
       "                                             content                 speaker  \\\n",
       "0  [say, anni, list, polit, group, support, third...            dwayne-bohac   \n",
       "1  [declin, coal, start, start, natur, ga, took, ...          scott-surovell   \n",
       "2             [econom, turnaround, start, end, term]           charlie-crist   \n",
       "3  [chicago, bear, start, quarterback, last, year...               robin-vos   \n",
       "4        [jim, dunnam, live, district, repres, year]  republican-party-texas   \n",
       "\n",
       "   label  speaker_code  \n",
       "0      1          3497  \n",
       "1      3          4773  \n",
       "2      3          3210  \n",
       "3      5          4686  \n",
       "4      2          4620  "
      ]
     },
     "execution_count": 24,
     "metadata": {},
     "output_type": "execute_result"
    }
   ],
   "source": [
    "data.head()"
   ]
  },
  {
   "cell_type": "markdown",
   "metadata": {},
   "source": [
    "## Split & Vectorization"
   ]
  },
  {
   "cell_type": "code",
   "execution_count": 25,
   "metadata": {},
   "outputs": [],
   "source": [
    "X_train, y_train, X_valid, y_valid, X_test, y_test = train_valid_test_split(data, target = 'label', \n",
    "                                                                            train_size=0.8, valid_size=0.1, test_size=0.1)"
   ]
  },
  {
   "cell_type": "code",
   "execution_count": 26,
   "metadata": {},
   "outputs": [
    {
     "name": "stdout",
     "output_type": "stream",
     "text": [
      "3    2934\n",
      "1    2787\n",
      "4    2657\n",
      "2    2398\n",
      "5    2147\n",
      "0    1206\n",
      "Name: label, dtype: int64\n"
     ]
    }
   ],
   "source": [
    "print(y_train.value_counts())"
   ]
  },
  {
   "cell_type": "code",
   "execution_count": 27,
   "metadata": {},
   "outputs": [
    {
     "name": "stdout",
     "output_type": "stream",
     "text": [
      "3    370\n",
      "1    326\n",
      "4    321\n",
      "2    315\n",
      "5    279\n",
      "0    155\n",
      "Name: label, dtype: int64\n"
     ]
    }
   ],
   "source": [
    "print(y_valid.value_counts())"
   ]
  },
  {
   "cell_type": "code",
   "execution_count": 28,
   "metadata": {},
   "outputs": [
    {
     "name": "stdout",
     "output_type": "stream",
     "text": [
      "3    369\n",
      "1    351\n",
      "4    342\n",
      "2    277\n",
      "5    270\n",
      "0    158\n",
      "Name: label, dtype: int64\n"
     ]
    }
   ],
   "source": [
    "print(y_test.value_counts())"
   ]
  },
  {
   "cell_type": "code",
   "execution_count": 100,
   "metadata": {},
   "outputs": [
    {
     "data": {
      "text/plain": [
       "TfidfVectorizer(lowercase=False, max_features=3500, stop_words='english',\n",
       "                tokenizer=<function identity_tokenizer at 0x7fe76755fdc0>)"
      ]
     },
     "execution_count": 100,
     "metadata": {},
     "output_type": "execute_result"
    }
   ],
   "source": [
    "def identity_tokenizer(text):\n",
    "    return text\n",
    "tfidf_vectorizer = TfidfVectorizer(tokenizer=identity_tokenizer, stop_words='english', lowercase=False, max_features=3500)\n",
    "tfidf_vectorizer.fit(data['content'])"
   ]
  },
  {
   "cell_type": "code",
   "execution_count": 101,
   "metadata": {},
   "outputs": [],
   "source": [
    "tfidf_train_vectors = tfidf_vectorizer.fit_transform(X_train['content'])"
   ]
  },
  {
   "cell_type": "code",
   "execution_count": 102,
   "metadata": {},
   "outputs": [
    {
     "data": {
      "text/plain": [
       "<14129x3500 sparse matrix of type '<class 'numpy.float64'>'\n",
       "\twith 126160 stored elements in Compressed Sparse Row format>"
      ]
     },
     "execution_count": 102,
     "metadata": {},
     "output_type": "execute_result"
    }
   ],
   "source": [
    "tfidf_train_vectors"
   ]
  },
  {
   "cell_type": "code",
   "execution_count": 103,
   "metadata": {},
   "outputs": [],
   "source": [
    "tfidf_valid_vectors = tfidf_vectorizer.fit_transform(X_valid['content'])"
   ]
  },
  {
   "cell_type": "code",
   "execution_count": 104,
   "metadata": {},
   "outputs": [
    {
     "data": {
      "text/plain": [
       "<1766x3500 sparse matrix of type '<class 'numpy.float64'>'\n",
       "\twith 16561 stored elements in Compressed Sparse Row format>"
      ]
     },
     "execution_count": 104,
     "metadata": {},
     "output_type": "execute_result"
    }
   ],
   "source": [
    "tfidf_valid_vectors"
   ]
  },
  {
   "cell_type": "code",
   "execution_count": 105,
   "metadata": {},
   "outputs": [],
   "source": [
    "tfidf_test_vectors = tfidf_vectorizer.fit_transform(X_test['content'])"
   ]
  },
  {
   "cell_type": "code",
   "execution_count": 106,
   "metadata": {},
   "outputs": [
    {
     "data": {
      "text/plain": [
       "<1767x3500 sparse matrix of type '<class 'numpy.float64'>'\n",
       "\twith 16767 stored elements in Compressed Sparse Row format>"
      ]
     },
     "execution_count": 106,
     "metadata": {},
     "output_type": "execute_result"
    }
   ],
   "source": [
    "tfidf_test_vectors"
   ]
  },
  {
   "cell_type": "code",
   "execution_count": null,
   "metadata": {},
   "outputs": [],
   "source": []
  },
  {
   "cell_type": "markdown",
   "metadata": {},
   "source": [
    "## SVM Multiclass Classification"
   ]
  },
  {
   "cell_type": "code",
   "execution_count": 36,
   "metadata": {},
   "outputs": [],
   "source": [
    "from sklearn import svm\n",
    "from sklearn.metrics import classification_report\n",
    "from sklearn.preprocessing import MinMaxScaler"
   ]
  },
  {
   "cell_type": "code",
   "execution_count": 96,
   "metadata": {},
   "outputs": [],
   "source": [
    "labels = [0,1,2,3,4,5]\n",
    "def plot_cm(y_true,y_pred,labels):\n",
    "  cm = confusion_matrix(y_true, y_pred)\n",
    "  ax= plt.subplot()\n",
    "  sns.heatmap(cm, annot=True, ax = ax, fmt=\"d\")\n",
    "  ax.set_title('Confusion Matrix')\n",
    "  ax.set_xlabel('Predicted Labels')\n",
    "  ax.set_ylabel('True Labels')\n",
    "  ax.xaxis.set_ticklabels(labels)\n",
    "  ax.yaxis.set_ticklabels(labels)\n",
    "  plt.show()"
   ]
  },
  {
   "cell_type": "code",
   "execution_count": 107,
   "metadata": {},
   "outputs": [
    {
     "name": "stdout",
     "output_type": "stream",
     "text": [
      "Kernel: linear\n",
      "Validation\n",
      "              precision    recall  f1-score   support\n",
      "\n",
      "           0       0.09      0.05      0.07       155\n",
      "           1       0.19      0.35      0.25       326\n",
      "           2       0.22      0.17      0.19       315\n",
      "           3       0.24      0.26      0.25       370\n",
      "           4       0.15      0.12      0.13       321\n",
      "           5       0.17      0.11      0.14       279\n",
      "\n",
      "    accuracy                           0.19      1766\n",
      "   macro avg       0.18      0.18      0.17      1766\n",
      "weighted avg       0.19      0.19      0.18      1766\n",
      "\n"
     ]
    },
    {
     "data": {
      "image/png": "[encoded data removed]",
      "text/plain": [
       "<Figure size 432x288 with 2 Axes>"
      ]
     },
     "metadata": {
      "needs_background": "light"
     },
     "output_type": "display_data"
    },
    {
     "name": "stdout",
     "output_type": "stream",
     "text": [
      "\n",
      "Testing\n",
      "              precision    recall  f1-score   support\n",
      "\n",
      "           0       0.03      0.01      0.02       158\n",
      "           1       0.20      0.28      0.23       351\n",
      "           2       0.17      0.15      0.16       277\n",
      "           3       0.22      0.26      0.24       369\n",
      "           4       0.16      0.11      0.13       342\n",
      "           5       0.16      0.18      0.17       270\n",
      "\n",
      "    accuracy                           0.18      1767\n",
      "   macro avg       0.16      0.16      0.16      1767\n",
      "weighted avg       0.17      0.18      0.17      1767\n",
      "\n"
     ]
    },
    {
     "data": {
      "image/png": "[encoded data removed]",
      "text/plain": [
       "<Figure size 432x288 with 2 Axes>"
      ]
     },
     "metadata": {
      "needs_background": "light"
     },
     "output_type": "display_data"
    }
   ],
   "source": [
    "clf = svm.SVC(kernel='linear')\n",
    "clf.fit(tfidf_train_vectors,y_train)\n",
    "y_pred_valid = clf.predict(tfidf_valid_vectors)\n",
    "y_pred_test = clf.predict(tfidf_test_vectors)\n",
    "\n",
    "print('Kernel: linear')\n",
    "print('Validation')\n",
    "print(classification_report(y_valid,y_pred_valid))\n",
    "plot_cm(y_valid,y_pred_valid,labels)\n",
    "print()\n",
    "print('Testing')\n",
    "print(classification_report(y_test,y_pred_test))\n",
    "plot_cm(y_test,y_pred_test,labels)"
   ]
  },
  {
   "cell_type": "code",
   "execution_count": 108,
   "metadata": {},
   "outputs": [
    {
     "name": "stdout",
     "output_type": "stream",
     "text": [
      "Kernel: rbf\n",
      "Validation\n",
      "              precision    recall  f1-score   support\n",
      "\n",
      "           0       0.00      0.00      0.00       155\n",
      "           1       0.18      0.41      0.25       326\n",
      "           2       0.24      0.11      0.15       315\n",
      "           3       0.23      0.32      0.27       370\n",
      "           4       0.18      0.13      0.15       321\n",
      "           5       0.19      0.08      0.11       279\n",
      "\n",
      "    accuracy                           0.20      1766\n",
      "   macro avg       0.17      0.18      0.16      1766\n",
      "weighted avg       0.19      0.20      0.18      1766\n",
      "\n"
     ]
    },
    {
     "data": {
      "image/png": "[encoded data removed]",
      "text/plain": [
       "<Figure size 432x288 with 2 Axes>"
      ]
     },
     "metadata": {
      "needs_background": "light"
     },
     "output_type": "display_data"
    },
    {
     "name": "stdout",
     "output_type": "stream",
     "text": [
      "\n",
      "Testing\n",
      "              precision    recall  f1-score   support\n",
      "\n",
      "           0       0.00      0.00      0.00       158\n",
      "           1       0.22      0.42      0.29       351\n",
      "           2       0.19      0.09      0.12       277\n",
      "           3       0.20      0.30      0.24       369\n",
      "           4       0.16      0.11      0.13       342\n",
      "           5       0.19      0.13      0.15       270\n",
      "\n",
      "    accuracy                           0.20      1767\n",
      "   macro avg       0.16      0.17      0.15      1767\n",
      "weighted avg       0.17      0.20      0.17      1767\n",
      "\n"
     ]
    },
    {
     "data": {
      "image/png": "[encoded data removed]",
      "text/plain": [
       "<Figure size 432x288 with 2 Axes>"
      ]
     },
     "metadata": {
      "needs_background": "light"
     },
     "output_type": "display_data"
    }
   ],
   "source": [
    "clf = svm.SVC(kernel='rbf')\n",
    "clf.fit(tfidf_train_vectors,y_train)\n",
    "y_pred_valid = clf.predict(tfidf_valid_vectors)\n",
    "y_pred_test = clf.predict(tfidf_test_vectors)\n",
    "\n",
    "print('Kernel: rbf')\n",
    "print('Validation')\n",
    "print(classification_report(y_valid,y_pred_valid))\n",
    "plot_cm(y_valid,y_pred_valid,labels)\n",
    "print()\n",
    "print('Testing')\n",
    "print(classification_report(y_test,y_pred_test))\n",
    "plot_cm(y_test,y_pred_test,labels)"
   ]
  },
  {
   "cell_type": "code",
   "execution_count": 109,
   "metadata": {},
   "outputs": [
    {
     "name": "stdout",
     "output_type": "stream",
     "text": [
      "Kernel: sigmoid\n",
      "Validation\n",
      "              precision    recall  f1-score   support\n",
      "\n",
      "           0       0.09      0.05      0.06       155\n",
      "           1       0.19      0.35      0.25       326\n",
      "           2       0.22      0.17      0.20       315\n",
      "           3       0.23      0.26      0.25       370\n",
      "           4       0.15      0.12      0.13       321\n",
      "           5       0.18      0.12      0.14       279\n",
      "\n",
      "    accuracy                           0.20      1766\n",
      "   macro avg       0.18      0.18      0.17      1766\n",
      "weighted avg       0.19      0.20      0.19      1766\n",
      "\n"
     ]
    },
    {
     "data": {
      "image/png": "[encoded data removed]",
      "text/plain": [
       "<Figure size 432x288 with 2 Axes>"
      ]
     },
     "metadata": {
      "needs_background": "light"
     },
     "output_type": "display_data"
    },
    {
     "name": "stdout",
     "output_type": "stream",
     "text": [
      "\n",
      "Testing\n",
      "              precision    recall  f1-score   support\n",
      "\n",
      "           0       0.02      0.01      0.01       158\n",
      "           1       0.21      0.30      0.25       351\n",
      "           2       0.18      0.14      0.16       277\n",
      "           3       0.22      0.28      0.25       369\n",
      "           4       0.17      0.12      0.14       342\n",
      "           5       0.16      0.17      0.17       270\n",
      "\n",
      "    accuracy                           0.19      1767\n",
      "   macro avg       0.16      0.17      0.16      1767\n",
      "weighted avg       0.18      0.19      0.18      1767\n",
      "\n"
     ]
    },
    {
     "data": {
      "image/png": "[encoded data removed]",
      "text/plain": [
       "<Figure size 432x288 with 2 Axes>"
      ]
     },
     "metadata": {
      "needs_background": "light"
     },
     "output_type": "display_data"
    }
   ],
   "source": [
    "clf = svm.SVC(kernel='sigmoid')\n",
    "clf.fit(tfidf_train_vectors,y_train)\n",
    "y_pred_valid = clf.predict(tfidf_valid_vectors)\n",
    "y_pred_test = clf.predict(tfidf_test_vectors)\n",
    "\n",
    "print('Kernel: sigmoid')\n",
    "print('Validation')\n",
    "print(classification_report(y_valid,y_pred_valid))\n",
    "plot_cm(y_valid,y_pred_valid,labels)\n",
    "print()\n",
    "print('Testing')\n",
    "print(classification_report(y_test,y_pred_test))\n",
    "plot_cm(y_test,y_pred_test,labels)"
   ]
  },
  {
   "cell_type": "code",
   "execution_count": null,
   "metadata": {},
   "outputs": [],
   "source": []
  },
  {
   "cell_type": "markdown",
   "metadata": {},
   "source": [
    "## LSTM & BiLSTM"
   ]
  },
  {
   "cell_type": "code",
   "execution_count": 41,
   "metadata": {},
   "outputs": [],
   "source": [
    "import tensorflow as tf\n",
    "from sklearn.model_selection import train_test_split\n",
    "from sklearn.metrics import classification_report, confusion_matrix\n",
    "import matplotlib.pyplot as plt"
   ]
  },
  {
   "cell_type": "code",
   "execution_count": 42,
   "metadata": {},
   "outputs": [],
   "source": [
    "from tensorflow.keras import Model\n",
    "from tensorflow.keras.models import Sequential\n",
    "from tensorflow.keras.layers import Dense, Dropout, LSTM, Embedding, Bidirectional, Input, Concatenate, TimeDistributed\n",
    "from tensorflow.keras.utils import plot_model"
   ]
  },
  {
   "cell_type": "code",
   "execution_count": 43,
   "metadata": {},
   "outputs": [],
   "source": [
    "def plot_history(history):\n",
    "    # summarize history for accuracy\n",
    "    plt.plot(history.history['accuracy'])\n",
    "    plt.plot(history.history['val_accuracy'])\n",
    "    plt.title('model accuracy')\n",
    "    plt.ylabel('accuracy')\n",
    "    plt.xlabel('epoch')\n",
    "    plt.legend(['train', 'validation'], loc='upper left')\n",
    "    plt.show()\n",
    "    # summarize history for loss\n",
    "    plt.plot(history.history['loss'])\n",
    "    plt.plot(history.history['val_loss'])\n",
    "    plt.title('model loss')\n",
    "    plt.ylabel('loss')\n",
    "    plt.xlabel('epoch')\n",
    "    plt.legend(['train', 'validation'], loc='upper left')\n",
    "    plt.show()"
   ]
  },
  {
   "cell_type": "markdown",
   "metadata": {},
   "source": [
    "### LSTM - TEXT ONLY"
   ]
  },
  {
   "cell_type": "code",
   "execution_count": 44,
   "metadata": {},
   "outputs": [
    {
     "name": "stdout",
     "output_type": "stream",
     "text": [
      "Model: \"sequential\"\n",
      "_________________________________________________________________\n",
      " Layer (type)                Output Shape              Param #   \n",
      "=================================================================\n",
      " embedding (Embedding)       (None, 3500, 6)           21000     \n",
      "                                                                 \n",
      " dropout (Dropout)           (None, 3500, 6)           0         \n",
      "                                                                 \n",
      " lstm (LSTM)                 (None, 4)                 176       \n",
      "                                                                 \n",
      " dropout_1 (Dropout)         (None, 4)                 0         \n",
      "                                                                 \n",
      " dense (Dense)               (None, 100)               500       \n",
      "                                                                 \n",
      " dropout_2 (Dropout)         (None, 100)               0         \n",
      "                                                                 \n",
      " dense_1 (Dense)             (None, 6)                 606       \n",
      "                                                                 \n",
      "=================================================================\n",
      "Total params: 22,282\n",
      "Trainable params: 22,282\n",
      "Non-trainable params: 0\n",
      "_________________________________________________________________\n"
     ]
    }
   ],
   "source": [
    "model = Sequential()\n",
    "model.add(Embedding(input_dim=3500, input_length=3500, output_dim=6))\n",
    "model.add(Dropout(rate=0.4))\n",
    "model.add(LSTM(units=4))\n",
    "model.add(Dropout(rate=0.4))\n",
    "model.add(Dense(units=100,  activation='relu'))\n",
    "model.add(Dropout(rate=0.5))\n",
    "model.add(Dense(units=6, activation='sigmoid'))\n",
    "\n",
    "model.summary()"
   ]
  },
  {
   "cell_type": "code",
   "execution_count": 45,
   "metadata": {},
   "outputs": [],
   "source": [
    "model.compile(optimizer='adam', loss='sparse_categorical_crossentropy', metrics = ['accuracy'])"
   ]
  },
  {
   "cell_type": "code",
   "execution_count": 47,
   "metadata": {},
   "outputs": [
    {
     "name": "stdout",
     "output_type": "stream",
     "text": [
      "Epoch 1/5\n",
      "442/442 [==============================] - 472s 1s/step - loss: 1.7649 - accuracy: 0.2040 - val_loss: 1.7622 - val_accuracy: 0.2095\n",
      "Epoch 2/5\n",
      "442/442 [==============================] - 469s 1s/step - loss: 1.7601 - accuracy: 0.2060 - val_loss: 1.7627 - val_accuracy: 0.2095\n",
      "Epoch 3/5\n",
      "442/442 [==============================] - 460s 1s/step - loss: 1.7600 - accuracy: 0.2007 - val_loss: 1.7628 - val_accuracy: 0.2095\n",
      "Epoch 4/5\n",
      "442/442 [==============================] - 472s 1s/step - loss: 1.7587 - accuracy: 0.2074 - val_loss: 1.7633 - val_accuracy: 0.1846\n",
      "Epoch 5/5\n",
      "442/442 [==============================] - 480s 1s/step - loss: 1.7604 - accuracy: 0.2014 - val_loss: 1.7626 - val_accuracy: 0.2095\n"
     ]
    }
   ],
   "source": [
    "history = model.fit(\n",
    "    tfidf_train_vectors.toarray(), \n",
    "    y_train, \n",
    "    validation_data=[tfidf_valid_vectors.toarray(), y_valid],\n",
    "    epochs = 5\n",
    ")"
   ]
  },
  {
   "cell_type": "code",
   "execution_count": 48,
   "metadata": {},
   "outputs": [
    {
     "data": {
      "image/png": "[encoded data removed]",
      "text/plain": [
       "<Figure size 432x288 with 1 Axes>"
      ]
     },
     "metadata": {
      "needs_background": "light"
     },
     "output_type": "display_data"
    },
    {
     "data": {
      "image/png": "[encoded data removed]",
      "text/plain": [
       "<Figure size 432x288 with 1 Axes>"
      ]
     },
     "metadata": {
      "needs_background": "light"
     },
     "output_type": "display_data"
    }
   ],
   "source": [
    "plot_history(history)"
   ]
  },
  {
   "cell_type": "code",
   "execution_count": 50,
   "metadata": {},
   "outputs": [
    {
     "name": "stdout",
     "output_type": "stream",
     "text": [
      "56/56 [==============================] - 6s 109ms/step - loss: 1.7602 - accuracy: 0.2088\n",
      "Test score: 1.760237216949463\n",
      "Test accuracy: 0.20882852375507355\n"
     ]
    }
   ],
   "source": [
    "score, acc = model.evaluate(tfidf_test_vectors.toarray(), y_test)\n",
    "print('Test score:', score)\n",
    "print('Test accuracy:', acc)"
   ]
  },
  {
   "cell_type": "code",
   "execution_count": 51,
   "metadata": {},
   "outputs": [
    {
     "name": "stdout",
     "output_type": "stream",
     "text": [
      "56/56 [==============================] - 7s 112ms/step\n"
     ]
    }
   ],
   "source": [
    "y_probas = model.predict(tfidf_test_vectors.toarray())\n",
    "y_pred = y_probas.argmax(axis=-1)"
   ]
  },
  {
   "cell_type": "code",
   "execution_count": 52,
   "metadata": {},
   "outputs": [
    {
     "name": "stdout",
     "output_type": "stream",
     "text": [
      "              precision    recall  f1-score   support\n",
      "\n",
      "           0       1.00      0.00      0.00       158\n",
      "           1       1.00      0.00      0.00       351\n",
      "           2       1.00      0.00      0.00       277\n",
      "           3       0.21      1.00      0.35       369\n",
      "           4       1.00      0.00      0.00       342\n",
      "           5       1.00      0.00      0.00       270\n",
      "\n",
      "    accuracy                           0.21      1767\n",
      "   macro avg       0.87      0.17      0.06      1767\n",
      "weighted avg       0.83      0.21      0.07      1767\n",
      "\n"
     ]
    }
   ],
   "source": [
    "print(classification_report(y_true=y_test, y_pred=y_pred, zero_division=1))"
   ]
  },
  {
   "cell_type": "markdown",
   "metadata": {},
   "source": [
    "### Bi-LSTM - TEXT ONLY"
   ]
  },
  {
   "cell_type": "code",
   "execution_count": 53,
   "metadata": {},
   "outputs": [
    {
     "name": "stdout",
     "output_type": "stream",
     "text": [
      "Model: \"sequential_1\"\n",
      "_________________________________________________________________\n",
      " Layer (type)                Output Shape              Param #   \n",
      "=================================================================\n",
      " embedding_1 (Embedding)     (None, 3500, 6)           21000     \n",
      "                                                                 \n",
      " dropout_3 (Dropout)         (None, 3500, 6)           0         \n",
      "                                                                 \n",
      " bidirectional (Bidirectiona  (None, 8)                352       \n",
      " l)                                                              \n",
      "                                                                 \n",
      " dropout_4 (Dropout)         (None, 8)                 0         \n",
      "                                                                 \n",
      " dense_2 (Dense)             (None, 100)               900       \n",
      "                                                                 \n",
      " dropout_5 (Dropout)         (None, 100)               0         \n",
      "                                                                 \n",
      " dense_3 (Dense)             (None, 6)                 606       \n",
      "                                                                 \n",
      "=================================================================\n",
      "Total params: 22,858\n",
      "Trainable params: 22,858\n",
      "Non-trainable params: 0\n",
      "_________________________________________________________________\n"
     ]
    }
   ],
   "source": [
    "model = Sequential()\n",
    "model.add(Embedding(input_dim=3500, input_length=3500, output_dim=6))\n",
    "model.add(Dropout(rate=0.4))\n",
    "model.add(Bidirectional(LSTM(units=4)))\n",
    "model.add(Dropout(rate=0.4))\n",
    "model.add(Dense(units=100,  activation='relu'))\n",
    "model.add(Dropout(rate=0.5))\n",
    "model.add(Dense(units=6, activation='sigmoid'))\n",
    "\n",
    "model.summary()"
   ]
  },
  {
   "cell_type": "code",
   "execution_count": 54,
   "metadata": {},
   "outputs": [],
   "source": [
    "model.compile(optimizer = 'adam', loss = 'sparse_categorical_crossentropy', metrics = ['accuracy'])\n"
   ]
  },
  {
   "cell_type": "code",
   "execution_count": 56,
   "metadata": {},
   "outputs": [
    {
     "name": "stdout",
     "output_type": "stream",
     "text": [
      "Epoch 1/5\n",
      "442/442 [==============================] - 836s 2s/step - loss: 1.7629 - accuracy: 0.1996 - val_loss: 1.7624 - val_accuracy: 0.2095\n",
      "Epoch 2/5\n",
      "442/442 [==============================] - 760s 2s/step - loss: 1.7609 - accuracy: 0.2072 - val_loss: 1.7632 - val_accuracy: 0.2095\n",
      "Epoch 3/5\n",
      "442/442 [==============================] - 843s 2s/step - loss: 1.7596 - accuracy: 0.2060 - val_loss: 1.7630 - val_accuracy: 0.2095\n",
      "Epoch 4/5\n",
      "442/442 [==============================] - 759s 2s/step - loss: 1.7597 - accuracy: 0.2039 - val_loss: 1.7625 - val_accuracy: 0.2095\n",
      "Epoch 5/5\n",
      "442/442 [==============================] - 750s 2s/step - loss: 1.7596 - accuracy: 0.2030 - val_loss: 1.7623 - val_accuracy: 0.2095\n"
     ]
    }
   ],
   "source": [
    "history = model.fit(\n",
    "    tfidf_train_vectors.toarray(), \n",
    "    y_train, \n",
    "    validation_data=[tfidf_valid_vectors.toarray(), y_valid],\n",
    "    epochs = 5\n",
    ")"
   ]
  },
  {
   "cell_type": "code",
   "execution_count": 61,
   "metadata": {},
   "outputs": [
    {
     "data": {
      "image/png": "[encoded data removed]",
      "text/plain": [
       "<Figure size 432x288 with 1 Axes>"
      ]
     },
     "metadata": {
      "needs_background": "light"
     },
     "output_type": "display_data"
    },
    {
     "data": {
      "image/png": "[encoded data removed]",
      "text/plain": [
       "<Figure size 432x288 with 1 Axes>"
      ]
     },
     "metadata": {
      "needs_background": "light"
     },
     "output_type": "display_data"
    }
   ],
   "source": [
    "plot_history(history)"
   ]
  },
  {
   "cell_type": "code",
   "execution_count": 62,
   "metadata": {},
   "outputs": [
    {
     "name": "stdout",
     "output_type": "stream",
     "text": [
      "56/56 [==============================] - 9s 159ms/step - loss: 1.7607 - accuracy: 0.2088\n",
      "Test score: 1.7607285976409912\n",
      "Test accuracy: 0.20882852375507355\n"
     ]
    }
   ],
   "source": [
    "score, acc = model.evaluate(tfidf_test_vectors.toarray(), y_test)\n",
    "print('Test score:', score)\n",
    "print('Test accuracy:', acc)"
   ]
  },
  {
   "cell_type": "code",
   "execution_count": 63,
   "metadata": {},
   "outputs": [
    {
     "name": "stdout",
     "output_type": "stream",
     "text": [
      "56/56 [==============================] - 9s 156ms/step\n"
     ]
    }
   ],
   "source": [
    "y_probas = model.predict(tfidf_test_vectors.toarray())\n",
    "y_pred = y_probas.argmax(axis=-1)"
   ]
  },
  {
   "cell_type": "code",
   "execution_count": 64,
   "metadata": {},
   "outputs": [
    {
     "name": "stdout",
     "output_type": "stream",
     "text": [
      "              precision    recall  f1-score   support\n",
      "\n",
      "           0       0.00      0.00      0.00       158\n",
      "           1       0.00      0.00      0.00       351\n",
      "           2       0.00      0.00      0.00       277\n",
      "           3       0.21      1.00      0.35       369\n",
      "           4       0.00      0.00      0.00       342\n",
      "           5       0.00      0.00      0.00       270\n",
      "\n",
      "    accuracy                           0.21      1767\n",
      "   macro avg       0.03      0.17      0.06      1767\n",
      "weighted avg       0.04      0.21      0.07      1767\n",
      "\n"
     ]
    }
   ],
   "source": [
    "print(classification_report(y_true=y_test, y_pred=y_pred, zero_division=0))"
   ]
  },
  {
   "cell_type": "markdown",
   "metadata": {},
   "source": [
    "### LSTM - Text & Publisher"
   ]
  },
  {
   "cell_type": "code",
   "execution_count": 65,
   "metadata": {},
   "outputs": [],
   "source": [
    "publisher_train = X_train['speaker_code']\n",
    "publisher_valid = X_valid['speaker_code']\n",
    "publisher_test = X_test['speaker_code']"
   ]
  },
  {
   "cell_type": "code",
   "execution_count": 66,
   "metadata": {},
   "outputs": [
    {
     "data": {
      "text/plain": [
       "16171     533\n",
       "7012     3051\n",
       "7381      524\n",
       "7580     2458\n",
       "15944    2424\n",
       "         ... \n",
       "497      4047\n",
       "3983     4653\n",
       "16101    1101\n",
       "1567     3181\n",
       "8615     1397\n",
       "Name: speaker_code, Length: 14129, dtype: int64"
      ]
     },
     "execution_count": 66,
     "metadata": {},
     "output_type": "execute_result"
    }
   ],
   "source": [
    "publisher_train"
   ]
  },
  {
   "cell_type": "code",
   "execution_count": 74,
   "metadata": {},
   "outputs": [],
   "source": [
    "publisher_input = Input(shape=(1,))\n",
    "publisher_features = (Embedding(input_dim=5105, input_length=1, output_dim=3500))(publisher_input)\n",
    "publisher_features = Dropout(rate=0.4)(publisher_features)\n",
    "publisher_features = LSTM(units=4)(publisher_features)"
   ]
  },
  {
   "cell_type": "code",
   "execution_count": 75,
   "metadata": {},
   "outputs": [],
   "source": [
    "text_input = Input(shape=(3500,))\n",
    "text_features = (Embedding(input_dim=3500, input_length=3500, output_dim=3500))(text_input)\n",
    "text_features = Dropout(rate=0.4)(text_features)\n",
    "text_features = LSTM(units=4)(text_features)"
   ]
  },
  {
   "cell_type": "code",
   "execution_count": 76,
   "metadata": {},
   "outputs": [
    {
     "name": "stdout",
     "output_type": "stream",
     "text": [
      "Model: \"model\"\n",
      "__________________________________________________________________________________________________\n",
      " Layer (type)                   Output Shape         Param #     Connected to                     \n",
      "==================================================================================================\n",
      " input_3 (InputLayer)           [(None, 1)]          0           []                               \n",
      "                                                                                                  \n",
      " input_4 (InputLayer)           [(None, 3500)]       0           []                               \n",
      "                                                                                                  \n",
      " embedding_4 (Embedding)        (None, 1, 3500)      17867500    ['input_3[0][0]']                \n",
      "                                                                                                  \n",
      " embedding_5 (Embedding)        (None, 3500, 3500)   12250000    ['input_4[0][0]']                \n",
      "                                                                                                  \n",
      " dropout_9 (Dropout)            (None, 1, 3500)      0           ['embedding_4[0][0]']            \n",
      "                                                                                                  \n",
      " dropout_10 (Dropout)           (None, 3500, 3500)   0           ['embedding_5[0][0]']            \n",
      "                                                                                                  \n",
      " lstm_4 (LSTM)                  (None, 4)            56080       ['dropout_9[0][0]']              \n",
      "                                                                                                  \n",
      " lstm_5 (LSTM)                  (None, 4)            56080       ['dropout_10[0][0]']             \n",
      "                                                                                                  \n",
      " concatenate_1 (Concatenate)    (None, 8)            0           ['lstm_4[0][0]',                 \n",
      "                                                                  'lstm_5[0][0]']                 \n",
      "                                                                                                  \n",
      " dropout_11 (Dropout)           (None, 8)            0           ['concatenate_1[0][0]']          \n",
      "                                                                                                  \n",
      " dense_5 (Dense)                (None, 6)            54          ['dropout_11[0][0]']             \n",
      "                                                                                                  \n",
      "==================================================================================================\n",
      "Total params: 30,229,714\n",
      "Trainable params: 30,229,714\n",
      "Non-trainable params: 0\n",
      "__________________________________________________________________________________________________\n"
     ]
    }
   ],
   "source": [
    "x = Concatenate()([publisher_features, text_features])\n",
    "x = Dropout(rate=0.5)(x)\n",
    "model_output = Dense(units=6, activation='sigmoid')(x)\n",
    "\n",
    "model = Model([publisher_input, text_input], model_output, name='model')\n",
    "model.summary()"
   ]
  },
  {
   "cell_type": "code",
   "execution_count": 77,
   "metadata": {},
   "outputs": [],
   "source": [
    "model.compile(optimizer='adam', loss='sparse_categorical_crossentropy', metrics = ['accuracy'])"
   ]
  },
  {
   "cell_type": "code",
   "execution_count": 78,
   "metadata": {},
   "outputs": [
    {
     "name": "stdout",
     "output_type": "stream",
     "text": [
      "Epoch 1/5\n",
      "442/442 [==============================] - 4108s 9s/step - loss: 1.7605 - accuracy: 0.2041 - val_loss: 1.7356 - val_accuracy: 0.2271\n",
      "Epoch 2/5\n",
      "442/442 [==============================] - 5314s 12s/step - loss: 1.6928 - accuracy: 0.2896 - val_loss: 1.7384 - val_accuracy: 0.2191\n",
      "Epoch 3/5\n",
      "442/442 [==============================] - 11747s 27s/step - loss: 1.6213 - accuracy: 0.3244 - val_loss: 1.7603 - val_accuracy: 0.2197\n",
      "Epoch 4/5\n",
      "442/442 [==============================] - 48075s 109s/step - loss: 1.5613 - accuracy: 0.3501 - val_loss: 1.7887 - val_accuracy: 0.2152\n",
      "Epoch 5/5\n",
      "442/442 [==============================] - 3171s 7s/step - loss: 1.5326 - accuracy: 0.3588 - val_loss: 1.8090 - val_accuracy: 0.2135\n"
     ]
    }
   ],
   "source": [
    "history = model.fit(\n",
    "    [publisher_train, tfidf_train_vectors.toarray()], \n",
    "    y_train, \n",
    "    validation_data=[[publisher_valid, tfidf_valid_vectors.toarray()], y_valid],\n",
    "    epochs = 5\n",
    ")"
   ]
  },
  {
   "cell_type": "code",
   "execution_count": 79,
   "metadata": {},
   "outputs": [
    {
     "data": {
      "image/png": "[encoded data removed]",
      "text/plain": [
       "<Figure size 432x288 with 1 Axes>"
      ]
     },
     "metadata": {
      "needs_background": "light"
     },
     "output_type": "display_data"
    },
    {
     "data": {
      "image/png": "[encoded data removed]",
      "text/plain": [
       "<Figure size 432x288 with 1 Axes>"
      ]
     },
     "metadata": {
      "needs_background": "light"
     },
     "output_type": "display_data"
    }
   ],
   "source": [
    "plot_history(history)"
   ]
  },
  {
   "cell_type": "code",
   "execution_count": 80,
   "metadata": {},
   "outputs": [
    {
     "name": "stdout",
     "output_type": "stream",
     "text": [
      "56/56 [==============================] - 92s 2s/step - loss: 1.7992 - accuracy: 0.2252\n",
      "Test score: 1.7991852760314941\n",
      "Test accuracy: 0.22524051368236542\n"
     ]
    }
   ],
   "source": [
    "score, acc = model.evaluate([publisher_test ,tfidf_test_vectors.toarray()], y_test)\n",
    "print('Test score:', score)\n",
    "print('Test accuracy:', acc)"
   ]
  },
  {
   "cell_type": "code",
   "execution_count": 81,
   "metadata": {},
   "outputs": [
    {
     "name": "stdout",
     "output_type": "stream",
     "text": [
      "56/56 [==============================] - 94s 2s/step\n"
     ]
    }
   ],
   "source": [
    "y_probas = model.predict([publisher_test, tfidf_test_vectors.toarray()])\n",
    "y_pred = y_probas.argmax(axis=-1)"
   ]
  },
  {
   "cell_type": "code",
   "execution_count": 82,
   "metadata": {},
   "outputs": [
    {
     "name": "stdout",
     "output_type": "stream",
     "text": [
      "              precision    recall  f1-score   support\n",
      "\n",
      "           0       1.00      0.00      0.00       158\n",
      "           1       0.25      0.22      0.23       351\n",
      "           2       0.17      0.11      0.13       277\n",
      "           3       0.23      0.58      0.33       369\n",
      "           4       0.21      0.15      0.18       342\n",
      "           5       0.22      0.09      0.13       270\n",
      "\n",
      "    accuracy                           0.23      1767\n",
      "   macro avg       0.35      0.19      0.17      1767\n",
      "weighted avg       0.29      0.23      0.19      1767\n",
      "\n"
     ]
    }
   ],
   "source": [
    "print(classification_report(y_true=y_test, y_pred=y_pred, zero_division=1))"
   ]
  }
 ],
 "metadata": {
  "kernelspec": {
   "display_name": "Python 3",
   "language": "python",
   "name": "python3"
  },
  "language_info": {
   "codemirror_mode": {
    "name": "ipython",
    "version": 3
   },
   "file_extension": ".py",
   "mimetype": "text/x-python",
   "name": "python",
   "nbconvert_exporter": "python",
   "pygments_lexer": "ipython3",
   "version": "3.8.3"
  }
 },
 "nbformat": 4,
 "nbformat_minor": 4
}
