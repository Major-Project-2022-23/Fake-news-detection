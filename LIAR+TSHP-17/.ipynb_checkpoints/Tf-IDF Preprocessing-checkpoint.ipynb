{
 "cells": [
  {
   "cell_type": "code",
   "execution_count": 1,
   "metadata": {},
   "outputs": [
    {
     "name": "stderr",
     "output_type": "stream",
     "text": [
      "[nltk_data] Downloading package stopwords to\n",
      "[nltk_data]     /Users/shivamarora/nltk_data...\n",
      "[nltk_data]   Package stopwords is already up-to-date!\n",
      "[nltk_data] Downloading package wordnet to\n",
      "[nltk_data]     /Users/shivamarora/nltk_data...\n",
      "[nltk_data]   Package wordnet is already up-to-date!\n"
     ]
    }
   ],
   "source": [
    "import numpy as np\n",
    "import pandas as pd\n",
    "from fast_ml.model_development import train_valid_test_split\n",
    "from string import punctuation\n",
    "import re\n",
    "import nltk\n",
    "from nltk import word_tokenize\n",
    "nltk.download('stopwords')\n",
    "from nltk.stem.porter import PorterStemmer\n",
    "from nltk.stem import WordNetLemmatizer\n",
    "nltk.download('wordnet')\n",
    "from sklearn.feature_extraction.text import TfidfVectorizer\n",
    "from string import digits\n",
    "import matplotlib.pyplot as plt\n",
    "%matplotlib inline\n",
    "import seaborn as sns\n",
    "import sklearn.naive_bayes as naive_bayes\n",
    "from sklearn.metrics import accuracy_score, confusion_matrix\n",
    "from sklearn.preprocessing import LabelEncoder, OneHotEncoder"
   ]
  },
  {
   "cell_type": "code",
   "execution_count": 2,
   "metadata": {},
   "outputs": [
    {
     "name": "stdout",
     "output_type": "stream",
     "text": [
      "(17662, 3)\n"
     ]
    },
    {
     "data": {
      "text/html": [
       "<div>\n",
       "<style scoped>\n",
       "    .dataframe tbody tr th:only-of-type {\n",
       "        vertical-align: middle;\n",
       "    }\n",
       "\n",
       "    .dataframe tbody tr th {\n",
       "        vertical-align: top;\n",
       "    }\n",
       "\n",
       "    .dataframe thead th {\n",
       "        text-align: right;\n",
       "    }\n",
       "</style>\n",
       "<table border=\"1\" class=\"dataframe\">\n",
       "  <thead>\n",
       "    <tr style=\"text-align: right;\">\n",
       "      <th></th>\n",
       "      <th>text</th>\n",
       "      <th>speaker</th>\n",
       "      <th>label</th>\n",
       "    </tr>\n",
       "  </thead>\n",
       "  <tbody>\n",
       "    <tr>\n",
       "      <th>0</th>\n",
       "      <td>Says the Annies List political group supports ...</td>\n",
       "      <td>dwayne-bohac</td>\n",
       "      <td>false</td>\n",
       "    </tr>\n",
       "    <tr>\n",
       "      <th>1</th>\n",
       "      <td>When did the decline of coal start? It started...</td>\n",
       "      <td>scott-surovell</td>\n",
       "      <td>half-true</td>\n",
       "    </tr>\n",
       "    <tr>\n",
       "      <th>2</th>\n",
       "      <td>The economic turnaround started at the end of ...</td>\n",
       "      <td>charlie-crist</td>\n",
       "      <td>half-true</td>\n",
       "    </tr>\n",
       "    <tr>\n",
       "      <th>3</th>\n",
       "      <td>The Chicago Bears have had more starting quart...</td>\n",
       "      <td>robin-vos</td>\n",
       "      <td>true</td>\n",
       "    </tr>\n",
       "    <tr>\n",
       "      <th>4</th>\n",
       "      <td>Jim Dunnam has not lived in the district he re...</td>\n",
       "      <td>republican-party-texas</td>\n",
       "      <td>barely-true</td>\n",
       "    </tr>\n",
       "  </tbody>\n",
       "</table>\n",
       "</div>"
      ],
      "text/plain": [
       "                                                text                 speaker  \\\n",
       "0  Says the Annies List political group supports ...            dwayne-bohac   \n",
       "1  When did the decline of coal start? It started...          scott-surovell   \n",
       "2  The economic turnaround started at the end of ...           charlie-crist   \n",
       "3  The Chicago Bears have had more starting quart...               robin-vos   \n",
       "4  Jim Dunnam has not lived in the district he re...  republican-party-texas   \n",
       "\n",
       "         label  \n",
       "0        false  \n",
       "1    half-true  \n",
       "2    half-true  \n",
       "3         true  \n",
       "4  barely-true  "
      ]
     },
     "execution_count": 2,
     "metadata": {},
     "output_type": "execute_result"
    }
   ],
   "source": [
    "data = pd.read_csv('data.csv')\n",
    "data = data.dropna()\n",
    "print(data.shape)\n",
    "data.head()"
   ]
  },
  {
   "cell_type": "code",
   "execution_count": 3,
   "metadata": {},
   "outputs": [
    {
     "data": {
      "text/plain": [
       "half-true      3673\n",
       "false          3464\n",
       "mostly-true    3320\n",
       "barely-true    2990\n",
       "true           2696\n",
       "pants-fire     1519\n",
       "Name: label, dtype: int64"
      ]
     },
     "execution_count": 3,
     "metadata": {},
     "output_type": "execute_result"
    }
   ],
   "source": [
    "data['label'].value_counts()"
   ]
  },
  {
   "cell_type": "code",
   "execution_count": 4,
   "metadata": {},
   "outputs": [
    {
     "data": {
      "text/plain": [
       "5105"
      ]
     },
     "execution_count": 4,
     "metadata": {},
     "output_type": "execute_result"
    }
   ],
   "source": [
    "len(data['speaker'].unique())"
   ]
  },
  {
   "cell_type": "markdown",
   "metadata": {},
   "source": [
    "## Utility Functions"
   ]
  },
  {
   "cell_type": "code",
   "execution_count": 5,
   "metadata": {},
   "outputs": [],
   "source": [
    "def remove_punctuation(text):\n",
    "    punctuationfree=\"\".join([i for i in text if i not in punctuation])\n",
    "    return punctuationfree"
   ]
  },
  {
   "cell_type": "code",
   "execution_count": 6,
   "metadata": {},
   "outputs": [],
   "source": [
    "def tokenization(text):\n",
    "    return word_tokenize(str(text))"
   ]
  },
  {
   "cell_type": "code",
   "execution_count": 7,
   "metadata": {},
   "outputs": [],
   "source": [
    "from nltk.corpus import stopwords\n",
    "stopWords = stopwords.words('english')\n",
    "def remove_stopwords(text):\n",
    "    output= [i for i in text if i not in stopWords]\n",
    "    return output"
   ]
  },
  {
   "cell_type": "code",
   "execution_count": 8,
   "metadata": {},
   "outputs": [],
   "source": [
    "porter_stemmer = PorterStemmer()\n",
    "def stemming(text):\n",
    "    stem_text = [porter_stemmer.stem(word) for word in text]\n",
    "    return stem_text"
   ]
  },
  {
   "cell_type": "code",
   "execution_count": 9,
   "metadata": {},
   "outputs": [],
   "source": [
    "wordnet_lemmatizer = WordNetLemmatizer()\n",
    "def lemmatizer(text):\n",
    "    lemm_text = [wordnet_lemmatizer.lemmatize(word) for word in text]\n",
    "    return lemm_text"
   ]
  },
  {
   "cell_type": "markdown",
   "metadata": {},
   "source": [
    "## Preprocessing"
   ]
  },
  {
   "cell_type": "code",
   "execution_count": 10,
   "metadata": {},
   "outputs": [
    {
     "data": {
      "text/html": [
       "<div>\n",
       "<style scoped>\n",
       "    .dataframe tbody tr th:only-of-type {\n",
       "        vertical-align: middle;\n",
       "    }\n",
       "\n",
       "    .dataframe tbody tr th {\n",
       "        vertical-align: top;\n",
       "    }\n",
       "\n",
       "    .dataframe thead th {\n",
       "        text-align: right;\n",
       "    }\n",
       "</style>\n",
       "<table border=\"1\" class=\"dataframe\">\n",
       "  <thead>\n",
       "    <tr style=\"text-align: right;\">\n",
       "      <th></th>\n",
       "      <th>content</th>\n",
       "      <th>speaker</th>\n",
       "      <th>label</th>\n",
       "    </tr>\n",
       "  </thead>\n",
       "  <tbody>\n",
       "    <tr>\n",
       "      <th>0</th>\n",
       "      <td>Says the Annies List political group supports ...</td>\n",
       "      <td>dwayne-bohac</td>\n",
       "      <td>false</td>\n",
       "    </tr>\n",
       "    <tr>\n",
       "      <th>1</th>\n",
       "      <td>When did the decline of coal start? It started...</td>\n",
       "      <td>scott-surovell</td>\n",
       "      <td>half-true</td>\n",
       "    </tr>\n",
       "    <tr>\n",
       "      <th>2</th>\n",
       "      <td>The economic turnaround started at the end of ...</td>\n",
       "      <td>charlie-crist</td>\n",
       "      <td>half-true</td>\n",
       "    </tr>\n",
       "    <tr>\n",
       "      <th>3</th>\n",
       "      <td>The Chicago Bears have had more starting quart...</td>\n",
       "      <td>robin-vos</td>\n",
       "      <td>true</td>\n",
       "    </tr>\n",
       "    <tr>\n",
       "      <th>4</th>\n",
       "      <td>Jim Dunnam has not lived in the district he re...</td>\n",
       "      <td>republican-party-texas</td>\n",
       "      <td>barely-true</td>\n",
       "    </tr>\n",
       "  </tbody>\n",
       "</table>\n",
       "</div>"
      ],
      "text/plain": [
       "                                             content                 speaker  \\\n",
       "0  Says the Annies List political group supports ...            dwayne-bohac   \n",
       "1  When did the decline of coal start? It started...          scott-surovell   \n",
       "2  The economic turnaround started at the end of ...           charlie-crist   \n",
       "3  The Chicago Bears have had more starting quart...               robin-vos   \n",
       "4  Jim Dunnam has not lived in the district he re...  republican-party-texas   \n",
       "\n",
       "         label  \n",
       "0        false  \n",
       "1    half-true  \n",
       "2    half-true  \n",
       "3         true  \n",
       "4  barely-true  "
      ]
     },
     "execution_count": 10,
     "metadata": {},
     "output_type": "execute_result"
    }
   ],
   "source": [
    "data.rename(columns = {'text':'content'}, inplace = True)\n",
    "data.head()"
   ]
  },
  {
   "cell_type": "code",
   "execution_count": 11,
   "metadata": {},
   "outputs": [],
   "source": [
    "#Punctuation Removal\n",
    "data['content']= data['content'].apply(lambda x:remove_punctuation(x))"
   ]
  },
  {
   "cell_type": "code",
   "execution_count": 12,
   "metadata": {},
   "outputs": [],
   "source": [
    "#Numbers Removal\n",
    "remove_digits = str.maketrans('', '', digits)\n",
    "data['content'] = data['content'].apply(lambda x: x.translate(remove_digits))"
   ]
  },
  {
   "cell_type": "code",
   "execution_count": 13,
   "metadata": {},
   "outputs": [],
   "source": [
    "#lowering the text\n",
    "data['content']= data['content'].apply(lambda x: x.lower())"
   ]
  },
  {
   "cell_type": "code",
   "execution_count": 14,
   "metadata": {},
   "outputs": [],
   "source": [
    "#tokenization\n",
    "data['content']= data['content'].apply(lambda x: tokenization(x))"
   ]
  },
  {
   "cell_type": "code",
   "execution_count": 15,
   "metadata": {},
   "outputs": [],
   "source": [
    "#Removing stop words\n",
    "data['content']= data['content'].apply(lambda x:remove_stopwords(x))"
   ]
  },
  {
   "cell_type": "code",
   "execution_count": 16,
   "metadata": {},
   "outputs": [],
   "source": [
    "#Stemming\n",
    "data['content']=data['content'].apply(lambda x: stemming(x))"
   ]
  },
  {
   "cell_type": "code",
   "execution_count": 17,
   "metadata": {},
   "outputs": [],
   "source": [
    "#Lemmatization\n",
    "data['content']=data['content'].apply(lambda x:lemmatizer(x))"
   ]
  },
  {
   "cell_type": "code",
   "execution_count": 18,
   "metadata": {},
   "outputs": [
    {
     "data": {
      "text/html": [
       "<div>\n",
       "<style scoped>\n",
       "    .dataframe tbody tr th:only-of-type {\n",
       "        vertical-align: middle;\n",
       "    }\n",
       "\n",
       "    .dataframe tbody tr th {\n",
       "        vertical-align: top;\n",
       "    }\n",
       "\n",
       "    .dataframe thead th {\n",
       "        text-align: right;\n",
       "    }\n",
       "</style>\n",
       "<table border=\"1\" class=\"dataframe\">\n",
       "  <thead>\n",
       "    <tr style=\"text-align: right;\">\n",
       "      <th></th>\n",
       "      <th>content</th>\n",
       "      <th>speaker</th>\n",
       "      <th>label</th>\n",
       "    </tr>\n",
       "  </thead>\n",
       "  <tbody>\n",
       "    <tr>\n",
       "      <th>0</th>\n",
       "      <td>[say, anni, list, polit, group, support, third...</td>\n",
       "      <td>dwayne-bohac</td>\n",
       "      <td>false</td>\n",
       "    </tr>\n",
       "    <tr>\n",
       "      <th>1</th>\n",
       "      <td>[declin, coal, start, start, natur, ga, took, ...</td>\n",
       "      <td>scott-surovell</td>\n",
       "      <td>half-true</td>\n",
       "    </tr>\n",
       "    <tr>\n",
       "      <th>2</th>\n",
       "      <td>[econom, turnaround, start, end, term]</td>\n",
       "      <td>charlie-crist</td>\n",
       "      <td>half-true</td>\n",
       "    </tr>\n",
       "    <tr>\n",
       "      <th>3</th>\n",
       "      <td>[chicago, bear, start, quarterback, last, year...</td>\n",
       "      <td>robin-vos</td>\n",
       "      <td>true</td>\n",
       "    </tr>\n",
       "    <tr>\n",
       "      <th>4</th>\n",
       "      <td>[jim, dunnam, live, district, repres, year]</td>\n",
       "      <td>republican-party-texas</td>\n",
       "      <td>barely-true</td>\n",
       "    </tr>\n",
       "  </tbody>\n",
       "</table>\n",
       "</div>"
      ],
      "text/plain": [
       "                                             content                 speaker  \\\n",
       "0  [say, anni, list, polit, group, support, third...            dwayne-bohac   \n",
       "1  [declin, coal, start, start, natur, ga, took, ...          scott-surovell   \n",
       "2             [econom, turnaround, start, end, term]           charlie-crist   \n",
       "3  [chicago, bear, start, quarterback, last, year...               robin-vos   \n",
       "4        [jim, dunnam, live, district, repres, year]  republican-party-texas   \n",
       "\n",
       "         label  \n",
       "0        false  \n",
       "1    half-true  \n",
       "2    half-true  \n",
       "3         true  \n",
       "4  barely-true  "
      ]
     },
     "execution_count": 18,
     "metadata": {},
     "output_type": "execute_result"
    }
   ],
   "source": [
    "data.head()"
   ]
  },
  {
   "cell_type": "code",
   "execution_count": 19,
   "metadata": {},
   "outputs": [],
   "source": [
    "label_map = {\n",
    "    'pants-fire':0,\n",
    "    'false':1,\n",
    "    'barely-true':2,\n",
    "    'half-true':3,\n",
    "    'mostly-true':4,\n",
    "    'true':5\n",
    "}"
   ]
  },
  {
   "cell_type": "code",
   "execution_count": 20,
   "metadata": {},
   "outputs": [],
   "source": [
    "data['label'] = data['label'].map(label_map)"
   ]
  },
  {
   "cell_type": "code",
   "execution_count": 21,
   "metadata": {},
   "outputs": [
    {
     "data": {
      "text/html": [
       "<div>\n",
       "<style scoped>\n",
       "    .dataframe tbody tr th:only-of-type {\n",
       "        vertical-align: middle;\n",
       "    }\n",
       "\n",
       "    .dataframe tbody tr th {\n",
       "        vertical-align: top;\n",
       "    }\n",
       "\n",
       "    .dataframe thead th {\n",
       "        text-align: right;\n",
       "    }\n",
       "</style>\n",
       "<table border=\"1\" class=\"dataframe\">\n",
       "  <thead>\n",
       "    <tr style=\"text-align: right;\">\n",
       "      <th></th>\n",
       "      <th>content</th>\n",
       "      <th>speaker</th>\n",
       "      <th>label</th>\n",
       "    </tr>\n",
       "  </thead>\n",
       "  <tbody>\n",
       "    <tr>\n",
       "      <th>0</th>\n",
       "      <td>[say, anni, list, polit, group, support, third...</td>\n",
       "      <td>dwayne-bohac</td>\n",
       "      <td>1</td>\n",
       "    </tr>\n",
       "    <tr>\n",
       "      <th>1</th>\n",
       "      <td>[declin, coal, start, start, natur, ga, took, ...</td>\n",
       "      <td>scott-surovell</td>\n",
       "      <td>3</td>\n",
       "    </tr>\n",
       "    <tr>\n",
       "      <th>2</th>\n",
       "      <td>[econom, turnaround, start, end, term]</td>\n",
       "      <td>charlie-crist</td>\n",
       "      <td>3</td>\n",
       "    </tr>\n",
       "    <tr>\n",
       "      <th>3</th>\n",
       "      <td>[chicago, bear, start, quarterback, last, year...</td>\n",
       "      <td>robin-vos</td>\n",
       "      <td>5</td>\n",
       "    </tr>\n",
       "    <tr>\n",
       "      <th>4</th>\n",
       "      <td>[jim, dunnam, live, district, repres, year]</td>\n",
       "      <td>republican-party-texas</td>\n",
       "      <td>2</td>\n",
       "    </tr>\n",
       "  </tbody>\n",
       "</table>\n",
       "</div>"
      ],
      "text/plain": [
       "                                             content                 speaker  \\\n",
       "0  [say, anni, list, polit, group, support, third...            dwayne-bohac   \n",
       "1  [declin, coal, start, start, natur, ga, took, ...          scott-surovell   \n",
       "2             [econom, turnaround, start, end, term]           charlie-crist   \n",
       "3  [chicago, bear, start, quarterback, last, year...               robin-vos   \n",
       "4        [jim, dunnam, live, district, repres, year]  republican-party-texas   \n",
       "\n",
       "   label  \n",
       "0      1  \n",
       "1      3  \n",
       "2      3  \n",
       "3      5  \n",
       "4      2  "
      ]
     },
     "execution_count": 21,
     "metadata": {},
     "output_type": "execute_result"
    }
   ],
   "source": [
    "data.head()"
   ]
  },
  {
   "cell_type": "code",
   "execution_count": 22,
   "metadata": {},
   "outputs": [],
   "source": [
    "labelencoder = LabelEncoder()"
   ]
  },
  {
   "cell_type": "code",
   "execution_count": 23,
   "metadata": {},
   "outputs": [],
   "source": [
    "data['speaker_code'] = labelencoder.fit_transform(data['speaker'])"
   ]
  },
  {
   "cell_type": "code",
   "execution_count": 24,
   "metadata": {},
   "outputs": [
    {
     "data": {
      "text/html": [
       "<div>\n",
       "<style scoped>\n",
       "    .dataframe tbody tr th:only-of-type {\n",
       "        vertical-align: middle;\n",
       "    }\n",
       "\n",
       "    .dataframe tbody tr th {\n",
       "        vertical-align: top;\n",
       "    }\n",
       "\n",
       "    .dataframe thead th {\n",
       "        text-align: right;\n",
       "    }\n",
       "</style>\n",
       "<table border=\"1\" class=\"dataframe\">\n",
       "  <thead>\n",
       "    <tr style=\"text-align: right;\">\n",
       "      <th></th>\n",
       "      <th>content</th>\n",
       "      <th>speaker</th>\n",
       "      <th>label</th>\n",
       "      <th>speaker_code</th>\n",
       "    </tr>\n",
       "  </thead>\n",
       "  <tbody>\n",
       "    <tr>\n",
       "      <th>0</th>\n",
       "      <td>[say, anni, list, polit, group, support, third...</td>\n",
       "      <td>dwayne-bohac</td>\n",
       "      <td>1</td>\n",
       "      <td>3497</td>\n",
       "    </tr>\n",
       "    <tr>\n",
       "      <th>1</th>\n",
       "      <td>[declin, coal, start, start, natur, ga, took, ...</td>\n",
       "      <td>scott-surovell</td>\n",
       "      <td>3</td>\n",
       "      <td>4773</td>\n",
       "    </tr>\n",
       "    <tr>\n",
       "      <th>2</th>\n",
       "      <td>[econom, turnaround, start, end, term]</td>\n",
       "      <td>charlie-crist</td>\n",
       "      <td>3</td>\n",
       "      <td>3210</td>\n",
       "    </tr>\n",
       "    <tr>\n",
       "      <th>3</th>\n",
       "      <td>[chicago, bear, start, quarterback, last, year...</td>\n",
       "      <td>robin-vos</td>\n",
       "      <td>5</td>\n",
       "      <td>4686</td>\n",
       "    </tr>\n",
       "    <tr>\n",
       "      <th>4</th>\n",
       "      <td>[jim, dunnam, live, district, repres, year]</td>\n",
       "      <td>republican-party-texas</td>\n",
       "      <td>2</td>\n",
       "      <td>4620</td>\n",
       "    </tr>\n",
       "  </tbody>\n",
       "</table>\n",
       "</div>"
      ],
      "text/plain": [
       "                                             content                 speaker  \\\n",
       "0  [say, anni, list, polit, group, support, third...            dwayne-bohac   \n",
       "1  [declin, coal, start, start, natur, ga, took, ...          scott-surovell   \n",
       "2             [econom, turnaround, start, end, term]           charlie-crist   \n",
       "3  [chicago, bear, start, quarterback, last, year...               robin-vos   \n",
       "4        [jim, dunnam, live, district, repres, year]  republican-party-texas   \n",
       "\n",
       "   label  speaker_code  \n",
       "0      1          3497  \n",
       "1      3          4773  \n",
       "2      3          3210  \n",
       "3      5          4686  \n",
       "4      2          4620  "
      ]
     },
     "execution_count": 24,
     "metadata": {},
     "output_type": "execute_result"
    }
   ],
   "source": [
    "data.head()"
   ]
  },
  {
   "cell_type": "markdown",
   "metadata": {},
   "source": [
    "## Split & Vectorization"
   ]
  },
  {
   "cell_type": "code",
   "execution_count": 25,
   "metadata": {},
   "outputs": [],
   "source": [
    "X_train, y_train, X_valid, y_valid, X_test, y_test = train_valid_test_split(data, target = 'label', \n",
    "                                                                            train_size=0.8, valid_size=0.1, test_size=0.1)"
   ]
  },
  {
   "cell_type": "code",
   "execution_count": 26,
   "metadata": {},
   "outputs": [
    {
     "name": "stdout",
     "output_type": "stream",
     "text": [
      "3    2919\n",
      "1    2800\n",
      "4    2666\n",
      "2    2377\n",
      "5    2156\n",
      "0    1211\n",
      "Name: label, dtype: int64\n"
     ]
    }
   ],
   "source": [
    "print(y_train.value_counts())"
   ]
  },
  {
   "cell_type": "code",
   "execution_count": 27,
   "metadata": {},
   "outputs": [
    {
     "name": "stdout",
     "output_type": "stream",
     "text": [
      "3    357\n",
      "1    340\n",
      "4    322\n",
      "2    320\n",
      "5    270\n",
      "0    157\n",
      "Name: label, dtype: int64\n"
     ]
    }
   ],
   "source": [
    "print(y_valid.value_counts())"
   ]
  },
  {
   "cell_type": "code",
   "execution_count": 28,
   "metadata": {},
   "outputs": [
    {
     "name": "stdout",
     "output_type": "stream",
     "text": [
      "3    397\n",
      "4    332\n",
      "1    324\n",
      "2    293\n",
      "5    270\n",
      "0    151\n",
      "Name: label, dtype: int64\n"
     ]
    }
   ],
   "source": [
    "print(y_test.value_counts())"
   ]
  },
  {
   "cell_type": "code",
   "execution_count": 84,
   "metadata": {},
   "outputs": [
    {
     "data": {
      "text/plain": [
       "TfidfVectorizer(lowercase=False, max_features=1000, stop_words='english',\n",
       "                tokenizer=<function identity_tokenizer at 0x7fe1bb1bc040>)"
      ]
     },
     "execution_count": 84,
     "metadata": {},
     "output_type": "execute_result"
    }
   ],
   "source": [
    "def identity_tokenizer(text):\n",
    "    return text\n",
    "tfidf_vectorizer = TfidfVectorizer(tokenizer=identity_tokenizer, stop_words='english', lowercase=False, max_features=1000)\n",
    "tfidf_vectorizer.fit(data['content'])"
   ]
  },
  {
   "cell_type": "code",
   "execution_count": 85,
   "metadata": {},
   "outputs": [],
   "source": [
    "tfidf_train_vectors = tfidf_vectorizer.fit_transform(X_train['content'])"
   ]
  },
  {
   "cell_type": "code",
   "execution_count": 86,
   "metadata": {},
   "outputs": [
    {
     "data": {
      "text/plain": [
       "<14129x1000 sparse matrix of type '<class 'numpy.float64'>'\n",
       "\twith 102580 stored elements in Compressed Sparse Row format>"
      ]
     },
     "execution_count": 86,
     "metadata": {},
     "output_type": "execute_result"
    }
   ],
   "source": [
    "tfidf_train_vectors"
   ]
  },
  {
   "cell_type": "code",
   "execution_count": 87,
   "metadata": {},
   "outputs": [],
   "source": [
    "tfidf_valid_vectors = tfidf_vectorizer.fit_transform(X_valid['content'])"
   ]
  },
  {
   "cell_type": "code",
   "execution_count": 88,
   "metadata": {},
   "outputs": [
    {
     "data": {
      "text/plain": [
       "<1766x1000 sparse matrix of type '<class 'numpy.float64'>'\n",
       "\twith 13262 stored elements in Compressed Sparse Row format>"
      ]
     },
     "execution_count": 88,
     "metadata": {},
     "output_type": "execute_result"
    }
   ],
   "source": [
    "tfidf_valid_vectors"
   ]
  },
  {
   "cell_type": "code",
   "execution_count": 89,
   "metadata": {},
   "outputs": [],
   "source": [
    "tfidf_test_vectors = tfidf_vectorizer.fit_transform(X_test['content'])"
   ]
  },
  {
   "cell_type": "code",
   "execution_count": 90,
   "metadata": {},
   "outputs": [
    {
     "data": {
      "text/plain": [
       "<1767x1000 sparse matrix of type '<class 'numpy.float64'>'\n",
       "\twith 13217 stored elements in Compressed Sparse Row format>"
      ]
     },
     "execution_count": 90,
     "metadata": {},
     "output_type": "execute_result"
    }
   ],
   "source": [
    "tfidf_test_vectors"
   ]
  },
  {
   "cell_type": "code",
   "execution_count": null,
   "metadata": {},
   "outputs": [],
   "source": []
  },
  {
   "cell_type": "markdown",
   "metadata": {},
   "source": [
    "## SVM Multiclass Classification"
   ]
  },
  {
   "cell_type": "code",
   "execution_count": 91,
   "metadata": {},
   "outputs": [],
   "source": [
    "from sklearn import svm\n",
    "from sklearn.metrics import classification_report\n",
    "from sklearn.preprocessing import MinMaxScaler"
   ]
  },
  {
   "cell_type": "code",
   "execution_count": 92,
   "metadata": {},
   "outputs": [],
   "source": [
    "labels = [0,1,2,3,4,5]\n",
    "def plot_cm(y_true,y_pred,labels):\n",
    "  cm = confusion_matrix(y_true, y_pred)\n",
    "  ax= plt.subplot()\n",
    "  sns.heatmap(cm, annot=True, ax = ax, fmt=\"d\")\n",
    "  ax.set_title('Confusion Matrix')\n",
    "  ax.set_xlabel('Predicted Labels')\n",
    "  ax.set_ylabel('True Labels')\n",
    "  ax.xaxis.set_ticklabels(labels)\n",
    "  ax.yaxis.set_ticklabels(labels)\n",
    "  plt.show()"
   ]
  },
  {
   "cell_type": "code",
   "execution_count": 93,
   "metadata": {},
   "outputs": [
    {
     "name": "stdout",
     "output_type": "stream",
     "text": [
      "Kernel: linear\n",
      "Validation\n",
      "              precision    recall  f1-score   support\n",
      "\n",
      "           0       0.09      0.03      0.05       157\n",
      "           1       0.20      0.26      0.23       340\n",
      "           2       0.16      0.12      0.14       320\n",
      "           3       0.22      0.27      0.24       357\n",
      "           4       0.21      0.24      0.23       322\n",
      "           5       0.18      0.14      0.16       270\n",
      "\n",
      "    accuracy                           0.20      1766\n",
      "   macro avg       0.18      0.18      0.17      1766\n",
      "weighted avg       0.19      0.20      0.19      1766\n",
      "\n"
     ]
    },
    {
     "data": {
      "image/png": "[encoded data removed]",
      "text/plain": [
       "<Figure size 432x288 with 2 Axes>"
      ]
     },
     "metadata": {
      "needs_background": "light"
     },
     "output_type": "display_data"
    },
    {
     "name": "stdout",
     "output_type": "stream",
     "text": [
      "\n",
      "Testing\n",
      "              precision    recall  f1-score   support\n",
      "\n",
      "           0       0.09      0.06      0.07       151\n",
      "           1       0.19      0.35      0.24       324\n",
      "           2       0.18      0.15      0.17       293\n",
      "           3       0.22      0.16      0.18       397\n",
      "           4       0.21      0.21      0.21       332\n",
      "           5       0.16      0.11      0.13       270\n",
      "\n",
      "    accuracy                           0.19      1767\n",
      "   macro avg       0.17      0.17      0.17      1767\n",
      "weighted avg       0.18      0.19      0.18      1767\n",
      "\n"
     ]
    },
    {
     "data": {
      "image/png": "[encoded data removed]",
      "text/plain": [
       "<Figure size 432x288 with 2 Axes>"
      ]
     },
     "metadata": {
      "needs_background": "light"
     },
     "output_type": "display_data"
    }
   ],
   "source": [
    "clf = svm.SVC(kernel='linear')\n",
    "clf.fit(tfidf_train_vectors,y_train)\n",
    "y_pred_valid = clf.predict(tfidf_valid_vectors)\n",
    "y_pred_test = clf.predict(tfidf_test_vectors)\n",
    "\n",
    "print('Kernel: linear')\n",
    "print('Validation')\n",
    "print(classification_report(y_valid,y_pred_valid))\n",
    "plot_cm(y_valid,y_pred_valid,labels)\n",
    "print()\n",
    "print('Testing')\n",
    "print(classification_report(y_test,y_pred_test))\n",
    "plot_cm(y_test,y_pred_test,labels)"
   ]
  },
  {
   "cell_type": "code",
   "execution_count": 94,
   "metadata": {},
   "outputs": [
    {
     "name": "stdout",
     "output_type": "stream",
     "text": [
      "Kernel: rbf\n",
      "Validation\n",
      "              precision    recall  f1-score   support\n",
      "\n",
      "           0       0.17      0.01      0.02       157\n",
      "           1       0.21      0.30      0.25       340\n",
      "           2       0.20      0.13      0.16       320\n",
      "           3       0.22      0.31      0.26       357\n",
      "           4       0.21      0.25      0.23       322\n",
      "           5       0.21      0.15      0.18       270\n",
      "\n",
      "    accuracy                           0.21      1766\n",
      "   macro avg       0.20      0.19      0.18      1766\n",
      "weighted avg       0.21      0.21      0.20      1766\n",
      "\n"
     ]
    },
    {
     "data": {
      "image/png": "[encoded data removed]",
      "text/plain": [
       "<Figure size 432x288 with 2 Axes>"
      ]
     },
     "metadata": {
      "needs_background": "light"
     },
     "output_type": "display_data"
    },
    {
     "name": "stdout",
     "output_type": "stream",
     "text": [
      "\n",
      "Testing\n",
      "              precision    recall  f1-score   support\n",
      "\n",
      "           0       0.11      0.02      0.03       151\n",
      "           1       0.20      0.42      0.27       324\n",
      "           2       0.18      0.12      0.14       293\n",
      "           3       0.20      0.16      0.18       397\n",
      "           4       0.21      0.22      0.21       332\n",
      "           5       0.16      0.11      0.13       270\n",
      "\n",
      "    accuracy                           0.19      1767\n",
      "   macro avg       0.18      0.18      0.16      1767\n",
      "weighted avg       0.18      0.19      0.18      1767\n",
      "\n"
     ]
    },
    {
     "data": {
      "image/png": "[encoded data removed]",
      "text/plain": [
       "<Figure size 432x288 with 2 Axes>"
      ]
     },
     "metadata": {
      "needs_background": "light"
     },
     "output_type": "display_data"
    }
   ],
   "source": [
    "clf = svm.SVC(kernel='rbf')\n",
    "clf.fit(tfidf_train_vectors,y_train)\n",
    "y_pred_valid = clf.predict(tfidf_valid_vectors)\n",
    "y_pred_test = clf.predict(tfidf_test_vectors)\n",
    "\n",
    "print('Kernel: rbf')\n",
    "print('Validation')\n",
    "print(classification_report(y_valid,y_pred_valid))\n",
    "plot_cm(y_valid,y_pred_valid,labels)\n",
    "print()\n",
    "print('Testing')\n",
    "print(classification_report(y_test,y_pred_test))\n",
    "plot_cm(y_test,y_pred_test,labels)"
   ]
  },
  {
   "cell_type": "code",
   "execution_count": 95,
   "metadata": {},
   "outputs": [
    {
     "name": "stdout",
     "output_type": "stream",
     "text": [
      "Kernel: sigmoid\n",
      "Validation\n",
      "              precision    recall  f1-score   support\n",
      "\n",
      "           0       0.10      0.03      0.04       157\n",
      "           1       0.20      0.26      0.22       340\n",
      "           2       0.15      0.12      0.14       320\n",
      "           3       0.24      0.28      0.26       357\n",
      "           4       0.21      0.27      0.24       322\n",
      "           5       0.18      0.14      0.16       270\n",
      "\n",
      "    accuracy                           0.20      1766\n",
      "   macro avg       0.18      0.18      0.18      1766\n",
      "weighted avg       0.19      0.20      0.19      1766\n",
      "\n"
     ]
    },
    {
     "data": {
      "image/png": "[encoded data removed]",
      "text/plain": [
       "<Figure size 432x288 with 2 Axes>"
      ]
     },
     "metadata": {
      "needs_background": "light"
     },
     "output_type": "display_data"
    },
    {
     "name": "stdout",
     "output_type": "stream",
     "text": [
      "\n",
      "Testing\n",
      "              precision    recall  f1-score   support\n",
      "\n",
      "           0       0.09      0.06      0.07       151\n",
      "           1       0.20      0.38      0.26       324\n",
      "           2       0.17      0.13      0.15       293\n",
      "           3       0.21      0.16      0.18       397\n",
      "           4       0.22      0.22      0.22       332\n",
      "           5       0.16      0.11      0.13       270\n",
      "\n",
      "    accuracy                           0.19      1767\n",
      "   macro avg       0.18      0.18      0.17      1767\n",
      "weighted avg       0.19      0.19      0.18      1767\n",
      "\n"
     ]
    },
    {
     "data": {
      "image/png": "[encoded data removed]",
      "text/plain": [
       "<Figure size 432x288 with 2 Axes>"
      ]
     },
     "metadata": {
      "needs_background": "light"
     },
     "output_type": "display_data"
    }
   ],
   "source": [
    "clf = svm.SVC(kernel='sigmoid')\n",
    "clf.fit(tfidf_train_vectors,y_train)\n",
    "y_pred_valid = clf.predict(tfidf_valid_vectors)\n",
    "y_pred_test = clf.predict(tfidf_test_vectors)\n",
    "\n",
    "print('Kernel: sigmoid')\n",
    "print('Validation')\n",
    "print(classification_report(y_valid,y_pred_valid))\n",
    "plot_cm(y_valid,y_pred_valid,labels)\n",
    "print()\n",
    "print('Testing')\n",
    "print(classification_report(y_test,y_pred_test))\n",
    "plot_cm(y_test,y_pred_test,labels)"
   ]
  },
  {
   "cell_type": "code",
   "execution_count": null,
   "metadata": {},
   "outputs": [],
   "source": []
  },
  {
   "cell_type": "markdown",
   "metadata": {},
   "source": [
    "## LSTM & BiLSTM"
   ]
  },
  {
   "cell_type": "code",
   "execution_count": 41,
   "metadata": {},
   "outputs": [],
   "source": [
    "import tensorflow as tf\n",
    "from sklearn.model_selection import train_test_split\n",
    "from sklearn.metrics import classification_report, confusion_matrix\n",
    "import matplotlib.pyplot as plt"
   ]
  },
  {
   "cell_type": "code",
   "execution_count": 42,
   "metadata": {},
   "outputs": [],
   "source": [
    "from tensorflow.keras import Model\n",
    "from tensorflow.keras.models import Sequential\n",
    "from tensorflow.keras.layers import Dense, Dropout, LSTM, Embedding, Bidirectional, Input, Concatenate, TimeDistributed\n",
    "from tensorflow.keras.utils import plot_model"
   ]
  },
  {
   "cell_type": "code",
   "execution_count": 43,
   "metadata": {},
   "outputs": [],
   "source": [
    "def plot_history(history):\n",
    "    # summarize history for accuracy\n",
    "    plt.plot(history.history['accuracy'])\n",
    "    plt.plot(history.history['val_accuracy'])\n",
    "    plt.title('model accuracy')\n",
    "    plt.ylabel('accuracy')\n",
    "    plt.xlabel('epoch')\n",
    "    plt.legend(['train', 'validation'], loc='upper left')\n",
    "    plt.show()\n",
    "    # summarize history for loss\n",
    "    plt.plot(history.history['loss'])\n",
    "    plt.plot(history.history['val_loss'])\n",
    "    plt.title('model loss')\n",
    "    plt.ylabel('loss')\n",
    "    plt.xlabel('epoch')\n",
    "    plt.legend(['train', 'validation'], loc='upper left')\n",
    "    plt.show()"
   ]
  },
  {
   "cell_type": "markdown",
   "metadata": {},
   "source": [
    "### LSTM - TEXT ONLY"
   ]
  },
  {
   "cell_type": "code",
   "execution_count": 96,
   "metadata": {},
   "outputs": [
    {
     "name": "stdout",
     "output_type": "stream",
     "text": [
      "Model: \"sequential_2\"\n",
      "_________________________________________________________________\n",
      " Layer (type)                Output Shape              Param #   \n",
      "=================================================================\n",
      " embedding_7 (Embedding)     (None, 1000, 6)           6000      \n",
      "                                                                 \n",
      " dropout_13 (Dropout)        (None, 1000, 6)           0         \n",
      "                                                                 \n",
      " lstm_7 (LSTM)               (None, 4)                 176       \n",
      "                                                                 \n",
      " dropout_14 (Dropout)        (None, 4)                 0         \n",
      "                                                                 \n",
      " dense_6 (Dense)             (None, 100)               500       \n",
      "                                                                 \n",
      " dropout_15 (Dropout)        (None, 100)               0         \n",
      "                                                                 \n",
      " dense_7 (Dense)             (None, 6)                 606       \n",
      "                                                                 \n",
      "=================================================================\n",
      "Total params: 7,282\n",
      "Trainable params: 7,282\n",
      "Non-trainable params: 0\n",
      "_________________________________________________________________\n"
     ]
    }
   ],
   "source": [
    "model = Sequential()\n",
    "model.add(Embedding(input_dim=1000, input_length=1000, output_dim=6))\n",
    "model.add(Dropout(rate=0.4))\n",
    "model.add(LSTM(units=4))\n",
    "model.add(Dropout(rate=0.4))\n",
    "model.add(Dense(units=100,  activation='relu'))\n",
    "model.add(Dropout(rate=0.5))\n",
    "model.add(Dense(units=6, activation='sigmoid'))\n",
    "\n",
    "model.summary()"
   ]
  },
  {
   "cell_type": "code",
   "execution_count": 98,
   "metadata": {},
   "outputs": [],
   "source": [
    "model.compile(optimizer='adam', loss='sparse_categorical_crossentropy', metrics = ['accuracy'])"
   ]
  },
  {
   "cell_type": "code",
   "execution_count": 99,
   "metadata": {},
   "outputs": [
    {
     "name": "stdout",
     "output_type": "stream",
     "text": [
      "Epoch 1/5\n",
      "442/442 [==============================] - 122s 269ms/step - loss: 1.7653 - accuracy: 0.1999 - val_loss: 1.7631 - val_accuracy: 0.2022\n",
      "Epoch 2/5\n",
      "442/442 [==============================] - 112s 253ms/step - loss: 1.7606 - accuracy: 0.2022 - val_loss: 1.7636 - val_accuracy: 0.2022\n",
      "Epoch 3/5\n",
      "442/442 [==============================] - 107s 242ms/step - loss: 1.7598 - accuracy: 0.1999 - val_loss: 1.7638 - val_accuracy: 0.2022\n",
      "Epoch 4/5\n",
      "442/442 [==============================] - 111s 251ms/step - loss: 1.7599 - accuracy: 0.2043 - val_loss: 1.7635 - val_accuracy: 0.2022\n",
      "Epoch 5/5\n",
      "442/442 [==============================] - 109s 246ms/step - loss: 1.7591 - accuracy: 0.2079 - val_loss: 1.7640 - val_accuracy: 0.2022\n"
     ]
    }
   ],
   "source": [
    "history = model.fit(\n",
    "    tfidf_train_vectors.toarray(), \n",
    "    y_train, \n",
    "    validation_data=[tfidf_valid_vectors.toarray(), y_valid],\n",
    "    epochs = 5\n",
    ")"
   ]
  },
  {
   "cell_type": "code",
   "execution_count": 100,
   "metadata": {},
   "outputs": [
    {
     "data": {
      "image/png": "[encoded data removed]",
      "text/plain": [
       "<Figure size 432x288 with 1 Axes>"
      ]
     },
     "metadata": {
      "needs_background": "light"
     },
     "output_type": "display_data"
    },
    {
     "data": {
      "image/png": "[encoded data removed]",
      "text/plain": [
       "<Figure size 432x288 with 1 Axes>"
      ]
     },
     "metadata": {
      "needs_background": "light"
     },
     "output_type": "display_data"
    }
   ],
   "source": [
    "plot_history(history)"
   ]
  },
  {
   "cell_type": "code",
   "execution_count": 101,
   "metadata": {},
   "outputs": [
    {
     "name": "stdout",
     "output_type": "stream",
     "text": [
      "56/56 [==============================] - 3s 48ms/step - loss: 1.7568 - accuracy: 0.2247\n",
      "Test score: 1.756770133972168\n",
      "Test accuracy: 0.22467458248138428\n"
     ]
    }
   ],
   "source": [
    "score, acc = model.evaluate(tfidf_test_vectors.toarray(), y_test)\n",
    "print('Test score:', score)\n",
    "print('Test accuracy:', acc)"
   ]
  },
  {
   "cell_type": "code",
   "execution_count": 102,
   "metadata": {},
   "outputs": [
    {
     "name": "stdout",
     "output_type": "stream",
     "text": [
      "56/56 [==============================] - 3s 47ms/step\n"
     ]
    }
   ],
   "source": [
    "y_probas = model.predict(tfidf_test_vectors.toarray())\n",
    "y_pred = y_probas.argmax(axis=-1)"
   ]
  },
  {
   "cell_type": "code",
   "execution_count": 103,
   "metadata": {},
   "outputs": [
    {
     "name": "stdout",
     "output_type": "stream",
     "text": [
      "              precision    recall  f1-score   support\n",
      "\n",
      "           0       1.00      0.00      0.00       151\n",
      "           1       1.00      0.00      0.00       324\n",
      "           2       1.00      0.00      0.00       293\n",
      "           3       0.22      1.00      0.37       397\n",
      "           4       1.00      0.00      0.00       332\n",
      "           5       1.00      0.00      0.00       270\n",
      "\n",
      "    accuracy                           0.22      1767\n",
      "   macro avg       0.87      0.17      0.06      1767\n",
      "weighted avg       0.83      0.22      0.08      1767\n",
      "\n"
     ]
    }
   ],
   "source": [
    "print(classification_report(y_true=y_test, y_pred=y_pred, zero_division=1))"
   ]
  },
  {
   "cell_type": "markdown",
   "metadata": {},
   "source": [
    "### Bi-LSTM - TEXT ONLY"
   ]
  },
  {
   "cell_type": "code",
   "execution_count": 104,
   "metadata": {},
   "outputs": [
    {
     "name": "stdout",
     "output_type": "stream",
     "text": [
      "Model: \"sequential_3\"\n",
      "_________________________________________________________________\n",
      " Layer (type)                Output Shape              Param #   \n",
      "=================================================================\n",
      " embedding_8 (Embedding)     (None, 1000, 6)           6000      \n",
      "                                                                 \n",
      " dropout_16 (Dropout)        (None, 1000, 6)           0         \n",
      "                                                                 \n",
      " bidirectional_3 (Bidirectio  (None, 8)                352       \n",
      " nal)                                                            \n",
      "                                                                 \n",
      " dropout_17 (Dropout)        (None, 8)                 0         \n",
      "                                                                 \n",
      " dense_8 (Dense)             (None, 100)               900       \n",
      "                                                                 \n",
      " dropout_18 (Dropout)        (None, 100)               0         \n",
      "                                                                 \n",
      " dense_9 (Dense)             (None, 6)                 606       \n",
      "                                                                 \n",
      "=================================================================\n",
      "Total params: 7,858\n",
      "Trainable params: 7,858\n",
      "Non-trainable params: 0\n",
      "_________________________________________________________________\n"
     ]
    }
   ],
   "source": [
    "model = Sequential()\n",
    "model.add(Embedding(input_dim=1000, input_length=1000, output_dim=6))\n",
    "model.add(Dropout(rate=0.4))\n",
    "model.add(Bidirectional(LSTM(units=4)))\n",
    "model.add(Dropout(rate=0.4))\n",
    "model.add(Dense(units=100,  activation='relu'))\n",
    "model.add(Dropout(rate=0.5))\n",
    "model.add(Dense(units=6, activation='sigmoid'))\n",
    "\n",
    "model.summary()"
   ]
  },
  {
   "cell_type": "code",
   "execution_count": 105,
   "metadata": {},
   "outputs": [],
   "source": [
    "model.compile(optimizer = 'adam', loss = 'sparse_categorical_crossentropy', metrics = ['accuracy'])\n"
   ]
  },
  {
   "cell_type": "code",
   "execution_count": 106,
   "metadata": {},
   "outputs": [
    {
     "name": "stdout",
     "output_type": "stream",
     "text": [
      "Epoch 1/5\n",
      "442/442 [==============================] - 161s 348ms/step - loss: 1.7650 - accuracy: 0.1998 - val_loss: 1.7635 - val_accuracy: 0.2022\n",
      "Epoch 2/5\n",
      "442/442 [==============================] - 141s 319ms/step - loss: 1.7601 - accuracy: 0.2053 - val_loss: 1.7635 - val_accuracy: 0.2022\n",
      "Epoch 3/5\n",
      "442/442 [==============================] - 130s 295ms/step - loss: 1.7599 - accuracy: 0.2046 - val_loss: 1.7639 - val_accuracy: 0.2022\n",
      "Epoch 4/5\n",
      "442/442 [==============================] - 137s 309ms/step - loss: 1.7592 - accuracy: 0.2062 - val_loss: 1.7635 - val_accuracy: 0.2022\n",
      "Epoch 5/5\n",
      "442/442 [==============================] - 128s 289ms/step - loss: 1.7601 - accuracy: 0.2048 - val_loss: 1.7636 - val_accuracy: 0.1925\n"
     ]
    }
   ],
   "source": [
    "history = model.fit(\n",
    "    tfidf_train_vectors.toarray(), \n",
    "    y_train, \n",
    "    validation_data=[tfidf_valid_vectors.toarray(), y_valid],\n",
    "    epochs = 5\n",
    ")"
   ]
  },
  {
   "cell_type": "code",
   "execution_count": 107,
   "metadata": {},
   "outputs": [
    {
     "data": {
      "image/png": "[encoded data removed]",
      "text/plain": [
       "<Figure size 432x288 with 1 Axes>"
      ]
     },
     "metadata": {
      "needs_background": "light"
     },
     "output_type": "display_data"
    },
    {
     "data": {
      "image/png": "[encoded data removed]",
      "text/plain": [
       "<Figure size 432x288 with 1 Axes>"
      ]
     },
     "metadata": {
      "needs_background": "light"
     },
     "output_type": "display_data"
    }
   ],
   "source": [
    "plot_history(history)"
   ]
  },
  {
   "cell_type": "code",
   "execution_count": 108,
   "metadata": {},
   "outputs": [
    {
     "name": "stdout",
     "output_type": "stream",
     "text": [
      "56/56 [==============================] - 3s 48ms/step - loss: 1.7586 - accuracy: 0.1834\n",
      "Test score: 1.7586222887039185\n",
      "Test accuracy: 0.18336163461208344\n"
     ]
    }
   ],
   "source": [
    "score, acc = model.evaluate(tfidf_test_vectors.toarray(), y_test)\n",
    "print('Test score:', score)\n",
    "print('Test accuracy:', acc)"
   ]
  },
  {
   "cell_type": "code",
   "execution_count": 109,
   "metadata": {},
   "outputs": [
    {
     "name": "stdout",
     "output_type": "stream",
     "text": [
      "56/56 [==============================] - 3s 47ms/step\n"
     ]
    }
   ],
   "source": [
    "y_probas = model.predict(tfidf_test_vectors.toarray())\n",
    "y_pred = y_probas.argmax(axis=-1)"
   ]
  },
  {
   "cell_type": "code",
   "execution_count": 110,
   "metadata": {},
   "outputs": [
    {
     "name": "stdout",
     "output_type": "stream",
     "text": [
      "              precision    recall  f1-score   support\n",
      "\n",
      "           0       0.00      0.00      0.00       151\n",
      "           1       0.18      1.00      0.31       324\n",
      "           2       0.00      0.00      0.00       293\n",
      "           3       0.00      0.00      0.00       397\n",
      "           4       0.00      0.00      0.00       332\n",
      "           5       0.00      0.00      0.00       270\n",
      "\n",
      "    accuracy                           0.18      1767\n",
      "   macro avg       0.03      0.17      0.05      1767\n",
      "weighted avg       0.03      0.18      0.06      1767\n",
      "\n"
     ]
    }
   ],
   "source": [
    "print(classification_report(y_true=y_test, y_pred=y_pred, zero_division=0))"
   ]
  },
  {
   "cell_type": "markdown",
   "metadata": {},
   "source": [
    "### LSTM - Text & Publisher"
   ]
  },
  {
   "cell_type": "code",
   "execution_count": 111,
   "metadata": {},
   "outputs": [],
   "source": [
    "publisher_train = X_train['speaker_code']\n",
    "publisher_valid = X_valid['speaker_code']\n",
    "publisher_test = X_test['speaker_code']"
   ]
  },
  {
   "cell_type": "code",
   "execution_count": 112,
   "metadata": {},
   "outputs": [
    {
     "data": {
      "text/plain": [
       "1559     2917\n",
       "15094     839\n",
       "6773     3479\n",
       "693      3468\n",
       "3951     3202\n",
       "         ... \n",
       "14296    1384\n",
       "16734     174\n",
       "17524     874\n",
       "355      4429\n",
       "566      3683\n",
       "Name: speaker_code, Length: 14129, dtype: int64"
      ]
     },
     "execution_count": 112,
     "metadata": {},
     "output_type": "execute_result"
    }
   ],
   "source": [
    "publisher_train"
   ]
  },
  {
   "cell_type": "code",
   "execution_count": 113,
   "metadata": {},
   "outputs": [],
   "source": [
    "publisher_input = Input(shape=(1,))\n",
    "publisher_features = (Embedding(input_dim=5105, input_length=1, output_dim=1000))(publisher_input)\n",
    "publisher_features = Dropout(rate=0.4)(publisher_features)\n",
    "publisher_features = LSTM(units=4)(publisher_features)"
   ]
  },
  {
   "cell_type": "code",
   "execution_count": 114,
   "metadata": {},
   "outputs": [],
   "source": [
    "text_input = Input(shape=(1000,))\n",
    "text_features = (Embedding(input_dim=1000, input_length=1000, output_dim=1000))(text_input)\n",
    "text_features = Dropout(rate=0.4)(text_features)\n",
    "text_features = LSTM(units=4)(text_features)"
   ]
  },
  {
   "cell_type": "code",
   "execution_count": 115,
   "metadata": {},
   "outputs": [
    {
     "name": "stdout",
     "output_type": "stream",
     "text": [
      "Model: \"model\"\n",
      "__________________________________________________________________________________________________\n",
      " Layer (type)                   Output Shape         Param #     Connected to                     \n",
      "==================================================================================================\n",
      " input_6 (InputLayer)           [(None, 1)]          0           []                               \n",
      "                                                                                                  \n",
      " input_7 (InputLayer)           [(None, 1000)]       0           []                               \n",
      "                                                                                                  \n",
      " embedding_9 (Embedding)        (None, 1, 1000)      5105000     ['input_6[0][0]']                \n",
      "                                                                                                  \n",
      " embedding_10 (Embedding)       (None, 1000, 1000)   1000000     ['input_7[0][0]']                \n",
      "                                                                                                  \n",
      " dropout_19 (Dropout)           (None, 1, 1000)      0           ['embedding_9[0][0]']            \n",
      "                                                                                                  \n",
      " dropout_20 (Dropout)           (None, 1000, 1000)   0           ['embedding_10[0][0]']           \n",
      "                                                                                                  \n",
      " lstm_9 (LSTM)                  (None, 4)            16080       ['dropout_19[0][0]']             \n",
      "                                                                                                  \n",
      " lstm_10 (LSTM)                 (None, 4)            16080       ['dropout_20[0][0]']             \n",
      "                                                                                                  \n",
      " concatenate_2 (Concatenate)    (None, 8)            0           ['lstm_9[0][0]',                 \n",
      "                                                                  'lstm_10[0][0]']                \n",
      "                                                                                                  \n",
      " dropout_21 (Dropout)           (None, 8)            0           ['concatenate_2[0][0]']          \n",
      "                                                                                                  \n",
      " dense_10 (Dense)               (None, 6)            54          ['dropout_21[0][0]']             \n",
      "                                                                                                  \n",
      "==================================================================================================\n",
      "Total params: 6,137,214\n",
      "Trainable params: 6,137,214\n",
      "Non-trainable params: 0\n",
      "__________________________________________________________________________________________________\n"
     ]
    }
   ],
   "source": [
    "x = Concatenate()([publisher_features, text_features])\n",
    "x = Dropout(rate=0.5)(x)\n",
    "model_output = Dense(units=6, activation='sigmoid')(x)\n",
    "\n",
    "model = Model([publisher_input, text_input], model_output, name='model')\n",
    "model.summary()"
   ]
  },
  {
   "cell_type": "code",
   "execution_count": 116,
   "metadata": {},
   "outputs": [],
   "source": [
    "model.compile(optimizer='adam', loss='sparse_categorical_crossentropy', metrics = ['accuracy'])"
   ]
  },
  {
   "cell_type": "code",
   "execution_count": null,
   "metadata": {},
   "outputs": [
    {
     "name": "stdout",
     "output_type": "stream",
     "text": [
      "Epoch 1/5\n",
      " 20/442 [>.............................] - ETA: 6:52 - loss: 1.7928 - accuracy: 0.1750"
     ]
    }
   ],
   "source": [
    "history = model.fit(\n",
    "    [publisher_train, tfidf_train_vectors.toarray()], \n",
    "    y_train, \n",
    "    validation_data=[[publisher_valid, tfidf_valid_vectors.toarray()], y_valid],\n",
    "    epochs = 5\n",
    ")"
   ]
  },
  {
   "cell_type": "code",
   "execution_count": 69,
   "metadata": {},
   "outputs": [
    {
     "data": {
      "image/png": "[encoded data removed]",
      "text/plain": [
       "<Figure size 432x288 with 1 Axes>"
      ]
     },
     "metadata": {
      "needs_background": "light"
     },
     "output_type": "display_data"
    },
    {
     "data": {
      "image/png": "[encoded data removed]",
      "text/plain": [
       "<Figure size 432x288 with 1 Axes>"
      ]
     },
     "metadata": {
      "needs_background": "light"
     },
     "output_type": "display_data"
    }
   ],
   "source": [
    "plot_history(history)"
   ]
  },
  {
   "cell_type": "code",
   "execution_count": 70,
   "metadata": {},
   "outputs": [
    {
     "name": "stdout",
     "output_type": "stream",
     "text": [
      "56/56 [==============================] - 33s 586ms/step - loss: 1.7901 - accuracy: 0.2360\n",
      "Test score: 1.7901145219802856\n",
      "Test accuracy: 0.23599320650100708\n"
     ]
    }
   ],
   "source": [
    "score, acc = model.evaluate([publisher_test ,tfidf_test_vectors.toarray()], y_test)\n",
    "print('Test score:', score)\n",
    "print('Test accuracy:', acc)"
   ]
  },
  {
   "cell_type": "code",
   "execution_count": 71,
   "metadata": {},
   "outputs": [
    {
     "name": "stdout",
     "output_type": "stream",
     "text": [
      "56/56 [==============================] - 33s 580ms/step\n"
     ]
    }
   ],
   "source": [
    "y_probas = model.predict([publisher_test, tfidf_test_vectors.toarray()])\n",
    "y_pred = y_probas.argmax(axis=-1)"
   ]
  },
  {
   "cell_type": "code",
   "execution_count": 72,
   "metadata": {},
   "outputs": [
    {
     "name": "stdout",
     "output_type": "stream",
     "text": [
      "              precision    recall  f1-score   support\n",
      "\n",
      "           0       0.47      0.15      0.23       151\n",
      "           1       0.23      0.47      0.30       324\n",
      "           2       0.12      0.04      0.06       293\n",
      "           3       0.25      0.37      0.30       397\n",
      "           4       0.24      0.20      0.21       332\n",
      "           5       0.20      0.06      0.10       270\n",
      "\n",
      "    accuracy                           0.24      1767\n",
      "   macro avg       0.25      0.22      0.20      1767\n",
      "weighted avg       0.23      0.24      0.21      1767\n",
      "\n"
     ]
    }
   ],
   "source": [
    "print(classification_report(y_true=y_test, y_pred=y_pred, zero_division=1))"
   ]
  },
  {
   "cell_type": "markdown",
   "metadata": {},
   "source": [
    "### BiLSTM - Text & Publisher"
   ]
  },
  {
   "cell_type": "code",
   "execution_count": 73,
   "metadata": {},
   "outputs": [],
   "source": [
    "publisher_input = Input(shape=(1,))\n",
    "publisher_features = (Embedding(input_dim=5105, input_length=1, output_dim=1000))(publisher_input)\n",
    "publisher_features = Dropout(rate=0.4)(publisher_features)\n",
    "publisher_features = Bidirectional(LSTM(units=4))(publisher_features)"
   ]
  },
  {
   "cell_type": "code",
   "execution_count": 74,
   "metadata": {},
   "outputs": [],
   "source": [
    "text_input = Input(shape=(1000,))\n",
    "text_features = (Embedding(input_dim=1000, input_length=1000, output_dim=1000))(text_input)\n",
    "text_features = Dropout(rate=0.4)(text_features)\n",
    "text_features = Bidirectional(LSTM(units=4))(text_features)"
   ]
  },
  {
   "cell_type": "code",
   "execution_count": 75,
   "metadata": {},
   "outputs": [
    {
     "name": "stdout",
     "output_type": "stream",
     "text": [
      "Model: \"model\"\n",
      "__________________________________________________________________________________________________\n",
      " Layer (type)                   Output Shape         Param #     Connected to                     \n",
      "==================================================================================================\n",
      " input_4 (InputLayer)           [(None, 1)]          0           []                               \n",
      "                                                                                                  \n",
      " input_5 (InputLayer)           [(None, 2000)]       0           []                               \n",
      "                                                                                                  \n",
      " embedding_5 (Embedding)        (None, 1, 2000)      10210000    ['input_4[0][0]']                \n",
      "                                                                                                  \n",
      " embedding_6 (Embedding)        (None, 2000, 2000)   4000000     ['input_5[0][0]']                \n",
      "                                                                                                  \n",
      " dropout_10 (Dropout)           (None, 1, 2000)      0           ['embedding_5[0][0]']            \n",
      "                                                                                                  \n",
      " dropout_11 (Dropout)           (None, 2000, 2000)   0           ['embedding_6[0][0]']            \n",
      "                                                                                                  \n",
      " bidirectional_1 (Bidirectional  (None, 8)           64160       ['dropout_10[0][0]']             \n",
      " )                                                                                                \n",
      "                                                                                                  \n",
      " bidirectional_2 (Bidirectional  (None, 8)           64160       ['dropout_11[0][0]']             \n",
      " )                                                                                                \n",
      "                                                                                                  \n",
      " concatenate_1 (Concatenate)    (None, 16)           0           ['bidirectional_1[0][0]',        \n",
      "                                                                  'bidirectional_2[0][0]']        \n",
      "                                                                                                  \n",
      " dropout_12 (Dropout)           (None, 16)           0           ['concatenate_1[0][0]']          \n",
      "                                                                                                  \n",
      " dense_5 (Dense)                (None, 6)            102         ['dropout_12[0][0]']             \n",
      "                                                                                                  \n",
      "==================================================================================================\n",
      "Total params: 14,338,422\n",
      "Trainable params: 14,338,422\n",
      "Non-trainable params: 0\n",
      "__________________________________________________________________________________________________\n"
     ]
    }
   ],
   "source": [
    "x = Concatenate()([publisher_features, text_features])\n",
    "x = Dropout(rate=0.5)(x)\n",
    "model_output = Dense(units=6, activation='sigmoid')(x)\n",
    "\n",
    "model = Model([publisher_input, text_input], model_output, name='model')\n",
    "model.summary()"
   ]
  },
  {
   "cell_type": "code",
   "execution_count": 76,
   "metadata": {},
   "outputs": [],
   "source": [
    "model.compile(optimizer='adam', loss='sparse_categorical_crossentropy', metrics = ['accuracy'])"
   ]
  },
  {
   "cell_type": "code",
   "execution_count": 79,
   "metadata": {},
   "outputs": [
    {
     "name": "stdout",
     "output_type": "stream",
     "text": [
      "Epoch 1/5\n",
      "442/442 [==============================] - 1438s 3s/step - loss: 1.4132 - accuracy: 0.4206 - val_loss: 1.8686 - val_accuracy: 0.2118\n",
      "Epoch 2/5\n",
      "442/442 [==============================] - 1469s 3s/step - loss: 1.3895 - accuracy: 0.4312 - val_loss: 1.8873 - val_accuracy: 0.2140\n",
      "Epoch 3/5\n",
      "442/442 [==============================] - 1504s 3s/step - loss: 1.3668 - accuracy: 0.4329 - val_loss: 1.9005 - val_accuracy: 0.2208\n",
      "Epoch 4/5\n",
      "442/442 [==============================] - 1455s 3s/step - loss: 1.3556 - accuracy: 0.4260 - val_loss: 1.9112 - val_accuracy: 0.2146\n",
      "Epoch 5/5\n",
      "442/442 [==============================] - 1521s 3s/step - loss: 1.3493 - accuracy: 0.4267 - val_loss: 1.9229 - val_accuracy: 0.2197\n"
     ]
    }
   ],
   "source": [
    "history = model.fit(\n",
    "    [publisher_train, tfidf_train_vectors.toarray()], \n",
    "    y_train, \n",
    "    validation_data=[[publisher_valid, tfidf_valid_vectors.toarray()], y_valid],\n",
    "    epochs = 5\n",
    ")"
   ]
  },
  {
   "cell_type": "code",
   "execution_count": 80,
   "metadata": {},
   "outputs": [
    {
     "data": {
      "image/png": "[encoded data removed]",
      "text/plain": [
       "<Figure size 432x288 with 1 Axes>"
      ]
     },
     "metadata": {
      "needs_background": "light"
     },
     "output_type": "display_data"
    },
    {
     "data": {
      "image/png": "[encoded data removed]",
      "text/plain": [
       "<Figure size 432x288 with 1 Axes>"
      ]
     },
     "metadata": {
      "needs_background": "light"
     },
     "output_type": "display_data"
    }
   ],
   "source": [
    "plot_history(history)"
   ]
  },
  {
   "cell_type": "code",
   "execution_count": 81,
   "metadata": {},
   "outputs": [
    {
     "name": "stdout",
     "output_type": "stream",
     "text": [
      "56/56 [==============================] - 48s 853ms/step - loss: 1.9176 - accuracy: 0.2417\n",
      "Test score: 1.9176455736160278\n",
      "Test accuracy: 0.24165251851081848\n"
     ]
    }
   ],
   "source": [
    "score, acc = model.evaluate([publisher_test ,tfidf_test_vectors.toarray()], y_test)\n",
    "print('Test score:', score)\n",
    "print('Test accuracy:', acc)"
   ]
  },
  {
   "cell_type": "code",
   "execution_count": 82,
   "metadata": {},
   "outputs": [
    {
     "name": "stdout",
     "output_type": "stream",
     "text": [
      "56/56 [==============================] - 53s 920ms/step\n"
     ]
    }
   ],
   "source": [
    "y_probas = model.predict([publisher_test, tfidf_test_vectors.toarray()])\n",
    "y_pred = y_probas.argmax(axis=-1)"
   ]
  },
  {
   "cell_type": "code",
   "execution_count": 83,
   "metadata": {},
   "outputs": [
    {
     "name": "stdout",
     "output_type": "stream",
     "text": [
      "              precision    recall  f1-score   support\n",
      "\n",
      "           0       0.41      0.21      0.27       151\n",
      "           1       0.23      0.56      0.33       324\n",
      "           2       0.16      0.05      0.08       293\n",
      "           3       0.26      0.30      0.28       397\n",
      "           4       0.23      0.17      0.20       332\n",
      "           5       0.21      0.08      0.12       270\n",
      "\n",
      "    accuracy                           0.24      1767\n",
      "   macro avg       0.25      0.23      0.21      1767\n",
      "weighted avg       0.24      0.24      0.21      1767\n",
      "\n"
     ]
    }
   ],
   "source": [
    "print(classification_report(y_true=y_test, y_pred=y_pred, zero_division=1))"
   ]
  },
  {
   "cell_type": "code",
   "execution_count": null,
   "metadata": {},
   "outputs": [],
   "source": []
  }
 ],
 "metadata": {
  "kernelspec": {
   "display_name": "Python 3",
   "language": "python",
   "name": "python3"
  },
  "language_info": {
   "codemirror_mode": {
    "name": "ipython",
    "version": 3
   },
   "file_extension": ".py",
   "mimetype": "text/x-python",
   "name": "python",
   "nbconvert_exporter": "python",
   "pygments_lexer": "ipython3",
   "version": "3.8.3"
  }
 },
 "nbformat": 4,
 "nbformat_minor": 4
}
